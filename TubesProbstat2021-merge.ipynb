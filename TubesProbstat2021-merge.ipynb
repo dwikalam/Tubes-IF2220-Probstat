{
 "cells": [
  {
   "cell_type": "markdown",
   "metadata": {},
   "source": [
    "# Tugas Besar - IF2220 - Probabilitas dan Statistika\n",
    "## Penarikan Kesimpulan dan Pengujian Hipotesis"
   ]
  },
  {
   "cell_type": "markdown",
   "metadata": {},
   "source": [
    "### Soal Tugas"
   ]
  },
  {
   "cell_type": "markdown",
   "metadata": {},
   "source": [
    "Diberikan sebuah data water_potability.csv yang dapat diakses pada utas berikut: Dataset\n",
    "Tugas Besar IF2220. water_potability.csv merupakan data metrik kualitas air yang\n",
    "mengandung 11 kolom sebagai berikut:\n",
    "1. id\n",
    "2. pH\n",
    "3. Hardness\n",
    "4. Solids\n",
    "5. Chloramines\n",
    "6. Sulfate\n",
    "7. Conductivity\n",
    "8. OrganicCarbon\n",
    "9. Trihalomethanes\n",
    "10. Turbidity\n",
    "11. Potability\n",
    "\n",
    "Kolom 2-10 adalah kolom atribut (non-target), sedangkan kolom 11 adalah kolom target.\n",
    "Anda diminta untuk melakukan analisis statistika sebagai berikut: (Untuk nomor 4 dan 5, dipastikan data yang diberikan sudah merupakan sampel)"
   ]
  },
  {
   "cell_type": "code",
   "execution_count": 146,
   "metadata": {},
   "outputs": [
    {
     "data": {
      "text/html": [
       "<div>\n",
       "<style scoped>\n",
       "    .dataframe tbody tr th:only-of-type {\n",
       "        vertical-align: middle;\n",
       "    }\n",
       "\n",
       "    .dataframe tbody tr th {\n",
       "        vertical-align: top;\n",
       "    }\n",
       "\n",
       "    .dataframe thead th {\n",
       "        text-align: right;\n",
       "    }\n",
       "</style>\n",
       "<table border=\"1\" class=\"dataframe\">\n",
       "  <thead>\n",
       "    <tr style=\"text-align: right;\">\n",
       "      <th></th>\n",
       "      <th>id</th>\n",
       "      <th>pH</th>\n",
       "      <th>Hardness</th>\n",
       "      <th>Solids</th>\n",
       "      <th>Chloramines</th>\n",
       "      <th>Sulfate</th>\n",
       "      <th>Conductivity</th>\n",
       "      <th>OrganicCarbon</th>\n",
       "      <th>Trihalomethanes</th>\n",
       "      <th>Turbidity</th>\n",
       "      <th>Potability</th>\n",
       "    </tr>\n",
       "  </thead>\n",
       "  <tbody>\n",
       "    <tr>\n",
       "      <th>0</th>\n",
       "      <td>1</td>\n",
       "      <td>8.316766</td>\n",
       "      <td>214.373394</td>\n",
       "      <td>22018.417441</td>\n",
       "      <td>8.059332</td>\n",
       "      <td>356.886136</td>\n",
       "      <td>363.266516</td>\n",
       "      <td>18.436524</td>\n",
       "      <td>100.341674</td>\n",
       "      <td>4.628771</td>\n",
       "      <td>0</td>\n",
       "    </tr>\n",
       "    <tr>\n",
       "      <th>1</th>\n",
       "      <td>2</td>\n",
       "      <td>9.092223</td>\n",
       "      <td>181.101509</td>\n",
       "      <td>17978.986339</td>\n",
       "      <td>6.546600</td>\n",
       "      <td>310.135738</td>\n",
       "      <td>398.410813</td>\n",
       "      <td>11.558279</td>\n",
       "      <td>31.997993</td>\n",
       "      <td>4.075075</td>\n",
       "      <td>0</td>\n",
       "    </tr>\n",
       "    <tr>\n",
       "      <th>2</th>\n",
       "      <td>3</td>\n",
       "      <td>5.584087</td>\n",
       "      <td>188.313324</td>\n",
       "      <td>28748.687739</td>\n",
       "      <td>7.544869</td>\n",
       "      <td>326.678363</td>\n",
       "      <td>280.467916</td>\n",
       "      <td>8.399735</td>\n",
       "      <td>54.917862</td>\n",
       "      <td>2.559708</td>\n",
       "      <td>0</td>\n",
       "    </tr>\n",
       "    <tr>\n",
       "      <th>3</th>\n",
       "      <td>4</td>\n",
       "      <td>10.223862</td>\n",
       "      <td>248.071735</td>\n",
       "      <td>28749.716544</td>\n",
       "      <td>7.513408</td>\n",
       "      <td>393.663396</td>\n",
       "      <td>283.651634</td>\n",
       "      <td>13.789695</td>\n",
       "      <td>84.603556</td>\n",
       "      <td>2.672989</td>\n",
       "      <td>0</td>\n",
       "    </tr>\n",
       "    <tr>\n",
       "      <th>4</th>\n",
       "      <td>5</td>\n",
       "      <td>8.635849</td>\n",
       "      <td>203.361523</td>\n",
       "      <td>13672.091764</td>\n",
       "      <td>4.563009</td>\n",
       "      <td>303.309771</td>\n",
       "      <td>474.607645</td>\n",
       "      <td>12.363817</td>\n",
       "      <td>62.798309</td>\n",
       "      <td>4.401425</td>\n",
       "      <td>0</td>\n",
       "    </tr>\n",
       "    <tr>\n",
       "      <th>...</th>\n",
       "      <td>...</td>\n",
       "      <td>...</td>\n",
       "      <td>...</td>\n",
       "      <td>...</td>\n",
       "      <td>...</td>\n",
       "      <td>...</td>\n",
       "      <td>...</td>\n",
       "      <td>...</td>\n",
       "      <td>...</td>\n",
       "      <td>...</td>\n",
       "      <td>...</td>\n",
       "    </tr>\n",
       "    <tr>\n",
       "      <th>2005</th>\n",
       "      <td>2006</td>\n",
       "      <td>8.197353</td>\n",
       "      <td>203.105091</td>\n",
       "      <td>27701.794055</td>\n",
       "      <td>6.472914</td>\n",
       "      <td>328.886838</td>\n",
       "      <td>444.612724</td>\n",
       "      <td>14.250875</td>\n",
       "      <td>62.906205</td>\n",
       "      <td>3.361833</td>\n",
       "      <td>1</td>\n",
       "    </tr>\n",
       "    <tr>\n",
       "      <th>2006</th>\n",
       "      <td>2007</td>\n",
       "      <td>8.989900</td>\n",
       "      <td>215.047358</td>\n",
       "      <td>15921.412018</td>\n",
       "      <td>6.297312</td>\n",
       "      <td>312.931022</td>\n",
       "      <td>390.410231</td>\n",
       "      <td>9.899115</td>\n",
       "      <td>55.069304</td>\n",
       "      <td>4.613843</td>\n",
       "      <td>1</td>\n",
       "    </tr>\n",
       "    <tr>\n",
       "      <th>2007</th>\n",
       "      <td>2008</td>\n",
       "      <td>6.702547</td>\n",
       "      <td>207.321086</td>\n",
       "      <td>17246.920347</td>\n",
       "      <td>7.708117</td>\n",
       "      <td>304.510230</td>\n",
       "      <td>329.266002</td>\n",
       "      <td>16.217303</td>\n",
       "      <td>28.878601</td>\n",
       "      <td>3.442983</td>\n",
       "      <td>1</td>\n",
       "    </tr>\n",
       "    <tr>\n",
       "      <th>2008</th>\n",
       "      <td>2009</td>\n",
       "      <td>11.491011</td>\n",
       "      <td>94.812545</td>\n",
       "      <td>37188.826022</td>\n",
       "      <td>9.263166</td>\n",
       "      <td>258.930600</td>\n",
       "      <td>439.893618</td>\n",
       "      <td>16.172755</td>\n",
       "      <td>41.558501</td>\n",
       "      <td>4.369264</td>\n",
       "      <td>1</td>\n",
       "    </tr>\n",
       "    <tr>\n",
       "      <th>2009</th>\n",
       "      <td>2010</td>\n",
       "      <td>6.069616</td>\n",
       "      <td>186.659040</td>\n",
       "      <td>26138.780191</td>\n",
       "      <td>7.747547</td>\n",
       "      <td>345.700257</td>\n",
       "      <td>415.886955</td>\n",
       "      <td>12.067620</td>\n",
       "      <td>60.419921</td>\n",
       "      <td>3.669712</td>\n",
       "      <td>1</td>\n",
       "    </tr>\n",
       "  </tbody>\n",
       "</table>\n",
       "<p>2010 rows × 11 columns</p>\n",
       "</div>"
      ],
      "text/plain": [
       "        id         pH    Hardness        Solids  Chloramines     Sulfate  \\\n",
       "0        1   8.316766  214.373394  22018.417441     8.059332  356.886136   \n",
       "1        2   9.092223  181.101509  17978.986339     6.546600  310.135738   \n",
       "2        3   5.584087  188.313324  28748.687739     7.544869  326.678363   \n",
       "3        4  10.223862  248.071735  28749.716544     7.513408  393.663396   \n",
       "4        5   8.635849  203.361523  13672.091764     4.563009  303.309771   \n",
       "...    ...        ...         ...           ...          ...         ...   \n",
       "2005  2006   8.197353  203.105091  27701.794055     6.472914  328.886838   \n",
       "2006  2007   8.989900  215.047358  15921.412018     6.297312  312.931022   \n",
       "2007  2008   6.702547  207.321086  17246.920347     7.708117  304.510230   \n",
       "2008  2009  11.491011   94.812545  37188.826022     9.263166  258.930600   \n",
       "2009  2010   6.069616  186.659040  26138.780191     7.747547  345.700257   \n",
       "\n",
       "      Conductivity  OrganicCarbon  Trihalomethanes  Turbidity  Potability  \n",
       "0       363.266516      18.436524       100.341674   4.628771           0  \n",
       "1       398.410813      11.558279        31.997993   4.075075           0  \n",
       "2       280.467916       8.399735        54.917862   2.559708           0  \n",
       "3       283.651634      13.789695        84.603556   2.672989           0  \n",
       "4       474.607645      12.363817        62.798309   4.401425           0  \n",
       "...            ...            ...              ...        ...         ...  \n",
       "2005    444.612724      14.250875        62.906205   3.361833           1  \n",
       "2006    390.410231       9.899115        55.069304   4.613843           1  \n",
       "2007    329.266002      16.217303        28.878601   3.442983           1  \n",
       "2008    439.893618      16.172755        41.558501   4.369264           1  \n",
       "2009    415.886955      12.067620        60.419921   3.669712           1  \n",
       "\n",
       "[2010 rows x 11 columns]"
      ]
     },
     "metadata": {},
     "output_type": "display_data"
    }
   ],
   "source": [
    "# Markdown dan display untuk menulis di notebook\n",
    "from IPython.display import Markdown, display\n",
    "import pandas as pd\n",
    "import matplotlib.pyplot as plt\n",
    "import seaborn as sns\n",
    "import scipy.stats as st\n",
    "\n",
    "# Import data\n",
    "nama_kolom = ['id','pH','Hardness','Solids','Chloramines','Sulfate','Conductivity','OrganicCarbon','Trihalomethanes','Turbidity','Potability']\n",
    "wp = pd.read_csv(\"water_potability.csv\", names = nama_kolom)\n",
    "display(wp)"
   ]
  },
  {
   "cell_type": "markdown",
   "metadata": {},
   "source": [
    "### **1. Menulis deskripsi statistika (Descriptive Statistics)**\n",
    "Untuk semua kolom pada data yang bersifat numerik, terdiri dari:\n",
    "- mean \n",
    "- median \n",
    "- modus \n",
    "- standar deviasi \n",
    "- variansi\n",
    "- range\n",
    "- nilai minimum \n",
    "- nilai maksimum \n",
    "- kuartil \n",
    "- IQR\n",
    "- skewness\n",
    "- kurtosis"
   ]
  },
  {
   "cell_type": "code",
   "execution_count": 147,
   "metadata": {},
   "outputs": [
    {
     "data": {
      "text/html": [
       "<div>\n",
       "<style scoped>\n",
       "    .dataframe tbody tr th:only-of-type {\n",
       "        vertical-align: middle;\n",
       "    }\n",
       "\n",
       "    .dataframe tbody tr th {\n",
       "        vertical-align: top;\n",
       "    }\n",
       "\n",
       "    .dataframe thead th {\n",
       "        text-align: right;\n",
       "    }\n",
       "</style>\n",
       "<table border=\"1\" class=\"dataframe\">\n",
       "  <thead>\n",
       "    <tr style=\"text-align: right;\">\n",
       "      <th></th>\n",
       "      <th>id</th>\n",
       "      <th>pH</th>\n",
       "      <th>Hardness</th>\n",
       "      <th>Solids</th>\n",
       "      <th>Chloramines</th>\n",
       "      <th>Sulfate</th>\n",
       "      <th>Conductivity</th>\n",
       "      <th>OrganicCarbon</th>\n",
       "      <th>Trihalomethanes</th>\n",
       "      <th>Turbidity</th>\n",
       "      <th>Potability</th>\n",
       "    </tr>\n",
       "  </thead>\n",
       "  <tbody>\n",
       "    <tr>\n",
       "      <th>mean</th>\n",
       "      <td>1005.5</td>\n",
       "      <td>7.087193</td>\n",
       "      <td>195.969209</td>\n",
       "      <td>21904.673439</td>\n",
       "      <td>7.134322</td>\n",
       "      <td>333.211376</td>\n",
       "      <td>426.476708</td>\n",
       "      <td>14.35794</td>\n",
       "      <td>66.400717</td>\n",
       "      <td>3.969497</td>\n",
       "      <td>0.402985</td>\n",
       "    </tr>\n",
       "    <tr>\n",
       "      <th>median</th>\n",
       "      <td>1005.5</td>\n",
       "      <td>7.02949</td>\n",
       "      <td>197.203525</td>\n",
       "      <td>20926.882155</td>\n",
       "      <td>7.142014</td>\n",
       "      <td>332.214113</td>\n",
       "      <td>423.438372</td>\n",
       "      <td>14.323286</td>\n",
       "      <td>66.482041</td>\n",
       "      <td>3.967374</td>\n",
       "      <td>0.0</td>\n",
       "    </tr>\n",
       "    <tr>\n",
       "      <th>std deviasi</th>\n",
       "      <td>580.38134</td>\n",
       "      <td>1.572803</td>\n",
       "      <td>32.643166</td>\n",
       "      <td>8625.397911</td>\n",
       "      <td>1.585214</td>\n",
       "      <td>41.211111</td>\n",
       "      <td>80.701872</td>\n",
       "      <td>3.32577</td>\n",
       "      <td>16.081109</td>\n",
       "      <td>0.780471</td>\n",
       "      <td>0.49062</td>\n",
       "    </tr>\n",
       "    <tr>\n",
       "      <th>range</th>\n",
       "      <td>2009.0</td>\n",
       "      <td>13.772501</td>\n",
       "      <td>243.84589</td>\n",
       "      <td>56167.729801</td>\n",
       "      <td>11.736129</td>\n",
       "      <td>352.030642</td>\n",
       "      <td>551.722883</td>\n",
       "      <td>24.806707</td>\n",
       "      <td>115.422987</td>\n",
       "      <td>5.044749</td>\n",
       "      <td>1.0</td>\n",
       "    </tr>\n",
       "    <tr>\n",
       "      <th>min</th>\n",
       "      <td>1.0</td>\n",
       "      <td>0.227499</td>\n",
       "      <td>73.492234</td>\n",
       "      <td>320.942611</td>\n",
       "      <td>1.390871</td>\n",
       "      <td>129.0</td>\n",
       "      <td>201.619737</td>\n",
       "      <td>2.2</td>\n",
       "      <td>8.577013</td>\n",
       "      <td>1.45</td>\n",
       "      <td>0.0</td>\n",
       "    </tr>\n",
       "    <tr>\n",
       "      <th>maks</th>\n",
       "      <td>2010.0</td>\n",
       "      <td>14.0</td>\n",
       "      <td>317.338124</td>\n",
       "      <td>56488.672413</td>\n",
       "      <td>13.127</td>\n",
       "      <td>481.030642</td>\n",
       "      <td>753.34262</td>\n",
       "      <td>27.006707</td>\n",
       "      <td>124.0</td>\n",
       "      <td>6.494749</td>\n",
       "      <td>1.0</td>\n",
       "    </tr>\n",
       "    <tr>\n",
       "      <th>25%</th>\n",
       "      <td>503.25</td>\n",
       "      <td>6.090785</td>\n",
       "      <td>176.740657</td>\n",
       "      <td>15614.412962</td>\n",
       "      <td>6.138326</td>\n",
       "      <td>307.626986</td>\n",
       "      <td>366.619219</td>\n",
       "      <td>12.12253</td>\n",
       "      <td>55.949993</td>\n",
       "      <td>3.442882</td>\n",
       "      <td>0.0</td>\n",
       "    </tr>\n",
       "    <tr>\n",
       "      <th>50%</th>\n",
       "      <td>1005.5</td>\n",
       "      <td>7.02949</td>\n",
       "      <td>197.203525</td>\n",
       "      <td>20926.882155</td>\n",
       "      <td>7.142014</td>\n",
       "      <td>332.214113</td>\n",
       "      <td>423.438372</td>\n",
       "      <td>14.323286</td>\n",
       "      <td>66.482041</td>\n",
       "      <td>3.967374</td>\n",
       "      <td>0.0</td>\n",
       "    </tr>\n",
       "    <tr>\n",
       "      <th>75%</th>\n",
       "      <td>1507.75</td>\n",
       "      <td>8.053006</td>\n",
       "      <td>216.447589</td>\n",
       "      <td>27170.534649</td>\n",
       "      <td>8.109933</td>\n",
       "      <td>359.268147</td>\n",
       "      <td>482.209772</td>\n",
       "      <td>16.683562</td>\n",
       "      <td>77.294613</td>\n",
       "      <td>4.514663</td>\n",
       "      <td>1.0</td>\n",
       "    </tr>\n",
       "    <tr>\n",
       "      <th>IQR</th>\n",
       "      <td>1004.5</td>\n",
       "      <td>1.962221</td>\n",
       "      <td>39.706932</td>\n",
       "      <td>11556.121687</td>\n",
       "      <td>1.971607</td>\n",
       "      <td>51.641161</td>\n",
       "      <td>115.590553</td>\n",
       "      <td>4.561031</td>\n",
       "      <td>21.34462</td>\n",
       "      <td>1.071781</td>\n",
       "      <td>1.0</td>\n",
       "    </tr>\n",
       "    <tr>\n",
       "      <th>skewness</th>\n",
       "      <td>0.0</td>\n",
       "      <td>0.048535</td>\n",
       "      <td>-0.085321</td>\n",
       "      <td>0.591011</td>\n",
       "      <td>0.013003</td>\n",
       "      <td>-0.045728</td>\n",
       "      <td>0.268012</td>\n",
       "      <td>-0.02022</td>\n",
       "      <td>-0.051383</td>\n",
       "      <td>-0.032266</td>\n",
       "      <td>0.395873</td>\n",
       "    </tr>\n",
       "    <tr>\n",
       "      <th>kurtosis</th>\n",
       "      <td>-1.2</td>\n",
       "      <td>0.626904</td>\n",
       "      <td>0.52548</td>\n",
       "      <td>0.33732</td>\n",
       "      <td>0.549782</td>\n",
       "      <td>0.786854</td>\n",
       "      <td>-0.237206</td>\n",
       "      <td>0.031018</td>\n",
       "      <td>0.223017</td>\n",
       "      <td>-0.049831</td>\n",
       "      <td>-1.845122</td>\n",
       "    </tr>\n",
       "  </tbody>\n",
       "</table>\n",
       "</div>"
      ],
      "text/plain": [
       "                    id         pH    Hardness        Solids Chloramines  \\\n",
       "mean            1005.5   7.087193  195.969209  21904.673439    7.134322   \n",
       "median          1005.5    7.02949  197.203525  20926.882155    7.142014   \n",
       "std deviasi  580.38134   1.572803   32.643166   8625.397911    1.585214   \n",
       "range           2009.0  13.772501   243.84589  56167.729801   11.736129   \n",
       "min                1.0   0.227499   73.492234    320.942611    1.390871   \n",
       "maks            2010.0       14.0  317.338124  56488.672413      13.127   \n",
       "25%             503.25   6.090785  176.740657  15614.412962    6.138326   \n",
       "50%             1005.5    7.02949  197.203525  20926.882155    7.142014   \n",
       "75%            1507.75   8.053006  216.447589  27170.534649    8.109933   \n",
       "IQR             1004.5   1.962221   39.706932  11556.121687    1.971607   \n",
       "skewness           0.0   0.048535   -0.085321      0.591011    0.013003   \n",
       "kurtosis          -1.2   0.626904     0.52548       0.33732    0.549782   \n",
       "\n",
       "                Sulfate Conductivity OrganicCarbon Trihalomethanes Turbidity  \\\n",
       "mean         333.211376   426.476708      14.35794       66.400717  3.969497   \n",
       "median       332.214113   423.438372     14.323286       66.482041  3.967374   \n",
       "std deviasi   41.211111    80.701872       3.32577       16.081109  0.780471   \n",
       "range        352.030642   551.722883     24.806707      115.422987  5.044749   \n",
       "min               129.0   201.619737           2.2        8.577013      1.45   \n",
       "maks         481.030642    753.34262     27.006707           124.0  6.494749   \n",
       "25%          307.626986   366.619219      12.12253       55.949993  3.442882   \n",
       "50%          332.214113   423.438372     14.323286       66.482041  3.967374   \n",
       "75%          359.268147   482.209772     16.683562       77.294613  4.514663   \n",
       "IQR           51.641161   115.590553      4.561031        21.34462  1.071781   \n",
       "skewness      -0.045728     0.268012      -0.02022       -0.051383 -0.032266   \n",
       "kurtosis       0.786854    -0.237206      0.031018        0.223017 -0.049831   \n",
       "\n",
       "            Potability  \n",
       "mean          0.402985  \n",
       "median             0.0  \n",
       "std deviasi    0.49062  \n",
       "range              1.0  \n",
       "min                0.0  \n",
       "maks               1.0  \n",
       "25%                0.0  \n",
       "50%                0.0  \n",
       "75%                1.0  \n",
       "IQR                1.0  \n",
       "skewness      0.395873  \n",
       "kurtosis     -1.845122  "
      ]
     },
     "metadata": {},
     "output_type": "display_data"
    },
    {
     "data": {
      "text/html": [
       "<div>\n",
       "<style scoped>\n",
       "    .dataframe tbody tr th:only-of-type {\n",
       "        vertical-align: middle;\n",
       "    }\n",
       "\n",
       "    .dataframe tbody tr th {\n",
       "        vertical-align: top;\n",
       "    }\n",
       "\n",
       "    .dataframe thead th {\n",
       "        text-align: right;\n",
       "    }\n",
       "</style>\n",
       "<table border=\"1\" class=\"dataframe\">\n",
       "  <thead>\n",
       "    <tr style=\"text-align: right;\">\n",
       "      <th></th>\n",
       "      <th>id</th>\n",
       "      <th>pH</th>\n",
       "      <th>Hardness</th>\n",
       "      <th>Solids</th>\n",
       "      <th>Chloramines</th>\n",
       "      <th>Sulfate</th>\n",
       "      <th>Conductivity</th>\n",
       "      <th>OrganicCarbon</th>\n",
       "      <th>Trihalomethanes</th>\n",
       "      <th>Turbidity</th>\n",
       "      <th>Potability</th>\n",
       "    </tr>\n",
       "    <tr>\n",
       "      <th>modus</th>\n",
       "      <th></th>\n",
       "      <th></th>\n",
       "      <th></th>\n",
       "      <th></th>\n",
       "      <th></th>\n",
       "      <th></th>\n",
       "      <th></th>\n",
       "      <th></th>\n",
       "      <th></th>\n",
       "      <th></th>\n",
       "      <th></th>\n",
       "    </tr>\n",
       "  </thead>\n",
       "  <tbody>\n",
       "    <tr>\n",
       "      <th>0</th>\n",
       "      <td>1</td>\n",
       "      <td>0.227499</td>\n",
       "      <td>73.492234</td>\n",
       "      <td>320.942611</td>\n",
       "      <td>1.390871</td>\n",
       "      <td>129.000000</td>\n",
       "      <td>201.619737</td>\n",
       "      <td>2.200000</td>\n",
       "      <td>8.577013</td>\n",
       "      <td>1.450000</td>\n",
       "      <td>0.0</td>\n",
       "    </tr>\n",
       "    <tr>\n",
       "      <th>1</th>\n",
       "      <td>2</td>\n",
       "      <td>0.989912</td>\n",
       "      <td>77.459586</td>\n",
       "      <td>1198.943699</td>\n",
       "      <td>1.920271</td>\n",
       "      <td>180.206746</td>\n",
       "      <td>210.319182</td>\n",
       "      <td>4.371899</td>\n",
       "      <td>14.343161</td>\n",
       "      <td>1.492207</td>\n",
       "      <td>NaN</td>\n",
       "    </tr>\n",
       "    <tr>\n",
       "      <th>2</th>\n",
       "      <td>3</td>\n",
       "      <td>1.431782</td>\n",
       "      <td>81.710895</td>\n",
       "      <td>1351.906979</td>\n",
       "      <td>2.397985</td>\n",
       "      <td>182.397370</td>\n",
       "      <td>233.907965</td>\n",
       "      <td>4.466772</td>\n",
       "      <td>15.684877</td>\n",
       "      <td>1.496101</td>\n",
       "      <td>NaN</td>\n",
       "    </tr>\n",
       "    <tr>\n",
       "      <th>3</th>\n",
       "      <td>4</td>\n",
       "      <td>1.757037</td>\n",
       "      <td>94.091307</td>\n",
       "      <td>1372.091043</td>\n",
       "      <td>2.456014</td>\n",
       "      <td>187.170714</td>\n",
       "      <td>245.859632</td>\n",
       "      <td>4.861631</td>\n",
       "      <td>16.291505</td>\n",
       "      <td>1.680554</td>\n",
       "      <td>NaN</td>\n",
       "    </tr>\n",
       "    <tr>\n",
       "      <th>4</th>\n",
       "      <td>5</td>\n",
       "      <td>1.985383</td>\n",
       "      <td>94.812545</td>\n",
       "      <td>2552.962804</td>\n",
       "      <td>2.458609</td>\n",
       "      <td>187.424131</td>\n",
       "      <td>252.968328</td>\n",
       "      <td>4.966862</td>\n",
       "      <td>17.527765</td>\n",
       "      <td>1.812529</td>\n",
       "      <td>NaN</td>\n",
       "    </tr>\n",
       "    <tr>\n",
       "      <th>...</th>\n",
       "      <td>...</td>\n",
       "      <td>...</td>\n",
       "      <td>...</td>\n",
       "      <td>...</td>\n",
       "      <td>...</td>\n",
       "      <td>...</td>\n",
       "      <td>...</td>\n",
       "      <td>...</td>\n",
       "      <td>...</td>\n",
       "      <td>...</td>\n",
       "      <td>...</td>\n",
       "    </tr>\n",
       "    <tr>\n",
       "      <th>2005</th>\n",
       "      <td>2006</td>\n",
       "      <td>11.568768</td>\n",
       "      <td>286.567991</td>\n",
       "      <td>50793.898917</td>\n",
       "      <td>12.580026</td>\n",
       "      <td>458.441072</td>\n",
       "      <td>666.690618</td>\n",
       "      <td>23.569645</td>\n",
       "      <td>114.034946</td>\n",
       "      <td>6.307678</td>\n",
       "      <td>NaN</td>\n",
       "    </tr>\n",
       "    <tr>\n",
       "      <th>2006</th>\n",
       "      <td>2007</td>\n",
       "      <td>11.898078</td>\n",
       "      <td>287.975540</td>\n",
       "      <td>53735.899194</td>\n",
       "      <td>12.626900</td>\n",
       "      <td>460.107069</td>\n",
       "      <td>669.725086</td>\n",
       "      <td>23.604298</td>\n",
       "      <td>114.208671</td>\n",
       "      <td>6.357439</td>\n",
       "      <td>NaN</td>\n",
       "    </tr>\n",
       "    <tr>\n",
       "      <th>2007</th>\n",
       "      <td>2008</td>\n",
       "      <td>12.246928</td>\n",
       "      <td>300.292476</td>\n",
       "      <td>55334.702799</td>\n",
       "      <td>12.653362</td>\n",
       "      <td>475.737460</td>\n",
       "      <td>695.369528</td>\n",
       "      <td>23.917601</td>\n",
       "      <td>116.161622</td>\n",
       "      <td>6.389161</td>\n",
       "      <td>NaN</td>\n",
       "    </tr>\n",
       "    <tr>\n",
       "      <th>2008</th>\n",
       "      <td>2009</td>\n",
       "      <td>13.349889</td>\n",
       "      <td>306.627481</td>\n",
       "      <td>56351.396304</td>\n",
       "      <td>13.043806</td>\n",
       "      <td>476.539717</td>\n",
       "      <td>708.226364</td>\n",
       "      <td>24.755392</td>\n",
       "      <td>120.030077</td>\n",
       "      <td>6.494249</td>\n",
       "      <td>NaN</td>\n",
       "    </tr>\n",
       "    <tr>\n",
       "      <th>2009</th>\n",
       "      <td>2010</td>\n",
       "      <td>14.000000</td>\n",
       "      <td>317.338124</td>\n",
       "      <td>56488.672413</td>\n",
       "      <td>13.127000</td>\n",
       "      <td>481.030642</td>\n",
       "      <td>753.342620</td>\n",
       "      <td>27.006707</td>\n",
       "      <td>124.000000</td>\n",
       "      <td>6.494749</td>\n",
       "      <td>NaN</td>\n",
       "    </tr>\n",
       "  </tbody>\n",
       "</table>\n",
       "<p>2010 rows × 11 columns</p>\n",
       "</div>"
      ],
      "text/plain": [
       "         id         pH    Hardness        Solids  Chloramines     Sulfate  \\\n",
       "modus                                                                       \n",
       "0         1   0.227499   73.492234    320.942611     1.390871  129.000000   \n",
       "1         2   0.989912   77.459586   1198.943699     1.920271  180.206746   \n",
       "2         3   1.431782   81.710895   1351.906979     2.397985  182.397370   \n",
       "3         4   1.757037   94.091307   1372.091043     2.456014  187.170714   \n",
       "4         5   1.985383   94.812545   2552.962804     2.458609  187.424131   \n",
       "...     ...        ...         ...           ...          ...         ...   \n",
       "2005   2006  11.568768  286.567991  50793.898917    12.580026  458.441072   \n",
       "2006   2007  11.898078  287.975540  53735.899194    12.626900  460.107069   \n",
       "2007   2008  12.246928  300.292476  55334.702799    12.653362  475.737460   \n",
       "2008   2009  13.349889  306.627481  56351.396304    13.043806  476.539717   \n",
       "2009   2010  14.000000  317.338124  56488.672413    13.127000  481.030642   \n",
       "\n",
       "       Conductivity  OrganicCarbon  Trihalomethanes  Turbidity  Potability  \n",
       "modus                                                                       \n",
       "0        201.619737       2.200000         8.577013   1.450000         0.0  \n",
       "1        210.319182       4.371899        14.343161   1.492207         NaN  \n",
       "2        233.907965       4.466772        15.684877   1.496101         NaN  \n",
       "3        245.859632       4.861631        16.291505   1.680554         NaN  \n",
       "4        252.968328       4.966862        17.527765   1.812529         NaN  \n",
       "...             ...            ...              ...        ...         ...  \n",
       "2005     666.690618      23.569645       114.034946   6.307678         NaN  \n",
       "2006     669.725086      23.604298       114.208671   6.357439         NaN  \n",
       "2007     695.369528      23.917601       116.161622   6.389161         NaN  \n",
       "2008     708.226364      24.755392       120.030077   6.494249         NaN  \n",
       "2009     753.342620      27.006707       124.000000   6.494749         NaN  \n",
       "\n",
       "[2010 rows x 11 columns]"
      ]
     },
     "metadata": {},
     "output_type": "display_data"
    }
   ],
   "source": [
    "wp_noid = wp.drop(['id'], axis=1)\n",
    "wp_stats = pd.DataFrame(columns = nama_kolom)\n",
    "\n",
    "def concate_df(df_stats : pd.DataFrame, desc_stat) -> pd.DataFrame:\n",
    "    if (isinstance(desc_stat, tuple)):\n",
    "        return pd.concat([df_stats, desc_stat[0].to_frame(name = desc_stat[1]).T])\n",
    "    else:\n",
    "        return pd.concat([df_stats, desc_stat])\n",
    "\n",
    "wp_stats = concate_df(wp_stats, (wp.mean(), \"mean\"))\n",
    "wp_stats = concate_df(wp_stats, (wp.median(), \"median\"))\n",
    "wp_stats = concate_df(wp_stats, (wp.std(), \"std deviasi\"))\n",
    "\n",
    "range_stat = wp.describe().loc[\"max\"] - wp.describe().loc[\"min\"]\n",
    "wp_stats = concate_df(wp_stats, (range_stat, \"range\"))\n",
    "\n",
    "wp_stats = concate_df(wp_stats, (wp.min(), \"min\"))\n",
    "wp_stats = concate_df(wp_stats, (wp.max(), \"maks\"))\n",
    "\n",
    "quartile_stat = wp.describe().loc[[\"25%\", \"50%\", \"75%\"]]\n",
    "wp_stats = concate_df(wp_stats, quartile_stat)\n",
    "\n",
    "IQR_stat = wp_stats.loc[\"75%\"] - wp_stats.loc[\"25%\"]\n",
    "wp_stats = concate_df(wp_stats, (IQR_stat, \"IQR\"))\n",
    "\n",
    "wp_stats = concate_df(wp_stats, (wp.skew(), \"skewness\"))\n",
    "wp_stats = concate_df(wp_stats, (wp.kurt(), \"kurtosis\"))\n",
    "\n",
    "display(wp_stats.head(13))\n",
    "\n",
    "wp_mode_stat = wp.mode()\n",
    "wp_mode_stat.index.name = \"modus\"\n",
    "display(wp_mode_stat)"
   ]
  },
  {
   "cell_type": "markdown",
   "metadata": {},
   "source": [
    "### **2. Membuat Visualisasi plot distribusi** \n",
    "Visualisasi dibuat dalam bentuk histogram dan boxplot untuk setiap kolom numerik beserta penjelasannya."
   ]
  },
  {
   "cell_type": "code",
   "execution_count": 148,
   "metadata": {},
   "outputs": [],
   "source": [
    "def box_hist_plot(col_data):\n",
    "    fig, (ax_box, ax_hist) = plt.subplots(  nrows = 2,\n",
    "                                            figsize = (14,10),\n",
    "                                            sharex = True,\n",
    "                                            gridspec_kw = {\"height_ratios\": (.15, .85)})\n",
    "    sns.set(style = \"ticks\")\n",
    "\n",
    "    sns.boxplot(x = col_data, ax = ax_box)\n",
    "    sns.histplot(x = col_data, kde = True, ax = ax_hist)\n",
    "\n",
    "    ax_box.set(yticks = [])\n",
    "    sns.despine(ax = ax_hist)\n",
    "    sns.despine(ax = ax_box, left = True)\n",
    "\n",
    "    plt.show()"
   ]
  },
  {
   "cell_type": "code",
   "execution_count": 149,
   "metadata": {},
   "outputs": [
    {
     "data": {
      "image/png": "[encoded data removed]",
      "text/plain": [
       "<Figure size 1008x720 with 2 Axes>"
      ]
     },
     "metadata": {},
     "output_type": "display_data"
    }
   ],
   "source": [
    "box_hist_plot(wp[nama_kolom[0]])"
   ]
  },
  {
   "cell_type": "markdown",
   "metadata": {},
   "source": [
    "**id**\n",
    "\n",
    "Berdasarkan visualisasi kedua plot id di atas, terlihat bahwa data id terdistribusi normal dengan keruncingan yang relatif sangat landai. Perlu diperhatikan bawah data ini merupakan index dataset water_potability dan nilainya unik."
   ]
  },
  {
   "cell_type": "code",
   "execution_count": 150,
   "metadata": {},
   "outputs": [
    {
     "data": {
      "image/png": "[encoded data removed]",
      "text/plain": [
       "<Figure size 1008x720 with 2 Axes>"
      ]
     },
     "metadata": {},
     "output_type": "display_data"
    }
   ],
   "source": [
    "box_hist_plot(wp[nama_kolom[1]])"
   ]
  },
  {
   "cell_type": "markdown",
   "metadata": {},
   "source": [
    "**pH**\n",
    "\n",
    "Berdasarkan kedua grafik pH di atas, terlihat bahwa data relatif mendekati terdistribusi normal, dengan nilai median pH dan modus porsiran pH yang relatif hampir sama. Terlihat juga bahwa data tervisualisasi relatif agak runcing. Selain itu, terdapat *outliers* atas dan bawah."
   ]
  },
  {
   "cell_type": "code",
   "execution_count": 151,
   "metadata": {},
   "outputs": [
    {
     "data": {
      "image/png": "[encoded data removed]",
      "text/plain": [
       "<Figure size 1008x720 with 2 Axes>"
      ]
     },
     "metadata": {},
     "output_type": "display_data"
    }
   ],
   "source": [
    "box_hist_plot(wp[nama_kolom[2]])"
   ]
  },
  {
   "cell_type": "markdown",
   "metadata": {},
   "source": [
    "***Hardness***\n",
    "\n",
    "Seperti pada data pH, terlihat bahwa persebaran data *hardness* relatif mendekati terdistribusi normal. Namun, data *hardness* terlihat lebih tidak runcing dibandingkan data pH. Data *hardness* memiliki *outliers* atas dan bawah yang tampak lebih banyak dibandingkan data pH."
   ]
  },
  {
   "cell_type": "code",
   "execution_count": 152,
   "metadata": {},
   "outputs": [
    {
     "data": {
      "image/png": "[encoded data removed]",
      "text/plain": [
       "<Figure size 1008x720 with 2 Axes>"
      ]
     },
     "metadata": {},
     "output_type": "display_data"
    }
   ],
   "source": [
    "box_hist_plot(wp[nama_kolom[3]])"
   ]
  },
  {
   "cell_type": "markdown",
   "metadata": {},
   "source": [
    "***Solids***\n",
    "\n",
    "Berdasarkan kedua grafik *solids* di atas, terlihat bahwa data *positivelyy skewed*, yakni persebaran data yang cenderung lebih banyak di nilai *solids* yang lebih kecil. Terlihat juga bahwa nilai porsiran modus data lebih kecil dibandingkan nilai median data. Median data atau nilai Q2 juga tampak lebih dekat dengan nilai Q1 dan elemen \"minimum\" dibandingkan dengan nilai Q3 dan elemen \"maksimum\". Selain itu, terlihat bahwa nilai *outliers* atas yang relatif banyak dan tidak ada nilai *outliers* bawah. Jika dibandingkan dengan data *hardness*, visualisasi data *solids* tampak relatif lebih landai."
   ]
  },
  {
   "cell_type": "code",
   "execution_count": 153,
   "metadata": {},
   "outputs": [
    {
     "data": {
      "image/png": "[encoded data removed]",
      "text/plain": [
       "<Figure size 1008x720 with 2 Axes>"
      ]
     },
     "metadata": {},
     "output_type": "display_data"
    }
   ],
   "source": [
    "box_hist_plot(wp[nama_kolom[4]])"
   ]
  },
  {
   "cell_type": "markdown",
   "metadata": {},
   "source": [
    "***Chloramines***\n",
    "\n",
    "Berdasarkan kedua grafik *chloramines* di atas, terlihat bahwa persebaran data relatif mendekati terdistribusi normal atau simetris. Terlihat bahwa nilai porsiran modus data relatif sedikit lebih besar dibandingkan nilai median data. Median data atau nilai Q2 juga relatif tampak simetris terhadap nilai Q1 & elemen \"minimum\" dan nilai Q3 & elemen \"maksimum\". Selain itu, terlihat bahwa terdapat *outliers* atas dan bawah. Visualisasi persebaran data terlihat relatif agak runcing."
   ]
  },
  {
   "cell_type": "code",
   "execution_count": 154,
   "metadata": {},
   "outputs": [
    {
     "data": {
      "image/png": "[encoded data removed]",
      "text/plain": [
       "<Figure size 1008x720 with 2 Axes>"
      ]
     },
     "metadata": {},
     "output_type": "display_data"
    }
   ],
   "source": [
    "box_hist_plot(wp[nama_kolom[5]])"
   ]
  },
  {
   "cell_type": "markdown",
   "metadata": {},
   "source": [
    "***Sulfate***\n",
    "\n",
    "Berdasarkan kedua grafik *sulfate* di atas, terlihat bahwa persebaran data relatif mendekati terdistribusi normal atau simetris. Terlihat bahwa nilai porsiran modus data relatif sedikit lebih kecil dibandingkan nilai median data. Median data atau nilai Q2 relatif sedikit lebih mendekati nilai Q1 & elemen \"minimum\" dibandingkan nilai Q3 & elemen \"maksimum\". Visualisasi persebaran data terlihat relatif lebih berada pada nilai *sulfate* yang lebih tinggi, salah satunya disebabkan terdapat *outliers* bawah yang nilainya relatif jauh lebih kecil dari elemen \"minimum\" boxplot dan *outliers* bawah lainnya. Visualisasi persebaran data juga terlihat relatif lebih runcing dibandingkan data *chloramines*."
   ]
  },
  {
   "cell_type": "code",
   "execution_count": 155,
   "metadata": {},
   "outputs": [
    {
     "data": {
      "image/png": "[encoded data removed]",
      "text/plain": [
       "<Figure size 1008x720 with 2 Axes>"
      ]
     },
     "metadata": {},
     "output_type": "display_data"
    }
   ],
   "source": [
    "box_hist_plot(wp[nama_kolom[6]])"
   ]
  },
  {
   "cell_type": "markdown",
   "metadata": {},
   "source": [
    "***Conductivity***\n",
    "\n",
    "Berdasarkan kedua grafik *conductivity* di atas, terlihat bahwa persebaran data relatif cukup mendekati terdistribusi normal atau simetris. Terlihat bahwa nilai porsiran modus data relatif sedikit lebih besar dibandingkan nilai median data. Namun, perlu diperhatikan bahwa terdapat satu porsiran data yang jumlahnya relatif hampir sama dengan nilai modus tersebut dan nilainya relatif sedikit lebih kecil dibandingkan median data. Terhadap nilai Q1 dan Q3, nilai median atau Q2 relatif hampir simetris. Pun, selisih nilai elemen \"minimum\" boxplot dan Q1 terhadap selisih nilai elemen \"maksimum\" boxplot dan Q3 tampak relatif hampir mirip. Visualisasi persebaran data terlihat relatif lebih berada pada nilai *conductivity* yang lebih kecil, salah satunya disebabkan terdapat beberapa *outliers* atas, tetapi tidak terdapat nilai *outliers* bawah. Visualisasi persebaran data juga terlihat relatif cukup landai."
   ]
  },
  {
   "cell_type": "code",
   "execution_count": 156,
   "metadata": {},
   "outputs": [
    {
     "data": {
      "image/png": "[encoded data removed]",
      "text/plain": [
       "<Figure size 1008x720 with 2 Axes>"
      ]
     },
     "metadata": {},
     "output_type": "display_data"
    }
   ],
   "source": [
    "box_hist_plot(wp[nama_kolom[7]])"
   ]
  },
  {
   "cell_type": "markdown",
   "metadata": {},
   "source": [
    "***OrganicCarbon***\n",
    "\n",
    "Berdasarkan kedua grafik *OrganicCarbon* di atas, terlihat bahwa persebaran data relatif cukup mendekati terdistribusi normal atau simetris. Terlihat bahwa nilai porsiran modus data lebih kecil dibandingkan nilai median data. Namun, perlu diperhatikan bahwa nilai-nilai porsiran data yang jumlahnya relatif hampir sama dengan nilai modus, seluruhnya relatif mendekati median dan nilainya lebih besar daripada nilai modus. Terhadap nilai Q1 dan Q3, nilai median atau Q2 relatif hampir simetris. Pun, selisih nilai elemen \"minimum\" boxplot dan Q1 terhadap selisih nilai elemen \"maksimum\" boxplot dan Q3 tampak relatif hampir sama. Terdapat *outliers* bawah dan atas. Baik *outliers* bawah maupun atas, terdapat *outlier* yang nilainya relatif cukup jauh terhadap nilai *outliers* lainnya (pada kelompoknya) dan juga terhadap nilai elemen \"minimum\" atau \"maksimum\" boxplot. Visualisasi persebaran data terlihat relatif sedang, yaitu tidak terlalu runcing dan tidak terlalu landai."
   ]
  },
  {
   "cell_type": "code",
   "execution_count": 157,
   "metadata": {},
   "outputs": [
    {
     "data": {
      "image/png": "[encoded data removed]",
      "text/plain": [
       "<Figure size 1008x720 with 2 Axes>"
      ]
     },
     "metadata": {},
     "output_type": "display_data"
    }
   ],
   "source": [
    "box_hist_plot(wp[nama_kolom[8]])"
   ]
  },
  {
   "cell_type": "markdown",
   "metadata": {},
   "source": [
    "***Trihalomethanes***\n",
    "\n",
    "Berdasarkan kedua grafik *trihalomethanes* di atas, terlihat bahwa persebaran data relatif cukup mendekati terdistribusi normal atau simetris. Terlihat bahwa nilai porsiran modus data relatif sedikit lebih kecil dibandingkan nilai median data. Terhadap nilai Q1 dan Q3, nilai median atau Q2 relatif hampir simetris. Pun, selisih nilai elemen \"minimum\" boxplot dan Q1 terhadap selisih nilai elemen \"maksimum\" boxplot dan Q3 tampak relatif hampir sama. Terdapat *outliers* bawah dan atas. Visualisasi persebaran data terlihat relatif cukup runcing."
   ]
  },
  {
   "cell_type": "code",
   "execution_count": 158,
   "metadata": {},
   "outputs": [
    {
     "data": {
      "image/png": "[encoded data removed]",
      "text/plain": [
       "<Figure size 1008x720 with 2 Axes>"
      ]
     },
     "metadata": {},
     "output_type": "display_data"
    }
   ],
   "source": [
    "box_hist_plot(wp[nama_kolom[9]])"
   ]
  },
  {
   "cell_type": "markdown",
   "metadata": {},
   "source": [
    "***Turbidity***\n",
    "\n",
    "Berdasarkan kedua grafik *turbidity* di atas, terlihat bahwa persebaran data relatif mendekati terdistribusi normal atau simetris. Terlihat bahwa nilai porsiran modus data relatif lebih kecil dibandingkan nilai median data. Namun, terdapat beberapa nilai yang banyaknya relatif mirip dengan nilai modus data dan nilai tersebut lebih besar dibandingkan nilai modus data. Terhadap nilai Q1 dan Q3, nilai median atau Q2 relatif hampir simetris. Pun, selisih nilai elemen \"minimum\" boxplot dan Q1 terhadap selisih nilai elemen \"maksimum\" boxplot dan Q3 tampak relatif hampir sama. Terdapat relatif sedikit *outliers* bawah dan atas. Visualisasi persebaran data terlihat relatif cukup landai."
   ]
  },
  {
   "cell_type": "code",
   "execution_count": 159,
   "metadata": {},
   "outputs": [
    {
     "data": {
      "image/png": "[encoded data removed]",
      "text/plain": [
       "<Figure size 1008x720 with 2 Axes>"
      ]
     },
     "metadata": {},
     "output_type": "display_data"
    }
   ],
   "source": [
    "box_hist_plot(wp[nama_kolom[10]])"
   ]
  },
  {
   "cell_type": "markdown",
   "metadata": {},
   "source": [
    "***Potability***\n",
    "\n",
    "Berdasarkan kedua grafik *potability* di atas, dapat dilihat bahwa data *potability* hanya bernilai 0 atau 1. Terlihat juga bahwa data *potability* memiliki nilai modus dan median nol. Karena nilai 0 yang dapat dipastikan lebih banyak dibandingkan nilai 1, distribusi data relatif sedikit *positively skewed*."
   ]
  },
  {
   "cell_type": "markdown",
   "metadata": {},
   "source": [
    "### **3. Menentukan setiap kolom numerik berdistribusi normal atau tidak**\n",
    "\n",
    "*Normality test* dilakukan untuk seluruh kolom, kecuali id dan Potability. *Normality test* dilakukan dengan meninjau histogram plot yang sudah ditampilkan di atas. \n",
    "- pH berdistribusi **normal**\n",
    "- Hardness berdistribusi **normal**\n",
    "- Solids **tidak** berdistribusi **normal**\n",
    "- Chloramines berdistribusi **normal**\n",
    "- Sulfate **tidak** berdistribusi **normal**\n",
    "- Conductivity **tidak** berdistribusi **normal**\n",
    "- OrganicCarbon berdistribusi **normal**\n",
    "- Trihalomethanes berdistribusi **normal**\n",
    "- Turbidity berdistribusi **normal**\n",
    "\n",
    "Normality test juga dilakukan dengan menggunakan library `scipy.stats.normaltest()` untuk masing-masing kolom, dengan alpha = 0.05. Hasilnya ditampilkan di bawah."
   ]
  },
  {
   "cell_type": "code",
   "execution_count": 160,
   "metadata": {},
   "outputs": [
    {
     "name": "stdout",
     "output_type": "stream",
     "text": [
      "Kolom 'pH' tidak terdistribusi normal\n",
      "Kolom 'Hardness' tidak terdistribusi normal\n",
      "Kolom 'Solids' tidak terdistribusi normal\n",
      "Kolom 'Chloramines' tidak terdistribusi normal\n",
      "Kolom 'Sulfate' tidak terdistribusi normal\n",
      "Kolom 'Conductivity' tidak terdistribusi normal\n",
      "Kolom 'OrganicCarbon' terdistribusi normal\n",
      "Kolom 'Trihalomethanes' terdistribusi normal\n",
      "Kolom 'Turbidity' terdistribusi normal\n"
     ]
    }
   ],
   "source": [
    "for i in nama_kolom:\n",
    "    if(i != \"id\" and i != \"Potability\"):\n",
    "        k2, pvalue = st.normaltest(wp[i])\n",
    "        # bandingkan pvalue dengan alpha = 0.05\n",
    "        if (pvalue < 0.05):\n",
    "            print(\"Kolom '\" + i + \"' tidak terdistribusi normal\")\n",
    "        else:\n",
    "            print(\"Kolom '\" + i + \"' terdistribusi normal\")"
   ]
  },
  {
   "cell_type": "markdown",
   "metadata": {},
   "source": [
    "### **4. Melakukan test hipotesis 1 sampel, dengan menuliskan 6 langkah testing** \n",
    "Boxplot juga ditampilkan untuk kolom/bagian yang bersesuaian."
   ]
  },
  {
   "cell_type": "code",
   "execution_count": 161,
   "metadata": {},
   "outputs": [],
   "source": [
    "# definisi fungsi\n",
    "def calc_mean_z(data_mean, hyp_mean, data_std, tot_data):\n",
    "    return (data_mean - hyp_mean) * (tot_data**(0.5))/data_std\n",
    "\n",
    "def calc_bin_z(real_prop, obs_prop, n_data):\n",
    "    return (real_prop - obs_prop)/(obs_prop*(1-obs_prop)/n_data)**0.5"
   ]
  },
  {
   "cell_type": "markdown",
   "metadata": {},
   "source": [
    "#### 4a. Nilai Rata-rata pH di atas 7?"
   ]
  },
  {
   "cell_type": "code",
   "execution_count": 162,
   "metadata": {},
   "outputs": [
    {
     "data": {
      "text/markdown": [
       "**1. Menentukan hipotesis nol**\n",
       "\n",
       "- $H_{0}: \\mu_{pH} = 7$\n",
       "\n"
      ],
      "text/plain": [
       "<IPython.core.display.Markdown object>"
      ]
     },
     "metadata": {},
     "output_type": "display_data"
    },
    {
     "data": {
      "text/markdown": [
       "**2. Pilih hipotesis alternatif**\n",
       "\n",
       "Dengan menerapkan **one-tailed test** maka $H_{1}$ akan ditentukan sebagai berikut.\n",
       "\n",
       "- $H_{1}: \\mu_{pH} > 7$\n",
       "\n"
      ],
      "text/plain": [
       "<IPython.core.display.Markdown object>"
      ]
     },
     "metadata": {},
     "output_type": "display_data"
    },
    {
     "data": {
      "text/markdown": [
       "**3. Menentukan tingkat signifikan $\\alpha$**\n",
       "\n",
       "- $\\alpha = 0.05$\n",
       "\n"
      ],
      "text/plain": [
       "<IPython.core.display.Markdown object>"
      ]
     },
     "metadata": {},
     "output_type": "display_data"
    },
    {
     "data": {
      "text/markdown": [
       "**4. Menentukan uji statistik dan daerah kritis**\n",
       "\n",
       "Dengan menguji terhadap **distribusi normal $Z$**, didapat daerah kritis sebagai berikut.\n",
       "\n",
       "- $z > z_{0.05} = 1.6448536269514722$\n",
       "\n"
      ],
      "text/plain": [
       "<IPython.core.display.Markdown object>"
      ]
     },
     "metadata": {},
     "output_type": "display_data"
    },
    {
     "data": {
      "text/markdown": [
       "**5. Menghitung nilai uji statistik**\n",
       "\n",
       "- $z = \\frac{\\bar{x} - \\mu_{0}}{\\sigma/\\sqrt{n}}\\\\z = 2.485445147379887$\n",
       "\n",
       "Berdasarkan pengujian tersebut, karena nilai uji $z$ berada di daerah kritis, yaitu\n",
       "\n",
       "- $z = 2.485445147379887 > z_{0.05} = 1.6448536269514722$\n",
       "\n",
       "maka $H_{0}$ ditolak\n",
       "\n"
      ],
      "text/plain": [
       "<IPython.core.display.Markdown object>"
      ]
     },
     "metadata": {},
     "output_type": "display_data"
    },
    {
     "data": {
      "text/markdown": [
       "**6. Menghitung nilai-$P$ berdasarkan uji statistik yang digunakan**\n",
       "\n",
       "- $P(Z > 2.485445147379887) = 0.006469476288896462$\n",
       "\n",
       "Dengan turut mengevaluasi terhadap nilai-$P$, yaitu\n",
       "\n",
       "- $P(Z > 2.485445147379887) = 0.006469476288896462 < \\alpha = 0.05$\n",
       "\n",
       "maka benar bahwa $H_{0}$ ditolak sehingga $H_{1}$ diterima, yakni nilai rata-rata pH adalah di atas 7"
      ],
      "text/plain": [
       "<IPython.core.display.Markdown object>"
      ]
     },
     "metadata": {},
     "output_type": "display_data"
    },
    {
     "data": {
      "text/plain": [
       "<AxesSubplot:>"
      ]
     },
     "execution_count": 162,
     "metadata": {},
     "output_type": "execute_result"
    },
    {
     "data": {
      "image/png": "[encoded data removed]",
      "text/plain": [
       "<Figure size 1008x720 with 1 Axes>"
      ]
     },
     "metadata": {},
     "output_type": "display_data"
    }
   ],
   "source": [
    "display(Markdown(\n",
    "                    \"**1. Menentukan hipotesis nol**\\n\\n\"\n",
    "\n",
    "                    \"- $\"\n",
    "                    \"H_{0}: \\\\mu_{pH} = 7\"\n",
    "                    \"$\\n\\n\"\n",
    "                ))\n",
    "\n",
    "display(Markdown(   \n",
    "                    \"**2. Pilih hipotesis alternatif**\\n\\n\"\n",
    "\n",
    "                    \"Dengan menerapkan **one-tailed test** maka $H_{1}$ akan ditentukan sebagai berikut.\\n\\n\"\n",
    "\n",
    "                    \"- $\"\n",
    "                    \"H_{1}: \\\\mu_{pH} > 7\"\n",
    "                    \"$\\n\\n\"\n",
    "                ))\n",
    "\n",
    "\n",
    "display(Markdown(   \n",
    "                    \"**3. Menentukan tingkat signifikan $\\\\alpha$**\\n\\n\"\n",
    "\n",
    "                    \"- $\"\n",
    "                    \"\\\\alpha = 0.05\"\n",
    "                    \"$\\n\\n\"\n",
    "                ))\n",
    "\n",
    "z_alpha = st.norm.ppf(1-.05)\n",
    "display(Markdown(   \n",
    "                    \"**4. Menentukan uji statistik dan daerah kritis**\\n\\n\"\n",
    "\n",
    "                    \"Dengan menguji terhadap **distribusi normal $Z$**, didapat daerah kritis sebagai berikut.\\n\\n\"\n",
    "\n",
    "                    \"- $\"\n",
    "                    \"z > z_{0.05} = \" + str(z_alpha) + \n",
    "                    \"$\\n\\n\"\n",
    "                ))\n",
    "\n",
    "z_val = calc_mean_z(wp[\"pH\"].mean(), 7, wp[\"pH\"].std(), len(wp))\n",
    "display(Markdown(   \n",
    "                    \"**5. Menghitung nilai uji statistik**\\n\\n\"\n",
    "\n",
    "                    \"- $\"\n",
    "                    \"z = \\\\frac{\\\\bar{x} - \\\\mu_{0}}{\\\\sigma/\\\\sqrt{n}}\\\\\\\\\"\n",
    "                    \"z = \" + str(z_val) +\n",
    "                    \"$\\n\\n\"\n",
    "\n",
    "                    \"Berdasarkan pengujian tersebut, karena nilai uji $z$ berada di daerah kritis, yaitu\\n\\n\"\n",
    "                    \"- $\"\n",
    "                    \"z = \" + str(z_val) + \" > z_{0.05} = \" + str(z_alpha) +\n",
    "                    \"$\\n\\n\" \n",
    "                    \n",
    "                    \"maka $H_{0}$ ditolak\\n\\n\"\n",
    "                ))\n",
    "\n",
    "p_val = st.norm.sf(abs(z_val))\n",
    "display(Markdown(\n",
    "                    \"**6. Menghitung nilai-$P$ berdasarkan uji statistik yang digunakan**\\n\\n\"\n",
    "\n",
    "                    \"- $\"\n",
    "                    \"P(Z > \" + str(z_val) +\") = \" + str(p_val) +\n",
    "                    \"$\\n\\n\"\n",
    "\n",
    "                    \"Dengan turut mengevaluasi terhadap nilai-$P$, yaitu\\n\\n\"\n",
    "                    \"- $\"\n",
    "                    \"P(Z > \" + str(z_val) +\") = \" + str(p_val) + \" < \\\\alpha = 0.05\"\n",
    "                    \"$\\n\\n\" \n",
    "                    \n",
    "                    \"maka benar bahwa $H_{0}$ ditolak sehingga $H_{1}$ diterima, yakni nilai rata-rata pH adalah di atas 7\"\n",
    "                ))\n",
    "\n",
    "wp.boxplot([\"pH\"], figsize=(14,10))"
   ]
  },
  {
   "cell_type": "markdown",
   "metadata": {},
   "source": [
    "#### 4b. Nilai Rata-rata Hardness tidak sama dengan 205?"
   ]
  },
  {
   "cell_type": "code",
   "execution_count": 163,
   "metadata": {},
   "outputs": [
    {
     "data": {
      "text/markdown": [
       "**1. Menentukan hipotesis nol**\n",
       "\n",
       "- $H_{0}: \\mu_{hardness} = 205$\n",
       "\n"
      ],
      "text/plain": [
       "<IPython.core.display.Markdown object>"
      ]
     },
     "metadata": {},
     "output_type": "display_data"
    },
    {
     "data": {
      "text/markdown": [
       "**2. Pilih hipotesis alternatif**\n",
       "\n",
       "Dengan menerapkan **two-tailed test** maka $H_{1}$ akan ditentukan sebagai berikut.\n",
       "\n",
       "- $H_{1}: \\mu_{hardness} \\neq 205$\n",
       "\n"
      ],
      "text/plain": [
       "<IPython.core.display.Markdown object>"
      ]
     },
     "metadata": {},
     "output_type": "display_data"
    },
    {
     "data": {
      "text/markdown": [
       "**3. Menentukan tingkat signifikan $\\alpha$**\n",
       "\n",
       "- $\\alpha = 0.05$\n",
       "\n"
      ],
      "text/plain": [
       "<IPython.core.display.Markdown object>"
      ]
     },
     "metadata": {},
     "output_type": "display_data"
    },
    {
     "data": {
      "text/markdown": [
       "**4. Menentukan uji statistik dan daerah kritis**\n",
       "\n",
       "Dengan menguji terhadap **distribusi normal $Z$**, didapat daerah-daerah kritis sebagai berikut.\n",
       "\n",
       "- $z > z_{0.025} = 1.959963984540054\\\\z < -z_{0.025} = -1.959963984540054$\n",
       "\n"
      ],
      "text/plain": [
       "<IPython.core.display.Markdown object>"
      ]
     },
     "metadata": {},
     "output_type": "display_data"
    },
    {
     "data": {
      "text/markdown": [
       "**5. Menghitung nilai uji statistik**\n",
       "\n",
       "- $z = \\frac{\\bar{x} - \\mu_{0}}{\\sigma/\\sqrt{n}}\\\\z = -12.403137170010732$\n",
       "\n",
       "Berdasarkan pengujian tersebut, karena nilai uji $z$ berada di salah satu daerah kritis, yaitu\n",
       "\n",
       "- $z = -12.403137170010732 < -z_{0.025} = -1.959963984540054$\n",
       "\n",
       "maka $H_{0}$ ditolak\n",
       "\n"
      ],
      "text/plain": [
       "<IPython.core.display.Markdown object>"
      ]
     },
     "metadata": {},
     "output_type": "display_data"
    },
    {
     "data": {
      "text/markdown": [
       "**6. Menghitung nilai-$P$ berdasarkan uji statistik yang digunakan**\n",
       "\n",
       "- $P(Z < 12.403137170010732) = 1.2564452447572327e-35$\n",
       "\n",
       "Dengan turut mengevaluasi terhadap nilai-$P$, yaitu\n",
       "\n",
       "- $P(|Z| > 12.403137170010732) = 2P(Z < -12.403137170010732) \\approx 2.5128904895144654e-35 < \\alpha = 0.05$\n",
       "\n",
       "maka benar bahwa $H_{0}$ ditolak sehingga $H_{1}$ diterima, yakni nilai rata-rata Hardness tidak sama dengan 205"
      ],
      "text/plain": [
       "<IPython.core.display.Markdown object>"
      ]
     },
     "metadata": {},
     "output_type": "display_data"
    },
    {
     "data": {
      "text/plain": [
       "<AxesSubplot:>"
      ]
     },
     "execution_count": 163,
     "metadata": {},
     "output_type": "execute_result"
    },
    {
     "data": {
      "image/png": "[encoded data removed]",
      "text/plain": [
       "<Figure size 1008x720 with 1 Axes>"
      ]
     },
     "metadata": {},
     "output_type": "display_data"
    }
   ],
   "source": [
    "display(Markdown(\n",
    "                    \"**1. Menentukan hipotesis nol**\\n\\n\"\n",
    "\n",
    "                    \"- $\"\n",
    "                    \"H_{0}: \\\\mu_{hardness} = 205\"\n",
    "                    \"$\\n\\n\"\n",
    "                ))\n",
    "\n",
    "display(Markdown(   \n",
    "                    \"**2. Pilih hipotesis alternatif**\\n\\n\"\n",
    "\n",
    "                    \"Dengan menerapkan **two-tailed test** maka $H_{1}$ akan ditentukan sebagai berikut.\\n\\n\"\n",
    "\n",
    "                    \"- $\"\n",
    "                    \"H_{1}: \\\\mu_{hardness} \\\\neq 205\"\n",
    "                    \"$\\n\\n\"\n",
    "                ))\n",
    "\n",
    "\n",
    "display(Markdown(   \n",
    "                    \"**3. Menentukan tingkat signifikan $\\\\alpha$**\\n\\n\"\n",
    "\n",
    "                    \"- $\"\n",
    "                    \"\\\\alpha = 0.05\"\n",
    "                    \"$\\n\\n\"\n",
    "                ))\n",
    "\n",
    "z_alpha = st.norm.ppf(1-.025)\n",
    "display(Markdown(   \n",
    "                    \"**4. Menentukan uji statistik dan daerah kritis**\\n\\n\"\n",
    "\n",
    "                    \"Dengan menguji terhadap **distribusi normal $Z$**, didapat daerah-daerah kritis sebagai berikut.\\n\\n\"\n",
    "\n",
    "                    \"- $\"\n",
    "                    \"z > z_{0.025} = \" + str(z_alpha) + \"\\\\\\\\\"\n",
    "                    \"z < -z_{0.025} = \" + str(-z_alpha) + \n",
    "                    \"$\\n\\n\"\n",
    "                ))\n",
    "\n",
    "z_val = calc_mean_z(wp[\"Hardness\"].mean(), 205, wp[\"Hardness\"].std(), len(wp))\n",
    "display(Markdown(   \n",
    "                    \"**5. Menghitung nilai uji statistik**\\n\\n\"\n",
    "\n",
    "                    \"- $\"\n",
    "                    \"z = \\\\frac{\\\\bar{x} - \\\\mu_{0}}{\\\\sigma/\\\\sqrt{n}}\\\\\\\\\"\n",
    "                    \"z = \" + str(z_val) +\n",
    "                    \"$\\n\\n\"\n",
    "\n",
    "                    \"Berdasarkan pengujian tersebut, karena nilai uji $z$ berada di salah satu daerah kritis, yaitu\\n\\n\"\n",
    "                    \"- $\"\n",
    "                    \"z = \" + str(z_val) + \" < -z_{0.025} = \" + str(-z_alpha) +\n",
    "                    \"$\\n\\n\" \n",
    "                    \n",
    "                    \"maka $H_{0}$ ditolak\\n\\n\"\n",
    "                ))\n",
    "\n",
    "p_val = st.norm.sf(abs(z_val))\n",
    "display(Markdown(\n",
    "                    \"**6. Menghitung nilai-$P$ berdasarkan uji statistik yang digunakan**\\n\\n\"\n",
    "\n",
    "                    \"- $\"\n",
    "                    \"P(Z < \" + str(-z_val) +\") = \" + str(p_val) +\n",
    "                    \"$\\n\\n\"\n",
    "\n",
    "                    \"Dengan turut mengevaluasi terhadap nilai-$P$, yaitu\\n\\n\"\n",
    "                    \"- $\"\n",
    "                    \"P(|Z| > \"+str(abs(z_val))+\") = 2P(Z < \"+str(z_val)+\") \\\\approx \"+str(p_val*2)+\" < \\\\alpha = 0.05\"\n",
    "                    \"$\\n\\n\" \n",
    "                    \n",
    "                    \"maka benar bahwa $H_{0}$ ditolak sehingga $H_{1}$ diterima, yakni nilai rata-rata Hardness tidak sama dengan 205\"\n",
    "                ))\n",
    "\n",
    "wp.boxplot([\"Hardness\"], figsize=(14,10))"
   ]
  },
  {
   "cell_type": "markdown",
   "metadata": {},
   "source": [
    "#### 4c. Nilai Rata-rata 100 baris pertama kolom Solids bukan 21900?"
   ]
  },
  {
   "cell_type": "code",
   "execution_count": 164,
   "metadata": {},
   "outputs": [
    {
     "data": {
      "text/markdown": [
       "**1. Menentukan hipotesis nol**\n",
       "\n",
       "- $H_{0}: \\mu_{Solids_{1,100}} = 21900$\n",
       "\n"
      ],
      "text/plain": [
       "<IPython.core.display.Markdown object>"
      ]
     },
     "metadata": {},
     "output_type": "display_data"
    },
    {
     "data": {
      "text/markdown": [
       "**2. Pilih hipotesis alternatif**\n",
       "\n",
       "Dengan menerapkan **two-tailed test** maka $H_{1}$ akan ditentukan sebagai berikut.\n",
       "\n",
       "- $H_{1}: \\mu_{Solids_{1,100}} \\neq 21900$\n",
       "\n"
      ],
      "text/plain": [
       "<IPython.core.display.Markdown object>"
      ]
     },
     "metadata": {},
     "output_type": "display_data"
    },
    {
     "data": {
      "text/markdown": [
       "**3. Menentukan tingkat signifikan $\\alpha$**\n",
       "\n",
       "- $\\alpha = 0.05$\n",
       "\n"
      ],
      "text/plain": [
       "<IPython.core.display.Markdown object>"
      ]
     },
     "metadata": {},
     "output_type": "display_data"
    },
    {
     "data": {
      "text/markdown": [
       "**4. Menentukan uji statistik dan daerah kritis**\n",
       "\n",
       "Dengan menguji terhadap **distribusi normal $z$**, didapat daerah-daerah kritis sebagai berikut.\n",
       "\n",
       "- $z > z_{0.025} = 1.959963984540054\\\\z < -z_{0.025} = -1.959963984540054$\n",
       "\n"
      ],
      "text/plain": [
       "<IPython.core.display.Markdown object>"
      ]
     },
     "metadata": {},
     "output_type": "display_data"
    },
    {
     "data": {
      "text/markdown": [
       "**5. Menghitung nilai uji statistik**\n",
       "\n",
       "- $z = \\frac{\\bar{x} - \\mu_{0}}{\\sigma/\\sqrt{n}}\\\\z = 0.5636797715721551$\n",
       "\n",
       "Berdasarkan pengujian tersebut, karena nilai uji $z$ berada di salah satu daerah kritis, yaitu\n",
       "\n",
       "- $z = 0.5636797715721551 > -z_{0.025} = -1.959963984540054$\n",
       "\n",
       "maka $H_{0}$ gagal ditolak\n",
       "\n"
      ],
      "text/plain": [
       "<IPython.core.display.Markdown object>"
      ]
     },
     "metadata": {},
     "output_type": "display_data"
    },
    {
     "data": {
      "text/markdown": [
       "**6. Menghitung nilai-$P$ berdasarkan uji statistik yang digunakan**\n",
       "\n",
       "- $P(Z < 0.5636797715721551) = 0.2864860432327587$\n",
       "\n",
       "Dengan turut mengevaluasi terhadap nilai-$P$, yaitu\n",
       "\n",
       "- $P(|Z| > 0.5636797715721551) = 2P(Z < 0.5636797715721551) \\approx 0.5729720864655174 > \\alpha = 0.05$\n",
       "\n",
       "maka benar bahwa $H_{0}$ gagal ditolak sehingga nilai Rata-rata 100 baris pertama kolom Solids adalah 21900"
      ],
      "text/plain": [
       "<IPython.core.display.Markdown object>"
      ]
     },
     "metadata": {},
     "output_type": "display_data"
    },
    {
     "data": {
      "text/plain": [
       "<AxesSubplot:>"
      ]
     },
     "execution_count": 164,
     "metadata": {},
     "output_type": "execute_result"
    },
    {
     "data": {
      "image/png": "[encoded data removed]",
      "text/plain": [
       "<Figure size 1008x720 with 1 Axes>"
      ]
     },
     "metadata": {},
     "output_type": "display_data"
    }
   ],
   "source": [
    "display(Markdown(\n",
    "                    \"**1. Menentukan hipotesis nol**\\n\\n\"\n",
    "\n",
    "                    \"- $\"\n",
    "                    \"H_{0}: \\\\mu_{Solids_{1,100}} = 21900\"\n",
    "                    \"$\\n\\n\"\n",
    "                ))\n",
    "\n",
    "display(Markdown(   \n",
    "                    \"**2. Pilih hipotesis alternatif**\\n\\n\"\n",
    "\n",
    "                    \"Dengan menerapkan **two-tailed test** maka $H_{1}$ akan ditentukan sebagai berikut.\\n\\n\"\n",
    "\n",
    "                    \"- $\"\n",
    "                    \"H_{1}: \\\\mu_{Solids_{1,100}} \\\\neq 21900\"\n",
    "                    \"$\\n\\n\"\n",
    "                ))\n",
    "\n",
    "\n",
    "display(Markdown(   \n",
    "                    \"**3. Menentukan tingkat signifikan $\\\\alpha$**\\n\\n\"\n",
    "\n",
    "                    \"- $\"\n",
    "                    \"\\\\alpha = 0.05\"\n",
    "                    \"$\\n\\n\"\n",
    "                ))\n",
    "\n",
    "z_alpha = st.norm.ppf(1-.025)\n",
    "display(Markdown(   \n",
    "                    \"**4. Menentukan uji statistik dan daerah kritis**\\n\\n\"\n",
    "\n",
    "                    \"Dengan menguji terhadap **distribusi normal $z$**, didapat daerah-daerah kritis sebagai berikut.\\n\\n\"\n",
    "\n",
    "                    \"- $\"\n",
    "                    \"z > z_{0.025} = \" + str(z_alpha) + \"\\\\\\\\\"\n",
    "                    \"z < -z_{0.025} = \" + str(-z_alpha) + \n",
    "                    \"$\\n\\n\"\n",
    "                ))\n",
    "\n",
    "\n",
    "z_val = calc_mean_z(wp[\"Solids\"].iloc[:100].mean(), 21900, wp[\"Solids\"].iloc[:100].std(), 100)\n",
    "display(Markdown(   \n",
    "                    \"**5. Menghitung nilai uji statistik**\\n\\n\"\n",
    "\n",
    "                    \"- $\"\n",
    "                    \"z = \\\\frac{\\\\bar{x} - \\\\mu_{0}}{\\\\sigma/\\\\sqrt{n}}\\\\\\\\\"\n",
    "                    \"z = \" + str(z_val) +\n",
    "                    \"$\\n\\n\"\n",
    "\n",
    "                    \"Berdasarkan pengujian tersebut, karena nilai uji $z$ berada di salah satu daerah kritis, yaitu\\n\\n\"\n",
    "                    \"- $\"\n",
    "                    \"z = \" + str(z_val) + \" > -z_{0.025} = \" + str(-z_alpha) +\n",
    "                    \"$\\n\\n\" \n",
    "                    \n",
    "                    \"maka $H_{0}$ gagal ditolak\\n\\n\"\n",
    "                ))\n",
    "\n",
    "p_val = st.norm.sf(abs(z_val))\n",
    "display(Markdown(\n",
    "                    \"**6. Menghitung nilai-$P$ berdasarkan uji statistik yang digunakan**\\n\\n\"\n",
    "\n",
    "                    \"- $\"\n",
    "                    \"P(Z < \" + str(z_val) +\") = \" + str(p_val) +\n",
    "                    \"$\\n\\n\"\n",
    "\n",
    "                    \"Dengan turut mengevaluasi terhadap nilai-$P$, yaitu\\n\\n\"\n",
    "                    \"- $\"\n",
    "                    \"P(|Z| > \"+str(abs(z_val))+\") = 2P(Z < \"+str(z_val)+\") \\\\approx \"+str(p_val*2)+\" > \\\\alpha = 0.05\"\n",
    "                    \"$\\n\\n\" \n",
    "                    \n",
    "                    \"maka benar bahwa $H_{0}$ gagal ditolak sehingga nilai Rata-rata 100 baris pertama kolom Solids adalah 21900\"\n",
    "                ))\n",
    "\n",
    "wp.iloc[:100].boxplot([\"Solids\"], figsize=(14,10))\n"
   ]
  },
  {
   "cell_type": "markdown",
   "metadata": {},
   "source": [
    "#### 4d. Proporsi nilai Conductivity yang lebih dari 450, adalah tidak sama dengan 10%?"
   ]
  },
  {
   "cell_type": "code",
   "execution_count": 165,
   "metadata": {},
   "outputs": [
    {
     "data": {
      "text/markdown": [
       "**1. Menentukan hipotesis nol**\n",
       "\n",
       "- $H_{0}: P_{conductivity > 450} = 10\\%$\n",
       "\n"
      ],
      "text/plain": [
       "<IPython.core.display.Markdown object>"
      ]
     },
     "metadata": {},
     "output_type": "display_data"
    },
    {
     "data": {
      "text/markdown": [
       "**2. Pilih hipotesis alternatif**\n",
       "\n",
       "Dengan menerapkan ***two-tailed test*** maka $H_{1}$ akan ditentukan sebagai berikut.\n",
       "\n",
       "- $H_{1}: P_{conductivity > 450} \\neq 10\\%$\n",
       "\n"
      ],
      "text/plain": [
       "<IPython.core.display.Markdown object>"
      ]
     },
     "metadata": {},
     "output_type": "display_data"
    },
    {
     "data": {
      "text/markdown": [
       "**3. Menentukan tingkat signifikan $\\alpha$**\n",
       "\n",
       "- $\\alpha = 0.05$\n",
       "\n"
      ],
      "text/plain": [
       "<IPython.core.display.Markdown object>"
      ]
     },
     "metadata": {},
     "output_type": "display_data"
    },
    {
     "data": {
      "text/markdown": [
       "**4. Menentukan uji statistik dan daerah kritis**\n",
       "\n",
       "Dengan menguji terhadap **Binomial didekati normal**, didapat daerah-daerah kritis sebagai berikut.\n",
       "\n",
       "- $z > z_{0.025} = 1.959963984540054\\\\z < -z_{0.025} = -1.959963984540054$\n",
       "\n"
      ],
      "text/plain": [
       "<IPython.core.display.Markdown object>"
      ]
     },
     "metadata": {},
     "output_type": "display_data"
    },
    {
     "data": {
      "text/markdown": [
       "**5. Menghitung nilai uji statistik**\n",
       "\n",
       "- $z = \\frac{\\hat{p} - p_{0}}{\\sqrt{p_{0}q_{0}/n}}\\\\\\\\ \\\\\\hat{p} = 0.3706467661691542\\\\p_{0} = 0.1\\\\q_{0} = 0.9\\\\ \\\\z = 40.44637613158932$\n",
       "\n",
       "Berdasarkan pengujian tersebut, karena nilai uji $z$ berada di salah satu daerah kritis, yaitu\n",
       "\n",
       "- $z = 40.44637613158932 > z_{0.025} = 1.959963984540054$\n",
       "\n",
       "maka $H_{0}$ ditolak\n",
       "\n"
      ],
      "text/plain": [
       "<IPython.core.display.Markdown object>"
      ]
     },
     "metadata": {},
     "output_type": "display_data"
    },
    {
     "data": {
      "text/markdown": [
       "**6. Menghitung nilai-$P$ berdasarkan uji statistik yang digunakan**\n",
       "\n",
       "- $P(Z > 40.44637613158932) = 0.0$\n",
       "\n",
       "Dengan turut mengevaluasi terhadap nilai-$P$, yaitu\n",
       "\n",
       "- $P(|Z| > 40.44637613158932) = 2P(Z < 40.44637613158932) \\approx 0.0 < \\alpha = 0.05$\n",
       "\n",
       "maka benar bahwa $H_{0}$ ditolak sehingga $H_{1}$ diterima, yakni Proporsi nilai Conductivity yang lebih dari 450, adalah tidak sama dengan 10%"
      ],
      "text/plain": [
       "<IPython.core.display.Markdown object>"
      ]
     },
     "metadata": {},
     "output_type": "display_data"
    },
    {
     "data": {
      "text/plain": [
       "<AxesSubplot:>"
      ]
     },
     "execution_count": 165,
     "metadata": {},
     "output_type": "execute_result"
    },
    {
     "data": {
      "image/png": "[encoded data removed]",
      "text/plain": [
       "<Figure size 1008x720 with 1 Axes>"
      ]
     },
     "metadata": {},
     "output_type": "display_data"
    }
   ],
   "source": [
    "display(Markdown(\n",
    "                    \"**1. Menentukan hipotesis nol**\\n\\n\"\n",
    "\n",
    "                    \"- $\"\n",
    "                    \"H_{0}: P_{conductivity > 450} = 10\\\\%\"\n",
    "                    \"$\\n\\n\"\n",
    "                ))\n",
    "\n",
    "display(Markdown(   \n",
    "                    \"**2. Pilih hipotesis alternatif**\\n\\n\"\n",
    "\n",
    "                    \"Dengan menerapkan ***two-tailed test*** maka $H_{1}$ akan ditentukan sebagai berikut.\\n\\n\"\n",
    "\n",
    "                    \"- $\"\n",
    "                    \"H_{1}: P_{conductivity > 450} \\\\neq 10\\\\%\"\n",
    "                    \"$\\n\\n\"\n",
    "                ))\n",
    "\n",
    "\n",
    "display(Markdown(   \n",
    "                    \"**3. Menentukan tingkat signifikan $\\\\alpha$**\\n\\n\"\n",
    "\n",
    "                    \"- $\"\n",
    "                    \"\\\\alpha = 0.05\"\n",
    "                    \"$\\n\\n\"\n",
    "                ))\n",
    "\n",
    "z_alpha = st.norm.ppf(1-.025)\n",
    "display(Markdown(   \n",
    "                    \"**4. Menentukan uji statistik dan daerah kritis**\\n\\n\"\n",
    "\n",
    "                    \"Dengan menguji terhadap **Binomial didekati normal**, didapat daerah-daerah kritis sebagai berikut.\\n\\n\"\n",
    "\n",
    "                    \"- $\"\n",
    "                    \"z > z_{0.025} = \" + str(z_alpha) + \"\\\\\\\\\"\n",
    "                    \"z < -z_{0.025} = \" + str(-z_alpha) + \n",
    "                    \"$\\n\\n\"\n",
    "                ))\n",
    "\n",
    "tot_obs_data = len(wp[\"Conductivity\"].loc[wp[\"Conductivity\"] > 450])\n",
    "sample_prop = tot_obs_data / len(wp)\n",
    "z_val = calc_bin_z(sample_prop, 0.1, len(wp))\n",
    "display(Markdown(   \n",
    "                    \"**5. Menghitung nilai uji statistik**\\n\\n\"\n",
    "\n",
    "                    \"- $\"\n",
    "                    \"z = \\\\frac{\\\\hat{p} - p_{0}}{\\\\sqrt{p_{0}q_{0}/n}}\\\\\\\\\"\n",
    "                    \"\\\\\\\\ \\\\\\\\\"\n",
    "                    \"\\\\hat{p} = \" + str(sample_prop) +\n",
    "                    \"\\\\\\\\\"\n",
    "                    \"p_{0} = 0.1\" \n",
    "                    \"\\\\\\\\\"\n",
    "                    \"q_{0} = 0.9\"\n",
    "                    \"\\\\\\\\ \\\\\\\\\"\n",
    "                    \"z = \" + str(z_val) +\n",
    "                    \"$\\n\\n\"\n",
    "\n",
    "                    \"Berdasarkan pengujian tersebut, karena nilai uji $z$ berada di salah satu daerah kritis, yaitu\\n\\n\"\n",
    "                    \"- $\"\n",
    "                    \"z = \" + str(z_val) + \" > z_{0.025} = \" + str(z_alpha) +\n",
    "                    \"$\\n\\n\" \n",
    "                    \n",
    "                    \"maka $H_{0}$ ditolak\\n\\n\"\n",
    "                ))\n",
    "\n",
    "p_val = st.norm.sf(abs(z_val))\n",
    "display(Markdown(\n",
    "                    \"**6. Menghitung nilai-$P$ berdasarkan uji statistik yang digunakan**\\n\\n\"\n",
    "\n",
    "                    \"- $\"\n",
    "                    \"P(Z > \" + str(z_val) +\") = \" + str(p_val) +\n",
    "                    \"$\\n\\n\"\n",
    "\n",
    "                    \"Dengan turut mengevaluasi terhadap nilai-$P$, yaitu\\n\\n\"\n",
    "                    \"- $\"\n",
    "                    \"P(|Z| > \"+str(abs(z_val))+\") = 2P(Z < \"+str(z_val)+\") \\\\approx \"+str(p_val*2)+\" < \\\\alpha = 0.05\"\n",
    "                    \"$\\n\\n\" \n",
    "                    \n",
    "                    \"maka benar bahwa $H_{0}$ ditolak sehingga $H_{1}$ diterima, yakni Proporsi nilai Conductivity yang lebih dari 450, adalah tidak sama dengan 10%\"\n",
    "                ))\n",
    "\n",
    "wp.boxplot([\"Conductivity\"], figsize = (14,10))\n"
   ]
  },
  {
   "cell_type": "markdown",
   "metadata": {},
   "source": [
    "#### 4e. Proporsi nilai Trihalomethanes yang kurang dari 40, adalah kurang dari 5%?"
   ]
  },
  {
   "cell_type": "code",
   "execution_count": 166,
   "metadata": {},
   "outputs": [
    {
     "data": {
      "text/markdown": [
       "**1. Menentukan hipotesis nol**\n",
       "\n",
       "- $H_{0}: P_{Trihalomethanes < 450} = 5\\%$\n",
       "\n"
      ],
      "text/plain": [
       "<IPython.core.display.Markdown object>"
      ]
     },
     "metadata": {},
     "output_type": "display_data"
    },
    {
     "data": {
      "text/markdown": [
       "**2. Pilih hipotesis alternatif**\n",
       "\n",
       "Dengan menerapkan ***one-tailed test*** maka $H_{1}$ akan ditentukan sebagai berikut.\n",
       "\n",
       "- $H_{1}: P_{Trihalomethanes < 450} < 5\\%$\n",
       "\n"
      ],
      "text/plain": [
       "<IPython.core.display.Markdown object>"
      ]
     },
     "metadata": {},
     "output_type": "display_data"
    },
    {
     "data": {
      "text/markdown": [
       "**3. Menentukan tingkat signifikan $\\alpha$**\n",
       "\n",
       "- $\\alpha = 0.05$\n",
       "\n"
      ],
      "text/plain": [
       "<IPython.core.display.Markdown object>"
      ]
     },
     "metadata": {},
     "output_type": "display_data"
    },
    {
     "data": {
      "text/markdown": [
       "**4. Menentukan uji statistik dan daerah kritis**\n",
       "\n",
       "Dengan menguji terhadap **Binomial didekati normal**, didapat daerah kritis sebagai berikut.\n",
       "\n",
       "- $z < -z_{0.05} = -1.6448536269514722$\n",
       "\n"
      ],
      "text/plain": [
       "<IPython.core.display.Markdown object>"
      ]
     },
     "metadata": {},
     "output_type": "display_data"
    },
    {
     "data": {
      "text/markdown": [
       "**5. Menghitung nilai uji statistik**\n",
       "\n",
       "- $z = \\frac{\\hat{p} - p_{0}}{\\sqrt{\\frac{p_{0}q_{0}}{n}}}\\\\\\\\ \\\\\\hat{p} = 0.0527363184079602\\\\p_{0} = 0.05\\\\q_{0} = 0.95\\\\ \\\\z = 0.5628826416670951$\n",
       "\n",
       "Berdasarkan pengujian tersebut, karena nilai uji $z$ tidak berada di daerah kritis, yaitu\n",
       "\n",
       "- $z = 0.5628826416670951 > z_{0.05} = -1.6448536269514722$\n",
       "\n",
       "maka $H_{0}$ gagal ditolak\n",
       "\n"
      ],
      "text/plain": [
       "<IPython.core.display.Markdown object>"
      ]
     },
     "metadata": {},
     "output_type": "display_data"
    },
    {
     "data": {
      "text/markdown": [
       "**6. Menghitung nilai-$P$ berdasarkan uji statistik yang digunakan**\n",
       "\n",
       "- $P(Z < 0.5628826416670951) = 0.286757400490763$\n",
       "\n",
       "Dengan turut mengevaluasi terhadap nilai-$P$, yaitu\n",
       "\n",
       "- $P(Z < 0.5628826416670951) = 0.286757400490763 > \\alpha = 0.05$\n",
       "\n",
       "maka benar bahwa $H_{0}$ gagal ditolak sehingga proporsi nilai Trihalomethanes yang kurang dari 40, adalah 5%"
      ],
      "text/plain": [
       "<IPython.core.display.Markdown object>"
      ]
     },
     "metadata": {},
     "output_type": "display_data"
    },
    {
     "data": {
      "text/plain": [
       "<AxesSubplot:>"
      ]
     },
     "execution_count": 166,
     "metadata": {},
     "output_type": "execute_result"
    },
    {
     "data": {
      "image/png": "[encoded data removed]",
      "text/plain": [
       "<Figure size 1008x720 with 1 Axes>"
      ]
     },
     "metadata": {},
     "output_type": "display_data"
    }
   ],
   "source": [
    "display(Markdown(\n",
    "                    \"**1. Menentukan hipotesis nol**\\n\\n\"\n",
    "\n",
    "                    \"- $\"\n",
    "                    \"H_{0}: P_{Trihalomethanes < 450} = 5\\\\%\"\n",
    "                    \"$\\n\\n\"\n",
    "                ))\n",
    "\n",
    "display(Markdown(   \n",
    "                    \"**2. Pilih hipotesis alternatif**\\n\\n\"\n",
    "\n",
    "                    \"Dengan menerapkan ***one-tailed test*** maka $H_{1}$ akan ditentukan sebagai berikut.\\n\\n\"\n",
    "\n",
    "                    \"- $\"\n",
    "                    \"H_{1}: P_{Trihalomethanes < 450} < 5\\\\%\"\n",
    "                    \"$\\n\\n\"\n",
    "                ))\n",
    "\n",
    "\n",
    "display(Markdown(   \n",
    "                    \"**3. Menentukan tingkat signifikan $\\\\alpha$**\\n\\n\"\n",
    "\n",
    "                    \"- $\"\n",
    "                    \"\\\\alpha = 0.05\"\n",
    "                    \"$\\n\\n\"\n",
    "                ))\n",
    "\n",
    "z_alpha = st.norm.ppf(1-.05)\n",
    "display(Markdown(   \n",
    "                    \"**4. Menentukan uji statistik dan daerah kritis**\\n\\n\"\n",
    "\n",
    "                    \"Dengan menguji terhadap **Binomial didekati normal**, didapat daerah kritis sebagai berikut.\\n\\n\"\n",
    "\n",
    "                    \"- $\"\n",
    "                    \"z < -z_{0.05} = \" + str(-z_alpha) + \n",
    "                    \"$\\n\\n\"\n",
    "                ))\n",
    "\n",
    "tot_obs_data = len(wp[\"Trihalomethanes\"].loc[wp[\"Trihalomethanes\"] < 40])\n",
    "sample_prop = tot_obs_data / len(wp)\n",
    "z_val = calc_bin_z(sample_prop, 0.05, len(wp))\n",
    "display(Markdown(   \n",
    "                    \"**5. Menghitung nilai uji statistik**\\n\\n\"\n",
    "\n",
    "                    \"- $\"\n",
    "                    \"z = \\\\frac{\\\\hat{p} - p_{0}}{\\\\sqrt{\\\\frac{p_{0}q_{0}}{n}}}\\\\\\\\\"\n",
    "                    \"\\\\\\\\ \\\\\\\\\"\n",
    "                    \"\\\\hat{p} = \" + str(sample_prop) +\n",
    "                    \"\\\\\\\\\"\n",
    "                    \"p_{0} = 0.05\" \n",
    "                    \"\\\\\\\\\"\n",
    "                    \"q_{0} = 0.95\"\n",
    "                    \"\\\\\\\\ \\\\\\\\\"\n",
    "                    \"z = \" + str(z_val) +\n",
    "                    \"$\\n\\n\"\n",
    "\n",
    "                    \"Berdasarkan pengujian tersebut, karena nilai uji $z$ tidak berada di daerah kritis, yaitu\\n\\n\"\n",
    "                    \"- $\"\n",
    "                    \"z = \" + str(z_val) + \" > z_{0.05} = \" + str(-z_alpha) +\n",
    "                    \"$\\n\\n\" \n",
    "                    \n",
    "                    \"maka $H_{0}$ gagal ditolak\\n\\n\"\n",
    "                ))\n",
    "\n",
    "p_val = st.norm.sf(abs(z_val))\n",
    "display(Markdown(\n",
    "                    \"**6. Menghitung nilai-$P$ berdasarkan uji statistik yang digunakan**\\n\\n\"\n",
    "\n",
    "                    \"- $\"\n",
    "                    \"P(Z < \" + str(z_val) +\") = \" + str(p_val) +\n",
    "                    \"$\\n\\n\"\n",
    "\n",
    "                    \"Dengan turut mengevaluasi terhadap nilai-$P$, yaitu\\n\\n\"\n",
    "                    \"- $\"\n",
    "                    \"P(Z < \" + str(z_val) +\") = \" + str(p_val) + \" > \\\\alpha = 0.05\"\n",
    "                    \"$\\n\\n\" \n",
    "                    \n",
    "                    \"maka benar bahwa $H_{0}$ gagal ditolak sehingga proporsi nilai Trihalomethanes yang kurang dari 40, adalah 5%\"\n",
    "                ))\n",
    "\n",
    "wp.boxplot([\"Trihalomethanes\"], figsize = (14,10))\n",
    "\n",
    "\n"
   ]
  },
  {
   "cell_type": "code",
   "execution_count": 167,
   "metadata": {},
   "outputs": [
    {
     "data": {
      "text/plain": [
       "<AxesSubplot:>"
      ]
     },
     "execution_count": 167,
     "metadata": {},
     "output_type": "execute_result"
    },
    {
     "data": {
      "image/png": "[encoded data removed]",
      "text/plain": [
       "<Figure size 432x288 with 1 Axes>"
      ]
     },
     "metadata": {},
     "output_type": "display_data"
    }
   ],
   "source": [
    "wp.boxplot(\"Trihalomethanes\")"
   ]
  },
  {
   "cell_type": "markdown",
   "metadata": {},
   "source": [
    "### **5. Melakukan test hipotesis 2 sampel, dengan menuliskan 6 langkah testing**\n",
    "Boxplot juga ditampilkan untuk kolom/bagian yang bersesuaian."
   ]
  },
  {
   "cell_type": "code",
   "execution_count": 168,
   "metadata": {},
   "outputs": [],
   "source": [
    "# definisi fungsi z_score 2 sample\n",
    "def z_score2(x1, x2, d0, var1, var2, n1, n2):\n",
    "    return ((x1 - x2) - d0) / (((var1 / n1) + (var2 / n2))**0.5)"
   ]
  },
  {
   "cell_type": "markdown",
   "metadata": {},
   "source": [
    "#### 5a. Data kolom Sulfate dibagi 2 sama rata: bagian awal dan bagian akhir kolom. Benarkah rata-rata kedua bagian tersebut sama?"
   ]
  },
  {
   "cell_type": "code",
   "execution_count": 169,
   "metadata": {},
   "outputs": [
    {
     "data": {
      "text/markdown": [
       "Misal bagian awal = 1 dan bagian akhir = 2"
      ],
      "text/plain": [
       "<IPython.core.display.Markdown object>"
      ]
     },
     "metadata": {},
     "output_type": "display_data"
    },
    {
     "data": {
      "text/markdown": [
       "**1. Menentukan hipotesis nol**\n",
       "\n"
      ],
      "text/plain": [
       "<IPython.core.display.Markdown object>"
      ]
     },
     "metadata": {},
     "output_type": "display_data"
    },
    {
     "data": {
      "text/markdown": [
       "$\n",
       "H_0 : \\mu_1 - \\mu_2 = 0$"
      ],
      "text/plain": [
       "<IPython.core.display.Markdown object>"
      ]
     },
     "metadata": {},
     "output_type": "display_data"
    },
    {
     "data": {
      "text/markdown": [
       "**2. Pilih hipotesis alternatif**\n",
       "\n"
      ],
      "text/plain": [
       "<IPython.core.display.Markdown object>"
      ]
     },
     "metadata": {},
     "output_type": "display_data"
    },
    {
     "data": {
      "text/markdown": [
       "$\n",
       "H_1 : \\mu_1 - \\mu_2 \\neq 0$"
      ],
      "text/plain": [
       "<IPython.core.display.Markdown object>"
      ]
     },
     "metadata": {},
     "output_type": "display_data"
    },
    {
     "data": {
      "text/markdown": [
       "**3. Menentukan tingkat signifikan $\\alpha$**\n",
       "\n",
       "$\n",
       "\\alpha = 0.05$"
      ],
      "text/plain": [
       "<IPython.core.display.Markdown object>"
      ]
     },
     "metadata": {},
     "output_type": "display_data"
    },
    {
     "data": {
      "text/markdown": [
       "**4. Menentukan uji statistik dan daerah kritis**\n",
       "\n"
      ],
      "text/plain": [
       "<IPython.core.display.Markdown object>"
      ]
     },
     "metadata": {},
     "output_type": "display_data"
    },
    {
     "data": {
      "text/markdown": [
       "Uji test kali ini menggunakan **Z-Test** dengan tipe *two-tailed test*. Daerah kritis: $z < -1.96$ atau $z > 1.96$"
      ],
      "text/plain": [
       "<IPython.core.display.Markdown object>"
      ]
     },
     "metadata": {},
     "output_type": "display_data"
    },
    {
     "data": {
      "text/markdown": [
       "**5. Menghitung nilai uji statistik**\n",
       "\n"
      ],
      "text/plain": [
       "<IPython.core.display.Markdown object>"
      ]
     },
     "metadata": {},
     "output_type": "display_data"
    },
    {
     "data": {
      "text/markdown": [
       "$\\bar{X}_1 = 331.30532950549565$"
      ],
      "text/plain": [
       "<IPython.core.display.Markdown object>"
      ]
     },
     "metadata": {},
     "output_type": "display_data"
    },
    {
     "data": {
      "text/markdown": [
       "$\\bar{X}_2 = 335.11742332488245$"
      ],
      "text/plain": [
       "<IPython.core.display.Markdown object>"
      ]
     },
     "metadata": {},
     "output_type": "display_data"
    },
    {
     "data": {
      "text/markdown": [
       "$S^2_1 = 1708.3966020772502$"
      ],
      "text/plain": [
       "<IPython.core.display.Markdown object>"
      ]
     },
     "metadata": {},
     "output_type": "display_data"
    },
    {
     "data": {
      "text/markdown": [
       "$S^2_2 = 1682.7330644425087$"
      ],
      "text/plain": [
       "<IPython.core.display.Markdown object>"
      ]
     },
     "metadata": {},
     "output_type": "display_data"
    },
    {
     "data": {
      "text/markdown": [
       "$n_1 = 1005,n_2 = 1005$"
      ],
      "text/plain": [
       "<IPython.core.display.Markdown object>"
      ]
     },
     "metadata": {},
     "output_type": "display_data"
    },
    {
     "data": {
      "text/markdown": [
       "$\n",
       "z = \\frac{(\\bar{x}_1 - \\bar{x}_2)-d_0}{\\sqrt{\\sigma^2_1/n_1 + \\sigma^2_2/n_1}}$"
      ],
      "text/plain": [
       "<IPython.core.display.Markdown object>"
      ]
     },
     "metadata": {},
     "output_type": "display_data"
    },
    {
     "data": {
      "text/markdown": [
       "dengan $d_0 = \\mu_1 - \\mu_2 = 0$"
      ],
      "text/plain": [
       "<IPython.core.display.Markdown object>"
      ]
     },
     "metadata": {},
     "output_type": "display_data"
    },
    {
     "data": {
      "text/markdown": [
       "didapat $z = -2.0752690696871983$ sehingga $P = P(|Z| > 2.0752690696871983) = 2P(Z < -2.0752690696871983) \\approx 0.0376 < \\alpha = 0.05$"
      ],
      "text/plain": [
       "<IPython.core.display.Markdown object>"
      ]
     },
     "metadata": {},
     "output_type": "display_data"
    },
    {
     "data": {
      "text/markdown": [
       "**6. Kesimpulan**\n",
       "\n"
      ],
      "text/plain": [
       "<IPython.core.display.Markdown object>"
      ]
     },
     "metadata": {},
     "output_type": "display_data"
    },
    {
     "data": {
      "text/markdown": [
       "**$H_0$ DITOLAK** karena P-value yang didapat lebih kecil dari $\\alpha$ ($z$ hasil perhitungan terletak di salah satu daerah kritis, yaitu $z < -1.96$\n",
       "\n",
       "Rata-rata kedua bagian tersebut berbeda."
      ],
      "text/plain": [
       "<IPython.core.display.Markdown object>"
      ]
     },
     "metadata": {},
     "output_type": "display_data"
    },
    {
     "data": {
      "text/plain": [
       "<AxesSubplot:ylabel='Sulfate'>"
      ]
     },
     "execution_count": 169,
     "metadata": {},
     "output_type": "execute_result"
    },
    {
     "data": {
      "image/png": "[encoded data removed]",
      "text/plain": [
       "<Figure size 1080x360 with 2 Axes>"
      ]
     },
     "metadata": {},
     "output_type": "display_data"
    }
   ],
   "source": [
    "n1 = wp['Sulfate'].count() // 2\n",
    "n2 = wp['Sulfate'].count() - n1\n",
    "\n",
    "sulfate_awal = wp.iloc[:n1,:]\n",
    "sulfate_akhir = wp.iloc[n2:,:]\n",
    "\n",
    "display(Markdown(\"Misal bagian awal = 1 dan bagian akhir = 2\"))\n",
    "display(Markdown(\"**1. Menentukan hipotesis nol**\\n\\n\"))\n",
    "display(Markdown(\"$\\nH_0 : \\\\mu_1 - \\\\mu_2 = 0$\"))\n",
    "\n",
    "display(Markdown(\"**2. Pilih hipotesis alternatif**\\n\\n\"))\n",
    "display(Markdown(\"$\\nH_1 : \\\\mu_1 - \\\\mu_2 \\\\neq 0$\"))\n",
    "\n",
    "display(Markdown(\"**3. Menentukan tingkat signifikan $\\\\alpha$**\\n\\n$\\n\\\\alpha = 0.05$\"))\n",
    "\n",
    "display(Markdown(\"**4. Menentukan uji statistik dan daerah kritis**\\n\\n\"))\n",
    "display(Markdown(\"Uji test kali ini menggunakan **Z-Test** dengan tipe *two-tailed test*. Daerah kritis: $z < -1.96$ atau $z > 1.96$\"))\n",
    "\n",
    "display(Markdown(\"**5. Menghitung nilai uji statistik**\\n\\n\"))\n",
    "xbar1, xbar2 = sulfate_awal['Sulfate'].mean(), sulfate_akhir['Sulfate'].mean()\n",
    "var1, var2 = sulfate_awal['Sulfate'].var(), sulfate_akhir['Sulfate'].var()\n",
    "\n",
    "display(Markdown(\"$\\\\bar{X}_1 = \"+ str(xbar1) +\"$\"))\n",
    "display(Markdown(\"$\\\\bar{X}_2 = \" + str(xbar2) +\"$\"))\n",
    "display(Markdown(\"$S^2_1 = \"+ str(var1) +\"$\"))\n",
    "display(Markdown(\"$S^2_2 = \" + str(var2) +\"$\"))\n",
    "display(Markdown(\"$n_1 = \"+ str(n1) +\",n_2 = \"+ str(n2) +\"$\"))\n",
    "display(Markdown(\"$\\nz = \\\\frac{(\\\\bar{x}_1 - \\\\bar{x}_2)-d_0}{\\\\sqrt{\\\\sigma^2_1/n_1 + \\\\sigma^2_2/n_1}}$\"))\n",
    "display(Markdown(\"dengan $d_0 = \\\\mu_1 - \\\\mu_2 = 0$\"))\n",
    "\n",
    "z = z_score2(xbar1, xbar2, 0, var1, var2, n1, n2)\n",
    "\n",
    "display(Markdown(\"didapat $z = \"+str(z)+\"$ sehingga $P = P(|Z| > \"+str(abs(z))+\") = 2P(Z < \"+str(z)+\") \\\\approx \"+str(0.0188*2)+\" < \\\\alpha = 0.05$\"))\n",
    "\n",
    "display(Markdown(\"**6. Kesimpulan**\\n\\n\"))\n",
    "display(Markdown(\"**$H_0$ DITOLAK** karena P-value yang didapat lebih kecil dari $\\\\alpha$ ($z$ hasil perhitungan terletak di salah satu daerah kritis, yaitu $z < -1.96$\\n\\nRata-rata kedua bagian tersebut berbeda.\"))\n",
    "\n",
    "fig, axs = plt.subplots(1, 2, figsize=(15, 5))\n",
    "sns.boxplot(data=sulfate_awal, y=\"Sulfate\", ax=axs[0])\n",
    "sns.boxplot(data=sulfate_akhir, y=\"Sulfate\", ax=axs[1])"
   ]
  },
  {
   "cell_type": "markdown",
   "metadata": {},
   "source": [
    "#### 5b. Data kolom OrganicCarbon dibagi 2 sama rata: bagian awal dan bagian akhir kolom. Benarkah rata-rata bagian awal lebih besar daripada bagian akhir sebesar 0.15?"
   ]
  },
  {
   "cell_type": "code",
   "execution_count": 170,
   "metadata": {},
   "outputs": [
    {
     "data": {
      "text/markdown": [
       "Misal bagian awal = 1 dan bagian akhir = 2"
      ],
      "text/plain": [
       "<IPython.core.display.Markdown object>"
      ]
     },
     "metadata": {},
     "output_type": "display_data"
    },
    {
     "data": {
      "text/markdown": [
       "**1. Menentukan hipotesis nol**\n",
       "\n"
      ],
      "text/plain": [
       "<IPython.core.display.Markdown object>"
      ]
     },
     "metadata": {},
     "output_type": "display_data"
    },
    {
     "data": {
      "text/markdown": [
       "$\n",
       "H_0 : \\mu_1 - \\mu_2 = 0.15$"
      ],
      "text/plain": [
       "<IPython.core.display.Markdown object>"
      ]
     },
     "metadata": {},
     "output_type": "display_data"
    },
    {
     "data": {
      "text/markdown": [
       "**2. Pilih hipotesis alternatif**\n",
       "\n"
      ],
      "text/plain": [
       "<IPython.core.display.Markdown object>"
      ]
     },
     "metadata": {},
     "output_type": "display_data"
    },
    {
     "data": {
      "text/markdown": [
       "$\n",
       "H_1 : \\mu_1 - \\mu_2 > 0.15$"
      ],
      "text/plain": [
       "<IPython.core.display.Markdown object>"
      ]
     },
     "metadata": {},
     "output_type": "display_data"
    },
    {
     "data": {
      "text/markdown": [
       "**3. Menentukan tingkat signifikan $\\alpha$**\n",
       "\n",
       "$\\alpha = 0.05$"
      ],
      "text/plain": [
       "<IPython.core.display.Markdown object>"
      ]
     },
     "metadata": {},
     "output_type": "display_data"
    },
    {
     "data": {
      "text/markdown": [
       "**4. Menentukan uji statistik dan daerah kritis**\n",
       "\n"
      ],
      "text/plain": [
       "<IPython.core.display.Markdown object>"
      ]
     },
     "metadata": {},
     "output_type": "display_data"
    },
    {
     "data": {
      "text/markdown": [
       "Uji test kali ini menggunakan **Z-Test** dengan tipe *one-tailed test*. Daerah kritis: $z > 1.6449$"
      ],
      "text/plain": [
       "<IPython.core.display.Markdown object>"
      ]
     },
     "metadata": {},
     "output_type": "display_data"
    },
    {
     "data": {
      "text/markdown": [
       "**5. Menghitung nilai uji statistik**\n",
       "\n"
      ],
      "text/plain": [
       "<IPython.core.display.Markdown object>"
      ]
     },
     "metadata": {},
     "output_type": "display_data"
    },
    {
     "data": {
      "text/markdown": [
       "$\\bar{X}_1 = 14.253972723723393$"
      ],
      "text/plain": [
       "<IPython.core.display.Markdown object>"
      ]
     },
     "metadata": {},
     "output_type": "display_data"
    },
    {
     "data": {
      "text/markdown": [
       "$\\bar{X}_2 = 14.461907080372756$"
      ],
      "text/plain": [
       "<IPython.core.display.Markdown object>"
      ]
     },
     "metadata": {},
     "output_type": "display_data"
    },
    {
     "data": {
      "text/markdown": [
       "$S^2_1 = 11.230287224380323$"
      ],
      "text/plain": [
       "<IPython.core.display.Markdown object>"
      ]
     },
     "metadata": {},
     "output_type": "display_data"
    },
    {
     "data": {
      "text/markdown": [
       "$S^2_2 = 10.880581782847479$"
      ],
      "text/plain": [
       "<IPython.core.display.Markdown object>"
      ]
     },
     "metadata": {},
     "output_type": "display_data"
    },
    {
     "data": {
      "text/markdown": [
       "$\n",
       "z = \\frac{(\\bar{x}_1 - \\bar{x}_2)-d_0}{\\sqrt{\\sigma^2_1/n_1 + \\sigma^2_2/n_1}}$"
      ],
      "text/plain": [
       "<IPython.core.display.Markdown object>"
      ]
     },
     "metadata": {},
     "output_type": "display_data"
    },
    {
     "data": {
      "text/markdown": [
       "dengan $d_0 = \\mu_1 - \\mu_2 = 0.15$"
      ],
      "text/plain": [
       "<IPython.core.display.Markdown object>"
      ]
     },
     "metadata": {},
     "output_type": "display_data"
    },
    {
     "data": {
      "text/markdown": [
       "didapat $z = -2.413145517798807$ sehingga $P = P(Z > -2.413145517798807) = 0.9920 > \\alpha = 0.05$"
      ],
      "text/plain": [
       "<IPython.core.display.Markdown object>"
      ]
     },
     "metadata": {},
     "output_type": "display_data"
    },
    {
     "data": {
      "text/markdown": [
       "**6. Kesimpulan**\n",
       "\n"
      ],
      "text/plain": [
       "<IPython.core.display.Markdown object>"
      ]
     },
     "metadata": {},
     "output_type": "display_data"
    },
    {
     "data": {
      "text/markdown": [
       "**$H_0$ TIDAK DITOLAK** karena P-value yang didapat lebih besar dari $\\alpha$ ($z$ hasil perhitungan terletak di luar daerah kritis $z > 1.6449$\n",
       "\n",
       "Kemungkinan besar rata-rata kedua bagian tersebut sama."
      ],
      "text/plain": [
       "<IPython.core.display.Markdown object>"
      ]
     },
     "metadata": {},
     "output_type": "display_data"
    },
    {
     "data": {
      "text/plain": [
       "<AxesSubplot:ylabel='OrganicCarbon'>"
      ]
     },
     "execution_count": 170,
     "metadata": {},
     "output_type": "execute_result"
    },
    {
     "data": {
      "image/png": "[encoded data removed]",
      "text/plain": [
       "<Figure size 1080x360 with 2 Axes>"
      ]
     },
     "metadata": {},
     "output_type": "display_data"
    }
   ],
   "source": [
    "n1 = wp['OrganicCarbon'].count() // 2\n",
    "n2 = wp['OrganicCarbon'].count() - n1\n",
    "\n",
    "oc_awal = wp.iloc[:n1,:]\n",
    "oc_akhir = wp.iloc[n2:,:]\n",
    "\n",
    "display(Markdown(\"Misal bagian awal = 1 dan bagian akhir = 2\"))\n",
    "display(Markdown(\"**1. Menentukan hipotesis nol**\\n\\n\"))\n",
    "display(Markdown(\"$\\nH_0 : \\\\mu_1 - \\\\mu_2 = 0.15$\"))\n",
    "\n",
    "display(Markdown(\"**2. Pilih hipotesis alternatif**\\n\\n\"))\n",
    "display(Markdown(\"$\\nH_1 : \\\\mu_1 - \\\\mu_2 > 0.15$\"))\n",
    "\n",
    "display(Markdown(\"**3. Menentukan tingkat signifikan $\\\\alpha$**\\n\\n$\\\\alpha = 0.05$\"))\n",
    "\n",
    "display(Markdown(\"**4. Menentukan uji statistik dan daerah kritis**\\n\\n\"))\n",
    "display(Markdown(\"Uji test kali ini menggunakan **Z-Test** dengan tipe *one-tailed test*. Daerah kritis: $z > 1.6449$\"))\n",
    "\n",
    "display(Markdown(\"**5. Menghitung nilai uji statistik**\\n\\n\"))\n",
    "xbar1, xbar2 = oc_awal['OrganicCarbon'].mean(), oc_akhir['OrganicCarbon'].mean()\n",
    "var1, var2 = oc_awal['OrganicCarbon'].var(), oc_akhir['OrganicCarbon'].var()\n",
    "\n",
    "display(Markdown(\"$\\\\bar{X}_1 = \"+ str(xbar1) +\"$\"))\n",
    "display(Markdown(\"$\\\\bar{X}_2 = \" + str(xbar2) +\"$\"))\n",
    "display(Markdown(\"$S^2_1 = \"+ str(var1) +\"$\"))\n",
    "display(Markdown(\"$S^2_2 = \" + str(var2) +\"$\"))\n",
    "display(Markdown(\"$\\nz = \\\\frac{(\\\\bar{x}_1 - \\\\bar{x}_2)-d_0}{\\\\sqrt{\\\\sigma^2_1/n_1 + \\\\sigma^2_2/n_1}}$\"))\n",
    "display(Markdown(\"dengan $d_0 = \\\\mu_1 - \\\\mu_2 = 0.15$\"))\n",
    "\n",
    "z = z_score2(xbar1, xbar2, 0.15, var1, var2, n1, n2)\n",
    "\n",
    "display(Markdown(\"didapat $z = \"+str(z)+\"$ sehingga $P = P(Z > \"+str(z)+\") = 0.9920 > \\\\alpha = 0.05$\"))\n",
    "\n",
    "display(Markdown(\"**6. Kesimpulan**\\n\\n\"))\n",
    "display(Markdown(\"**$H_0$ TIDAK DITOLAK** karena P-value yang didapat lebih besar dari $\\\\alpha$ ($z$ hasil perhitungan terletak di luar daerah kritis $z > 1.6449$\\n\\nKemungkinan besar rata-rata kedua bagian tersebut sama.\"))\n",
    "\n",
    "fig, axs = plt.subplots(1, 2, figsize=(15, 5))\n",
    "sns.boxplot(data=oc_awal, y=\"OrganicCarbon\", ax=axs[0])\n",
    "sns.boxplot(data=oc_akhir, y=\"OrganicCarbon\", ax=axs[1])"
   ]
  },
  {
   "cell_type": "markdown",
   "metadata": {},
   "source": [
    "#### 5c. Rata-rata 100 baris pertama kolom Chloramines sama dengan 100 baris terakhirnya?"
   ]
  },
  {
   "cell_type": "code",
   "execution_count": 171,
   "metadata": {},
   "outputs": [
    {
     "data": {
      "text/markdown": [
       "Misal bagian awal = 1 dan bagian akhir = 2"
      ],
      "text/plain": [
       "<IPython.core.display.Markdown object>"
      ]
     },
     "metadata": {},
     "output_type": "display_data"
    },
    {
     "data": {
      "text/markdown": [
       "**1. Menentukan hipotesis nol**\n",
       "\n"
      ],
      "text/plain": [
       "<IPython.core.display.Markdown object>"
      ]
     },
     "metadata": {},
     "output_type": "display_data"
    },
    {
     "data": {
      "text/markdown": [
       "$\n",
       "H_0 : \\mu_1 - \\mu_2 = 0$"
      ],
      "text/plain": [
       "<IPython.core.display.Markdown object>"
      ]
     },
     "metadata": {},
     "output_type": "display_data"
    },
    {
     "data": {
      "text/markdown": [
       "**2. Pilih hipotesis alternatif**\n",
       "\n"
      ],
      "text/plain": [
       "<IPython.core.display.Markdown object>"
      ]
     },
     "metadata": {},
     "output_type": "display_data"
    },
    {
     "data": {
      "text/markdown": [
       "$\n",
       "H_1 : \\mu_1 - \\mu_2 \\neq 0$"
      ],
      "text/plain": [
       "<IPython.core.display.Markdown object>"
      ]
     },
     "metadata": {},
     "output_type": "display_data"
    },
    {
     "data": {
      "text/markdown": [
       "**3. Menentukan tingkat signifikan $\\alpha$**\n",
       "\n",
       "$\\alpha = 0.05$"
      ],
      "text/plain": [
       "<IPython.core.display.Markdown object>"
      ]
     },
     "metadata": {},
     "output_type": "display_data"
    },
    {
     "data": {
      "text/markdown": [
       "**4. Menentukan uji statistik dan daerah kritis**\n",
       "\n"
      ],
      "text/plain": [
       "<IPython.core.display.Markdown object>"
      ]
     },
     "metadata": {},
     "output_type": "display_data"
    },
    {
     "data": {
      "text/markdown": [
       "Uji test kali ini menggunakan **Z-Test** dengan tipe *two-tailed test*. Daerah kritis: $z < -1.96$ atau $z > 1.96$"
      ],
      "text/plain": [
       "<IPython.core.display.Markdown object>"
      ]
     },
     "metadata": {},
     "output_type": "display_data"
    },
    {
     "data": {
      "text/markdown": [
       "**5. Menghitung nilai uji statistik**\n",
       "\n"
      ],
      "text/plain": [
       "<IPython.core.display.Markdown object>"
      ]
     },
     "metadata": {},
     "output_type": "display_data"
    },
    {
     "data": {
      "text/markdown": [
       "$\\bar{X}_1 = 7.007771140423921$"
      ],
      "text/plain": [
       "<IPython.core.display.Markdown object>"
      ]
     },
     "metadata": {},
     "output_type": "display_data"
    },
    {
     "data": {
      "text/markdown": [
       "$\\bar{X}_2 = 7.147197636249925$"
      ],
      "text/plain": [
       "<IPython.core.display.Markdown object>"
      ]
     },
     "metadata": {},
     "output_type": "display_data"
    },
    {
     "data": {
      "text/markdown": [
       "$S^2_1 = 1.7077427735538262$"
      ],
      "text/plain": [
       "<IPython.core.display.Markdown object>"
      ]
     },
     "metadata": {},
     "output_type": "display_data"
    },
    {
     "data": {
      "text/markdown": [
       "$S^2_2 = 1.7077427735538262$"
      ],
      "text/plain": [
       "<IPython.core.display.Markdown object>"
      ]
     },
     "metadata": {},
     "output_type": "display_data"
    },
    {
     "data": {
      "text/markdown": [
       "$n_1 = 100,n_2 = 100$"
      ],
      "text/plain": [
       "<IPython.core.display.Markdown object>"
      ]
     },
     "metadata": {},
     "output_type": "display_data"
    },
    {
     "data": {
      "text/markdown": [
       "$\n",
       "z = \\frac{(\\bar{x}_1 - \\bar{x}_2)-d_0}{\\sqrt{\\sigma^2_1/n_1 + \\sigma^2_2/n_1}}$"
      ],
      "text/plain": [
       "<IPython.core.display.Markdown object>"
      ]
     },
     "metadata": {},
     "output_type": "display_data"
    },
    {
     "data": {
      "text/markdown": [
       "dengan $d_0 = \\mu_1 - \\mu_2 = 0$"
      ],
      "text/plain": [
       "<IPython.core.display.Markdown object>"
      ]
     },
     "metadata": {},
     "output_type": "display_data"
    },
    {
     "data": {
      "text/markdown": [
       "didapat $z = -0.7544302374237427$ sehingga $P = P(|Z| > 0.7544302374237427) = 2P(Z < -0.7544302374237427) \\approx 0.4532 > \\alpha = 0.05$"
      ],
      "text/plain": [
       "<IPython.core.display.Markdown object>"
      ]
     },
     "metadata": {},
     "output_type": "display_data"
    },
    {
     "data": {
      "text/markdown": [
       "**6. Kesimpulan**\n",
       "\n"
      ],
      "text/plain": [
       "<IPython.core.display.Markdown object>"
      ]
     },
     "metadata": {},
     "output_type": "display_data"
    },
    {
     "data": {
      "text/markdown": [
       "**$H_0$ TIDAK DITOLAK** karena P-value yang didapat lebih besar dari $\\alpha$ ($z$ hasil perhitungan terletak di luar daerah kritis $z < -1.96$ atau $z > 1.96$\n",
       "\n",
       " Kemungkinan besar rata-rata kedua bagian tersebut sama."
      ],
      "text/plain": [
       "<IPython.core.display.Markdown object>"
      ]
     },
     "metadata": {},
     "output_type": "display_data"
    },
    {
     "data": {
      "text/plain": [
       "<AxesSubplot:ylabel='Chloramines'>"
      ]
     },
     "execution_count": 171,
     "metadata": {},
     "output_type": "execute_result"
    },
    {
     "data": {
      "image/png": "[encoded data removed]",
      "text/plain": [
       "<Figure size 1080x360 with 2 Axes>"
      ]
     },
     "metadata": {},
     "output_type": "display_data"
    }
   ],
   "source": [
    "chloramines_awal = wp.iloc[:100,:]\n",
    "chloramines_akhir = wp.iloc[-100:,:]\n",
    "\n",
    "n1 = 100\n",
    "n2 = 100\n",
    "\n",
    "display(Markdown(\"Misal bagian awal = 1 dan bagian akhir = 2\"))\n",
    "display(Markdown(\"**1. Menentukan hipotesis nol**\\n\\n\"))\n",
    "display(Markdown(\"$\\nH_0 : \\\\mu_1 - \\\\mu_2 = 0$\"))\n",
    "\n",
    "display(Markdown(\"**2. Pilih hipotesis alternatif**\\n\\n\"))\n",
    "display(Markdown(\"$\\nH_1 : \\\\mu_1 - \\\\mu_2 \\\\neq 0$\"))\n",
    "\n",
    "display(Markdown(\"**3. Menentukan tingkat signifikan $\\\\alpha$**\\n\\n$\\\\alpha = 0.05$\"))\n",
    "\n",
    "display(Markdown(\"**4. Menentukan uji statistik dan daerah kritis**\\n\\n\"))\n",
    "display(Markdown(\"Uji test kali ini menggunakan **Z-Test** dengan tipe *two-tailed test*. Daerah kritis: $z < -1.96$ atau $z > 1.96$\"))\n",
    "\n",
    "display(Markdown(\"**5. Menghitung nilai uji statistik**\\n\\n\"))\n",
    "xbar1, xbar2 = chloramines_awal['Chloramines'].mean(), chloramines_akhir['Chloramines'].mean()\n",
    "var1, var2 = chloramines_akhir['Chloramines'].var(), chloramines_akhir['Chloramines'].var()\n",
    "\n",
    "display(Markdown(\"$\\\\bar{X}_1 = \"+ str(xbar1) +\"$\"))\n",
    "display(Markdown(\"$\\\\bar{X}_2 = \" + str(xbar2) +\"$\"))\n",
    "display(Markdown(\"$S^2_1 = \"+ str(var1) +\"$\"))\n",
    "display(Markdown(\"$S^2_2 = \" + str(var2) +\"$\"))\n",
    "display(Markdown(\"$n_1 = \"+ str(n1) +\",n_2 = \"+ str(n2) +\"$\"))\n",
    "display(Markdown(\"$\\nz = \\\\frac{(\\\\bar{x}_1 - \\\\bar{x}_2)-d_0}{\\\\sqrt{\\\\sigma^2_1/n_1 + \\\\sigma^2_2/n_1}}$\"))\n",
    "display(Markdown(\"dengan $d_0 = \\\\mu_1 - \\\\mu_2 = 0$\"))\n",
    "\n",
    "z = z_score2(xbar1, xbar2, 0, var1, var2, n1, n2)\n",
    "\n",
    "display(Markdown(\"didapat $z = \"+str(z)+\"$ sehingga $P = P(|Z| > \"+str(abs(z))+\") = 2P(Z < \"+str(z)+\") \\\\approx \"+str(0.2266*2)+\" > \\\\alpha = 0.05$\"))\n",
    "\n",
    "display(Markdown(\"**6. Kesimpulan**\\n\\n\"))\n",
    "display(Markdown(\"**$H_0$ TIDAK DITOLAK** karena P-value yang didapat lebih besar dari $\\\\alpha$ ($z$ hasil perhitungan terletak di luar daerah kritis $z < -1.96$ atau $z > 1.96$\\n\\n Kemungkinan besar rata-rata kedua bagian tersebut sama.\"))\n",
    "\n",
    "fig, axs = plt.subplots(1, 2, figsize=(15, 5))\n",
    "sns.boxplot(data=chloramines_awal, y=\"Chloramines\", ax=axs[0])\n",
    "sns.boxplot(data=chloramines_akhir, y=\"Chloramines\", ax=axs[1])"
   ]
  },
  {
   "cell_type": "markdown",
   "metadata": {},
   "source": [
    "#### 5d. Proporsi nilai bagian awal Turbidity yang lebih dari 4, adalah lebih besar daripada, proporsi nilai yang sama di bagian akhir Turbidity?"
   ]
  },
  {
   "cell_type": "code",
   "execution_count": 172,
   "metadata": {},
   "outputs": [
    {
     "data": {
      "text/markdown": [
       "Misal bagian awal = 1 dan bagian akhir = 2"
      ],
      "text/plain": [
       "<IPython.core.display.Markdown object>"
      ]
     },
     "metadata": {},
     "output_type": "display_data"
    },
    {
     "data": {
      "text/markdown": [
       "**1. Menentukan hipotesis nol**\n",
       "\n"
      ],
      "text/plain": [
       "<IPython.core.display.Markdown object>"
      ]
     },
     "metadata": {},
     "output_type": "display_data"
    },
    {
     "data": {
      "text/markdown": [
       "$\n",
       "H_0 : P(X_1 > 4) = P(X_2 > 4)$"
      ],
      "text/plain": [
       "<IPython.core.display.Markdown object>"
      ]
     },
     "metadata": {},
     "output_type": "display_data"
    },
    {
     "data": {
      "text/markdown": [
       "**2. Pilih hipotesis alternatif**\n",
       "\n"
      ],
      "text/plain": [
       "<IPython.core.display.Markdown object>"
      ]
     },
     "metadata": {},
     "output_type": "display_data"
    },
    {
     "data": {
      "text/markdown": [
       "$\n",
       "H_1 : P(X_1 > 4) > P(X_2 > 4)$"
      ],
      "text/plain": [
       "<IPython.core.display.Markdown object>"
      ]
     },
     "metadata": {},
     "output_type": "display_data"
    },
    {
     "data": {
      "text/markdown": [
       "**3. Menentukan tingkat signifikan $\\alpha$**\n",
       "\n",
       "$\\alpha = 0.05$"
      ],
      "text/plain": [
       "<IPython.core.display.Markdown object>"
      ]
     },
     "metadata": {},
     "output_type": "display_data"
    },
    {
     "data": {
      "text/markdown": [
       "**4. Menentukan uji statistik dan daerah kritis**\n",
       "\n"
      ],
      "text/plain": [
       "<IPython.core.display.Markdown object>"
      ]
     },
     "metadata": {},
     "output_type": "display_data"
    },
    {
     "data": {
      "text/markdown": [
       "Uji test kali ini menggunakan **Z Test** dengan tipe tes *one-tailed test*. Daerah kritis: $z > 1.6449$"
      ],
      "text/plain": [
       "<IPython.core.display.Markdown object>"
      ]
     },
     "metadata": {},
     "output_type": "display_data"
    },
    {
     "data": {
      "text/markdown": [
       "**5. Menghitung nilai uji statistik**\n",
       "\n"
      ],
      "text/plain": [
       "<IPython.core.display.Markdown object>"
      ]
     },
     "metadata": {},
     "output_type": "display_data"
    },
    {
     "data": {
      "text/markdown": [
       "$n_1 = 1005,n_2 = 1005$"
      ],
      "text/plain": [
       "<IPython.core.display.Markdown object>"
      ]
     },
     "metadata": {},
     "output_type": "display_data"
    },
    {
     "data": {
      "text/markdown": [
       "$\n",
       "\\hat{p}_1 = \\frac{x_1}{n_1} = 0.4835820895522388$"
      ],
      "text/plain": [
       "<IPython.core.display.Markdown object>"
      ]
     },
     "metadata": {},
     "output_type": "display_data"
    },
    {
     "data": {
      "text/markdown": [
       "$\n",
       "\\hat{p}_2 = \\frac{x_2}{n_2} = 0.48656716417910445$"
      ],
      "text/plain": [
       "<IPython.core.display.Markdown object>"
      ]
     },
     "metadata": {},
     "output_type": "display_data"
    },
    {
     "data": {
      "text/markdown": [
       "$\n",
       "\\hat{p} = \\frac{x_1 + x_2}{n_1 + n_2} = 0.48507462686567165$"
      ],
      "text/plain": [
       "<IPython.core.display.Markdown object>"
      ]
     },
     "metadata": {},
     "output_type": "display_data"
    },
    {
     "data": {
      "text/markdown": [
       "$\n",
       "z = \\frac{\\hat{p}_1 - \\hat{p}_2}{\\sqrt{\\bar{p}(1-\\bar{p})(\\frac{1}{n_1} + \\frac{1}{n_2})}}$"
      ],
      "text/plain": [
       "<IPython.core.display.Markdown object>"
      ]
     },
     "metadata": {},
     "output_type": "display_data"
    },
    {
     "data": {
      "text/markdown": [
       "didapat $z = -0.13388958661778735$ sehingga $P = P(Z > -0.13388958661778735) = 0.5517 > \\alpha = 0.05$"
      ],
      "text/plain": [
       "<IPython.core.display.Markdown object>"
      ]
     },
     "metadata": {},
     "output_type": "display_data"
    },
    {
     "data": {
      "text/markdown": [
       "**6. Kesimpulan**\n",
       "\n"
      ],
      "text/plain": [
       "<IPython.core.display.Markdown object>"
      ]
     },
     "metadata": {},
     "output_type": "display_data"
    },
    {
     "data": {
      "text/markdown": [
       "**$H_0$ TIDAK DITOLAK** karena P-value yang didapat lebih besar dari $\\alpha$ ($z$ hasil perhitungan terletak di luar daerah kritis $z > 1.6449$\n",
       "\n",
       " Kemungkinan besar proporsi nilai bagian awal sama dengan bagian akhir."
      ],
      "text/plain": [
       "<IPython.core.display.Markdown object>"
      ]
     },
     "metadata": {},
     "output_type": "display_data"
    },
    {
     "data": {
      "text/plain": [
       "<AxesSubplot:ylabel='Turbidity'>"
      ]
     },
     "execution_count": 172,
     "metadata": {},
     "output_type": "execute_result"
    },
    {
     "data": {
      "image/png": "[encoded data removed]",
      "text/plain": [
       "<Figure size 1080x360 with 2 Axes>"
      ]
     },
     "metadata": {},
     "output_type": "display_data"
    }
   ],
   "source": [
    "n1 = wp['Turbidity'].count() // 2\n",
    "n2 = wp['Turbidity'].count() - n1\n",
    "\n",
    "turbidity_awal = wp.iloc[:n1,:]\n",
    "turbidity_akhir = wp.iloc[n2:,:]\n",
    "\n",
    "display(Markdown(\"Misal bagian awal = 1 dan bagian akhir = 2\"))\n",
    "display(Markdown(\"**1. Menentukan hipotesis nol**\\n\\n\"))\n",
    "display(Markdown(\"$\\nH_0 : P(X_1 > 4) = P(X_2 > 4)$\"))\n",
    "\n",
    "display(Markdown(\"**2. Pilih hipotesis alternatif**\\n\\n\"))\n",
    "display(Markdown(\"$\\nH_1 : P(X_1 > 4) > P(X_2 > 4)$\"))\n",
    "\n",
    "display(Markdown(\"**3. Menentukan tingkat signifikan $\\\\alpha$**\\n\\n$\\\\alpha = 0.05$\"))\n",
    "\n",
    "display(Markdown(\"**4. Menentukan uji statistik dan daerah kritis**\\n\\n\"))\n",
    "display(Markdown(\"Uji test kali ini menggunakan **Z Test** dengan tipe tes *one-tailed test*. Daerah kritis: $z > 1.6449$\"))\n",
    "\n",
    "display(Markdown(\"**5. Menghitung nilai uji statistik**\\n\\n\"))\n",
    "x1, x2 = 0, 0\n",
    "for item in turbidity_awal[\"Turbidity\"]:\n",
    "    if (item > 4):\n",
    "        x1 += 1\n",
    "for item in turbidity_akhir[\"Turbidity\"]:\n",
    "    if (item > 4):\n",
    "        x2 += 1\n",
    "\n",
    "phat1, phat2 = x1 / n1, x2 / n1\n",
    "phat = (x1 + x2) / (n1 + n2)\n",
    "\n",
    "display(Markdown(\"$n_1 = \"+ str(n1) +\",n_2 = \"+ str(n2) +\"$\"))\n",
    "display(Markdown(\"$\\n\\\\hat{p}_1 = \\\\frac{x_1}{n_1} = \" + str(phat1) +\"$\"))\n",
    "display(Markdown(\"$\\n\\\\hat{p}_2 = \\\\frac{x_2}{n_2} = \" + str(phat2) +\"$\"))\n",
    "display(Markdown(\"$\\n\\\\hat{p} = \\\\frac{x_1 + x_2}{n_1 + n_2} = \" + str(phat) +\"$\"))\n",
    "display(Markdown(\"$\\nz = \\\\frac{\\\\hat{p}_1 - \\\\hat{p}_2}{\\\\sqrt{\\\\bar{p}(1-\\\\bar{p})(\\\\frac{1}{n_1} + \\\\frac{1}{n_2})}}$\"))\n",
    "\n",
    "# alternate z_score function\n",
    "\n",
    "z = (phat1-phat2)/(phat*(1-phat)*((1/n1)+(1/n2)))**0.5\n",
    "display(Markdown(\"didapat $z = \"+str(z)+\"$ sehingga $P = P(Z > \"+str(z)+\") = 0.5517 > \\\\alpha = 0.05$\"))\n",
    "\n",
    "display(Markdown(\"**6. Kesimpulan**\\n\\n\"))\n",
    "display(Markdown(\"**$H_0$ TIDAK DITOLAK** karena P-value yang didapat lebih besar dari $\\\\alpha$ ($z$ hasil perhitungan terletak di luar daerah kritis $z > 1.6449$\\n\\n Kemungkinan besar proporsi nilai bagian awal sama dengan bagian akhir.\"))\n",
    "\n",
    "fig, axs = plt.subplots(1, 2, figsize=(15, 5))\n",
    "sns.boxplot(data=turbidity_awal, y=\"Turbidity\", ax=axs[0])\n",
    "sns.boxplot(data=turbidity_akhir, y=\"Turbidity\", ax=axs[1])"
   ]
  },
  {
   "cell_type": "markdown",
   "metadata": {},
   "source": [
    "#### 5e. Bagian awal kolom Sulfate memiliki variansi yang sama dengan bagian akhirnya?"
   ]
  },
  {
   "cell_type": "code",
   "execution_count": 173,
   "metadata": {},
   "outputs": [
    {
     "data": {
      "text/markdown": [
       "Misal bagian awal = 1 dan bagian akhir = 2"
      ],
      "text/plain": [
       "<IPython.core.display.Markdown object>"
      ]
     },
     "metadata": {},
     "output_type": "display_data"
    },
    {
     "data": {
      "text/markdown": [
       "**1. Menentukan hipotesis nol**\n",
       "\n"
      ],
      "text/plain": [
       "<IPython.core.display.Markdown object>"
      ]
     },
     "metadata": {},
     "output_type": "display_data"
    },
    {
     "data": {
      "text/markdown": [
       "$\n",
       "H_0 : \\sigma^2_1 - \\sigma^2_2 = 0$"
      ],
      "text/plain": [
       "<IPython.core.display.Markdown object>"
      ]
     },
     "metadata": {},
     "output_type": "display_data"
    },
    {
     "data": {
      "text/markdown": [
       "**2. Pilih hipotesis alternatif**\n",
       "\n"
      ],
      "text/plain": [
       "<IPython.core.display.Markdown object>"
      ]
     },
     "metadata": {},
     "output_type": "display_data"
    },
    {
     "data": {
      "text/markdown": [
       "$\n",
       "H_1 : \\sigma^2_1 - \\sigma^2_2 \\neq 0$ (Tipe tes: *two-tailed test)*"
      ],
      "text/plain": [
       "<IPython.core.display.Markdown object>"
      ]
     },
     "metadata": {},
     "output_type": "display_data"
    },
    {
     "data": {
      "text/markdown": [
       "**3. Menentukan tingkat signifikan $\\alpha$**\n",
       "\n",
       "$\\alpha = 0.05$"
      ],
      "text/plain": [
       "<IPython.core.display.Markdown object>"
      ]
     },
     "metadata": {},
     "output_type": "display_data"
    },
    {
     "data": {
      "text/markdown": [
       "**4. Menentukan uji statistik dan daerah kritis**\n",
       "\n"
      ],
      "text/plain": [
       "<IPython.core.display.Markdown object>"
      ]
     },
     "metadata": {},
     "output_type": "display_data"
    },
    {
     "data": {
      "text/markdown": [
       "Uji test kali ini menggunakan uji **Distribusi F**. Diasumsikan kolom *Sulfate* berdistribusi normal dengan derajat kebebasan:"
      ],
      "text/plain": [
       "<IPython.core.display.Markdown object>"
      ]
     },
     "metadata": {},
     "output_type": "display_data"
    },
    {
     "data": {
      "text/markdown": [
       "\n",
       "$v_1 = n_1 - 1 = 1004, v_1 = n_1 - 1 = 1004$"
      ],
      "text/plain": [
       "<IPython.core.display.Markdown object>"
      ]
     },
     "metadata": {},
     "output_type": "display_data"
    },
    {
     "data": {
      "text/markdown": [
       "Dengan nilai derajat kebebasan tersebut, daerah kritis didapat dengan nilai $f < 0.90152732$ atau $f > 1.10922872$"
      ],
      "text/plain": [
       "<IPython.core.display.Markdown object>"
      ]
     },
     "metadata": {},
     "output_type": "display_data"
    },
    {
     "data": {
      "text/markdown": [
       "**5. Menghitung nilai uji statistik**\n",
       "\n"
      ],
      "text/plain": [
       "<IPython.core.display.Markdown object>"
      ]
     },
     "metadata": {},
     "output_type": "display_data"
    },
    {
     "data": {
      "text/markdown": [
       "$s^2_1 = 1708.3966020772502$"
      ],
      "text/plain": [
       "<IPython.core.display.Markdown object>"
      ]
     },
     "metadata": {},
     "output_type": "display_data"
    },
    {
     "data": {
      "text/markdown": [
       "$s^2_2 = 1682.7330644425087$"
      ],
      "text/plain": [
       "<IPython.core.display.Markdown object>"
      ]
     },
     "metadata": {},
     "output_type": "display_data"
    },
    {
     "data": {
      "text/markdown": [
       "$n_1 = 1005,n_2 = 1005$"
      ],
      "text/plain": [
       "<IPython.core.display.Markdown object>"
      ]
     },
     "metadata": {},
     "output_type": "display_data"
    },
    {
     "data": {
      "text/markdown": [
       "$\n",
       "f = \\frac{s^2_1}{s^2_2}$"
      ],
      "text/plain": [
       "<IPython.core.display.Markdown object>"
      ]
     },
     "metadata": {},
     "output_type": "display_data"
    },
    {
     "data": {
      "text/markdown": [
       "didapat $f =1.0152511043950063$"
      ],
      "text/plain": [
       "<IPython.core.display.Markdown object>"
      ]
     },
     "metadata": {},
     "output_type": "display_data"
    },
    {
     "data": {
      "text/markdown": [
       "**6. Kesimpulan**\n",
       "\n"
      ],
      "text/plain": [
       "<IPython.core.display.Markdown object>"
      ]
     },
     "metadata": {},
     "output_type": "display_data"
    },
    {
     "data": {
      "text/markdown": [
       "**$H_0$ TIDAK DITOLAK** karena nilai $t$ yang didapat **tidak terletak** di daerah kritis, melainkan terletak di $0.90152732 \\le f \\le 1.10922872 $\n",
       "\n",
       " Kemungkinan besar variansi bagian awal sama dengan bagian akhir."
      ],
      "text/plain": [
       "<IPython.core.display.Markdown object>"
      ]
     },
     "metadata": {},
     "output_type": "display_data"
    },
    {
     "data": {
      "text/plain": [
       "<AxesSubplot:ylabel='Sulfate'>"
      ]
     },
     "execution_count": 173,
     "metadata": {},
     "output_type": "execute_result"
    },
    {
     "data": {
      "image/png": "[encoded data removed]",
      "text/plain": [
       "<Figure size 1080x360 with 2 Axes>"
      ]
     },
     "metadata": {},
     "output_type": "display_data"
    }
   ],
   "source": [
    "n1 = wp['Sulfate'].count() // 2\n",
    "n2 = wp['Sulfate'].count() - n1\n",
    "\n",
    "sulfate_awal = wp.iloc[:n1,:]\n",
    "sulfate_akhir = wp.iloc[n2:,:]\n",
    "\n",
    "display(Markdown(\"Misal bagian awal = 1 dan bagian akhir = 2\"))\n",
    "display(Markdown(\"**1. Menentukan hipotesis nol**\\n\\n\"))\n",
    "display(Markdown(\"$\\nH_0 : \\\\sigma^2_1 - \\\\sigma^2_2 = 0$\"))\n",
    "\n",
    "display(Markdown(\"**2. Pilih hipotesis alternatif**\\n\\n\"))\n",
    "display(Markdown(\"$\\nH_1 : \\\\sigma^2_1 - \\\\sigma^2_2 \\\\neq 0$ (Tipe tes: *two-tailed test)*\"))\n",
    "\n",
    "display(Markdown(\"**3. Menentukan tingkat signifikan $\\\\alpha$**\\n\\n$\\\\alpha = 0.05$\"))\n",
    "\n",
    "display(Markdown(\"**4. Menentukan uji statistik dan daerah kritis**\\n\\n\"))\n",
    "display(Markdown(\"Uji test kali ini menggunakan uji **Distribusi F**. Diasumsikan kolom *Sulfate* berdistribusi normal dengan derajat kebebasan:\"))\n",
    "v1, v2 = (n1 - 1), (n2 - 1)\n",
    "display(Markdown(\"\\n$v_1 = n_1 - 1 = \"+str(v1)+\", v_1 = n_1 - 1 = \"+str(v2)+\"$\"))\n",
    "\n",
    "display(Markdown(\"Dengan nilai derajat kebebasan tersebut, daerah kritis didapat dengan nilai $f < 0.90152732$ atau $f > 1.10922872$\"))\n",
    "\n",
    "display(Markdown(\"**5. Menghitung nilai uji statistik**\\n\\n\"))\n",
    "s12 = sulfate_awal['Sulfate'].var()\n",
    "s22 = sulfate_akhir['Sulfate'].var()\n",
    "\n",
    "display(Markdown(\"$s^2_1 = \"+ str(s12) +  \"$\"))\n",
    "display(Markdown(\"$s^2_2 = \"+ str(s22) +  \"$\"))\n",
    "display(Markdown(\"$n_1 = \"+ str(n1) +\",n_2 = \"+ str(n2) +\"$\"))\n",
    "display(Markdown(\"$\\nf = \\\\frac{s^2_1}{s^2_2}$\"))\n",
    "\n",
    "f = s12 / s22\n",
    "\n",
    "display(Markdown(\"didapat $f =\" + str(f) + \"$\"))\n",
    "display(Markdown(\"**6. Kesimpulan**\\n\\n\"))\n",
    "display(Markdown(\"**$H_0$ TIDAK DITOLAK** karena nilai $t$ yang didapat **tidak terletak** di daerah kritis, melainkan terletak di $0.90152732 \\\\le f \\\\le 1.10922872 $\\n\\n Kemungkinan besar variansi bagian awal sama dengan bagian akhir.\"))\n",
    "\n",
    "fig, axs = plt.subplots(1, 2, figsize=(15, 5))\n",
    "sns.boxplot(data=sulfate_awal, y=\"Sulfate\", ax=axs[0])\n",
    "sns.boxplot(data=sulfate_akhir, y=\"Sulfate\", ax=axs[1])"
   ]
  },
  {
   "cell_type": "markdown",
   "metadata": {},
   "source": [
    "### 6. **Test korelasi**\n",
    "Tentukan apakah setiap kolom non-target berkorelasi dengan kolom target, dengan menggambarkan juga scatter plot nya. Gunakan correlation test. \n",
    "Nilai koefisien korelasi terletak di pada rentang antara -1 dan 1, dengan rincian sebagai berikut:\n",
    "- $-1$ menunjukkan korelasi $X$ dan $Y$ negatif yang kuat. setiap kali $X$ meningkat, $Y$ berkurang.\n",
    "- $0$ berarti tidak ada hubungan antara $X$ dan $Y$.\n",
    "- $1$ menunjukkan korelasi $X$ dan $Y$ positif yang kuat. setiap kali $X$ meningkat, $Y$ meningkat.\n",
    "\n",
    "Skala korelasi sebagai acuan:\n",
    "- 0 - 0,01: **Tidak ada** korelasi antara dua variabel\n",
    "- 0,01 – 0,25: Korelasi sangat **lemah**\n",
    "- 0,25 – 0,5: Korelasi **cukup**\n",
    "- 0,5 – 0,75: Korelasi  **kuat**\n",
    "- 0,75 – 0,99: Korelasi  **sangat kuat**\n",
    "- 1: Korelasi **sempurna**"
   ]
  },
  {
   "cell_type": "code",
   "execution_count": 174,
   "metadata": {},
   "outputs": [],
   "source": [
    "# fungsi untuk menuliskan hasil korelasi\n",
    "def corr_result(rho, x, y):\n",
    "    out = \"Dari hasil $\\\\rho$ yang didapatkan, dapat disimpulkan bahwa bahwa kolom \"+ x +\" dan \"+ y\n",
    "    if (rho > -0.01 and rho < 0.01): out += \" **tidak** berkorelasi\"\n",
    "    else:\n",
    "        if (rho > 0): out += \" berkorelasi **positif** \"\n",
    "        else: out += \" berkorelasi **negatif** \"\n",
    "\n",
    "        out += \" dan memiliki tingkat korelasi \"\n",
    "        if (rho >= 0.01 and rho <= 0.25) or (rho <= -0.01 and rho >= -0.25): out += \"**sangat lemah**\"\n",
    "        elif (rho > 0.25 and rho <= 0.5) or (rho < -0.25 and rho >= -0.5): out += \"**cukup**\"\n",
    "        elif (rho > 0.5 and rho <= 0.75) or (rho < -0.5 and rho >= -0.75): out += \"**kuat**\"\n",
    "        elif (rho > 0.75 and rho < 1) or (rho < -0.75 and rho > -1): out += \"**sangat kuat**\"\n",
    "        else: out += \"**sempurna**\"\n",
    "    display(Markdown(out))"
   ]
  },
  {
   "cell_type": "code",
   "execution_count": 175,
   "metadata": {},
   "outputs": [
    {
     "data": {
      "text/markdown": [
       "#### pH"
      ],
      "text/plain": [
       "<IPython.core.display.Markdown object>"
      ]
     },
     "metadata": {},
     "output_type": "display_data"
    },
    {
     "data": {
      "text/markdown": [
       "Hasil korelasi kolom pH (non-target) dengan kolom Potability (target)"
      ],
      "text/plain": [
       "<IPython.core.display.Markdown object>"
      ]
     },
     "metadata": {},
     "output_type": "display_data"
    },
    {
     "data": {
      "text/markdown": [
       "$\\rho_{pH,Potability} = 0.01547509440843348$"
      ],
      "text/plain": [
       "<IPython.core.display.Markdown object>"
      ]
     },
     "metadata": {},
     "output_type": "display_data"
    },
    {
     "data": {
      "image/png": "[encoded data removed]",
      "text/plain": [
       "<Figure size 432x288 with 1 Axes>"
      ]
     },
     "metadata": {},
     "output_type": "display_data"
    },
    {
     "data": {
      "text/markdown": [
       "Dari hasil $\\rho$ yang didapatkan, dapat disimpulkan bahwa bahwa kolom pH dan Potability berkorelasi **positif**  dan memiliki tingkat korelasi **sangat lemah**"
      ],
      "text/plain": [
       "<IPython.core.display.Markdown object>"
      ]
     },
     "metadata": {},
     "output_type": "display_data"
    }
   ],
   "source": [
    "display(Markdown(\"#### pH\"))\n",
    "display(Markdown(\"Hasil korelasi kolom pH (non-target) dengan kolom Potability (target)\"))\n",
    "rho = wp['pH'].corr(wp['Potability'])\n",
    "display(Markdown(\"$\\\\rho_{pH,Potability} = \"+str(rho)+\"$\"))\n",
    "plt.title(\"Scatter Plot antara kolom pH dengan Potability\")\n",
    "plt.scatter(x=wp['pH'],y=wp['Potability'])\n",
    "plt.xlabel(\"pH\")\n",
    "plt.ylabel(\"Potability\")\n",
    "plt.show()\n",
    "corr_result(rho, \"pH\", \"Potability\")"
   ]
  },
  {
   "cell_type": "code",
   "execution_count": 176,
   "metadata": {},
   "outputs": [
    {
     "data": {
      "text/markdown": [
       "#### Hardness"
      ],
      "text/plain": [
       "<IPython.core.display.Markdown object>"
      ]
     },
     "metadata": {},
     "output_type": "display_data"
    },
    {
     "data": {
      "text/markdown": [
       "Hasil korelasi kolom Hardness (non-target) dengan kolom Potability (target)"
      ],
      "text/plain": [
       "<IPython.core.display.Markdown object>"
      ]
     },
     "metadata": {},
     "output_type": "display_data"
    },
    {
     "data": {
      "text/markdown": [
       "$\\rho_{Hardness,Potability} = -0.0014631528959479344$"
      ],
      "text/plain": [
       "<IPython.core.display.Markdown object>"
      ]
     },
     "metadata": {},
     "output_type": "display_data"
    },
    {
     "data": {
      "image/png": "[encoded data removed]",
      "text/plain": [
       "<Figure size 432x288 with 1 Axes>"
      ]
     },
     "metadata": {},
     "output_type": "display_data"
    },
    {
     "data": {
      "text/markdown": [
       "Dari hasil $\\rho$ yang didapatkan, dapat disimpulkan bahwa bahwa kolom Hardness dan Potability **tidak** berkorelasi"
      ],
      "text/plain": [
       "<IPython.core.display.Markdown object>"
      ]
     },
     "metadata": {},
     "output_type": "display_data"
    }
   ],
   "source": [
    "display(Markdown(\"#### Hardness\"))\n",
    "display(Markdown(\"Hasil korelasi kolom Hardness (non-target) dengan kolom Potability (target)\"))\n",
    "rho = wp['Hardness'].corr(wp['Potability'])\n",
    "display(Markdown(\"$\\\\rho_{Hardness,Potability} = \"+str(rho)+\"$\"))\n",
    "plt.title(\"Scatter Plot antara kolom Hardness dengan Potability\")\n",
    "plt.scatter(x=wp['Hardness'],y=wp['Potability'])\n",
    "plt.xlabel(\"Hardness\")\n",
    "plt.ylabel(\"Potability\")\n",
    "plt.show()\n",
    "corr_result(rho, \"Hardness\", \"Potability\")"
   ]
  },
  {
   "cell_type": "code",
   "execution_count": 177,
   "metadata": {},
   "outputs": [
    {
     "data": {
      "text/markdown": [
       "#### Solids"
      ],
      "text/plain": [
       "<IPython.core.display.Markdown object>"
      ]
     },
     "metadata": {},
     "output_type": "display_data"
    },
    {
     "data": {
      "text/markdown": [
       "Hasil korelasi kolom Solids (non-target) dengan kolom Potability (target)"
      ],
      "text/plain": [
       "<IPython.core.display.Markdown object>"
      ]
     },
     "metadata": {},
     "output_type": "display_data"
    },
    {
     "data": {
      "text/markdown": [
       "$\\rho_{Solids,Potability} = 0.03897657818173466$"
      ],
      "text/plain": [
       "<IPython.core.display.Markdown object>"
      ]
     },
     "metadata": {},
     "output_type": "display_data"
    },
    {
     "data": {
      "image/png": "[encoded data removed]",
      "text/plain": [
       "<Figure size 432x288 with 1 Axes>"
      ]
     },
     "metadata": {},
     "output_type": "display_data"
    },
    {
     "data": {
      "text/markdown": [
       "Dari hasil $\\rho$ yang didapatkan, dapat disimpulkan bahwa bahwa kolom Solids dan Potability berkorelasi **positif**  dan memiliki tingkat korelasi **sangat lemah**"
      ],
      "text/plain": [
       "<IPython.core.display.Markdown object>"
      ]
     },
     "metadata": {},
     "output_type": "display_data"
    }
   ],
   "source": [
    "display(Markdown(\"#### Solids\"))\n",
    "display(Markdown(\"Hasil korelasi kolom Solids (non-target) dengan kolom Potability (target)\"))\n",
    "rho = wp['Solids'].corr(wp['Potability'])\n",
    "display(Markdown(\"$\\\\rho_{Solids,Potability} = \"+str(rho)+\"$\"))\n",
    "plt.title(\"Scatter Plot antara kolom Solids dengan Potability\")\n",
    "plt.scatter(x=wp['Solids'],y=wp['Potability'])\n",
    "plt.xlabel(\"Solids\")\n",
    "plt.ylabel(\"Potability\")\n",
    "plt.show()\n",
    "corr_result(rho, \"Solids\", \"Potability\")"
   ]
  },
  {
   "cell_type": "code",
   "execution_count": 178,
   "metadata": {},
   "outputs": [
    {
     "data": {
      "text/markdown": [
       "#### Chloramines"
      ],
      "text/plain": [
       "<IPython.core.display.Markdown object>"
      ]
     },
     "metadata": {},
     "output_type": "display_data"
    },
    {
     "data": {
      "text/markdown": [
       "Hasil korelasi kolom Chloramines (non-target) dengan kolom Potability (target)"
      ],
      "text/plain": [
       "<IPython.core.display.Markdown object>"
      ]
     },
     "metadata": {},
     "output_type": "display_data"
    },
    {
     "data": {
      "text/markdown": [
       "$\\rho_{Chloramines,Potability} = 0.02077892184052409$"
      ],
      "text/plain": [
       "<IPython.core.display.Markdown object>"
      ]
     },
     "metadata": {},
     "output_type": "display_data"
    },
    {
     "data": {
      "image/png": "[encoded data removed]",
      "text/plain": [
       "<Figure size 432x288 with 1 Axes>"
      ]
     },
     "metadata": {},
     "output_type": "display_data"
    },
    {
     "data": {
      "text/markdown": [
       "Dari hasil $\\rho$ yang didapatkan, dapat disimpulkan bahwa bahwa kolom Chloramines dan Potability berkorelasi **positif**  dan memiliki tingkat korelasi **sangat lemah**"
      ],
      "text/plain": [
       "<IPython.core.display.Markdown object>"
      ]
     },
     "metadata": {},
     "output_type": "display_data"
    }
   ],
   "source": [
    "display(Markdown(\"#### Chloramines\"))\n",
    "display(Markdown(\"Hasil korelasi kolom Chloramines (non-target) dengan kolom Potability (target)\"))\n",
    "rho = wp['Chloramines'].corr(wp['Potability'])\n",
    "display(Markdown(\"$\\\\rho_{Chloramines,Potability} = \"+str(rho)+\"$\"))\n",
    "plt.title(\"Scatter Plot antara kolom Chloramines dengan Potability\")\n",
    "plt.scatter(x=wp['Chloramines'],y=wp['Potability'])\n",
    "plt.xlabel(\"Chloramines\")\n",
    "plt.ylabel(\"Potability\")\n",
    "plt.show()\n",
    "corr_result(rho, \"Chloramines\", \"Potability\")"
   ]
  },
  {
   "cell_type": "code",
   "execution_count": 179,
   "metadata": {},
   "outputs": [
    {
     "data": {
      "text/markdown": [
       "#### Sulfate"
      ],
      "text/plain": [
       "<IPython.core.display.Markdown object>"
      ]
     },
     "metadata": {},
     "output_type": "display_data"
    },
    {
     "data": {
      "text/markdown": [
       "Hasil korelasi kolom Sulfate (non-target) dengan kolom Potability (target)"
      ],
      "text/plain": [
       "<IPython.core.display.Markdown object>"
      ]
     },
     "metadata": {},
     "output_type": "display_data"
    },
    {
     "data": {
      "text/markdown": [
       "$\\rho_{Sulfate,Potability} = -0.015703164419273778$"
      ],
      "text/plain": [
       "<IPython.core.display.Markdown object>"
      ]
     },
     "metadata": {},
     "output_type": "display_data"
    },
    {
     "data": {
      "image/png": "[encoded data removed]",
      "text/plain": [
       "<Figure size 432x288 with 1 Axes>"
      ]
     },
     "metadata": {},
     "output_type": "display_data"
    },
    {
     "data": {
      "text/markdown": [
       "Dari hasil $\\rho$ yang didapatkan, dapat disimpulkan bahwa bahwa kolom Sulfate dan Potability berkorelasi **negatif**  dan memiliki tingkat korelasi **sangat lemah**"
      ],
      "text/plain": [
       "<IPython.core.display.Markdown object>"
      ]
     },
     "metadata": {},
     "output_type": "display_data"
    }
   ],
   "source": [
    "display(Markdown(\"#### Sulfate\"))\n",
    "display(Markdown(\"Hasil korelasi kolom Sulfate (non-target) dengan kolom Potability (target)\"))\n",
    "rho = wp['Sulfate'].corr(wp['Potability'])\n",
    "display(Markdown(\"$\\\\rho_{Sulfate,Potability} = \"+str(rho)+\"$\"))\n",
    "plt.title(\"Scatter Plot antara kolom Sulfate dengan Potability\")\n",
    "plt.scatter(x=wp['Sulfate'],y=wp['Potability'])\n",
    "plt.xlabel(\"Sulfate\")\n",
    "plt.ylabel(\"Potability\")\n",
    "plt.show()\n",
    "corr_result(rho, \"Sulfate\", \"Potability\")"
   ]
  },
  {
   "cell_type": "code",
   "execution_count": 180,
   "metadata": {},
   "outputs": [
    {
     "data": {
      "text/markdown": [
       "#### Conductivity"
      ],
      "text/plain": [
       "<IPython.core.display.Markdown object>"
      ]
     },
     "metadata": {},
     "output_type": "display_data"
    },
    {
     "data": {
      "text/markdown": [
       "Hasil korelasi kolom Conductivity (non-target) dengan kolom Potability (target)"
      ],
      "text/plain": [
       "<IPython.core.display.Markdown object>"
      ]
     },
     "metadata": {},
     "output_type": "display_data"
    },
    {
     "data": {
      "text/markdown": [
       "$\\rho_{Conductivity,Potability} = -0.016257120111377067$"
      ],
      "text/plain": [
       "<IPython.core.display.Markdown object>"
      ]
     },
     "metadata": {},
     "output_type": "display_data"
    },
    {
     "data": {
      "image/png": "[encoded data removed]",
      "text/plain": [
       "<Figure size 432x288 with 1 Axes>"
      ]
     },
     "metadata": {},
     "output_type": "display_data"
    },
    {
     "data": {
      "text/markdown": [
       "Dari hasil $\\rho$ yang didapatkan, dapat disimpulkan bahwa bahwa kolom Conductivity dan Potability berkorelasi **negatif**  dan memiliki tingkat korelasi **sangat lemah**"
      ],
      "text/plain": [
       "<IPython.core.display.Markdown object>"
      ]
     },
     "metadata": {},
     "output_type": "display_data"
    }
   ],
   "source": [
    "display(Markdown(\"#### Conductivity\"))\n",
    "display(Markdown(\"Hasil korelasi kolom Conductivity (non-target) dengan kolom Potability (target)\"))\n",
    "rho = wp['Conductivity'].corr(wp['Potability'])\n",
    "display(Markdown(\"$\\\\rho_{Conductivity,Potability} = \"+str(rho)+\"$\"))\n",
    "plt.title(\"Scatter Plot antara kolom Conductivity dengan Potability\")\n",
    "plt.scatter(x=wp['Conductivity'],y=wp['Potability'])\n",
    "plt.xlabel(\"Conductivity\")\n",
    "plt.ylabel(\"Potability\")\n",
    "plt.show()\n",
    "corr_result(rho, \"Conductivity\", \"Potability\")"
   ]
  },
  {
   "cell_type": "code",
   "execution_count": 181,
   "metadata": {},
   "outputs": [
    {
     "data": {
      "text/markdown": [
       "#### OrganicCarbon"
      ],
      "text/plain": [
       "<IPython.core.display.Markdown object>"
      ]
     },
     "metadata": {},
     "output_type": "display_data"
    },
    {
     "data": {
      "text/markdown": [
       "Hasil korelasi kolom OrganicCarbon (non-target) dengan kolom Potability (target)"
      ],
      "text/plain": [
       "<IPython.core.display.Markdown object>"
      ]
     },
     "metadata": {},
     "output_type": "display_data"
    },
    {
     "data": {
      "text/markdown": [
       "$\\rho_{OrganicCarbon,Potability} = -0.015488461910747259$"
      ],
      "text/plain": [
       "<IPython.core.display.Markdown object>"
      ]
     },
     "metadata": {},
     "output_type": "display_data"
    },
    {
     "data": {
      "image/png": "[encoded data removed]",
      "text/plain": [
       "<Figure size 432x288 with 1 Axes>"
      ]
     },
     "metadata": {},
     "output_type": "display_data"
    },
    {
     "data": {
      "text/markdown": [
       "Dari hasil $\\rho$ yang didapatkan, dapat disimpulkan bahwa bahwa kolom OrganicCarbon dan Potability berkorelasi **negatif**  dan memiliki tingkat korelasi **sangat lemah**"
      ],
      "text/plain": [
       "<IPython.core.display.Markdown object>"
      ]
     },
     "metadata": {},
     "output_type": "display_data"
    }
   ],
   "source": [
    "display(Markdown(\"#### OrganicCarbon\"))\n",
    "display(Markdown(\"Hasil korelasi kolom OrganicCarbon (non-target) dengan kolom Potability (target)\"))\n",
    "rho = wp['OrganicCarbon'].corr(wp['Potability'])\n",
    "display(Markdown(\"$\\\\rho_{OrganicCarbon,Potability} = \"+str(rho)+\"$\"))\n",
    "plt.title(\"Scatter Plot antara kolom OrganicCarbon dengan Potability\")\n",
    "plt.scatter(x=wp['OrganicCarbon'],y=wp['Potability'])\n",
    "plt.xlabel(\"OrganicCarbon\")\n",
    "plt.ylabel(\"Potability\")\n",
    "plt.show()\n",
    "corr_result(rho, \"OrganicCarbon\", \"Potability\")"
   ]
  },
  {
   "cell_type": "code",
   "execution_count": 182,
   "metadata": {},
   "outputs": [
    {
     "data": {
      "text/markdown": [
       "#### Trihalomethanes"
      ],
      "text/plain": [
       "<IPython.core.display.Markdown object>"
      ]
     },
     "metadata": {},
     "output_type": "display_data"
    },
    {
     "data": {
      "text/markdown": [
       "Hasil korelasi kolom Trihalomethanes (non-target) dengan kolom Potability (target)"
      ],
      "text/plain": [
       "<IPython.core.display.Markdown object>"
      ]
     },
     "metadata": {},
     "output_type": "display_data"
    },
    {
     "data": {
      "text/markdown": [
       "$\\rho_{Trihalomethanes,Potability} = 0.009236711064712997$"
      ],
      "text/plain": [
       "<IPython.core.display.Markdown object>"
      ]
     },
     "metadata": {},
     "output_type": "display_data"
    },
    {
     "data": {
      "image/png": "[encoded data removed]",
      "text/plain": [
       "<Figure size 432x288 with 1 Axes>"
      ]
     },
     "metadata": {},
     "output_type": "display_data"
    },
    {
     "data": {
      "text/markdown": [
       "Dari hasil $\\rho$ yang didapatkan, dapat disimpulkan bahwa bahwa kolom Trihalomethanes dan Potability **tidak** berkorelasi"
      ],
      "text/plain": [
       "<IPython.core.display.Markdown object>"
      ]
     },
     "metadata": {},
     "output_type": "display_data"
    }
   ],
   "source": [
    "display(Markdown(\"#### Trihalomethanes\"))\n",
    "display(Markdown(\"Hasil korelasi kolom Trihalomethanes (non-target) dengan kolom Potability (target)\"))\n",
    "rho = wp['Trihalomethanes'].corr(wp['Potability'])\n",
    "display(Markdown(\"$\\\\rho_{Trihalomethanes,Potability} = \"+str(rho)+\"$\"))\n",
    "plt.title(\"Scatter Plot antara kolom Trihalomethanes dengan Potability\")\n",
    "plt.scatter(x=wp['Trihalomethanes'],y=wp['Potability'])\n",
    "plt.xlabel(\"Trihalomethanes\")\n",
    "plt.ylabel(\"Potability\")\n",
    "plt.show()\n",
    "corr_result(rho, \"Trihalomethanes\", \"Potability\")"
   ]
  },
  {
   "cell_type": "code",
   "execution_count": 183,
   "metadata": {},
   "outputs": [
    {
     "data": {
      "text/markdown": [
       "#### Turbidity"
      ],
      "text/plain": [
       "<IPython.core.display.Markdown object>"
      ]
     },
     "metadata": {},
     "output_type": "display_data"
    },
    {
     "data": {
      "text/markdown": [
       "Hasil korelasi kolom Turbidity (non-target) dengan kolom Potability (target)"
      ],
      "text/plain": [
       "<IPython.core.display.Markdown object>"
      ]
     },
     "metadata": {},
     "output_type": "display_data"
    },
    {
     "data": {
      "text/markdown": [
       "$\\rho_{Turbidity,Potability} = 0.022331042640622665$"
      ],
      "text/plain": [
       "<IPython.core.display.Markdown object>"
      ]
     },
     "metadata": {},
     "output_type": "display_data"
    },
    {
     "data": {
      "image/png": "[encoded data removed]",
      "text/plain": [
       "<Figure size 432x288 with 1 Axes>"
      ]
     },
     "metadata": {},
     "output_type": "display_data"
    },
    {
     "data": {
      "text/markdown": [
       "Dari hasil $\\rho$ yang didapatkan, dapat disimpulkan bahwa bahwa kolom Turbidity dan Potability berkorelasi **positif**  dan memiliki tingkat korelasi **sangat lemah**"
      ],
      "text/plain": [
       "<IPython.core.display.Markdown object>"
      ]
     },
     "metadata": {},
     "output_type": "display_data"
    }
   ],
   "source": [
    "display(Markdown(\"#### Turbidity\"))\n",
    "display(Markdown(\"Hasil korelasi kolom Turbidity (non-target) dengan kolom Potability (target)\"))\n",
    "rho = wp['Turbidity'].corr(wp['Potability'])\n",
    "display(Markdown(\"$\\\\rho_{Turbidity,Potability} = \"+str(rho)+\"$\"))\n",
    "plt.title(\"Scatter Plot antara kolom Turbidity dengan Potability\")\n",
    "plt.scatter(x=wp['Turbidity'],y=wp['Potability'])\n",
    "plt.xlabel(\"Turbidity\")\n",
    "plt.ylabel(\"Potability\")\n",
    "plt.show()\n",
    "corr_result(rho, \"Turbidity\", \"Potability\")"
   ]
  }
 ],
 "metadata": {
  "interpreter": {
   "hash": "461167efa41168b9a56ea8377d08412ac9021ed788b3c98f546f6022913bf7e5"
  },
  "kernelspec": {
   "display_name": "Python 3.10.4 ('venv': venv)",
   "language": "python",
   "name": "python3"
  },
  "language_info": {
   "codemirror_mode": {
    "name": "ipython",
    "version": 3
   },
   "file_extension": ".py",
   "mimetype": "text/x-python",
   "name": "python",
   "nbconvert_exporter": "python",
   "pygments_lexer": "ipython3",
   "version": "3.10.4"
  },
  "orig_nbformat": 4
 },
 "nbformat": 4,
 "nbformat_minor": 2
}
