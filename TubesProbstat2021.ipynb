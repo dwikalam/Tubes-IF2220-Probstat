{
 "cells": [
  {
   "cell_type": "markdown",
   "metadata": {},
   "source": [
    "# Tugas Besar - IF2220 - Probabilitas dan Statistika\n",
    "## Penarikan Kesimpulan dan Pengujian Hipotesis"
   ]
  },
  {
   "cell_type": "markdown",
   "metadata": {},
   "source": [
    "### Soal Tugas"
   ]
  },
  {
   "cell_type": "markdown",
   "metadata": {},
   "source": [
    "Diberikan sebuah data water_potability.csv yang dapat diakses pada utas berikut: Dataset\n",
    "Tugas Besar IF2220. water_potability.csv merupakan data metrik kualitas air yang\n",
    "mengandung 11 kolom sebagai berikut:\n",
    "1. id\n",
    "2. pH\n",
    "3. Hardness\n",
    "4. Solids\n",
    "5. Chloramines\n",
    "6. Sulfate\n",
    "7. Conductivity\n",
    "8. OrganicCarbon\n",
    "9. Trihalomethanes\n",
    "10. Turbidity\n",
    "11. Potability\n",
    "\n",
    "Kolom 2-10 adalah kolom atribut (non-target), sedangkan kolom 11 adalah kolom target.\n",
    "Anda diminta untuk melakukan analisis statistika sebagai berikut:\n",
    "(No. 3,5,6)"
   ]
  },
  {
   "cell_type": "code",
   "execution_count": 37,
   "metadata": {},
   "outputs": [],
   "source": [
    "# Markdown dan display untuk menulis di notebook\n",
    "from IPython.display import Markdown, display\n",
    "import pandas as pd\n",
    "import matplotlib.pyplot as plt\n",
    "import matplotlib.mlab as mlab\n",
    "import numpy as np\n",
    "import seaborn as sns\n",
    "import scipy.stats as st"
   ]
  },
  {
   "cell_type": "markdown",
   "metadata": {},
   "source": [
    "### 1. Menulis deskripsi statistika (Descriptive Statistics) \n",
    "Untuk semua kolom pada data yang bersifat numerik, terdiri dari mean, median, modus, standar deviasi, variansi, range, nilai minimum, maksimum, kuartil, IQR, skewness dan kurtosis."
   ]
  },
  {
   "cell_type": "code",
   "execution_count": 38,
   "metadata": {},
   "outputs": [
    {
     "data": {
      "text/html": [
       "<div>\n",
       "<style scoped>\n",
       "    .dataframe tbody tr th:only-of-type {\n",
       "        vertical-align: middle;\n",
       "    }\n",
       "\n",
       "    .dataframe tbody tr th {\n",
       "        vertical-align: top;\n",
       "    }\n",
       "\n",
       "    .dataframe thead th {\n",
       "        text-align: right;\n",
       "    }\n",
       "</style>\n",
       "<table border=\"1\" class=\"dataframe\">\n",
       "  <thead>\n",
       "    <tr style=\"text-align: right;\">\n",
       "      <th></th>\n",
       "      <th>id</th>\n",
       "      <th>pH</th>\n",
       "      <th>Hardness</th>\n",
       "      <th>Solids</th>\n",
       "      <th>Chloramines</th>\n",
       "      <th>Sulfate</th>\n",
       "      <th>Conductivity</th>\n",
       "      <th>OrganicCarbon</th>\n",
       "      <th>Trihalomethanes</th>\n",
       "      <th>Turbidity</th>\n",
       "      <th>Potability</th>\n",
       "    </tr>\n",
       "  </thead>\n",
       "  <tbody>\n",
       "    <tr>\n",
       "      <th>0</th>\n",
       "      <td>1</td>\n",
       "      <td>8.316766</td>\n",
       "      <td>214.373394</td>\n",
       "      <td>22018.417441</td>\n",
       "      <td>8.059332</td>\n",
       "      <td>356.886136</td>\n",
       "      <td>363.266516</td>\n",
       "      <td>18.436524</td>\n",
       "      <td>100.341674</td>\n",
       "      <td>4.628771</td>\n",
       "      <td>0</td>\n",
       "    </tr>\n",
       "    <tr>\n",
       "      <th>1</th>\n",
       "      <td>2</td>\n",
       "      <td>9.092223</td>\n",
       "      <td>181.101509</td>\n",
       "      <td>17978.986339</td>\n",
       "      <td>6.546600</td>\n",
       "      <td>310.135738</td>\n",
       "      <td>398.410813</td>\n",
       "      <td>11.558279</td>\n",
       "      <td>31.997993</td>\n",
       "      <td>4.075075</td>\n",
       "      <td>0</td>\n",
       "    </tr>\n",
       "    <tr>\n",
       "      <th>2</th>\n",
       "      <td>3</td>\n",
       "      <td>5.584087</td>\n",
       "      <td>188.313324</td>\n",
       "      <td>28748.687739</td>\n",
       "      <td>7.544869</td>\n",
       "      <td>326.678363</td>\n",
       "      <td>280.467916</td>\n",
       "      <td>8.399735</td>\n",
       "      <td>54.917862</td>\n",
       "      <td>2.559708</td>\n",
       "      <td>0</td>\n",
       "    </tr>\n",
       "    <tr>\n",
       "      <th>3</th>\n",
       "      <td>4</td>\n",
       "      <td>10.223862</td>\n",
       "      <td>248.071735</td>\n",
       "      <td>28749.716544</td>\n",
       "      <td>7.513408</td>\n",
       "      <td>393.663396</td>\n",
       "      <td>283.651634</td>\n",
       "      <td>13.789695</td>\n",
       "      <td>84.603556</td>\n",
       "      <td>2.672989</td>\n",
       "      <td>0</td>\n",
       "    </tr>\n",
       "    <tr>\n",
       "      <th>4</th>\n",
       "      <td>5</td>\n",
       "      <td>8.635849</td>\n",
       "      <td>203.361523</td>\n",
       "      <td>13672.091764</td>\n",
       "      <td>4.563009</td>\n",
       "      <td>303.309771</td>\n",
       "      <td>474.607645</td>\n",
       "      <td>12.363817</td>\n",
       "      <td>62.798309</td>\n",
       "      <td>4.401425</td>\n",
       "      <td>0</td>\n",
       "    </tr>\n",
       "  </tbody>\n",
       "</table>\n",
       "</div>"
      ],
      "text/plain": [
       "   id         pH    Hardness        Solids  Chloramines     Sulfate  \\\n",
       "0   1   8.316766  214.373394  22018.417441     8.059332  356.886136   \n",
       "1   2   9.092223  181.101509  17978.986339     6.546600  310.135738   \n",
       "2   3   5.584087  188.313324  28748.687739     7.544869  326.678363   \n",
       "3   4  10.223862  248.071735  28749.716544     7.513408  393.663396   \n",
       "4   5   8.635849  203.361523  13672.091764     4.563009  303.309771   \n",
       "\n",
       "   Conductivity  OrganicCarbon  Trihalomethanes  Turbidity  Potability  \n",
       "0    363.266516      18.436524       100.341674   4.628771           0  \n",
       "1    398.410813      11.558279        31.997993   4.075075           0  \n",
       "2    280.467916       8.399735        54.917862   2.559708           0  \n",
       "3    283.651634      13.789695        84.603556   2.672989           0  \n",
       "4    474.607645      12.363817        62.798309   4.401425           0  "
      ]
     },
     "execution_count": 38,
     "metadata": {},
     "output_type": "execute_result"
    }
   ],
   "source": [
    "# Import data\n",
    "nama_kolom = ['id','pH','Hardness','Solids','Chloramines','Sulfate','Conductivity','OrganicCarbon','Trihalomethanes','Turbidity','Potability']\n",
    "water_potability = pd.read_csv(\"water_potability.csv\", names = nama_kolom)\n",
    "water_potability.head()"
   ]
  },
  {
   "cell_type": "code",
   "execution_count": 39,
   "metadata": {},
   "outputs": [
    {
     "name": "stdout",
     "output_type": "stream",
     "text": [
      "Mean: \n",
      "pH                     7.087193\n",
      "Hardness             195.969209\n",
      "Solids             21904.673439\n",
      "Chloramines            7.134322\n",
      "Sulfate              333.211376\n",
      "Conductivity         426.476708\n",
      "OrganicCarbon         14.357940\n",
      "Trihalomethanes       66.400717\n",
      "Turbidity              3.969497\n",
      "Potability             0.402985\n",
      "dtype: float64\n",
      "\n",
      "Median:\n",
      "pH                     7.029490\n",
      "Hardness             197.203525\n",
      "Solids             20926.882155\n",
      "Chloramines            7.142014\n",
      "Sulfate              332.214113\n",
      "Conductivity         423.438372\n",
      "OrganicCarbon         14.323286\n",
      "Trihalomethanes       66.482041\n",
      "Turbidity              3.967374\n",
      "Potability             0.000000\n",
      "dtype: float64\n",
      "\n",
      "Mode:\n",
      "             pH    Hardness        Solids  Chloramines     Sulfate  \\\n",
      "0      0.227499   73.492234    320.942611     1.390871  129.000000   \n",
      "1      0.989912   77.459586   1198.943699     1.920271  180.206746   \n",
      "2      1.431782   81.710895   1351.906979     2.397985  182.397370   \n",
      "3      1.757037   94.091307   1372.091043     2.456014  187.170714   \n",
      "4      1.985383   94.812545   2552.962804     2.458609  187.424131   \n",
      "...         ...         ...           ...          ...         ...   \n",
      "2005  11.568768  286.567991  50793.898917    12.580026  458.441072   \n",
      "2006  11.898078  287.975540  53735.899194    12.626900  460.107069   \n",
      "2007  12.246928  300.292476  55334.702799    12.653362  475.737460   \n",
      "2008  13.349889  306.627481  56351.396304    13.043806  476.539717   \n",
      "2009  14.000000  317.338124  56488.672413    13.127000  481.030642   \n",
      "\n",
      "      Conductivity  OrganicCarbon  Trihalomethanes  Turbidity  Potability  \n",
      "0       201.619737       2.200000         8.577013   1.450000         0.0  \n",
      "1       210.319182       4.371899        14.343161   1.492207         NaN  \n",
      "2       233.907965       4.466772        15.684877   1.496101         NaN  \n",
      "3       245.859632       4.861631        16.291505   1.680554         NaN  \n",
      "4       252.968328       4.966862        17.527765   1.812529         NaN  \n",
      "...            ...            ...              ...        ...         ...  \n",
      "2005    666.690618      23.569645       114.034946   6.307678         NaN  \n",
      "2006    669.725086      23.604298       114.208671   6.357439         NaN  \n",
      "2007    695.369528      23.917601       116.161622   6.389161         NaN  \n",
      "2008    708.226364      24.755392       120.030077   6.494249         NaN  \n",
      "2009    753.342620      27.006707       124.000000   6.494749         NaN  \n",
      "\n",
      "[2010 rows x 10 columns]\n",
      "\n",
      "Standar Deviasi:\n",
      "pH                    1.572803\n",
      "Hardness             32.643166\n",
      "Solids             8625.397911\n",
      "Chloramines           1.585214\n",
      "Sulfate              41.211111\n",
      "Conductivity         80.701872\n",
      "OrganicCarbon         3.325770\n",
      "Trihalomethanes      16.081109\n",
      "Turbidity             0.780471\n",
      "Potability            0.490620\n",
      "dtype: float64\n",
      "\n",
      "Varians:\n",
      "pH                 2.473709e+00\n",
      "Hardness           1.065576e+03\n",
      "Solids             7.439749e+07\n",
      "Chloramines        2.512904e+00\n",
      "Sulfate            1.698356e+03\n",
      "Conductivity       6.512792e+03\n",
      "OrganicCarbon      1.106075e+01\n",
      "Trihalomethanes    2.586021e+02\n",
      "Turbidity          6.091350e-01\n",
      "Potability         2.407079e-01\n",
      "dtype: float64\n",
      "\n",
      "Range:\n",
      "pH                13.7725009497978\n",
      "Hardness          243.84589036652147\n",
      "Solids            56167.72980146483\n",
      "Chloramines       11.736129095114823\n",
      "Sulfate           352.03064230599716\n",
      "Conductivity      551.7228828031471\n",
      "OrganicCarbon     24.80670661116602\n",
      "Trihalomethanes   115.4229870670162\n",
      "Turbidity         5.044748555990993\n",
      "Potability        1.0\n",
      "\n",
      "Minimum:\n",
      "pH                   0.227499\n",
      "Hardness            73.492234\n",
      "Solids             320.942611\n",
      "Chloramines          1.390871\n",
      "Sulfate            129.000000\n",
      "Conductivity       201.619737\n",
      "OrganicCarbon        2.200000\n",
      "Trihalomethanes      8.577013\n",
      "Turbidity            1.450000\n",
      "Potability           0.000000\n",
      "dtype: float64\n",
      "\n",
      "Maksimum:\n",
      "pH                    14.000000\n",
      "Hardness             317.338124\n",
      "Solids             56488.672413\n",
      "Chloramines           13.127000\n",
      "Sulfate              481.030642\n",
      "Conductivity         753.342620\n",
      "OrganicCarbon         27.006707\n",
      "Trihalomethanes      124.000000\n",
      "Turbidity              6.494749\n",
      "Potability             1.000000\n",
      "dtype: float64\n",
      "\n",
      "IQR:\n",
      "pH                1.9622212193680078\n",
      "Hardness          39.7069319905726\n",
      "Solids            11556.12168698927\n",
      "Chloramines       1.9716068285606472\n",
      "Sulfate           51.641160905344634\n",
      "Conductivity      115.5905531635616\n",
      "OrganicCarbon     4.561031372126081\n",
      "Trihalomethanes   21.344619778035543\n",
      "Turbidity         1.0717810966444437\n",
      "Potability        1.0\n",
      "\n",
      "\n",
      "Skewness:\n",
      "pH                 0.048535\n",
      "Hardness          -0.085321\n",
      "Solids             0.591011\n",
      "Chloramines        0.013003\n",
      "Sulfate           -0.045728\n",
      "Conductivity       0.268012\n",
      "OrganicCarbon     -0.020220\n",
      "Trihalomethanes   -0.051383\n",
      "Turbidity         -0.032266\n",
      "Potability         0.395873\n",
      "dtype: float64\n",
      "\n",
      "\n",
      "\n",
      "Kurtosis:\n",
      "pH                 0.626904\n",
      "Hardness           0.525480\n",
      "Solids             0.337320\n",
      "Chloramines        0.549782\n",
      "Sulfate            0.786854\n",
      "Conductivity      -0.237206\n",
      "OrganicCarbon      0.031018\n",
      "Trihalomethanes    0.223017\n",
      "Turbidity         -0.049831\n",
      "Potability        -1.845122\n",
      "dtype: float64\n",
      "\n"
     ]
    }
   ],
   "source": [
    "# Calculating descriptive statistics\n",
    "wp_stats = water_potability.drop(['id'], axis=1)\n",
    "\n",
    "# for Range and IQR\n",
    "wp_stats_Describe = water_potability.describe()\n",
    "wp_stats_Describe = wp_stats_Describe.drop(['id'], axis=1)\n",
    "\n",
    "\n",
    "print(\"Mean: \")\n",
    "print(wp_stats.mean())\n",
    "print()\n",
    "\n",
    "print(\"Median:\")\n",
    "print(wp_stats.median())\n",
    "print()\n",
    "\n",
    "print(\"Mode:\")\n",
    "print(wp_stats.mode())\n",
    "print()\n",
    "\n",
    "print(\"Standar Deviasi:\")\n",
    "print(wp_stats.std())\n",
    "print()\n",
    "\n",
    "print(\"Varians:\")\n",
    "print(wp_stats.var())\n",
    "print()\n",
    "\n",
    "print(\"Range:\")\n",
    "for column in wp_stats_Describe:\n",
    "    print(f\"{column:16} \", wp_stats_Describe[column][\"max\"] - wp_stats_Describe[column][\"min\"])\n",
    "print()\n",
    "\n",
    "print(\"Minimum:\")\n",
    "print(wp_stats.min())\n",
    "print()\n",
    "\n",
    "print(\"Maksimum:\")\n",
    "print(wp_stats.max())\n",
    "print()\n",
    "\n",
    "print(\"IQR:\")\n",
    "for column in wp_stats_Describe:\n",
    "    print(f\"{column:16} \", wp_stats_Describe[column][\"75%\"] - wp_stats_Describe[column][\"25%\"])\n",
    "print(\"\\n\")\n",
    "\n",
    "print(\"Skewness:\")\n",
    "print(wp_stats.skew())\n",
    "print(\"\\n\\n\")\n",
    "\n",
    "print(\"Kurtosis:\")\n",
    "print(wp_stats.kurtosis())\n",
    "print()"
   ]
  },
  {
   "cell_type": "markdown",
   "metadata": {},
   "source": [
    "### 3. Menentukan setiap kolom numerik berdistribusi normal atau tidak \n",
    "Normality test dilakukan dengan menggunakan library `scipy.stats.normaltest()` untuk masing-masing kolom, dengan alHardnessa = 0.05."
   ]
  },
  {
   "cell_type": "code",
   "execution_count": 40,
   "metadata": {},
   "outputs": [
    {
     "name": "stdout",
     "output_type": "stream",
     "text": [
      "Kolom 'pH' tidak terdistribusi normal\n",
      "\n",
      "Kolom 'Hardness' tidak terdistribusi normal\n",
      "\n",
      "Kolom 'Solids' tidak terdistribusi normal\n",
      "\n",
      "Kolom 'Chloramines' tidak terdistribusi normal\n",
      "\n",
      "Kolom 'Sulfate' tidak terdistribusi normal\n",
      "\n",
      "Kolom 'Conductivity' tidak terdistribusi normal\n",
      "\n",
      "Kolom 'OrganicCarbon' terdistribusi normal\n",
      "\n",
      "Kolom 'Trihalomethanes' terdistribusi normal\n",
      "\n",
      "Kolom 'Turbidity' terdistribusi normal\n",
      "\n",
      "Kolom 'Potability' tidak terdistribusi normal\n",
      "\n"
     ]
    }
   ],
   "source": [
    "for i in nama_kolom:\n",
    "    if(i != \"id\" and i != \"Kelas\"):\n",
    "        k2, pvalue = st.normaltest(water_potability[i])\n",
    "        # bandingkan pvalue dengan alHardnessa = 0.05\n",
    "        if (pvalue < 0.05):\n",
    "            print(\"Kolom '\" + i + \"' tidak terdistribusi normal\\n\")\n",
    "        else:\n",
    "            print(\"Kolom '\" + i + \"' terdistribusi normal\\n\")"
   ]
  },
  {
   "cell_type": "markdown",
   "metadata": {},
   "source": [
    "### 5. Melakukan test hipotesis 2 sampel, dengan menuliskan 6 langkah testing \n",
    "Boxplot juga ditampilkan untuk kolom/bagian yang bersesuaian.\n",
    "- Data kolom Sulfate dibagi 2 sama rata: bagian awal dan bagian akhir kolom. Benarkah\n",
    "rata-rata kedua bagian tersebut sama?\n",
    "- Data kolom OrganicCarbon dibagi 2 sama rata: bagian awal dan bagian akhir kolom.\n",
    "Benarkah rata-rata bagian awal lebih besar dari pada bagian akhir sebesar 0.15?\n",
    "- Rata-rata 100 baris pertama kolom Chloramines sama dengan 100 baris terakhirnya?\n",
    "- Proporsi nilai bagian awal Turbidity yang lebih dari 4, adalah lebih besar daripada,\n",
    "proporsi nilai yang sama di bagian akhir Turbidity ?\n",
    "- Bagian awal kolom Sulfate memiliki variansi yang sama dengan bagian akhirnya?"
   ]
  },
  {
   "cell_type": "markdown",
   "metadata": {},
   "source": [
    "### 6. Test korelasi\n",
    "Tentukan apakah setiap kolom non-target berkorelasi dengan kolom target, dengan menggambarkan juga scatter plot nya. Gunakan correlation test. \n",
    "Nilai koefisien korelasi berada pada rentang antara -1 dan 1, dengan rincian sebagai berikut:\n",
    "- $-1$ menunjukkan korelasi $X$ dan $Y$ negatif yang kuat. setiap kali $X$ meningkat, $Y$ berkurang.\n",
    "- $0$ berarti tidak ada hubungan antara $X$ dan $Y$.\n",
    "- $1$ menunjukkan korelasi $X$ dan $Y$ positif yang kuat. setiap kali $X$ meningkat, $Y$ meningkat.\n",
    "\n",
    "Skala korelasi sebagai acuan:\n",
    "- 0 : **Tidak ada** korelasi antara dua variabel\n",
    "- 0,01 – 0,25: Korelasi sangat **lemah**\n",
    "- 0,25 – 0,5: Korelasi **cukup**\n",
    "- 0,5 – 0,75: Korelasi  **kuat**\n",
    "- 0,75 – 0,99: Korelasi  **sangat kuat**\n",
    "- 1: Korelasi **sempurna**"
   ]
  },
  {
   "cell_type": "code",
   "execution_count": 41,
   "metadata": {},
   "outputs": [],
   "source": [
    "# fungsi untuk menuliskan hasil korelasi\n",
    "def corr_result(rho, x, y):\n",
    "    out = \"Dari hasil $\\\\rho$ yang didapatkan, dapat disimpulkan bahwa bahwa kolom \"+ x +\" dan \"+ y\n",
    "    if (rho == 0): out += \" **tidak** berkorelasi\"\n",
    "    else:\n",
    "        if (rho > 0): out += \" berkorelasi **positif** \"\n",
    "        else: out += \" berkorelasi **negatif** \"\n",
    "\n",
    "        out += \" dan memiliki tingkat korelasi \"\n",
    "        if (rho > 0 and rho <= 0.25) or (rho < 0 and rho >= -0.25): out += \"**sangat lemah**\"\n",
    "        elif (rho > 0.25 and rho <= 0.5) or (rho < -0.25 and rho >= -0.5): out += \"**cukup**\"\n",
    "        elif (rho > 0.5 and rho <= 0.75) or (rho < -0.5 and rho >= -0.75): out += \"**kuat**\"\n",
    "        elif (rho > 0.75 and rho < 1) or (rho < -0.75 and rho > -1): out += \"**sangat kuat**\"\n",
    "        else: out += \"**sempurna**\"\n",
    "    display(Markdown(out))"
   ]
  },
  {
   "cell_type": "code",
   "execution_count": 42,
   "metadata": {},
   "outputs": [
    {
     "data": {
      "text/markdown": [
       "#### pH"
      ],
      "text/plain": [
       "<IPython.core.display.Markdown object>"
      ]
     },
     "metadata": {},
     "output_type": "display_data"
    },
    {
     "data": {
      "text/markdown": [
       "Hasil korelasi kolom pH (non-target) dengan kolom Potability (target)"
      ],
      "text/plain": [
       "<IPython.core.display.Markdown object>"
      ]
     },
     "metadata": {},
     "output_type": "display_data"
    },
    {
     "data": {
      "text/markdown": [
       "$\\rho_{pH,Potability} = 0.01547509440843348$"
      ],
      "text/plain": [
       "<IPython.core.display.Markdown object>"
      ]
     },
     "metadata": {},
     "output_type": "display_data"
    },
    {
     "data": {
      "image/png": "[encoded data removed]",
      "text/plain": [
       "<Figure size 432x288 with 1 Axes>"
      ]
     },
     "metadata": {
      "needs_background": "light"
     },
     "output_type": "display_data"
    },
    {
     "data": {
      "text/markdown": [
       "Dari hasil $\\rho$ yang didapatkan, dapat disimpulkan bahwa bahwa kolom pH dan Potability berkorelasi **positif**  dan memiliki tingkat korelasi **sangat lemah**"
      ],
      "text/plain": [
       "<IPython.core.display.Markdown object>"
      ]
     },
     "metadata": {},
     "output_type": "display_data"
    }
   ],
   "source": [
    "display(Markdown(\"#### pH\"))\n",
    "display(Markdown(\"Hasil korelasi kolom pH (non-target) dengan kolom Potability (target)\"))\n",
    "rho = water_potability['pH'].corr(water_potability['Potability'])\n",
    "display(Markdown(\"$\\\\rho_{pH,Potability} = \"+str(rho)+\"$\"))\n",
    "plt.title(\"Scatter Plot antara kolom pH dengan Potability\")\n",
    "plt.scatter(x=water_potability['pH'],y=water_potability['Potability'])\n",
    "plt.xlabel(\"pH\")\n",
    "plt.ylabel(\"Potability\")\n",
    "plt.show()\n",
    "corr_result(rho, \"pH\", \"Potability\")"
   ]
  },
  {
   "cell_type": "code",
   "execution_count": 43,
   "metadata": {},
   "outputs": [
    {
     "data": {
      "text/markdown": [
       "#### Hardness"
      ],
      "text/plain": [
       "<IPython.core.display.Markdown object>"
      ]
     },
     "metadata": {},
     "output_type": "display_data"
    },
    {
     "data": {
      "text/markdown": [
       "Hasil korelasi kolom Hardness (non-target) dengan kolom Potability (target)"
      ],
      "text/plain": [
       "<IPython.core.display.Markdown object>"
      ]
     },
     "metadata": {},
     "output_type": "display_data"
    },
    {
     "data": {
      "text/markdown": [
       "$\\rho_{Hardness,Potability} = -0.0014631528959479344$"
      ],
      "text/plain": [
       "<IPython.core.display.Markdown object>"
      ]
     },
     "metadata": {},
     "output_type": "display_data"
    },
    {
     "data": {
      "image/png": "[encoded data removed]",
      "text/plain": [
       "<Figure size 432x288 with 1 Axes>"
      ]
     },
     "metadata": {
      "needs_background": "light"
     },
     "output_type": "display_data"
    },
    {
     "data": {
      "text/markdown": [
       "Dari hasil $\\rho$ yang didapatkan, dapat disimpulkan bahwa bahwa kolom Hardness dan Potability berkorelasi **negatif**  dan memiliki tingkat korelasi **sangat lemah**"
      ],
      "text/plain": [
       "<IPython.core.display.Markdown object>"
      ]
     },
     "metadata": {},
     "output_type": "display_data"
    }
   ],
   "source": [
    "display(Markdown(\"#### Hardness\"))\n",
    "display(Markdown(\"Hasil korelasi kolom Hardness (non-target) dengan kolom Potability (target)\"))\n",
    "rho = water_potability['Hardness'].corr(water_potability['Potability'])\n",
    "display(Markdown(\"$\\\\rho_{Hardness,Potability} = \"+str(rho)+\"$\"))\n",
    "plt.title(\"Scatter Plot antara kolom Hardness dengan Potability\")\n",
    "plt.scatter(x=water_potability['Hardness'],y=water_potability['Potability'])\n",
    "plt.xlabel(\"Hardness\")\n",
    "plt.ylabel(\"Potability\")\n",
    "plt.show()\n",
    "corr_result(rho, \"Hardness\", \"Potability\")"
   ]
  },
  {
   "cell_type": "code",
   "execution_count": 44,
   "metadata": {},
   "outputs": [
    {
     "data": {
      "text/markdown": [
       "#### Solids"
      ],
      "text/plain": [
       "<IPython.core.display.Markdown object>"
      ]
     },
     "metadata": {},
     "output_type": "display_data"
    },
    {
     "data": {
      "text/markdown": [
       "Hasil korelasi kolom Solids (non-target) dengan kolom Potability (target)"
      ],
      "text/plain": [
       "<IPython.core.display.Markdown object>"
      ]
     },
     "metadata": {},
     "output_type": "display_data"
    },
    {
     "data": {
      "text/markdown": [
       "$\\rho_{Solids,Potability} = 0.03897657818173466$"
      ],
      "text/plain": [
       "<IPython.core.display.Markdown object>"
      ]
     },
     "metadata": {},
     "output_type": "display_data"
    },
    {
     "data": {
      "image/png": "[encoded data removed]",
      "text/plain": [
       "<Figure size 432x288 with 1 Axes>"
      ]
     },
     "metadata": {
      "needs_background": "light"
     },
     "output_type": "display_data"
    },
    {
     "data": {
      "text/markdown": [
       "Dari hasil $\\rho$ yang didapatkan, dapat disimpulkan bahwa bahwa kolom Solids dan Potability berkorelasi **positif**  dan memiliki tingkat korelasi **sangat lemah**"
      ],
      "text/plain": [
       "<IPython.core.display.Markdown object>"
      ]
     },
     "metadata": {},
     "output_type": "display_data"
    }
   ],
   "source": [
    "display(Markdown(\"#### Solids\"))\n",
    "display(Markdown(\"Hasil korelasi kolom Solids (non-target) dengan kolom Potability (target)\"))\n",
    "rho = water_potability['Solids'].corr(water_potability['Potability'])\n",
    "display(Markdown(\"$\\\\rho_{Solids,Potability} = \"+str(rho)+\"$\"))\n",
    "plt.title(\"Scatter Plot antara kolom Solids dengan Potability\")\n",
    "plt.scatter(x=water_potability['Solids'],y=water_potability['Potability'])\n",
    "plt.xlabel(\"Solids\")\n",
    "plt.ylabel(\"Potability\")\n",
    "plt.show()\n",
    "corr_result(rho, \"Solids\", \"Potability\")"
   ]
  },
  {
   "cell_type": "code",
   "execution_count": 45,
   "metadata": {},
   "outputs": [
    {
     "data": {
      "text/markdown": [
       "#### Chloramines"
      ],
      "text/plain": [
       "<IPython.core.display.Markdown object>"
      ]
     },
     "metadata": {},
     "output_type": "display_data"
    },
    {
     "data": {
      "text/markdown": [
       "Hasil korelasi kolom Chloramines (non-target) dengan kolom Potability (target)"
      ],
      "text/plain": [
       "<IPython.core.display.Markdown object>"
      ]
     },
     "metadata": {},
     "output_type": "display_data"
    },
    {
     "data": {
      "text/markdown": [
       "$\\rho_{Chloramines,Potability} = 0.02077892184052409$"
      ],
      "text/plain": [
       "<IPython.core.display.Markdown object>"
      ]
     },
     "metadata": {},
     "output_type": "display_data"
    },
    {
     "data": {
      "image/png": "[encoded data removed]",
      "text/plain": [
       "<Figure size 432x288 with 1 Axes>"
      ]
     },
     "metadata": {
      "needs_background": "light"
     },
     "output_type": "display_data"
    },
    {
     "data": {
      "text/markdown": [
       "Dari hasil $\\rho$ yang didapatkan, dapat disimpulkan bahwa bahwa kolom Chloramines dan Potability berkorelasi **positif**  dan memiliki tingkat korelasi **sangat lemah**"
      ],
      "text/plain": [
       "<IPython.core.display.Markdown object>"
      ]
     },
     "metadata": {},
     "output_type": "display_data"
    }
   ],
   "source": [
    "display(Markdown(\"#### Chloramines\"))\n",
    "display(Markdown(\"Hasil korelasi kolom Chloramines (non-target) dengan kolom Potability (target)\"))\n",
    "rho = water_potability['Chloramines'].corr(water_potability['Potability'])\n",
    "display(Markdown(\"$\\\\rho_{Chloramines,Potability} = \"+str(rho)+\"$\"))\n",
    "plt.title(\"Scatter Plot antara kolom Chloramines dengan Potability\")\n",
    "plt.scatter(x=water_potability['Chloramines'],y=water_potability['Potability'])\n",
    "plt.xlabel(\"Chloramines\")\n",
    "plt.ylabel(\"Potability\")\n",
    "plt.show()\n",
    "corr_result(rho, \"Chloramines\", \"Potability\")"
   ]
  },
  {
   "cell_type": "code",
   "execution_count": 46,
   "metadata": {},
   "outputs": [
    {
     "data": {
      "text/markdown": [
       "#### Sulfate"
      ],
      "text/plain": [
       "<IPython.core.display.Markdown object>"
      ]
     },
     "metadata": {},
     "output_type": "display_data"
    },
    {
     "data": {
      "text/markdown": [
       "Hasil korelasi kolom Sulfate (non-target) dengan kolom Potability (target)"
      ],
      "text/plain": [
       "<IPython.core.display.Markdown object>"
      ]
     },
     "metadata": {},
     "output_type": "display_data"
    },
    {
     "data": {
      "text/markdown": [
       "$\\rho_{Sulfate,Potability} = -0.015703164419273778$"
      ],
      "text/plain": [
       "<IPython.core.display.Markdown object>"
      ]
     },
     "metadata": {},
     "output_type": "display_data"
    },
    {
     "data": {
      "image/png": "[encoded data removed]",
      "text/plain": [
       "<Figure size 432x288 with 1 Axes>"
      ]
     },
     "metadata": {
      "needs_background": "light"
     },
     "output_type": "display_data"
    },
    {
     "data": {
      "text/markdown": [
       "Dari hasil $\\rho$ yang didapatkan, dapat disimpulkan bahwa bahwa kolom Sulfate dan Potability berkorelasi **negatif**  dan memiliki tingkat korelasi **sangat lemah**"
      ],
      "text/plain": [
       "<IPython.core.display.Markdown object>"
      ]
     },
     "metadata": {},
     "output_type": "display_data"
    }
   ],
   "source": [
    "display(Markdown(\"#### Sulfate\"))\n",
    "display(Markdown(\"Hasil korelasi kolom Sulfate (non-target) dengan kolom Potability (target)\"))\n",
    "rho = water_potability['Sulfate'].corr(water_potability['Potability'])\n",
    "display(Markdown(\"$\\\\rho_{Sulfate,Potability} = \"+str(rho)+\"$\"))\n",
    "plt.title(\"Scatter Plot antara kolom Sulfate dengan Potability\")\n",
    "plt.scatter(x=water_potability['Sulfate'],y=water_potability['Potability'])\n",
    "plt.xlabel(\"Sulfate\")\n",
    "plt.ylabel(\"Potability\")\n",
    "plt.show()\n",
    "corr_result(rho, \"Sulfate\", \"Potability\")"
   ]
  },
  {
   "cell_type": "code",
   "execution_count": 47,
   "metadata": {},
   "outputs": [
    {
     "data": {
      "text/markdown": [
       "#### Conductivity"
      ],
      "text/plain": [
       "<IPython.core.display.Markdown object>"
      ]
     },
     "metadata": {},
     "output_type": "display_data"
    },
    {
     "data": {
      "text/markdown": [
       "Hasil korelasi kolom Conductivity (non-target) dengan kolom Potability (target)"
      ],
      "text/plain": [
       "<IPython.core.display.Markdown object>"
      ]
     },
     "metadata": {},
     "output_type": "display_data"
    },
    {
     "data": {
      "text/markdown": [
       "$\\rho_{Conductivity,Potability} = -0.016257120111377067$"
      ],
      "text/plain": [
       "<IPython.core.display.Markdown object>"
      ]
     },
     "metadata": {},
     "output_type": "display_data"
    },
    {
     "data": {
      "image/png": "[encoded data removed]",
      "text/plain": [
       "<Figure size 432x288 with 1 Axes>"
      ]
     },
     "metadata": {
      "needs_background": "light"
     },
     "output_type": "display_data"
    },
    {
     "data": {
      "text/markdown": [
       "Dari hasil $\\rho$ yang didapatkan, dapat disimpulkan bahwa bahwa kolom Conductivity dan Potability berkorelasi **negatif**  dan memiliki tingkat korelasi **sangat lemah**"
      ],
      "text/plain": [
       "<IPython.core.display.Markdown object>"
      ]
     },
     "metadata": {},
     "output_type": "display_data"
    }
   ],
   "source": [
    "display(Markdown(\"#### Conductivity\"))\n",
    "display(Markdown(\"Hasil korelasi kolom Conductivity (non-target) dengan kolom Potability (target)\"))\n",
    "rho = water_potability['Conductivity'].corr(water_potability['Potability'])\n",
    "display(Markdown(\"$\\\\rho_{Conductivity,Potability} = \"+str(rho)+\"$\"))\n",
    "plt.title(\"Scatter Plot antara kolom Conductivity dengan Potability\")\n",
    "plt.scatter(x=water_potability['Conductivity'],y=water_potability['Potability'])\n",
    "plt.xlabel(\"Conductivity\")\n",
    "plt.ylabel(\"Potability\")\n",
    "plt.show()\n",
    "corr_result(rho, \"Conductivity\", \"Potability\")"
   ]
  },
  {
   "cell_type": "code",
   "execution_count": 48,
   "metadata": {},
   "outputs": [
    {
     "data": {
      "text/markdown": [
       "#### OrganicCarbon"
      ],
      "text/plain": [
       "<IPython.core.display.Markdown object>"
      ]
     },
     "metadata": {},
     "output_type": "display_data"
    },
    {
     "data": {
      "text/markdown": [
       "Hasil korelasi kolom OrganicCarbon (non-target) dengan kolom Potability (target)"
      ],
      "text/plain": [
       "<IPython.core.display.Markdown object>"
      ]
     },
     "metadata": {},
     "output_type": "display_data"
    },
    {
     "data": {
      "text/markdown": [
       "$\\rho_{OrganicCarbon,Potability} = -0.015488461910747259$"
      ],
      "text/plain": [
       "<IPython.core.display.Markdown object>"
      ]
     },
     "metadata": {},
     "output_type": "display_data"
    },
    {
     "data": {
      "image/png": "[encoded data removed]",
      "text/plain": [
       "<Figure size 432x288 with 1 Axes>"
      ]
     },
     "metadata": {
      "needs_background": "light"
     },
     "output_type": "display_data"
    },
    {
     "data": {
      "text/markdown": [
       "Dari hasil $\\rho$ yang didapatkan, dapat disimpulkan bahwa bahwa kolom OrganicCarbon dan Potability berkorelasi **negatif**  dan memiliki tingkat korelasi **sangat lemah**"
      ],
      "text/plain": [
       "<IPython.core.display.Markdown object>"
      ]
     },
     "metadata": {},
     "output_type": "display_data"
    }
   ],
   "source": [
    "display(Markdown(\"#### OrganicCarbon\"))\n",
    "display(Markdown(\"Hasil korelasi kolom OrganicCarbon (non-target) dengan kolom Potability (target)\"))\n",
    "rho = water_potability['OrganicCarbon'].corr(water_potability['Potability'])\n",
    "display(Markdown(\"$\\\\rho_{OrganicCarbon,Potability} = \"+str(rho)+\"$\"))\n",
    "plt.title(\"Scatter Plot antara kolom OrganicCarbon dengan Potability\")\n",
    "plt.scatter(x=water_potability['OrganicCarbon'],y=water_potability['Potability'])\n",
    "plt.xlabel(\"OrganicCarbon\")\n",
    "plt.ylabel(\"Potability\")\n",
    "plt.show()\n",
    "corr_result(rho, \"OrganicCarbon\", \"Potability\")"
   ]
  },
  {
   "cell_type": "code",
   "execution_count": 49,
   "metadata": {},
   "outputs": [
    {
     "data": {
      "text/markdown": [
       "#### Trihalomethanes"
      ],
      "text/plain": [
       "<IPython.core.display.Markdown object>"
      ]
     },
     "metadata": {},
     "output_type": "display_data"
    },
    {
     "data": {
      "text/markdown": [
       "Hasil korelasi kolom Trihalomethanes (non-target) dengan kolom Potability (target)"
      ],
      "text/plain": [
       "<IPython.core.display.Markdown object>"
      ]
     },
     "metadata": {},
     "output_type": "display_data"
    },
    {
     "data": {
      "text/markdown": [
       "$\\rho_{Trihalomethanes,Potability} = 0.009236711064712997$"
      ],
      "text/plain": [
       "<IPython.core.display.Markdown object>"
      ]
     },
     "metadata": {},
     "output_type": "display_data"
    },
    {
     "data": {
      "image/png": "[encoded data removed]",
      "text/plain": [
       "<Figure size 432x288 with 1 Axes>"
      ]
     },
     "metadata": {
      "needs_background": "light"
     },
     "output_type": "display_data"
    },
    {
     "data": {
      "text/markdown": [
       "Dari hasil $\\rho$ yang didapatkan, dapat disimpulkan bahwa bahwa kolom Trihalomethanes dan Potability berkorelasi **positif**  dan memiliki tingkat korelasi **sangat lemah**"
      ],
      "text/plain": [
       "<IPython.core.display.Markdown object>"
      ]
     },
     "metadata": {},
     "output_type": "display_data"
    }
   ],
   "source": [
    "display(Markdown(\"#### Trihalomethanes\"))\n",
    "display(Markdown(\"Hasil korelasi kolom Trihalomethanes (non-target) dengan kolom Potability (target)\"))\n",
    "rho = water_potability['Trihalomethanes'].corr(water_potability['Potability'])\n",
    "display(Markdown(\"$\\\\rho_{Trihalomethanes,Potability} = \"+str(rho)+\"$\"))\n",
    "plt.title(\"Scatter Plot antara kolom Trihalomethanes dengan Potability\")\n",
    "plt.scatter(x=water_potability['Trihalomethanes'],y=water_potability['Potability'])\n",
    "plt.xlabel(\"Trihalomethanes\")\n",
    "plt.ylabel(\"Potability\")\n",
    "plt.show()\n",
    "corr_result(rho, \"Trihalomethanes\", \"Potability\")"
   ]
  },
  {
   "cell_type": "code",
   "execution_count": 50,
   "metadata": {},
   "outputs": [
    {
     "data": {
      "text/markdown": [
       "#### Turbidity"
      ],
      "text/plain": [
       "<IPython.core.display.Markdown object>"
      ]
     },
     "metadata": {},
     "output_type": "display_data"
    },
    {
     "data": {
      "text/markdown": [
       "Hasil korelasi kolom Turbidity (non-target) dengan kolom Potability (target)"
      ],
      "text/plain": [
       "<IPython.core.display.Markdown object>"
      ]
     },
     "metadata": {},
     "output_type": "display_data"
    },
    {
     "data": {
      "text/markdown": [
       "$\\rho_{Turbidity,Potability} = 0.022331042640622665$"
      ],
      "text/plain": [
       "<IPython.core.display.Markdown object>"
      ]
     },
     "metadata": {},
     "output_type": "display_data"
    },
    {
     "data": {
      "image/png": "[encoded data removed]",
      "text/plain": [
       "<Figure size 432x288 with 1 Axes>"
      ]
     },
     "metadata": {
      "needs_background": "light"
     },
     "output_type": "display_data"
    },
    {
     "data": {
      "text/markdown": [
       "Dari hasil $\\rho$ yang didapatkan, dapat disimpulkan bahwa bahwa kolom Turbidity dan Potability berkorelasi **positif**  dan memiliki tingkat korelasi **sangat lemah**"
      ],
      "text/plain": [
       "<IPython.core.display.Markdown object>"
      ]
     },
     "metadata": {},
     "output_type": "display_data"
    }
   ],
   "source": [
    "display(Markdown(\"#### Turbidity\"))\n",
    "display(Markdown(\"Hasil korelasi kolom Turbidity (non-target) dengan kolom Potability (target)\"))\n",
    "rho = water_potability['Turbidity'].corr(water_potability['Potability'])\n",
    "display(Markdown(\"$\\\\rho_{Turbidity,Potability} = \"+str(rho)+\"$\"))\n",
    "plt.title(\"Scatter Plot antara kolom Turbidity dengan Potability\")\n",
    "plt.scatter(x=water_potability['Turbidity'],y=water_potability['Potability'])\n",
    "plt.xlabel(\"Turbidity\")\n",
    "plt.ylabel(\"Potability\")\n",
    "plt.show()\n",
    "corr_result(rho, \"Turbidity\", \"Potability\")"
   ]
  }
 ],
 "metadata": {
  "interpreter": {
   "hash": "461167efa41168b9a56ea8377d08412ac9021ed788b3c98f546f6022913bf7e5"
  },
  "kernelspec": {
   "display_name": "Python 3.10.4 ('venv': venv)",
   "language": "python",
   "name": "python3"
  },
  "language_info": {
   "codemirror_mode": {
    "name": "ipython",
    "version": 3
   },
   "file_extension": ".py",
   "mimetype": "text/x-python",
   "name": "python",
   "nbconvert_exporter": "python",
   "pygments_lexer": "ipython3",
   "version": "3.10.4"
  },
  "orig_nbformat": 4
 },
 "nbformat": 4,
 "nbformat_minor": 2
}
