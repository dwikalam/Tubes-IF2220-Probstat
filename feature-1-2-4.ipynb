{
 "cells": [
  {
   "cell_type": "markdown",
   "metadata": {},
   "source": [
    "Diberikan sebuah data water_potability.csv yang merupakan data metrik kualitas air yang mengandung 11 kolom sebagai berikut:\n",
    "\n",
    "1. id\n",
    "2. pH\n",
    "3. Hardness\n",
    "4. Solids\n",
    "5. Chloramines\n",
    "6. Sulfate\n",
    "7. Conductivity\n",
    "8. OrganicCarbon\n",
    "9. Trihalomethanes\n",
    "10. Turbidity\n",
    "11. Potability\n",
    "\n",
    "Kolom 2-10 adalah kolom atribut (non-target), sedangkan kolom 11 adalah kolom target."
   ]
  },
  {
   "cell_type": "markdown",
   "metadata": {},
   "source": [
    "# Tugas Besar - IF2220 - Probabilitas dan Statistika\n",
    "## Penarikan Kesimpulan dan Pengujian Hipotesis\n",
    "### Soal Tugas\n",
    "\n",
    "Diberikan sebuah data water_potability.csv yang merupakan data metrik kualitas air yang mengandung 11 kolom sebagai berikut:\n",
    "\n",
    "1. id\n",
    "2. pH\n",
    "3. Hardness\n",
    "4. Solids\n",
    "5. Chloramines\n",
    "6. Sulfate\n",
    "7. Conductivity\n",
    "8. OrganicCarbon\n",
    "9. Trihalomethanes\n",
    "10. Turbidity\n",
    "11. Potability\n",
    "\n",
    "Kolom 2-10 adalah kolom atribut (non-target), sedangkan kolom 11 adalah kolom target."
   ]
  },
  {
   "cell_type": "code",
   "execution_count": 112,
   "metadata": {},
   "outputs": [
    {
     "data": {
      "text/html": [
       "<div>\n",
       "<style scoped>\n",
       "    .dataframe tbody tr th:only-of-type {\n",
       "        vertical-align: middle;\n",
       "    }\n",
       "\n",
       "    .dataframe tbody tr th {\n",
       "        vertical-align: top;\n",
       "    }\n",
       "\n",
       "    .dataframe thead th {\n",
       "        text-align: right;\n",
       "    }\n",
       "</style>\n",
       "<table border=\"1\" class=\"dataframe\">\n",
       "  <thead>\n",
       "    <tr style=\"text-align: right;\">\n",
       "      <th></th>\n",
       "      <th>id</th>\n",
       "      <th>pH</th>\n",
       "      <th>Hardness</th>\n",
       "      <th>Solids</th>\n",
       "      <th>Chloramines</th>\n",
       "      <th>Sulfate</th>\n",
       "      <th>Conductivity</th>\n",
       "      <th>OrganicCarbon</th>\n",
       "      <th>Trihalomethanes</th>\n",
       "      <th>Turbidity</th>\n",
       "      <th>Potability</th>\n",
       "    </tr>\n",
       "  </thead>\n",
       "  <tbody>\n",
       "    <tr>\n",
       "      <th>0</th>\n",
       "      <td>1</td>\n",
       "      <td>8.316766</td>\n",
       "      <td>214.373394</td>\n",
       "      <td>22018.417441</td>\n",
       "      <td>8.059332</td>\n",
       "      <td>356.886136</td>\n",
       "      <td>363.266516</td>\n",
       "      <td>18.436524</td>\n",
       "      <td>100.341674</td>\n",
       "      <td>4.628771</td>\n",
       "      <td>0</td>\n",
       "    </tr>\n",
       "    <tr>\n",
       "      <th>1</th>\n",
       "      <td>2</td>\n",
       "      <td>9.092223</td>\n",
       "      <td>181.101509</td>\n",
       "      <td>17978.986339</td>\n",
       "      <td>6.546600</td>\n",
       "      <td>310.135738</td>\n",
       "      <td>398.410813</td>\n",
       "      <td>11.558279</td>\n",
       "      <td>31.997993</td>\n",
       "      <td>4.075075</td>\n",
       "      <td>0</td>\n",
       "    </tr>\n",
       "    <tr>\n",
       "      <th>2</th>\n",
       "      <td>3</td>\n",
       "      <td>5.584087</td>\n",
       "      <td>188.313324</td>\n",
       "      <td>28748.687739</td>\n",
       "      <td>7.544869</td>\n",
       "      <td>326.678363</td>\n",
       "      <td>280.467916</td>\n",
       "      <td>8.399735</td>\n",
       "      <td>54.917862</td>\n",
       "      <td>2.559708</td>\n",
       "      <td>0</td>\n",
       "    </tr>\n",
       "    <tr>\n",
       "      <th>3</th>\n",
       "      <td>4</td>\n",
       "      <td>10.223862</td>\n",
       "      <td>248.071735</td>\n",
       "      <td>28749.716544</td>\n",
       "      <td>7.513408</td>\n",
       "      <td>393.663396</td>\n",
       "      <td>283.651634</td>\n",
       "      <td>13.789695</td>\n",
       "      <td>84.603556</td>\n",
       "      <td>2.672989</td>\n",
       "      <td>0</td>\n",
       "    </tr>\n",
       "    <tr>\n",
       "      <th>4</th>\n",
       "      <td>5</td>\n",
       "      <td>8.635849</td>\n",
       "      <td>203.361523</td>\n",
       "      <td>13672.091764</td>\n",
       "      <td>4.563009</td>\n",
       "      <td>303.309771</td>\n",
       "      <td>474.607645</td>\n",
       "      <td>12.363817</td>\n",
       "      <td>62.798309</td>\n",
       "      <td>4.401425</td>\n",
       "      <td>0</td>\n",
       "    </tr>\n",
       "    <tr>\n",
       "      <th>...</th>\n",
       "      <td>...</td>\n",
       "      <td>...</td>\n",
       "      <td>...</td>\n",
       "      <td>...</td>\n",
       "      <td>...</td>\n",
       "      <td>...</td>\n",
       "      <td>...</td>\n",
       "      <td>...</td>\n",
       "      <td>...</td>\n",
       "      <td>...</td>\n",
       "      <td>...</td>\n",
       "    </tr>\n",
       "    <tr>\n",
       "      <th>2005</th>\n",
       "      <td>2006</td>\n",
       "      <td>8.197353</td>\n",
       "      <td>203.105091</td>\n",
       "      <td>27701.794055</td>\n",
       "      <td>6.472914</td>\n",
       "      <td>328.886838</td>\n",
       "      <td>444.612724</td>\n",
       "      <td>14.250875</td>\n",
       "      <td>62.906205</td>\n",
       "      <td>3.361833</td>\n",
       "      <td>1</td>\n",
       "    </tr>\n",
       "    <tr>\n",
       "      <th>2006</th>\n",
       "      <td>2007</td>\n",
       "      <td>8.989900</td>\n",
       "      <td>215.047358</td>\n",
       "      <td>15921.412018</td>\n",
       "      <td>6.297312</td>\n",
       "      <td>312.931022</td>\n",
       "      <td>390.410231</td>\n",
       "      <td>9.899115</td>\n",
       "      <td>55.069304</td>\n",
       "      <td>4.613843</td>\n",
       "      <td>1</td>\n",
       "    </tr>\n",
       "    <tr>\n",
       "      <th>2007</th>\n",
       "      <td>2008</td>\n",
       "      <td>6.702547</td>\n",
       "      <td>207.321086</td>\n",
       "      <td>17246.920347</td>\n",
       "      <td>7.708117</td>\n",
       "      <td>304.510230</td>\n",
       "      <td>329.266002</td>\n",
       "      <td>16.217303</td>\n",
       "      <td>28.878601</td>\n",
       "      <td>3.442983</td>\n",
       "      <td>1</td>\n",
       "    </tr>\n",
       "    <tr>\n",
       "      <th>2008</th>\n",
       "      <td>2009</td>\n",
       "      <td>11.491011</td>\n",
       "      <td>94.812545</td>\n",
       "      <td>37188.826022</td>\n",
       "      <td>9.263166</td>\n",
       "      <td>258.930600</td>\n",
       "      <td>439.893618</td>\n",
       "      <td>16.172755</td>\n",
       "      <td>41.558501</td>\n",
       "      <td>4.369264</td>\n",
       "      <td>1</td>\n",
       "    </tr>\n",
       "    <tr>\n",
       "      <th>2009</th>\n",
       "      <td>2010</td>\n",
       "      <td>6.069616</td>\n",
       "      <td>186.659040</td>\n",
       "      <td>26138.780191</td>\n",
       "      <td>7.747547</td>\n",
       "      <td>345.700257</td>\n",
       "      <td>415.886955</td>\n",
       "      <td>12.067620</td>\n",
       "      <td>60.419921</td>\n",
       "      <td>3.669712</td>\n",
       "      <td>1</td>\n",
       "    </tr>\n",
       "  </tbody>\n",
       "</table>\n",
       "<p>2010 rows × 11 columns</p>\n",
       "</div>"
      ],
      "text/plain": [
       "        id         pH    Hardness        Solids  Chloramines     Sulfate  \\\n",
       "0        1   8.316766  214.373394  22018.417441     8.059332  356.886136   \n",
       "1        2   9.092223  181.101509  17978.986339     6.546600  310.135738   \n",
       "2        3   5.584087  188.313324  28748.687739     7.544869  326.678363   \n",
       "3        4  10.223862  248.071735  28749.716544     7.513408  393.663396   \n",
       "4        5   8.635849  203.361523  13672.091764     4.563009  303.309771   \n",
       "...    ...        ...         ...           ...          ...         ...   \n",
       "2005  2006   8.197353  203.105091  27701.794055     6.472914  328.886838   \n",
       "2006  2007   8.989900  215.047358  15921.412018     6.297312  312.931022   \n",
       "2007  2008   6.702547  207.321086  17246.920347     7.708117  304.510230   \n",
       "2008  2009  11.491011   94.812545  37188.826022     9.263166  258.930600   \n",
       "2009  2010   6.069616  186.659040  26138.780191     7.747547  345.700257   \n",
       "\n",
       "      Conductivity  OrganicCarbon  Trihalomethanes  Turbidity  Potability  \n",
       "0       363.266516      18.436524       100.341674   4.628771           0  \n",
       "1       398.410813      11.558279        31.997993   4.075075           0  \n",
       "2       280.467916       8.399735        54.917862   2.559708           0  \n",
       "3       283.651634      13.789695        84.603556   2.672989           0  \n",
       "4       474.607645      12.363817        62.798309   4.401425           0  \n",
       "...            ...            ...              ...        ...         ...  \n",
       "2005    444.612724      14.250875        62.906205   3.361833           1  \n",
       "2006    390.410231       9.899115        55.069304   4.613843           1  \n",
       "2007    329.266002      16.217303        28.878601   3.442983           1  \n",
       "2008    439.893618      16.172755        41.558501   4.369264           1  \n",
       "2009    415.886955      12.067620        60.419921   3.669712           1  \n",
       "\n",
       "[2010 rows x 11 columns]"
      ]
     },
     "metadata": {},
     "output_type": "display_data"
    }
   ],
   "source": [
    "from IPython.display import display, Markdown\n",
    "import pandas as pd\n",
    "import matplotlib.pyplot as plt\n",
    "import scipy.stats as st\n",
    "import seaborn as sns\n",
    "\n",
    "colsName = [\"id\", \n",
    "            \"pH\", \n",
    "            \"Hardness\", \n",
    "            \"Solids\", \n",
    "            \"Chloramines\", \n",
    "            \"Sulfate\", \n",
    "            \"Conductivity\", \n",
    "            \"OrganicCarbon\", \n",
    "            \"Trihalomethanes\", \n",
    "            \"Turbidity\", \n",
    "            \"Potability\"]\n",
    "wp = pd.read_csv(\"./water_potability.csv\", names = colsName)\n",
    "display(wp)"
   ]
  },
  {
   "cell_type": "markdown",
   "metadata": {},
   "source": [
    "Anda diminta untuk melakukan analisis statistika sebagai berikut:"
   ]
  },
  {
   "cell_type": "markdown",
   "metadata": {},
   "source": [
    "**1. Menulis deskripsi statistika (Descriptive Statistics)** \n",
    "\n",
    "dari semua kolom pada data yang bersifat numerik, terdiri dari \n",
    "- mean \n",
    "- median \n",
    "- modus \n",
    "- standar deviasi \n",
    "- variansi\n",
    "- range\n",
    "- nilai minimum \n",
    "- nilai maksimum \n",
    "- kuartil \n",
    "- IQR\n",
    "- skewness\n",
    "- kurtosis\n",
    "    \n",
    "Boleh juga ditambahkan deskripsi lain."
   ]
  },
  {
   "cell_type": "code",
   "execution_count": 2,
   "metadata": {},
   "outputs": [
    {
     "data": {
      "text/html": [
       "<div>\n",
       "<style scoped>\n",
       "    .dataframe tbody tr th:only-of-type {\n",
       "        vertical-align: middle;\n",
       "    }\n",
       "\n",
       "    .dataframe tbody tr th {\n",
       "        vertical-align: top;\n",
       "    }\n",
       "\n",
       "    .dataframe thead th {\n",
       "        text-align: right;\n",
       "    }\n",
       "</style>\n",
       "<table border=\"1\" class=\"dataframe\">\n",
       "  <thead>\n",
       "    <tr style=\"text-align: right;\">\n",
       "      <th></th>\n",
       "      <th>id</th>\n",
       "      <th>pH</th>\n",
       "      <th>Hardness</th>\n",
       "      <th>Solids</th>\n",
       "      <th>Chloramines</th>\n",
       "      <th>Sulfate</th>\n",
       "      <th>Conductivity</th>\n",
       "      <th>OrganicCarbon</th>\n",
       "      <th>Trihalomethanes</th>\n",
       "      <th>Turbidity</th>\n",
       "      <th>Potability</th>\n",
       "    </tr>\n",
       "  </thead>\n",
       "  <tbody>\n",
       "    <tr>\n",
       "      <th>mean</th>\n",
       "      <td>1005.5</td>\n",
       "      <td>7.087193</td>\n",
       "      <td>195.969209</td>\n",
       "      <td>21904.673439</td>\n",
       "      <td>7.134322</td>\n",
       "      <td>333.211376</td>\n",
       "      <td>426.476708</td>\n",
       "      <td>14.35794</td>\n",
       "      <td>66.400717</td>\n",
       "      <td>3.969497</td>\n",
       "      <td>0.402985</td>\n",
       "    </tr>\n",
       "    <tr>\n",
       "      <th>median</th>\n",
       "      <td>1005.5</td>\n",
       "      <td>7.02949</td>\n",
       "      <td>197.203525</td>\n",
       "      <td>20926.882155</td>\n",
       "      <td>7.142014</td>\n",
       "      <td>332.214113</td>\n",
       "      <td>423.438372</td>\n",
       "      <td>14.323286</td>\n",
       "      <td>66.482041</td>\n",
       "      <td>3.967374</td>\n",
       "      <td>0.0</td>\n",
       "    </tr>\n",
       "    <tr>\n",
       "      <th>std deviasi</th>\n",
       "      <td>580.38134</td>\n",
       "      <td>1.572803</td>\n",
       "      <td>32.643166</td>\n",
       "      <td>8625.397911</td>\n",
       "      <td>1.585214</td>\n",
       "      <td>41.211111</td>\n",
       "      <td>80.701872</td>\n",
       "      <td>3.32577</td>\n",
       "      <td>16.081109</td>\n",
       "      <td>0.780471</td>\n",
       "      <td>0.49062</td>\n",
       "    </tr>\n",
       "    <tr>\n",
       "      <th>range</th>\n",
       "      <td>2009.0</td>\n",
       "      <td>13.772501</td>\n",
       "      <td>243.84589</td>\n",
       "      <td>56167.729801</td>\n",
       "      <td>11.736129</td>\n",
       "      <td>352.030642</td>\n",
       "      <td>551.722883</td>\n",
       "      <td>24.806707</td>\n",
       "      <td>115.422987</td>\n",
       "      <td>5.044749</td>\n",
       "      <td>1.0</td>\n",
       "    </tr>\n",
       "    <tr>\n",
       "      <th>min</th>\n",
       "      <td>1.0</td>\n",
       "      <td>0.227499</td>\n",
       "      <td>73.492234</td>\n",
       "      <td>320.942611</td>\n",
       "      <td>1.390871</td>\n",
       "      <td>129.0</td>\n",
       "      <td>201.619737</td>\n",
       "      <td>2.2</td>\n",
       "      <td>8.577013</td>\n",
       "      <td>1.45</td>\n",
       "      <td>0.0</td>\n",
       "    </tr>\n",
       "    <tr>\n",
       "      <th>maks</th>\n",
       "      <td>2010.0</td>\n",
       "      <td>14.0</td>\n",
       "      <td>317.338124</td>\n",
       "      <td>56488.672413</td>\n",
       "      <td>13.127</td>\n",
       "      <td>481.030642</td>\n",
       "      <td>753.34262</td>\n",
       "      <td>27.006707</td>\n",
       "      <td>124.0</td>\n",
       "      <td>6.494749</td>\n",
       "      <td>1.0</td>\n",
       "    </tr>\n",
       "    <tr>\n",
       "      <th>25%</th>\n",
       "      <td>503.25</td>\n",
       "      <td>6.090785</td>\n",
       "      <td>176.740657</td>\n",
       "      <td>15614.412962</td>\n",
       "      <td>6.138326</td>\n",
       "      <td>307.626986</td>\n",
       "      <td>366.619219</td>\n",
       "      <td>12.12253</td>\n",
       "      <td>55.949993</td>\n",
       "      <td>3.442882</td>\n",
       "      <td>0.0</td>\n",
       "    </tr>\n",
       "    <tr>\n",
       "      <th>50%</th>\n",
       "      <td>1005.5</td>\n",
       "      <td>7.02949</td>\n",
       "      <td>197.203525</td>\n",
       "      <td>20926.882155</td>\n",
       "      <td>7.142014</td>\n",
       "      <td>332.214113</td>\n",
       "      <td>423.438372</td>\n",
       "      <td>14.323286</td>\n",
       "      <td>66.482041</td>\n",
       "      <td>3.967374</td>\n",
       "      <td>0.0</td>\n",
       "    </tr>\n",
       "    <tr>\n",
       "      <th>75%</th>\n",
       "      <td>1507.75</td>\n",
       "      <td>8.053006</td>\n",
       "      <td>216.447589</td>\n",
       "      <td>27170.534649</td>\n",
       "      <td>8.109933</td>\n",
       "      <td>359.268147</td>\n",
       "      <td>482.209772</td>\n",
       "      <td>16.683562</td>\n",
       "      <td>77.294613</td>\n",
       "      <td>4.514663</td>\n",
       "      <td>1.0</td>\n",
       "    </tr>\n",
       "    <tr>\n",
       "      <th>IQR</th>\n",
       "      <td>1004.5</td>\n",
       "      <td>1.962221</td>\n",
       "      <td>39.706932</td>\n",
       "      <td>11556.121687</td>\n",
       "      <td>1.971607</td>\n",
       "      <td>51.641161</td>\n",
       "      <td>115.590553</td>\n",
       "      <td>4.561031</td>\n",
       "      <td>21.34462</td>\n",
       "      <td>1.071781</td>\n",
       "      <td>1.0</td>\n",
       "    </tr>\n",
       "    <tr>\n",
       "      <th>skewness</th>\n",
       "      <td>0.0</td>\n",
       "      <td>0.048535</td>\n",
       "      <td>-0.085321</td>\n",
       "      <td>0.591011</td>\n",
       "      <td>0.013003</td>\n",
       "      <td>-0.045728</td>\n",
       "      <td>0.268012</td>\n",
       "      <td>-0.02022</td>\n",
       "      <td>-0.051383</td>\n",
       "      <td>-0.032266</td>\n",
       "      <td>0.395873</td>\n",
       "    </tr>\n",
       "    <tr>\n",
       "      <th>kurtosis</th>\n",
       "      <td>-1.2</td>\n",
       "      <td>0.626904</td>\n",
       "      <td>0.52548</td>\n",
       "      <td>0.33732</td>\n",
       "      <td>0.549782</td>\n",
       "      <td>0.786854</td>\n",
       "      <td>-0.237206</td>\n",
       "      <td>0.031018</td>\n",
       "      <td>0.223017</td>\n",
       "      <td>-0.049831</td>\n",
       "      <td>-1.845122</td>\n",
       "    </tr>\n",
       "  </tbody>\n",
       "</table>\n",
       "</div>"
      ],
      "text/plain": [
       "                    id         pH    Hardness        Solids Chloramines  \\\n",
       "mean            1005.5   7.087193  195.969209  21904.673439    7.134322   \n",
       "median          1005.5    7.02949  197.203525  20926.882155    7.142014   \n",
       "std deviasi  580.38134   1.572803   32.643166   8625.397911    1.585214   \n",
       "range           2009.0  13.772501   243.84589  56167.729801   11.736129   \n",
       "min                1.0   0.227499   73.492234    320.942611    1.390871   \n",
       "maks            2010.0       14.0  317.338124  56488.672413      13.127   \n",
       "25%             503.25   6.090785  176.740657  15614.412962    6.138326   \n",
       "50%             1005.5    7.02949  197.203525  20926.882155    7.142014   \n",
       "75%            1507.75   8.053006  216.447589  27170.534649    8.109933   \n",
       "IQR             1004.5   1.962221   39.706932  11556.121687    1.971607   \n",
       "skewness           0.0   0.048535   -0.085321      0.591011    0.013003   \n",
       "kurtosis          -1.2   0.626904     0.52548       0.33732    0.549782   \n",
       "\n",
       "                Sulfate Conductivity OrganicCarbon Trihalomethanes Turbidity  \\\n",
       "mean         333.211376   426.476708      14.35794       66.400717  3.969497   \n",
       "median       332.214113   423.438372     14.323286       66.482041  3.967374   \n",
       "std deviasi   41.211111    80.701872       3.32577       16.081109  0.780471   \n",
       "range        352.030642   551.722883     24.806707      115.422987  5.044749   \n",
       "min               129.0   201.619737           2.2        8.577013      1.45   \n",
       "maks         481.030642    753.34262     27.006707           124.0  6.494749   \n",
       "25%          307.626986   366.619219      12.12253       55.949993  3.442882   \n",
       "50%          332.214113   423.438372     14.323286       66.482041  3.967374   \n",
       "75%          359.268147   482.209772     16.683562       77.294613  4.514663   \n",
       "IQR           51.641161   115.590553      4.561031        21.34462  1.071781   \n",
       "skewness      -0.045728     0.268012      -0.02022       -0.051383 -0.032266   \n",
       "kurtosis       0.786854    -0.237206      0.031018        0.223017 -0.049831   \n",
       "\n",
       "            Potability  \n",
       "mean          0.402985  \n",
       "median             0.0  \n",
       "std deviasi    0.49062  \n",
       "range              1.0  \n",
       "min                0.0  \n",
       "maks               1.0  \n",
       "25%                0.0  \n",
       "50%                0.0  \n",
       "75%                1.0  \n",
       "IQR                1.0  \n",
       "skewness      0.395873  \n",
       "kurtosis     -1.845122  "
      ]
     },
     "metadata": {},
     "output_type": "display_data"
    },
    {
     "data": {
      "text/html": [
       "<div>\n",
       "<style scoped>\n",
       "    .dataframe tbody tr th:only-of-type {\n",
       "        vertical-align: middle;\n",
       "    }\n",
       "\n",
       "    .dataframe tbody tr th {\n",
       "        vertical-align: top;\n",
       "    }\n",
       "\n",
       "    .dataframe thead th {\n",
       "        text-align: right;\n",
       "    }\n",
       "</style>\n",
       "<table border=\"1\" class=\"dataframe\">\n",
       "  <thead>\n",
       "    <tr style=\"text-align: right;\">\n",
       "      <th></th>\n",
       "      <th>id</th>\n",
       "      <th>pH</th>\n",
       "      <th>Hardness</th>\n",
       "      <th>Solids</th>\n",
       "      <th>Chloramines</th>\n",
       "      <th>Sulfate</th>\n",
       "      <th>Conductivity</th>\n",
       "      <th>OrganicCarbon</th>\n",
       "      <th>Trihalomethanes</th>\n",
       "      <th>Turbidity</th>\n",
       "      <th>Potability</th>\n",
       "    </tr>\n",
       "    <tr>\n",
       "      <th>modus</th>\n",
       "      <th></th>\n",
       "      <th></th>\n",
       "      <th></th>\n",
       "      <th></th>\n",
       "      <th></th>\n",
       "      <th></th>\n",
       "      <th></th>\n",
       "      <th></th>\n",
       "      <th></th>\n",
       "      <th></th>\n",
       "      <th></th>\n",
       "    </tr>\n",
       "  </thead>\n",
       "  <tbody>\n",
       "    <tr>\n",
       "      <th>0</th>\n",
       "      <td>1</td>\n",
       "      <td>0.227499</td>\n",
       "      <td>73.492234</td>\n",
       "      <td>320.942611</td>\n",
       "      <td>1.390871</td>\n",
       "      <td>129.000000</td>\n",
       "      <td>201.619737</td>\n",
       "      <td>2.200000</td>\n",
       "      <td>8.577013</td>\n",
       "      <td>1.450000</td>\n",
       "      <td>0.0</td>\n",
       "    </tr>\n",
       "    <tr>\n",
       "      <th>1</th>\n",
       "      <td>2</td>\n",
       "      <td>0.989912</td>\n",
       "      <td>77.459586</td>\n",
       "      <td>1198.943699</td>\n",
       "      <td>1.920271</td>\n",
       "      <td>180.206746</td>\n",
       "      <td>210.319182</td>\n",
       "      <td>4.371899</td>\n",
       "      <td>14.343161</td>\n",
       "      <td>1.492207</td>\n",
       "      <td>NaN</td>\n",
       "    </tr>\n",
       "    <tr>\n",
       "      <th>2</th>\n",
       "      <td>3</td>\n",
       "      <td>1.431782</td>\n",
       "      <td>81.710895</td>\n",
       "      <td>1351.906979</td>\n",
       "      <td>2.397985</td>\n",
       "      <td>182.397370</td>\n",
       "      <td>233.907965</td>\n",
       "      <td>4.466772</td>\n",
       "      <td>15.684877</td>\n",
       "      <td>1.496101</td>\n",
       "      <td>NaN</td>\n",
       "    </tr>\n",
       "    <tr>\n",
       "      <th>3</th>\n",
       "      <td>4</td>\n",
       "      <td>1.757037</td>\n",
       "      <td>94.091307</td>\n",
       "      <td>1372.091043</td>\n",
       "      <td>2.456014</td>\n",
       "      <td>187.170714</td>\n",
       "      <td>245.859632</td>\n",
       "      <td>4.861631</td>\n",
       "      <td>16.291505</td>\n",
       "      <td>1.680554</td>\n",
       "      <td>NaN</td>\n",
       "    </tr>\n",
       "    <tr>\n",
       "      <th>4</th>\n",
       "      <td>5</td>\n",
       "      <td>1.985383</td>\n",
       "      <td>94.812545</td>\n",
       "      <td>2552.962804</td>\n",
       "      <td>2.458609</td>\n",
       "      <td>187.424131</td>\n",
       "      <td>252.968328</td>\n",
       "      <td>4.966862</td>\n",
       "      <td>17.527765</td>\n",
       "      <td>1.812529</td>\n",
       "      <td>NaN</td>\n",
       "    </tr>\n",
       "    <tr>\n",
       "      <th>...</th>\n",
       "      <td>...</td>\n",
       "      <td>...</td>\n",
       "      <td>...</td>\n",
       "      <td>...</td>\n",
       "      <td>...</td>\n",
       "      <td>...</td>\n",
       "      <td>...</td>\n",
       "      <td>...</td>\n",
       "      <td>...</td>\n",
       "      <td>...</td>\n",
       "      <td>...</td>\n",
       "    </tr>\n",
       "    <tr>\n",
       "      <th>2005</th>\n",
       "      <td>2006</td>\n",
       "      <td>11.568768</td>\n",
       "      <td>286.567991</td>\n",
       "      <td>50793.898917</td>\n",
       "      <td>12.580026</td>\n",
       "      <td>458.441072</td>\n",
       "      <td>666.690618</td>\n",
       "      <td>23.569645</td>\n",
       "      <td>114.034946</td>\n",
       "      <td>6.307678</td>\n",
       "      <td>NaN</td>\n",
       "    </tr>\n",
       "    <tr>\n",
       "      <th>2006</th>\n",
       "      <td>2007</td>\n",
       "      <td>11.898078</td>\n",
       "      <td>287.975540</td>\n",
       "      <td>53735.899194</td>\n",
       "      <td>12.626900</td>\n",
       "      <td>460.107069</td>\n",
       "      <td>669.725086</td>\n",
       "      <td>23.604298</td>\n",
       "      <td>114.208671</td>\n",
       "      <td>6.357439</td>\n",
       "      <td>NaN</td>\n",
       "    </tr>\n",
       "    <tr>\n",
       "      <th>2007</th>\n",
       "      <td>2008</td>\n",
       "      <td>12.246928</td>\n",
       "      <td>300.292476</td>\n",
       "      <td>55334.702799</td>\n",
       "      <td>12.653362</td>\n",
       "      <td>475.737460</td>\n",
       "      <td>695.369528</td>\n",
       "      <td>23.917601</td>\n",
       "      <td>116.161622</td>\n",
       "      <td>6.389161</td>\n",
       "      <td>NaN</td>\n",
       "    </tr>\n",
       "    <tr>\n",
       "      <th>2008</th>\n",
       "      <td>2009</td>\n",
       "      <td>13.349889</td>\n",
       "      <td>306.627481</td>\n",
       "      <td>56351.396304</td>\n",
       "      <td>13.043806</td>\n",
       "      <td>476.539717</td>\n",
       "      <td>708.226364</td>\n",
       "      <td>24.755392</td>\n",
       "      <td>120.030077</td>\n",
       "      <td>6.494249</td>\n",
       "      <td>NaN</td>\n",
       "    </tr>\n",
       "    <tr>\n",
       "      <th>2009</th>\n",
       "      <td>2010</td>\n",
       "      <td>14.000000</td>\n",
       "      <td>317.338124</td>\n",
       "      <td>56488.672413</td>\n",
       "      <td>13.127000</td>\n",
       "      <td>481.030642</td>\n",
       "      <td>753.342620</td>\n",
       "      <td>27.006707</td>\n",
       "      <td>124.000000</td>\n",
       "      <td>6.494749</td>\n",
       "      <td>NaN</td>\n",
       "    </tr>\n",
       "  </tbody>\n",
       "</table>\n",
       "<p>2010 rows × 11 columns</p>\n",
       "</div>"
      ],
      "text/plain": [
       "         id         pH    Hardness        Solids  Chloramines     Sulfate  \\\n",
       "modus                                                                       \n",
       "0         1   0.227499   73.492234    320.942611     1.390871  129.000000   \n",
       "1         2   0.989912   77.459586   1198.943699     1.920271  180.206746   \n",
       "2         3   1.431782   81.710895   1351.906979     2.397985  182.397370   \n",
       "3         4   1.757037   94.091307   1372.091043     2.456014  187.170714   \n",
       "4         5   1.985383   94.812545   2552.962804     2.458609  187.424131   \n",
       "...     ...        ...         ...           ...          ...         ...   \n",
       "2005   2006  11.568768  286.567991  50793.898917    12.580026  458.441072   \n",
       "2006   2007  11.898078  287.975540  53735.899194    12.626900  460.107069   \n",
       "2007   2008  12.246928  300.292476  55334.702799    12.653362  475.737460   \n",
       "2008   2009  13.349889  306.627481  56351.396304    13.043806  476.539717   \n",
       "2009   2010  14.000000  317.338124  56488.672413    13.127000  481.030642   \n",
       "\n",
       "       Conductivity  OrganicCarbon  Trihalomethanes  Turbidity  Potability  \n",
       "modus                                                                       \n",
       "0        201.619737       2.200000         8.577013   1.450000         0.0  \n",
       "1        210.319182       4.371899        14.343161   1.492207         NaN  \n",
       "2        233.907965       4.466772        15.684877   1.496101         NaN  \n",
       "3        245.859632       4.861631        16.291505   1.680554         NaN  \n",
       "4        252.968328       4.966862        17.527765   1.812529         NaN  \n",
       "...             ...            ...              ...        ...         ...  \n",
       "2005     666.690618      23.569645       114.034946   6.307678         NaN  \n",
       "2006     669.725086      23.604298       114.208671   6.357439         NaN  \n",
       "2007     695.369528      23.917601       116.161622   6.389161         NaN  \n",
       "2008     708.226364      24.755392       120.030077   6.494249         NaN  \n",
       "2009     753.342620      27.006707       124.000000   6.494749         NaN  \n",
       "\n",
       "[2010 rows x 11 columns]"
      ]
     },
     "metadata": {},
     "output_type": "display_data"
    }
   ],
   "source": [
    "\n",
    "#wp = wp.drop([\"id\"], axis = 1)\n",
    "wp_stats = pd.DataFrame(columns = colsName)\n",
    "\n",
    "def concate_df(df_stats : pd.DataFrame, desc_stat) -> pd.DataFrame:\n",
    "    if (isinstance(desc_stat, tuple)):\n",
    "        return pd.concat([df_stats, desc_stat[0].to_frame(name = desc_stat[1]).T])\n",
    "    else:\n",
    "        return pd.concat([df_stats, desc_stat])\n",
    "\n",
    "wp_stats = concate_df(wp_stats, (wp.mean(), \"mean\"))\n",
    "wp_stats = concate_df(wp_stats, (wp.median(), \"median\"))\n",
    "wp_stats = concate_df(wp_stats, (wp.std(), \"std deviasi\"))\n",
    "\n",
    "range_stat = wp.describe().loc[\"max\"] - wp.describe().loc[\"min\"]\n",
    "wp_stats = concate_df(wp_stats, (range_stat, \"range\"))\n",
    "\n",
    "wp_stats = concate_df(wp_stats, (wp.min(), \"min\"))\n",
    "wp_stats = concate_df(wp_stats, (wp.max(), \"maks\"))\n",
    "\n",
    "quartile_stat = wp.describe().loc[[\"25%\", \"50%\", \"75%\"]]\n",
    "wp_stats = concate_df(wp_stats, quartile_stat)\n",
    "\n",
    "IQR_stat = wp_stats.loc[\"75%\"] - wp_stats.loc[\"25%\"]\n",
    "wp_stats = concate_df(wp_stats, (IQR_stat, \"IQR\"))\n",
    "\n",
    "wp_stats = concate_df(wp_stats, (wp.skew(), \"skewness\"))\n",
    "wp_stats = concate_df(wp_stats, (wp.kurt(), \"kurtosis\"))\n",
    "\n",
    "display(wp_stats.head(13))\n",
    "\n",
    "wp_mode_stat = wp.mode()\n",
    "wp_mode_stat.index.name = \"modus\"\n",
    "display(wp_mode_stat)"
   ]
  },
  {
   "cell_type": "markdown",
   "metadata": {},
   "source": [
    "**2.    Membuat visualisasi plot distribusi dalam bentuk histogram dan boxplot untuk setiap kolom numerik**\n",
    "\n",
    "Berikan uraian penjelasan kondisi setiap kolom berdasarkan kedua plot tersebut."
   ]
  },
  {
   "cell_type": "code",
   "execution_count": 2,
   "metadata": {},
   "outputs": [],
   "source": [
    "def box_hist_plot(col_data):\n",
    "    fig, (ax_box, ax_hist) = plt.subplots(  nrows = 2,\n",
    "                                            figsize = (14,10),\n",
    "                                            sharex = True,\n",
    "                                            gridspec_kw = {\"height_ratios\": (.15, .85)})\n",
    "    sns.set(style = \"ticks\")\n",
    "\n",
    "    sns.boxplot(x = col_data, ax = ax_box)\n",
    "    sns.histplot(x = col_data, kde = True, ax = ax_hist)\n",
    "\n",
    "    ax_box.set(yticks = [])\n",
    "    sns.despine(ax = ax_hist)\n",
    "    sns.despine(ax = ax_box, left = True)\n",
    "\n",
    "    plt.show()"
   ]
  },
  {
   "cell_type": "code",
   "execution_count": 3,
   "metadata": {},
   "outputs": [
    {
     "data": {
      "image/png": "[encoded data removed]",
      "text/plain": [
       "<Figure size 1008x720 with 2 Axes>"
      ]
     },
     "metadata": {
      "needs_background": "light"
     },
     "output_type": "display_data"
    }
   ],
   "source": [
    "box_hist_plot(wp[colsName[0]])"
   ]
  },
  {
   "cell_type": "markdown",
   "metadata": {},
   "source": [
    "**id**\n",
    "\n",
    "Berdasarkan visualisasi kedua plot id di atas, terlihat bahwa data id terdistribusi normal dengan keruncingan yang relatif sangat landai. Perlu diperhatikan bawah data ini merupakan index dataset water_potability dan nilainya unik."
   ]
  },
  {
   "cell_type": "code",
   "execution_count": 5,
   "metadata": {},
   "outputs": [
    {
     "data": {
      "image/png": "[encoded data removed]",
      "text/plain": [
       "<Figure size 1008x720 with 2 Axes>"
      ]
     },
     "metadata": {},
     "output_type": "display_data"
    }
   ],
   "source": [
    "box_hist_plot(wp[colsName[1]])"
   ]
  },
  {
   "cell_type": "markdown",
   "metadata": {},
   "source": [
    "**pH**\n",
    "\n",
    "Berdasarkan kedua grafik pH di atas, terlihat bahwa data relatif mendekati terdistribusi normal, dengan nilai median pH dan modus porsiran pH yang relatif hampir sama. Terlihat juga bahwa data tervisualisasi relatif agak runcing. Selain itu, terdapat *outliers* atas dan bawah."
   ]
  },
  {
   "cell_type": "code",
   "execution_count": 6,
   "metadata": {},
   "outputs": [
    {
     "data": {
      "image/png": "[encoded data removed]",
      "text/plain": [
       "<Figure size 1008x720 with 2 Axes>"
      ]
     },
     "metadata": {},
     "output_type": "display_data"
    }
   ],
   "source": [
    "box_hist_plot(wp[colsName[2]])"
   ]
  },
  {
   "cell_type": "markdown",
   "metadata": {},
   "source": [
    "***Hardness***\n",
    "\n",
    "Seperti pada data pH, terlihat bahwa persebaran data *hardness* relatif mendekati terdistribusi normal. Namun, data *hardness* terlihat lebih tidak runcing dibandingkan data pH. Data *hardness* memiliki *outliers* atas dan bawah yang tampak lebih banyak dibandingkan data pH."
   ]
  },
  {
   "cell_type": "code",
   "execution_count": 7,
   "metadata": {},
   "outputs": [
    {
     "data": {
      "image/png": "[encoded data removed]",
      "text/plain": [
       "<Figure size 1008x720 with 2 Axes>"
      ]
     },
     "metadata": {},
     "output_type": "display_data"
    }
   ],
   "source": [
    "box_hist_plot(wp[colsName[3]])"
   ]
  },
  {
   "cell_type": "markdown",
   "metadata": {},
   "source": [
    "***Solids***\n",
    "\n",
    "Berdasarkan kedua grafik *solids* di atas, terlihat bahwa data *positivelyy skewed*, yakni persebaran data yang cenderung lebih banyak di nilai *solids* yang lebih kecil. Terlihat juga bahwa nilai porsiran modus data lebih kecil dibandingkan nilai median data. Median data atau nilai Q2 juga tampak lebih dekat dengan nilai Q1 dan elemen \"minimum\" dibandingkan dengan nilai Q3 dan elemen \"maksimum\". Selain itu, terlihat bahwa nilai *outliers* atas yang relatif banyak dan tidak ada nilai *outliers* bawah. Jika dibandingkan dengan data *hardness*, visualisasi data *solids* tampak relatif lebih landai."
   ]
  },
  {
   "cell_type": "code",
   "execution_count": 8,
   "metadata": {},
   "outputs": [
    {
     "data": {
      "image/png": "[encoded data removed]",
      "text/plain": [
       "<Figure size 1008x720 with 2 Axes>"
      ]
     },
     "metadata": {},
     "output_type": "display_data"
    }
   ],
   "source": [
    "box_hist_plot(wp[colsName[4]])"
   ]
  },
  {
   "cell_type": "markdown",
   "metadata": {},
   "source": [
    "***Chloramines***\n",
    "\n",
    "Berdasarkan kedua grafik *chloramines* di atas, terlihat bahwa persebaran data relatif mendekati terdistribusi normal atau simetris. Terlihat bahwa nilai porsiran modus data relatif sedikit lebih besar dibandingkan nilai median data. Median data atau nilai Q2 juga relatif tampak simetris terhadap nilai Q1 & elemen \"minimum\" dan nilai Q3 & elemen \"maksimum\". Selain itu, terlihat bahwa terdapat *outliers* atas dan bawah. Visualisasi persebaran data terlihat relatif agak runcing."
   ]
  },
  {
   "cell_type": "code",
   "execution_count": 9,
   "metadata": {},
   "outputs": [
    {
     "data": {
      "image/png": "[encoded data removed]",
      "text/plain": [
       "<Figure size 1008x720 with 2 Axes>"
      ]
     },
     "metadata": {},
     "output_type": "display_data"
    }
   ],
   "source": [
    "box_hist_plot(wp[colsName[5]])"
   ]
  },
  {
   "cell_type": "markdown",
   "metadata": {},
   "source": [
    "***Sulfate***\n",
    "\n",
    "Berdasarkan kedua grafik *sulfate* di atas, terlihat bahwa persebaran data relatif mendekati terdistribusi normal atau simetris. Terlihat bahwa nilai porsiran modus data relatif sedikit lebih kecil dibandingkan nilai median data. Median data atau nilai Q2 relatif sedikit lebih mendekati nilai Q1 & elemen \"minimum\" dibandingkan nilai Q3 & elemen \"maksimum\". Visualisasi persebaran data terlihat relatif lebih berada pada nilai *sulfate* yang lebih tinggi, salah satunya disebabkan terdapat *outliers* bawah yang nilainya relatif jauh lebih kecil dari elemen \"minimum\" boxplot dan *outliers* bawah lainnya. Visualisasi persebaran data juga terlihat relatif lebih runcing dibandingkan data *chloramines*."
   ]
  },
  {
   "cell_type": "code",
   "execution_count": 10,
   "metadata": {},
   "outputs": [
    {
     "data": {
      "image/png": "[encoded data removed]",
      "text/plain": [
       "<Figure size 1008x720 with 2 Axes>"
      ]
     },
     "metadata": {},
     "output_type": "display_data"
    }
   ],
   "source": [
    "box_hist_plot(wp[colsName[6]])"
   ]
  },
  {
   "cell_type": "markdown",
   "metadata": {},
   "source": [
    "***Conductivity***\n",
    "\n",
    "Berdasarkan kedua grafik *conductivity* di atas, terlihat bahwa persebaran data relatif cukup mendekati terdistribusi normal atau simetris. Terlihat bahwa nilai porsiran modus data relatif sedikit lebih besar dibandingkan nilai median data. Namun, perlu diperhatikan bahwa terdapat satu porsiran data yang jumlahnya relatif hampir sama dengan nilai modus tersebut dan nilainya relatif sedikit lebih kecil dibandingkan median data. Terhadap nilai Q1 dan Q3, nilai median atau Q2 relatif hampir simetris. Pun, selisih nilai elemen \"minimum\" boxplot dan Q1 terhadap selisih nilai elemen \"maksimum\" boxplot dan Q3 tampak relatif hampir mirip. Visualisasi persebaran data terlihat relatif lebih berada pada nilai *conductivity* yang lebih kecil, salah satunya disebabkan terdapat beberapa *outliers* atas, tetapi tidak terdapat nilai *outliers* bawah. Visualisasi persebaran data juga terlihat relatif cukup landai."
   ]
  },
  {
   "cell_type": "code",
   "execution_count": 11,
   "metadata": {},
   "outputs": [
    {
     "data": {
      "image/png": "[encoded data removed]",
      "text/plain": [
       "<Figure size 1008x720 with 2 Axes>"
      ]
     },
     "metadata": {},
     "output_type": "display_data"
    }
   ],
   "source": [
    "box_hist_plot(wp[colsName[7]])"
   ]
  },
  {
   "cell_type": "markdown",
   "metadata": {},
   "source": [
    "***OrganicCarbon***\n",
    "\n",
    "Berdasarkan kedua grafik *OrganicCarbon* di atas, terlihat bahwa persebaran data relatif cukup mendekati terdistribusi normal atau simetris. Terlihat bahwa nilai porsiran modus data lebih kecil dibandingkan nilai median data. Namun, perlu diperhatikan bahwa nilai-nilai porsiran data yang jumlahnya relatif hampir sama dengan nilai modus, seluruhnya relatif mendekati median dan nilainya lebih besar daripada nilai modus. Terhadap nilai Q1 dan Q3, nilai median atau Q2 relatif hampir simetris. Pun, selisih nilai elemen \"minimum\" boxplot dan Q1 terhadap selisih nilai elemen \"maksimum\" boxplot dan Q3 tampak relatif hampir sama. Terdapat *outliers* bawah dan atas. Baik *outliers* bawah maupun atas, terdapat *outlier* yang nilainya relatif cukup jauh terhadap nilai *outliers* lainnya (pada kelompoknya) dan juga terhadap nilai elemen \"minimum\" atau \"maksimum\" boxplot. Visualisasi persebaran data terlihat relatif sedang, yaitu tidak terlalu runcing dan tidak terlalu landai."
   ]
  },
  {
   "cell_type": "code",
   "execution_count": 12,
   "metadata": {},
   "outputs": [
    {
     "data": {
      "image/png": "[encoded data removed]",
      "text/plain": [
       "<Figure size 1008x720 with 2 Axes>"
      ]
     },
     "metadata": {},
     "output_type": "display_data"
    }
   ],
   "source": [
    "box_hist_plot(wp[colsName[8]])"
   ]
  },
  {
   "cell_type": "markdown",
   "metadata": {},
   "source": [
    "***Trihalomethanes***\n",
    "\n",
    "Berdasarkan kedua grafik *trihalomethanes* di atas, terlihat bahwa persebaran data relatif cukup mendekati terdistribusi normal atau simetris. Terlihat bahwa nilai porsiran modus data relatif sedikit lebih kecil dibandingkan nilai median data. Terhadap nilai Q1 dan Q3, nilai median atau Q2 relatif hampir simetris. Pun, selisih nilai elemen \"minimum\" boxplot dan Q1 terhadap selisih nilai elemen \"maksimum\" boxplot dan Q3 tampak relatif hampir sama. Terdapat *outliers* bawah dan atas. Visualisasi persebaran data terlihat relatif cukup runcing."
   ]
  },
  {
   "cell_type": "code",
   "execution_count": 13,
   "metadata": {},
   "outputs": [
    {
     "data": {
      "image/png": "[encoded data removed]",
      "text/plain": [
       "<Figure size 1008x720 with 2 Axes>"
      ]
     },
     "metadata": {},
     "output_type": "display_data"
    }
   ],
   "source": [
    "box_hist_plot(wp[colsName[9]])"
   ]
  },
  {
   "cell_type": "markdown",
   "metadata": {},
   "source": [
    "***Turbidity***\n",
    "\n",
    "Berdasarkan kedua grafik *turbidity* di atas, terlihat bahwa persebaran data relatif mendekati terdistribusi normal atau simetris. Terlihat bahwa nilai porsiran modus data relatif lebih kecil dibandingkan nilai median data. Namun, terdapat beberapa nilai yang banyaknya relatif mirip dengan nilai modus data dan nilai tersebut lebih besar dibandingkan nilai modus data. Terhadap nilai Q1 dan Q3, nilai median atau Q2 relatif hampir simetris. Pun, selisih nilai elemen \"minimum\" boxplot dan Q1 terhadap selisih nilai elemen \"maksimum\" boxplot dan Q3 tampak relatif hampir sama. Terdapat relatif sedikit *outliers* bawah dan atas. Visualisasi persebaran data terlihat relatif cukup landai."
   ]
  },
  {
   "cell_type": "code",
   "execution_count": 14,
   "metadata": {},
   "outputs": [
    {
     "data": {
      "image/png": "[encoded data removed]",
      "text/plain": [
       "<Figure size 1008x720 with 2 Axes>"
      ]
     },
     "metadata": {},
     "output_type": "display_data"
    }
   ],
   "source": [
    "box_hist_plot(wp[colsName[10]])"
   ]
  },
  {
   "cell_type": "markdown",
   "metadata": {},
   "source": [
    "***Potability***\n",
    "\n",
    "Berdasarkan kedua grafik *potability* di atas, dapat dilihat bahwa data *potability* hanya bernilai 0 atau 1. Terlihat juga bahwa data *potability* memiliki nilai modus dan median nol. Karena nilai 0 yang dapat dipastikan lebih banyak dibandingkan nilai 1, distribusi data relatif sedikit *positively skewed*."
   ]
  },
  {
   "cell_type": "markdown",
   "metadata": {},
   "source": [
    "\n",
    "**3. Menentukan setiap kolom numerik berdistribusi normal atau tidak**\n",
    "\n",
    "Normality test dilakukan dengan menggunakan library scipy.stats.normaltest() untuk masing-masing kolom, dengan alpha = 0.055.\n"
   ]
  },
  {
   "cell_type": "code",
   "execution_count": 243,
   "metadata": {},
   "outputs": [
    {
     "name": "stdout",
     "output_type": "stream",
     "text": [
      "Kolom 'pH' tidak terdistribusi normal\n",
      "\n",
      "Kolom 'Hardness' tidak terdistribusi normal\n",
      "\n",
      "Kolom 'Solids' tidak terdistribusi normal\n",
      "\n",
      "Kolom 'Chloramines' tidak terdistribusi normal\n",
      "\n",
      "Kolom 'Sulfate' tidak terdistribusi normal\n",
      "\n",
      "Kolom 'Conductivity' tidak terdistribusi normal\n",
      "\n",
      "Kolom 'OrganicCarbon' terdistribusi normal\n",
      "\n",
      "Kolom 'Trihalomethanes' terdistribusi normal\n",
      "\n",
      "Kolom 'Turbidity' terdistribusi normal\n",
      "\n"
     ]
    }
   ],
   "source": [
    "\n",
    "for col in colsName[1:10]:\n",
    "    k2, pvalue = st.normaltest(wp[col])\n",
    "\n",
    "    # bandingkan pvalue dengan alpha = 0.05\n",
    "    if (pvalue < 0.05):\n",
    "        print(\"Kolom '\" + col + \"' tidak terdistribusi normal\\n\")\n",
    "    else:\n",
    "        print(\"Kolom '\" + col + \"' terdistribusi normal\\n\")"
   ]
  },
  {
   "cell_type": "markdown",
   "metadata": {},
   "source": [
    "**4. Melakukan test hipotesis 1 sampel**\n",
    "\n",
    "dengan menuliskan 6 langkah testing dan menampilkan juga boxplotnya untuk kolom/bagian yang bersesuaian."
   ]
  },
  {
   "cell_type": "code",
   "execution_count": 225,
   "metadata": {},
   "outputs": [],
   "source": [
    "def calc_mean_z(data_mean, hyp_mean, data_std, tot_data):\n",
    "    return tot_data**(0.5)*(data_mean - hyp_mean)/data_std\n",
    "\n",
    "def calc_bin_z(real_prop, obs_prop, n_data):\n",
    "    return (real_prop - obs_prop)/(obs_prop*(1-obs_prop)/n_data)**0.5\n",
    "\n",
    "SAMPLE_SIZE = 345\n",
    "\n",
    "sample_wp = wp.sample(SAMPLE_SIZE)\n",
    "\n"
   ]
  },
  {
   "cell_type": "markdown",
   "metadata": {},
   "source": [
    "Dari total 2010 data, akan digunakan 345 sampel data untuk dilakukan pengujian hipotesis."
   ]
  },
  {
   "cell_type": "code",
   "execution_count": 230,
   "metadata": {},
   "outputs": [
    {
     "data": {
      "text/markdown": [
       "#### 4.a. Nilai rata-rata pH di atas 7?"
      ],
      "text/plain": [
       "<IPython.core.display.Markdown object>"
      ]
     },
     "metadata": {},
     "output_type": "display_data"
    },
    {
     "data": {
      "text/markdown": [
       "**1. Menentukan hipotesis nol**\n",
       "\n",
       "- $H_{0}: \\mu_{pH} = 7$\n",
       "\n"
      ],
      "text/plain": [
       "<IPython.core.display.Markdown object>"
      ]
     },
     "metadata": {},
     "output_type": "display_data"
    },
    {
     "data": {
      "text/markdown": [
       "**2. Pilih hipotesis alternatif**\n",
       "\n",
       "Dengan menerapkan **one-tailed-test** maka $H_{1}$ akan ditentukan sebagai berikut.\n",
       "\n",
       "- $H_{1}: \\mu_{pH} > 7$\n",
       "\n"
      ],
      "text/plain": [
       "<IPython.core.display.Markdown object>"
      ]
     },
     "metadata": {},
     "output_type": "display_data"
    },
    {
     "data": {
      "text/markdown": [
       "**3. Menentukan tingkat signifikan $\\alpha$**\n",
       "\n",
       "- $\\alpha = 0.05$\n",
       "\n"
      ],
      "text/plain": [
       "<IPython.core.display.Markdown object>"
      ]
     },
     "metadata": {},
     "output_type": "display_data"
    },
    {
     "data": {
      "text/markdown": [
       "**4. Menentukan uji statistik dan daerah kritis**\n",
       "\n",
       "Dengan menguji terhadap **distribusi normal $Z$**, didapat daerah kritis sebagai berikut.\n",
       "\n",
       "- $z > z_{0.05} = 1.6448536269514722$\n",
       "\n"
      ],
      "text/plain": [
       "<IPython.core.display.Markdown object>"
      ]
     },
     "metadata": {},
     "output_type": "display_data"
    },
    {
     "data": {
      "text/markdown": [
       "**5. Menghitung nilai uji statistik**\n",
       "\n",
       "- $z = \\frac{\\bar{x} - \\mu_{0}}{\\frac{\\sigma}{\\sqrt{n}}}\\\\z = 2.3128181867122457$\n",
       "\n",
       "Berdasarkan pengujian tersebut, karena nilai uji $z$ berada di daerah kritis, yaitu\n",
       "\n",
       "- $z = 2.3128181867122457 > z_{0.05} = 1.6448536269514722$\n",
       "\n",
       "maka $H_{0}$ ditolak\n",
       "\n"
      ],
      "text/plain": [
       "<IPython.core.display.Markdown object>"
      ]
     },
     "metadata": {},
     "output_type": "display_data"
    },
    {
     "data": {
      "text/markdown": [
       "**6. Menghitung nilai-$P$ berdasarkan uji statistik yang digunakan**\n",
       "\n",
       "- $P(Z > 2.3128181867122457) = 0.010366318718799753$\n",
       "\n",
       "Dengan turut mengevaluasi terhadap nilai-$P$, yaitu\n",
       "\n",
       "- $P(Z > 2.3128181867122457) = 0.010366318718799753 < \\alpha = 0.05$\n",
       "\n",
       "maka benar bahwa $H_{0}$ ditolak sehingga $H_{1}$ diterima, yakni nilai rata-rata pH adalah di atas 7"
      ],
      "text/plain": [
       "<IPython.core.display.Markdown object>"
      ]
     },
     "metadata": {},
     "output_type": "display_data"
    },
    {
     "data": {
      "text/plain": [
       "<AxesSubplot:>"
      ]
     },
     "execution_count": 230,
     "metadata": {},
     "output_type": "execute_result"
    },
    {
     "data": {
      "image/png": "[encoded data removed]",
      "text/plain": [
       "<Figure size 1008x720 with 1 Axes>"
      ]
     },
     "metadata": {},
     "output_type": "display_data"
    }
   ],
   "source": [
    "display(Markdown(\"#### 4.a. Nilai rata-rata pH di atas 7?\"))\n",
    "\n",
    "display(Markdown(\n",
    "                    \"**1. Menentukan hipotesis nol**\\n\\n\"\n",
    "\n",
    "                    \"- $\"\n",
    "                    \"H_{0}: \\\\mu_{pH} = 7\"\n",
    "                    \"$\\n\\n\"\n",
    "                ))\n",
    "\n",
    "display(Markdown(   \n",
    "                    \"**2. Pilih hipotesis alternatif**\\n\\n\"\n",
    "\n",
    "                    \"Dengan menerapkan **one-tailed test** maka $H_{1}$ akan ditentukan sebagai berikut.\\n\\n\"\n",
    "\n",
    "                    \"- $\"\n",
    "                    \"H_{1}: \\\\mu_{pH} > 7\"\n",
    "                    \"$\\n\\n\"\n",
    "                ))\n",
    "\n",
    "\n",
    "display(Markdown(   \n",
    "                    \"**3. Menentukan tingkat signifikan $\\\\alpha$**\\n\\n\"\n",
    "\n",
    "                    \"- $\"\n",
    "                    \"\\\\alpha = 0.05\"\n",
    "                    \"$\\n\\n\"\n",
    "                ))\n",
    "\n",
    "z_alpha = st.norm.ppf(1-.05)\n",
    "display(Markdown(   \n",
    "                    \"**4. Menentukan uji statistik dan daerah kritis**\\n\\n\"\n",
    "\n",
    "                    \"Dengan menguji terhadap **distribusi normal $Z$**, didapat daerah kritis sebagai berikut.\\n\\n\"\n",
    "\n",
    "                    \"- $\"\n",
    "                    \"z > z_{0.05} = \" + str(z_alpha) + \n",
    "                    \"$\\n\\n\"\n",
    "                ))\n",
    "\n",
    "z_val = calc_mean_z(sample_wp[\"pH\"].mean(), 7, sample_wp[\"pH\"].std(), SAMPLE_SIZE)\n",
    "display(Markdown(   \n",
    "                    \"**5. Menghitung nilai uji statistik**\\n\\n\"\n",
    "\n",
    "                    \"- $\"\n",
    "                    \"z = \\\\frac{\\\\bar{x} - \\\\mu_{0}}{\\\\frac{\\\\sigma}{\\\\sqrt{n}}}\\\\\\\\\"\n",
    "                    \"z = \" + str(z_val) +\n",
    "                    \"$\\n\\n\"\n",
    "\n",
    "                    \"Berdasarkan pengujian tersebut, karena nilai uji $z$ berada di daerah kritis, yaitu\\n\\n\"\n",
    "                    \"- $\"\n",
    "                    \"z = \" + str(z_val) + \" > z_{0.05} = \" + str(z_alpha) +\n",
    "                    \"$\\n\\n\" \n",
    "                    \n",
    "                    \"maka $H_{0}$ ditolak\\n\\n\"\n",
    "                ))\n",
    "\n",
    "p_val = st.norm.sf(abs(z_val))\n",
    "display(Markdown(\n",
    "                    \"**6. Menghitung nilai-$P$ berdasarkan uji statistik yang digunakan**\\n\\n\"\n",
    "\n",
    "                    \"- $\"\n",
    "                    \"P(Z > \" + str(z_val) +\") = \" + str(p_val) +\n",
    "                    \"$\\n\\n\"\n",
    "\n",
    "                    \"Dengan turut mengevaluasi terhadap nilai-$P$, yaitu\\n\\n\"\n",
    "                    \"- $\"\n",
    "                    \"P(Z > \" + str(z_val) +\") = \" + str(p_val) + \" < \\\\alpha = 0.05\"\n",
    "                    \"$\\n\\n\" \n",
    "                    \n",
    "                    \"maka benar bahwa $H_{0}$ ditolak sehingga $H_{1}$ diterima, yakni nilai rata-rata pH adalah di atas 7\"\n",
    "                ))\n",
    "\n",
    "sample_wp.boxplot([\"pH\"], figsize=(14,10))"
   ]
  },
  {
   "cell_type": "code",
   "execution_count": 231,
   "metadata": {},
   "outputs": [
    {
     "data": {
      "text/markdown": [
       "#### 4.b. Nilai rata-rata Hardness tidak sama dengan 205?"
      ],
      "text/plain": [
       "<IPython.core.display.Markdown object>"
      ]
     },
     "metadata": {},
     "output_type": "display_data"
    },
    {
     "data": {
      "text/markdown": [
       "**1. Menentukan hipotesis nol**\n",
       "\n",
       "- $H_{0}: \\mu_{hardness} = 205$\n",
       "\n"
      ],
      "text/plain": [
       "<IPython.core.display.Markdown object>"
      ]
     },
     "metadata": {},
     "output_type": "display_data"
    },
    {
     "data": {
      "text/markdown": [
       "**2. Pilih hipotesis alternatif**\n",
       "\n",
       "Dengan menerapkan **two-tailed-test** maka $H_{1}$ akan ditentukan sebagai berikut.\n",
       "\n",
       "- $H_{1}: \\mu_{hardness} \\neq 205$\n",
       "\n"
      ],
      "text/plain": [
       "<IPython.core.display.Markdown object>"
      ]
     },
     "metadata": {},
     "output_type": "display_data"
    },
    {
     "data": {
      "text/markdown": [
       "**3. Menentukan tingkat signifikan $\\alpha$**\n",
       "\n",
       "- $\\alpha = 0.05$\n",
       "\n"
      ],
      "text/plain": [
       "<IPython.core.display.Markdown object>"
      ]
     },
     "metadata": {},
     "output_type": "display_data"
    },
    {
     "data": {
      "text/markdown": [
       "**4. Menentukan uji statistik dan daerah kritis**\n",
       "\n",
       "Dengan menguji terhadap **distribusi normal $Z$**, didapat daerah-daerah kritis sebagai berikut.\n",
       "\n",
       "- $z > z_{0.025} = 1.959963984540054\\\\z < z_{0.025} = -1.959963984540054$\n",
       "\n"
      ],
      "text/plain": [
       "<IPython.core.display.Markdown object>"
      ]
     },
     "metadata": {},
     "output_type": "display_data"
    },
    {
     "data": {
      "text/markdown": [
       "**5. Menghitung nilai uji statistik**\n",
       "\n",
       "- $z = \\frac{\\bar{x} - \\mu_{0}}{\\frac{\\sigma}{\\sqrt{n}}}\\\\z = -4.7703007529487875$\n",
       "\n",
       "Berdasarkan pengujian tersebut, karena nilai uji $z$ berada di salah satu daerah kritis, yaitu\n",
       "\n",
       "- $z = -4.7703007529487875 < z_{0.025} = -1.959963984540054$\n",
       "\n",
       "maka $H_{0}$ ditolak\n",
       "\n"
      ],
      "text/plain": [
       "<IPython.core.display.Markdown object>"
      ]
     },
     "metadata": {},
     "output_type": "display_data"
    },
    {
     "data": {
      "text/markdown": [
       "**6. Menghitung nilai-$P$ berdasarkan uji statistik yang digunakan**\n",
       "\n",
       "- $P(Z < 4.7703007529487875) = 9.197553041797199e-07$\n",
       "\n",
       "Dengan turut mengevaluasi terhadap nilai-$P$, yaitu\n",
       "\n",
       "- $P(Z < 4.7703007529487875) = 9.197553041797199e-07 < \\alpha = 0.05$\n",
       "\n",
       "maka benar bahwa $H_{0}$ ditolak sehingga $H_{1}$ diterima, yakni nilai rata-rata $Hardness$ tidak sama dengan 205"
      ],
      "text/plain": [
       "<IPython.core.display.Markdown object>"
      ]
     },
     "metadata": {},
     "output_type": "display_data"
    },
    {
     "data": {
      "text/plain": [
       "<AxesSubplot:>"
      ]
     },
     "execution_count": 231,
     "metadata": {},
     "output_type": "execute_result"
    },
    {
     "data": {
      "image/png": "[encoded data removed]",
      "text/plain": [
       "<Figure size 1008x720 with 1 Axes>"
      ]
     },
     "metadata": {},
     "output_type": "display_data"
    }
   ],
   "source": [
    "display(Markdown(\"#### 4.b. Nilai rata-rata Hardness tidak sama dengan 205?\"))\n",
    "\n",
    "display(Markdown(\n",
    "                    \"**1. Menentukan hipotesis nol**\\n\\n\"\n",
    "\n",
    "                    \"- $\"\n",
    "                    \"H_{0}: \\\\mu_{hardness} = 205\"\n",
    "                    \"$\\n\\n\"\n",
    "                ))\n",
    "\n",
    "display(Markdown(   \n",
    "                    \"**2. Pilih hipotesis alternatif**\\n\\n\"\n",
    "\n",
    "                    \"Dengan menerapkan **two-tailed test** maka $H_{1}$ akan ditentukan sebagai berikut.\\n\\n\"\n",
    "\n",
    "                    \"- $\"\n",
    "                    \"H_{1}: \\\\mu_{hardness} \\\\neq 205\"\n",
    "                    \"$\\n\\n\"\n",
    "                ))\n",
    "\n",
    "\n",
    "display(Markdown(   \n",
    "                    \"**3. Menentukan tingkat signifikan $\\\\alpha$**\\n\\n\"\n",
    "\n",
    "                    \"- $\"\n",
    "                    \"\\\\alpha = 0.05\"\n",
    "                    \"$\\n\\n\"\n",
    "                ))\n",
    "\n",
    "z_alpha = st.norm.ppf(1-.025)\n",
    "display(Markdown(   \n",
    "                    \"**4. Menentukan uji statistik dan daerah kritis**\\n\\n\"\n",
    "\n",
    "                    \"Dengan menguji terhadap **distribusi normal $Z$**, didapat daerah-daerah kritis sebagai berikut.\\n\\n\"\n",
    "\n",
    "                    \"- $\"\n",
    "                    \"z > z_{0.025} = \" + str(z_alpha) + \"\\\\\\\\\"\n",
    "                    \"z < -z_{0.025} = \" + str(-z_alpha) + \n",
    "                    \"$\\n\\n\"\n",
    "                ))\n",
    "\n",
    "z_val = calc_mean_z(sample_wp[\"Hardness\"].mean(), 205, sample_wp[\"Hardness\"].std(), SAMPLE_SIZE)\n",
    "display(Markdown(   \n",
    "                    \"**5. Menghitung nilai uji statistik**\\n\\n\"\n",
    "\n",
    "                    \"- $\"\n",
    "                    \"z = \\\\frac{\\\\bar{x} - \\\\mu_{0}}{\\\\frac{\\\\sigma}{\\\\sqrt{n}}}\\\\\\\\\"\n",
    "                    \"z = \" + str(z_val) +\n",
    "                    \"$\\n\\n\"\n",
    "\n",
    "                    \"Berdasarkan pengujian tersebut, karena nilai uji $z$ berada di salah satu daerah kritis, yaitu\\n\\n\"\n",
    "                    \"- $\"\n",
    "                    \"z = \" + str(z_val) + \" < -z_{0.025} = \" + str(-z_alpha) +\n",
    "                    \"$\\n\\n\" \n",
    "                    \n",
    "                    \"maka $H_{0}$ ditolak\\n\\n\"\n",
    "                ))\n",
    "\n",
    "p_val = st.norm.sf(abs(z_val))\n",
    "display(Markdown(\n",
    "                    \"**6. Menghitung nilai-$P$ berdasarkan uji statistik yang digunakan**\\n\\n\"\n",
    "\n",
    "                    \"- $\"\n",
    "                    \"P(Z < \" + str(-z_val) +\") = \" + str(p_val) +\n",
    "                    \"$\\n\\n\"\n",
    "\n",
    "                    \"Dengan turut mengevaluasi terhadap nilai-$P$, yaitu\\n\\n\"\n",
    "                    \"- $\"\n",
    "                    \"P(Z < \" + str(-z_val) +\") = \" + str(p_val) + \" < \\\\alpha = 0.05\"\n",
    "                    \"$\\n\\n\" \n",
    "                    \n",
    "                    \"maka benar bahwa $H_{0}$ ditolak sehingga $H_{1}$ diterima, yakni nilai rata-rata $Hardness$ tidak sama dengan 205\"\n",
    "                ))\n",
    "\n",
    "sample_wp.boxplot([\"Hardness\"], figsize=(14,10))"
   ]
  },
  {
   "cell_type": "markdown",
   "metadata": {},
   "source": [
    "- Nilai Rata-rata Hardness tidak sama dengan 205?"
   ]
  },
  {
   "cell_type": "code",
   "execution_count": 242,
   "metadata": {},
   "outputs": [
    {
     "data": {
      "text/markdown": [
       "#### 4.c. Nilai Rata-rata 100 baris pertama kolom Solids bukan 21900?"
      ],
      "text/plain": [
       "<IPython.core.display.Markdown object>"
      ]
     },
     "metadata": {},
     "output_type": "display_data"
    },
    {
     "data": {
      "text/markdown": [
       "**1. Menentukan hipotesis nol**\n",
       "\n",
       "- $H_{0}: \\mu_{Solids_{1,100}} = 21900$\n",
       "\n"
      ],
      "text/plain": [
       "<IPython.core.display.Markdown object>"
      ]
     },
     "metadata": {},
     "output_type": "display_data"
    },
    {
     "data": {
      "text/markdown": [
       "**2. Pilih hipotesis alternatif**\n",
       "\n",
       "Dengan menerapkan **two-tailed-test** maka $H_{1}$ akan ditentukan sebagai berikut.\n",
       "\n",
       "- $H_{1}: \\mu_{Solids_{1,100}} \\neq 21900$\n",
       "\n"
      ],
      "text/plain": [
       "<IPython.core.display.Markdown object>"
      ]
     },
     "metadata": {},
     "output_type": "display_data"
    },
    {
     "data": {
      "text/markdown": [
       "**3. Menentukan tingkat signifikan $\\alpha$**\n",
       "\n",
       "- $\\alpha = 0.05$\n",
       "\n"
      ],
      "text/plain": [
       "<IPython.core.display.Markdown object>"
      ]
     },
     "metadata": {},
     "output_type": "display_data"
    },
    {
     "data": {
      "text/markdown": [
       "**4. Menentukan uji statistik dan daerah kritis**\n",
       "\n",
       "Dengan menguji terhadap **distribusi normal $z$**, didapat daerah-daerah kritis sebagai berikut.\n",
       "\n",
       "- $z > z_{0.025} = 1.959963984540054\\\\z < -z_{0.025} = -1.959963984540054$\n",
       "\n"
      ],
      "text/plain": [
       "<IPython.core.display.Markdown object>"
      ]
     },
     "metadata": {},
     "output_type": "display_data"
    },
    {
     "data": {
      "text/markdown": [
       "**5. Menghitung nilai uji statistik**\n",
       "\n",
       "- $z = \\frac{\\bar{x} - \\mu_{0}}{\\frac{\\sigma}{\\sqrt{n}}}\\\\z = -2.958268607752774$\n",
       "\n",
       "Berdasarkan pengujian tersebut, karena nilai uji $z$ berada di salah satu daerah kritis, yaitu\n",
       "\n",
       "- $z = -2.958268607752774 < -z_{0.025} = -1.959963984540054$\n",
       "\n",
       "maka $H_{0}$ ditolak\n",
       "\n"
      ],
      "text/plain": [
       "<IPython.core.display.Markdown object>"
      ]
     },
     "metadata": {},
     "output_type": "display_data"
    },
    {
     "data": {
      "text/markdown": [
       "**6. Menghitung nilai-$P$ berdasarkan uji statistik yang digunakan**\n",
       "\n",
       "- $P(Z < 2.958268607752774) = 0.0015468620639002273$\n",
       "\n",
       "Dengan turut mengevaluasi terhadap nilai-$P$, yaitu\n",
       "\n",
       "- $P(Z < 2.958268607752774) = 0.0015468620639002273 < \\alpha = 0.05$\n",
       "\n",
       "maka benar bahwa $H_{0}$ ditolak sehingga $H_{1}$ diterima, yakni nilai Rata-rata 100 baris pertama kolom Solids bukan 21900"
      ],
      "text/plain": [
       "<IPython.core.display.Markdown object>"
      ]
     },
     "metadata": {},
     "output_type": "display_data"
    },
    {
     "data": {
      "text/plain": [
       "<AxesSubplot:>"
      ]
     },
     "execution_count": 242,
     "metadata": {},
     "output_type": "execute_result"
    },
    {
     "data": {
      "image/png": "[encoded data removed]",
      "text/plain": [
       "<Figure size 1008x720 with 1 Axes>"
      ]
     },
     "metadata": {},
     "output_type": "display_data"
    }
   ],
   "source": [
    "display(Markdown(\"#### 4.c. Nilai Rata-rata 100 baris pertama kolom Solids bukan 21900?\"))\n",
    "\n",
    "display(Markdown(\n",
    "                    \"**1. Menentukan hipotesis nol**\\n\\n\"\n",
    "\n",
    "                    \"- $\"\n",
    "                    \"H_{0}: \\\\mu_{Solids_{1,100}} = 21900\"\n",
    "                    \"$\\n\\n\"\n",
    "                ))\n",
    "\n",
    "display(Markdown(   \n",
    "                    \"**2. Pilih hipotesis alternatif**\\n\\n\"\n",
    "\n",
    "                    \"Dengan menerapkan **two-tailed test** maka $H_{1}$ akan ditentukan sebagai berikut.\\n\\n\"\n",
    "\n",
    "                    \"- $\"\n",
    "                    \"H_{1}: \\\\mu_{Solids_{1,100}} \\\\neq 21900\"\n",
    "                    \"$\\n\\n\"\n",
    "                ))\n",
    "\n",
    "\n",
    "display(Markdown(   \n",
    "                    \"**3. Menentukan tingkat signifikan $\\\\alpha$**\\n\\n\"\n",
    "\n",
    "                    \"- $\"\n",
    "                    \"\\\\alpha = 0.05\"\n",
    "                    \"$\\n\\n\"\n",
    "                ))\n",
    "\n",
    "z_alpha = st.norm.ppf(1-.025)\n",
    "display(Markdown(   \n",
    "                    \"**4. Menentukan uji statistik dan daerah kritis**\\n\\n\"\n",
    "\n",
    "                    \"Dengan menguji terhadap **distribusi normal $z$**, didapat daerah-daerah kritis sebagai berikut.\\n\\n\"\n",
    "\n",
    "                    \"- $\"\n",
    "                    \"z > z_{0.025} = \" + str(z_alpha) + \"\\\\\\\\\"\n",
    "                    \"z < -z_{0.025} = \" + str(-z_alpha) + \n",
    "                    \"$\\n\\n\"\n",
    "                ))\n",
    "\n",
    "\n",
    "z_val = calc_mean_z(sample_wp[\"Solids\"].iloc[:100].mean(), 21900, sample_wp[\"Solids\"].iloc[:100].std(), SAMPLE_SIZE)\n",
    "display(Markdown(   \n",
    "                    \"**5. Menghitung nilai uji statistik**\\n\\n\"\n",
    "\n",
    "                    \"- $\"\n",
    "                    \"z = \\\\frac{\\\\bar{x} - \\\\mu_{0}}{\\\\frac{\\\\sigma}{\\\\sqrt{n}}}\\\\\\\\\"\n",
    "                    \"z = \" + str(z_val) +\n",
    "                    \"$\\n\\n\"\n",
    "\n",
    "                    \"Berdasarkan pengujian tersebut, karena nilai uji $z$ berada di salah satu daerah kritis, yaitu\\n\\n\"\n",
    "                    \"- $\"\n",
    "                    \"z = \" + str(z_val) + \" < -z_{0.025} = \" + str(-z_alpha) +\n",
    "                    \"$\\n\\n\" \n",
    "                    \n",
    "                    \"maka $H_{0}$ ditolak\\n\\n\"\n",
    "                ))\n",
    "\n",
    "p_val = st.norm.sf(abs(z_val))\n",
    "display(Markdown(\n",
    "                    \"**6. Menghitung nilai-$P$ berdasarkan uji statistik yang digunakan**\\n\\n\"\n",
    "\n",
    "                    \"- $\"\n",
    "                    \"P(Z < \" + str(-z_val) +\") = \" + str(p_val) +\n",
    "                    \"$\\n\\n\"\n",
    "\n",
    "                    \"Dengan turut mengevaluasi terhadap nilai-$P$, yaitu\\n\\n\"\n",
    "                    \"- $\"\n",
    "                    \"P(Z < \" + str(-z_val) +\") = \" + str(p_val) + \" < \\\\alpha = 0.05\"\n",
    "                    \"$\\n\\n\" \n",
    "                    \n",
    "                    \"maka benar bahwa $H_{0}$ ditolak sehingga $H_{1}$ diterima, yakni nilai Rata-rata 100 baris pertama kolom Solids bukan 21900\"\n",
    "                ))\n",
    "\n",
    "sample_wp.boxplot([\"Solids\"], figsize=(14,10))\n"
   ]
  },
  {
   "cell_type": "code",
   "execution_count": 232,
   "metadata": {},
   "outputs": [
    {
     "data": {
      "text/markdown": [
       "#### 4.d. Proporsi nilai Conductivity yang lebih dari 450, adalah tidak sama dengan 10%?"
      ],
      "text/plain": [
       "<IPython.core.display.Markdown object>"
      ]
     },
     "metadata": {},
     "output_type": "display_data"
    },
    {
     "data": {
      "text/markdown": [
       "**1. Menentukan hipotesis nol**\n",
       "\n",
       "- $H_{0}: P_{conductivity > 450} = 10\\%$\n",
       "\n"
      ],
      "text/plain": [
       "<IPython.core.display.Markdown object>"
      ]
     },
     "metadata": {},
     "output_type": "display_data"
    },
    {
     "data": {
      "text/markdown": [
       "**2. Pilih hipotesis alternatif**\n",
       "\n",
       "Dengan menerapkan ***two-tailed test*** maka $H_{1}$ akan ditentukan sebagai berikut.\n",
       "\n",
       "- $H_{1}: P_{conductivity > 450} \\neq 10\\%$\n",
       "\n"
      ],
      "text/plain": [
       "<IPython.core.display.Markdown object>"
      ]
     },
     "metadata": {},
     "output_type": "display_data"
    },
    {
     "data": {
      "text/markdown": [
       "**3. Menentukan tingkat signifikan $\\alpha$**\n",
       "\n",
       "- $\\alpha = 0.05$\n",
       "\n"
      ],
      "text/plain": [
       "<IPython.core.display.Markdown object>"
      ]
     },
     "metadata": {},
     "output_type": "display_data"
    },
    {
     "data": {
      "text/markdown": [
       "**4. Menentukan uji statistik dan daerah kritis**\n",
       "\n",
       "Dengan menguji terhadap **Binomial didekati normal**, didapat daerah-daerah kritis sebagai berikut.\n",
       "\n",
       "- $z > z_{0.025} = 1.959963984540054\\\\z < z_{0.025} = -1.959963984540054$\n",
       "\n"
      ],
      "text/plain": [
       "<IPython.core.display.Markdown object>"
      ]
     },
     "metadata": {},
     "output_type": "display_data"
    },
    {
     "data": {
      "text/markdown": [
       "**5. Menghitung nilai uji statistik**\n",
       "\n",
       "- $z = \\frac{\\hat{p} - p_{0}}{\\sqrt{\\frac{p_{0}q_{0}}{n}}}\\\\\\\\ \\\\\\hat{p} = 0.3710144927536232\\\\p_{0} = 0.1\\\\q_{0} = 0.9\\\\ \\\\z = 16.779569280812822$\n",
       "\n",
       "Berdasarkan pengujian tersebut, karena nilai uji $z$ berada di salah satu daerah kritis, yaitu\n",
       "\n",
       "- $z = 16.779569280812822 > z_{0.025} = 1.959963984540054$\n",
       "\n",
       "maka $H_{0}$ ditolak\n",
       "\n"
      ],
      "text/plain": [
       "<IPython.core.display.Markdown object>"
      ]
     },
     "metadata": {},
     "output_type": "display_data"
    },
    {
     "data": {
      "text/markdown": [
       "**6. Menghitung nilai-$P$ berdasarkan uji statistik yang digunakan**\n",
       "\n",
       "- $P(Z > 16.779569280812822) = 1.721622136566945e-63$\n",
       "\n",
       "Dengan turut mengevaluasi terhadap nilai-$P$, yaitu\n",
       "\n",
       "- $P(Z > 16.779569280812822) = 1.721622136566945e-63 < \\alpha = 0.05$\n",
       "\n",
       "maka benar bahwa $H_{0}$ ditolak sehingga $H_{1}$ diterima, yakni Proporsi nilai Conductivity yang lebih dari 450, adalah tidak sama dengan 10%"
      ],
      "text/plain": [
       "<IPython.core.display.Markdown object>"
      ]
     },
     "metadata": {},
     "output_type": "display_data"
    },
    {
     "data": {
      "text/plain": [
       "<AxesSubplot:>"
      ]
     },
     "execution_count": 232,
     "metadata": {},
     "output_type": "execute_result"
    },
    {
     "data": {
      "image/png": "[encoded data removed]",
      "text/plain": [
       "<Figure size 1008x720 with 1 Axes>"
      ]
     },
     "metadata": {},
     "output_type": "display_data"
    }
   ],
   "source": [
    "display(Markdown(\"#### 4.d. Proporsi nilai Conductivity yang lebih dari 450, adalah tidak sama dengan 10%?\"))\n",
    "\n",
    "display(Markdown(\n",
    "                    \"**1. Menentukan hipotesis nol**\\n\\n\"\n",
    "\n",
    "                    \"- $\"\n",
    "                    \"H_{0}: P_{conductivity > 450} = 10\\\\%\"\n",
    "                    \"$\\n\\n\"\n",
    "                ))\n",
    "\n",
    "display(Markdown(   \n",
    "                    \"**2. Pilih hipotesis alternatif**\\n\\n\"\n",
    "\n",
    "                    \"Dengan menerapkan ***two-tailed test*** maka $H_{1}$ akan ditentukan sebagai berikut.\\n\\n\"\n",
    "\n",
    "                    \"- $\"\n",
    "                    \"H_{1}: P_{conductivity > 450} \\\\neq 10\\\\%\"\n",
    "                    \"$\\n\\n\"\n",
    "                ))\n",
    "\n",
    "\n",
    "display(Markdown(   \n",
    "                    \"**3. Menentukan tingkat signifikan $\\\\alpha$**\\n\\n\"\n",
    "\n",
    "                    \"- $\"\n",
    "                    \"\\\\alpha = 0.05\"\n",
    "                    \"$\\n\\n\"\n",
    "                ))\n",
    "\n",
    "z_alpha = st.norm.ppf(1-.025)\n",
    "display(Markdown(   \n",
    "                    \"**4. Menentukan uji statistik dan daerah kritis**\\n\\n\"\n",
    "\n",
    "                    \"Dengan menguji terhadap **Binomial didekati normal**, didapat daerah-daerah kritis sebagai berikut.\\n\\n\"\n",
    "\n",
    "                    \"- $\"\n",
    "                    \"z > z_{0.025} = \" + str(z_alpha) + \"\\\\\\\\\"\n",
    "                    \"z < -z_{0.025} = \" + str(-z_alpha) + \n",
    "                    \"$\\n\\n\"\n",
    "                ))\n",
    "\n",
    "tot_obs_data = len(sample_wp[\"Conductivity\"].loc[sample_wp[\"Conductivity\"] > 450])\n",
    "sample_prop = tot_obs_data / SAMPLE_SIZE\n",
    "z_val = calc_bin_z(sample_prop, 0.1, SAMPLE_SIZE)\n",
    "display(Markdown(   \n",
    "                    \"**5. Menghitung nilai uji statistik**\\n\\n\"\n",
    "\n",
    "                    \"- $\"\n",
    "                    \"z = \\\\frac{\\\\hat{p} - p_{0}}{\\\\sqrt{\\\\frac{p_{0}q_{0}}{n}}}\\\\\\\\\"\n",
    "                    \"\\\\\\\\ \\\\\\\\\"\n",
    "                    \"\\\\hat{p} = \" + str(sample_prop) +\n",
    "                    \"\\\\\\\\\"\n",
    "                    \"p_{0} = 0.1\" \n",
    "                    \"\\\\\\\\\"\n",
    "                    \"q_{0} = 0.9\"\n",
    "                    \"\\\\\\\\ \\\\\\\\\"\n",
    "                    \"z = \" + str(z_val) +\n",
    "                    \"$\\n\\n\"\n",
    "\n",
    "                    \"Berdasarkan pengujian tersebut, karena nilai uji $z$ berada di salah satu daerah kritis, yaitu\\n\\n\"\n",
    "                    \"- $\"\n",
    "                    \"z = \" + str(z_val) + \" > z_{0.025} = \" + str(z_alpha) +\n",
    "                    \"$\\n\\n\" \n",
    "                    \n",
    "                    \"maka $H_{0}$ ditolak\\n\\n\"\n",
    "                ))\n",
    "\n",
    "p_val = st.norm.sf(abs(z_val))\n",
    "display(Markdown(\n",
    "                    \"**6. Menghitung nilai-$P$ berdasarkan uji statistik yang digunakan**\\n\\n\"\n",
    "\n",
    "                    \"- $\"\n",
    "                    \"P(Z > \" + str(z_val) +\") = \" + str(p_val) +\n",
    "                    \"$\\n\\n\"\n",
    "\n",
    "                    \"Dengan turut mengevaluasi terhadap nilai-$P$, yaitu\\n\\n\"\n",
    "                    \"- $\"\n",
    "                    \"P(Z > \" + str(z_val) +\") = \" + str(p_val) + \" < \\\\alpha = 0.05\"\n",
    "                    \"$\\n\\n\" \n",
    "                    \n",
    "                    \"maka benar bahwa $H_{0}$ ditolak sehingga $H_{1}$ diterima, yakni Proporsi nilai Conductivity yang lebih dari 450, adalah tidak sama dengan 10%\"\n",
    "                ))\n",
    "\n",
    "sample_wp.boxplot([\"Conductivity\"], figsize = (14,10))\n"
   ]
  },
  {
   "cell_type": "code",
   "execution_count": 238,
   "metadata": {},
   "outputs": [
    {
     "data": {
      "text/markdown": [
       "#### 4.e. Proporsi nilai Trihalomethanes yang kurang dari 40, adalah kurang dari 5%?"
      ],
      "text/plain": [
       "<IPython.core.display.Markdown object>"
      ]
     },
     "metadata": {},
     "output_type": "display_data"
    },
    {
     "data": {
      "text/markdown": [
       "**1. Menentukan hipotesis nol**\n",
       "\n",
       "- $H_{0}: P_{Trihalomethanes < 450} = 5\\%$\n",
       "\n"
      ],
      "text/plain": [
       "<IPython.core.display.Markdown object>"
      ]
     },
     "metadata": {},
     "output_type": "display_data"
    },
    {
     "data": {
      "text/markdown": [
       "**2. Pilih hipotesis alternatif**\n",
       "\n",
       "Dengan menerapkan ***one-tailed test*** maka $H_{1}$ akan ditentukan sebagai berikut.\n",
       "\n",
       "- $H_{0}: P_{Trihalomethanes < 450} < 5\\%$\n",
       "\n"
      ],
      "text/plain": [
       "<IPython.core.display.Markdown object>"
      ]
     },
     "metadata": {},
     "output_type": "display_data"
    },
    {
     "data": {
      "text/markdown": [
       "**3. Menentukan tingkat signifikan $\\alpha$**\n",
       "\n",
       "- $\\alpha = 0.05$\n",
       "\n"
      ],
      "text/plain": [
       "<IPython.core.display.Markdown object>"
      ]
     },
     "metadata": {},
     "output_type": "display_data"
    },
    {
     "data": {
      "text/markdown": [
       "**4. Menentukan uji statistik dan daerah kritis**\n",
       "\n",
       "Dengan menguji terhadap **Binomial didekati normal**, didapat daerah kritis sebagai berikut.\n",
       "\n",
       "- $z < -z_{0.05} = -1.6448536269514722$\n",
       "\n"
      ],
      "text/plain": [
       "<IPython.core.display.Markdown object>"
      ]
     },
     "metadata": {},
     "output_type": "display_data"
    },
    {
     "data": {
      "text/markdown": [
       "**5. Menghitung nilai uji statistik**\n",
       "\n",
       "- $z = \\frac{\\hat{p} - p_{0}}{\\sqrt{\\frac{p_{0}q_{0}}{n}}}\\\\\\\\ \\\\\\hat{p} = 0.034782608695652174\\\\p_{0} = 0.05\\\\q_{0} = 0.95\\\\ \\\\z = -1.296889431214681$\n",
       "\n",
       "Berdasarkan pengujian tersebut, karena nilai uji $z$ tidak berada di daerah kritis, yaitu\n",
       "\n",
       "- $z = -1.296889431214681 > z_{0.05} = -1.6448536269514722$\n",
       "\n",
       "maka $H_{0}$ gagal ditolak\n",
       "\n"
      ],
      "text/plain": [
       "<IPython.core.display.Markdown object>"
      ]
     },
     "metadata": {},
     "output_type": "display_data"
    },
    {
     "data": {
      "text/markdown": [
       "**6. Menghitung nilai-$P$ berdasarkan uji statistik yang digunakan**\n",
       "\n",
       "- $P(Z < -1.296889431214681) = 0.09733461673612476$\n",
       "\n",
       "Dengan turut mengevaluasi terhadap nilai-$P$, yaitu\n",
       "\n",
       "- $P(Z < -1.296889431214681) = 0.09733461673612476 > \\alpha = 0.05$\n",
       "\n",
       "maka benar bahwa $H_{0}$ gagal ditolak sehingga proporsi nilai Trihalomethanes yang kurang dari 40, adalah kurang dari 5%?"
      ],
      "text/plain": [
       "<IPython.core.display.Markdown object>"
      ]
     },
     "metadata": {},
     "output_type": "display_data"
    },
    {
     "data": {
      "text/plain": [
       "<AxesSubplot:>"
      ]
     },
     "execution_count": 238,
     "metadata": {},
     "output_type": "execute_result"
    },
    {
     "data": {
      "image/png": "[encoded data removed]",
      "text/plain": [
       "<Figure size 1008x720 with 1 Axes>"
      ]
     },
     "metadata": {},
     "output_type": "display_data"
    }
   ],
   "source": [
    "display(Markdown(\"#### 4.e. Proporsi nilai Trihalomethanes yang kurang dari 40, adalah kurang dari 5%?\"))\n",
    "\n",
    "display(Markdown(\n",
    "                    \"**1. Menentukan hipotesis nol**\\n\\n\"\n",
    "\n",
    "                    \"- $\"\n",
    "                    \"H_{0}: P_{Trihalomethanes < 450} = 5\\\\%\"\n",
    "                    \"$\\n\\n\"\n",
    "                ))\n",
    "\n",
    "display(Markdown(   \n",
    "                    \"**2. Pilih hipotesis alternatif**\\n\\n\"\n",
    "\n",
    "                    \"Dengan menerapkan ***one-tailed test*** maka $H_{1}$ akan ditentukan sebagai berikut.\\n\\n\"\n",
    "\n",
    "                    \"- $\"\n",
    "                    \"H_{1}: P_{Trihalomethanes < 450} < 5\\\\%\"\n",
    "                    \"$\\n\\n\"\n",
    "                ))\n",
    "\n",
    "\n",
    "display(Markdown(   \n",
    "                    \"**3. Menentukan tingkat signifikan $\\\\alpha$**\\n\\n\"\n",
    "\n",
    "                    \"- $\"\n",
    "                    \"\\\\alpha = 0.05\"\n",
    "                    \"$\\n\\n\"\n",
    "                ))\n",
    "\n",
    "z_alpha = st.norm.ppf(1-.05)\n",
    "display(Markdown(   \n",
    "                    \"**4. Menentukan uji statistik dan daerah kritis**\\n\\n\"\n",
    "\n",
    "                    \"Dengan menguji terhadap **Binomial didekati normal**, didapat daerah kritis sebagai berikut.\\n\\n\"\n",
    "\n",
    "                    \"- $\"\n",
    "                    \"z < -z_{0.05} = \" + str(-z_alpha) + \n",
    "                    \"$\\n\\n\"\n",
    "                ))\n",
    "\n",
    "tot_obs_data = len(sample_wp[\"Trihalomethanes\"].loc[sample_wp[\"Trihalomethanes\"] < 40])\n",
    "sample_prop = tot_obs_data / SAMPLE_SIZE\n",
    "z_val = calc_bin_z(sample_prop, 0.05, SAMPLE_SIZE)\n",
    "display(Markdown(   \n",
    "                    \"**5. Menghitung nilai uji statistik**\\n\\n\"\n",
    "\n",
    "                    \"- $\"\n",
    "                    \"z = \\\\frac{\\\\hat{p} - p_{0}}{\\\\sqrt{\\\\frac{p_{0}q_{0}}{n}}}\\\\\\\\\"\n",
    "                    \"\\\\\\\\ \\\\\\\\\"\n",
    "                    \"\\\\hat{p} = \" + str(sample_prop) +\n",
    "                    \"\\\\\\\\\"\n",
    "                    \"p_{0} = 0.05\" \n",
    "                    \"\\\\\\\\\"\n",
    "                    \"q_{0} = 0.95\"\n",
    "                    \"\\\\\\\\ \\\\\\\\\"\n",
    "                    \"z = \" + str(z_val) +\n",
    "                    \"$\\n\\n\"\n",
    "\n",
    "                    \"Berdasarkan pengujian tersebut, karena nilai uji $z$ tidak berada di daerah kritis, yaitu\\n\\n\"\n",
    "                    \"- $\"\n",
    "                    \"z = \" + str(z_val) + \" > z_{0.05} = \" + str(-z_alpha) +\n",
    "                    \"$\\n\\n\" \n",
    "                    \n",
    "                    \"maka $H_{0}$ gagal ditolak\\n\\n\"\n",
    "                ))\n",
    "\n",
    "p_val = st.norm.sf(abs(z_val))\n",
    "display(Markdown(\n",
    "                    \"**6. Menghitung nilai-$P$ berdasarkan uji statistik yang digunakan**\\n\\n\"\n",
    "\n",
    "                    \"- $\"\n",
    "                    \"P(Z < \" + str(z_val) +\") = \" + str(p_val) +\n",
    "                    \"$\\n\\n\"\n",
    "\n",
    "                    \"Dengan turut mengevaluasi terhadap nilai-$P$, yaitu\\n\\n\"\n",
    "                    \"- $\"\n",
    "                    \"P(Z < \" + str(z_val) +\") = \" + str(p_val) + \" > \\\\alpha = 0.05\"\n",
    "                    \"$\\n\\n\" \n",
    "                    \n",
    "                    \"maka benar bahwa $H_{0}$ gagal ditolak sehingga proporsi nilai Trihalomethanes yang kurang dari 40, adalah kurang dari 5%?\"\n",
    "                ))\n",
    "\n",
    "sample_wp.boxplot([\"Trihalomethanes\"], figsize = (14,10))\n",
    "\n",
    "\n"
   ]
  },
  {
   "cell_type": "markdown",
   "metadata": {},
   "source": [
    "\n",
    "### 5. Melakukan test hipotesis 2 sampel, dengan menuliskan 6 langkah testing\n",
    "\n",
    "Boxplot juga ditampilkan untuk kolom/bagian yang bersesuaian.\n",
    "1. Data kolom Sulfate dibagi 2 sama rata: bagian awal dan bagian akhir kolom. Benarkah rata-rata kedua bagian tersebut sama?"
   ]
  },
  {
   "cell_type": "code",
   "execution_count": 245,
   "metadata": {},
   "outputs": [
    {
     "data": {
      "text/markdown": [
       "Misal bagian awal = 1 dan bagian akhir = 2"
      ],
      "text/plain": [
       "<IPython.core.display.Markdown object>"
      ]
     },
     "metadata": {},
     "output_type": "display_data"
    },
    {
     "data": {
      "text/markdown": [
       "#### 1. Hipotesis nol"
      ],
      "text/plain": [
       "<IPython.core.display.Markdown object>"
      ]
     },
     "metadata": {},
     "output_type": "display_data"
    },
    {
     "data": {
      "text/markdown": [
       "$\n",
       "H_0 : \\mu_1 - \\mu_2 = 0$"
      ],
      "text/plain": [
       "<IPython.core.display.Markdown object>"
      ]
     },
     "metadata": {},
     "output_type": "display_data"
    },
    {
     "data": {
      "text/markdown": [
       "#### 2. Hipotesis alternatif"
      ],
      "text/plain": [
       "<IPython.core.display.Markdown object>"
      ]
     },
     "metadata": {},
     "output_type": "display_data"
    },
    {
     "data": {
      "text/markdown": [
       "$\n",
       "H_1 : \\mu_1 - \\mu_2 \\neq 0$ (Tipe tes: *two-tailed test)*"
      ],
      "text/plain": [
       "<IPython.core.display.Markdown object>"
      ]
     },
     "metadata": {},
     "output_type": "display_data"
    },
    {
     "data": {
      "text/markdown": [
       "#### 3. Tingkat signifikan $\\alpha = 0.05$"
      ],
      "text/plain": [
       "<IPython.core.display.Markdown object>"
      ]
     },
     "metadata": {},
     "output_type": "display_data"
    },
    {
     "data": {
      "text/markdown": [
       "#### 4. Uji statistik dan daerah kritis"
      ],
      "text/plain": [
       "<IPython.core.display.Markdown object>"
      ]
     },
     "metadata": {},
     "output_type": "display_data"
    },
    {
     "data": {
      "text/markdown": [
       "Uji test kali ini menggunakan **T-Test**. Diasumsikan kolom *Sulfate* berdistribusi normal dengan derajat kebebasan:"
      ],
      "text/plain": [
       "<IPython.core.display.Markdown object>"
      ]
     },
     "metadata": {},
     "output_type": "display_data"
    },
    {
     "data": {
      "text/markdown": [
       "\n",
       "$= n_1 + n_2 - 2 \n",
       "= 1005+1005 - 2 =2008$"
      ],
      "text/plain": [
       "<IPython.core.display.Markdown object>"
      ]
     },
     "metadata": {},
     "output_type": "display_data"
    },
    {
     "data": {
      "text/markdown": [
       "Dengan nilai derajat kebebasan tersebut, daerah kritis didapat dengan nilai $t' < -1.961146$ atau $t' > 1.961146$"
      ],
      "text/plain": [
       "<IPython.core.display.Markdown object>"
      ]
     },
     "metadata": {},
     "output_type": "display_data"
    },
    {
     "data": {
      "text/markdown": [
       "#### 5. Perhitungan nilai uji statistik dan p-value"
      ],
      "text/plain": [
       "<IPython.core.display.Markdown object>"
      ]
     },
     "metadata": {},
     "output_type": "display_data"
    },
    {
     "data": {
      "text/markdown": [
       "$\\bar{X}_1 = 331.30532950549565$"
      ],
      "text/plain": [
       "<IPython.core.display.Markdown object>"
      ]
     },
     "metadata": {},
     "output_type": "display_data"
    },
    {
     "data": {
      "text/markdown": [
       "$\\bar{X}_2 = 335.11742332488245$"
      ],
      "text/plain": [
       "<IPython.core.display.Markdown object>"
      ]
     },
     "metadata": {},
     "output_type": "display_data"
    },
    {
     "data": {
      "text/markdown": [
       "$S^2_1 = 1708.3966020772502$"
      ],
      "text/plain": [
       "<IPython.core.display.Markdown object>"
      ]
     },
     "metadata": {},
     "output_type": "display_data"
    },
    {
     "data": {
      "text/markdown": [
       "$S^2_2 = 1682.7330644425087$"
      ],
      "text/plain": [
       "<IPython.core.display.Markdown object>"
      ]
     },
     "metadata": {},
     "output_type": "display_data"
    },
    {
     "data": {
      "text/markdown": [
       "$n_1 = 1005,n_2 = 1005$"
      ],
      "text/plain": [
       "<IPython.core.display.Markdown object>"
      ]
     },
     "metadata": {},
     "output_type": "display_data"
    },
    {
     "data": {
      "text/markdown": [
       "$\n",
       "t' = \\frac{(\\bar{X}_1 - \\bar{X}_2)-d_0}{s_p\\sqrt{\\frac{1}{n_1} + 1\\frac{1}{n_2}}}$"
      ],
      "text/plain": [
       "<IPython.core.display.Markdown object>"
      ]
     },
     "metadata": {},
     "output_type": "display_data"
    },
    {
     "data": {
      "text/markdown": [
       "dengan $d_0 = \\mu_1 - \\mu_2 = 0$, dan"
      ],
      "text/plain": [
       "<IPython.core.display.Markdown object>"
      ]
     },
     "metadata": {},
     "output_type": "display_data"
    },
    {
     "data": {
      "text/markdown": [
       "$\n",
       "s^2_p = \\frac{S^2_1(n_1-1)+S^2_2(n_2-1)}{n_1 + n_2 - 2}$"
      ],
      "text/plain": [
       "<IPython.core.display.Markdown object>"
      ]
     },
     "metadata": {},
     "output_type": "display_data"
    },
    {
     "data": {
      "text/markdown": [
       "didapat $s^2_p =1695.5648332598796$, sehingga $t' = -2.0752690696871983$"
      ],
      "text/plain": [
       "<IPython.core.display.Markdown object>"
      ]
     },
     "metadata": {},
     "output_type": "display_data"
    },
    {
     "data": {
      "text/markdown": [
       "#### 6. Kesimpulan"
      ],
      "text/plain": [
       "<IPython.core.display.Markdown object>"
      ]
     },
     "metadata": {},
     "output_type": "display_data"
    },
    {
     "data": {
      "text/markdown": [
       "**$H_0$ DITOLAK** karena nilai $t'$ yang didapat **terletak** di daerah kritis, yaitu $t' < -1.961146$\n"
      ],
      "text/plain": [
       "<IPython.core.display.Markdown object>"
      ]
     },
     "metadata": {},
     "output_type": "display_data"
    }
   ],
   "source": [
    "\n",
    "n1 = wp['Sulfate'].count() // 2\n",
    "n2 = wp['Sulfate'].count() - n1\n",
    "\n",
    "sulfate_awal = wp.iloc[:n1,:]\n",
    "sulfate_akhir = wp.iloc[n2:,:]\n",
    "\n",
    "display(Markdown(\"Misal bagian awal = 1 dan bagian akhir = 2\"))\n",
    "display(Markdown(\"#### 1. Hipotesis nol\"))\n",
    "display(Markdown(\"$\\nH_0 : \\\\mu_1 - \\\\mu_2 = 0$\"))\n",
    "\n",
    "display(Markdown(\"#### 2. Hipotesis alternatif\"))\n",
    "display(Markdown(\"$\\nH_1 : \\\\mu_1 - \\\\mu_2 \\\\neq 0$ (Tipe tes: *two-tailed test)*\"))\n",
    "\n",
    "display(Markdown(\"#### 3. Tingkat signifikan $\\\\alpha = 0.05$\"))\n",
    "\n",
    "display(Markdown(\"#### 4. Uji statistik dan daerah kritis\"))\n",
    "display(Markdown(\"Uji test kali ini menggunakan **T-Test**. Diasumsikan kolom *Sulfate* berdistribusi normal dengan derajat kebebasan:\"))\n",
    "display(Markdown(\"\\n$= n_1 + n_2 - 2 \\n= \" + str(n1) + \"+\" + str(n2) + \" - 2 =\" + str(n1 + n2 - 2) +\"$\"))\n",
    "display(Markdown(\"Dengan nilai derajat kebebasan tersebut, daerah kritis didapat dengan nilai $t' < -1.961146$ atau $t' > 1.961146$\"))\n",
    "\n",
    "display(Markdown(\"#### 5. Perhitungan nilai uji statistik dan p-value\"))\n",
    "xbar1, xbar2 = sulfate_awal['Sulfate'].mean(), sulfate_akhir['Sulfate'].mean()\n",
    "var1, var2 = sulfate_awal['Sulfate'].var(), sulfate_akhir['Sulfate'].var()\n",
    "d0 = n1 - n2\n",
    "\n",
    "display(Markdown(\"$\\\\bar{X}_1 = \"+ str(xbar1) +\"$\"))\n",
    "display(Markdown(\"$\\\\bar{X}_2 = \" + str(xbar2) +\"$\"))\n",
    "display(Markdown(\"$S^2_1 = \"+ str(var1) +\"$\"))\n",
    "display(Markdown(\"$S^2_2 = \" + str(var2) +\"$\"))\n",
    "display(Markdown(\"$n_1 = \"+ str(n1) +\",n_2 = \"+ str(n2) +\"$\"))\n",
    "display(Markdown(\"$\\nt' = \\\\frac{(\\\\bar{X}_1 - \\\\bar{X}_2)-d_0}{s_p\\\\sqrt{\\\\frac{1}{n_1} + 1\\\\frac{1}{n_2}}}$\"))\n",
    "display(Markdown(\"dengan $d_0 = \\\\mu_1 - \\\\mu_2 = \" + str(d0) +\"$, dan\"))\n",
    "display(Markdown(\"$\\ns^2_p = \\\\frac{S^2_1(n_1-1)+S^2_2(n_2-1)}{n_1 + n_2 - 2}$\"))\n",
    "\n",
    "sp2 = (var1 * (n1 - 1) + var2 * (n2 - 1))/(n1 + n2 - 2)\n",
    "\n",
    "display(Markdown(\"didapat $s^2_p =\" + str(sp2) + \"$, sehingga $t' = \" +str(((xbar1 - xbar2) - d0)/((sp2**0.5)*((1/n1) + (1/n2))**0.5))+\"$\"))\n",
    "\n",
    "display(Markdown(\"#### 6. Kesimpulan\"))\n",
    "display(Markdown(\"**$H_0$ DITOLAK** karena nilai $t'$ yang didapat **terletak** di daerah kritis, yaitu $t' < -1.961146$\\n\"))\n"
   ]
  },
  {
   "cell_type": "code",
   "execution_count": 246,
   "metadata": {},
   "outputs": [
    {
     "name": "stdout",
     "output_type": "stream",
     "text": [
      "Boxplot kolom 'Sulfate' bagian awal\n"
     ]
    },
    {
     "data": {
      "text/plain": [
       "<AxesSubplot:>"
      ]
     },
     "execution_count": 246,
     "metadata": {},
     "output_type": "execute_result"
    },
    {
     "data": {
      "image/png": "[encoded data removed]",
      "text/plain": [
       "<Figure size 432x288 with 1 Axes>"
      ]
     },
     "metadata": {},
     "output_type": "display_data"
    }
   ],
   "source": [
    "print(\"Boxplot kolom 'Sulfate' bagian awal\")\n",
    "sulfate_awal.boxplot([\"Sulfate\"])"
   ]
  },
  {
   "cell_type": "code",
   "execution_count": 247,
   "metadata": {},
   "outputs": [
    {
     "name": "stdout",
     "output_type": "stream",
     "text": [
      "Boxplot kolom 'Sulfate' bagian akhir\n"
     ]
    },
    {
     "data": {
      "text/plain": [
       "<AxesSubplot:>"
      ]
     },
     "execution_count": 247,
     "metadata": {},
     "output_type": "execute_result"
    },
    {
     "data": {
      "image/png": "[encoded data removed]",
      "text/plain": [
       "<Figure size 432x288 with 1 Axes>"
      ]
     },
     "metadata": {},
     "output_type": "display_data"
    }
   ],
   "source": [
    "print(\"Boxplot kolom 'Sulfate' bagian akhir\")\n",
    "sulfate_akhir.boxplot([\"Sulfate\"])"
   ]
  },
  {
   "cell_type": "markdown",
   "metadata": {},
   "source": [
    "\n",
    "2. Data kolom OrganicCarbon dibagi 2 sama rata: bagian awal dan bagian akhir kolom. Benarkah rata-rata bagian awal lebih besar daripada bagian akhir sebesar 0.15?"
   ]
  },
  {
   "cell_type": "code",
   "execution_count": 249,
   "metadata": {},
   "outputs": [
    {
     "data": {
      "text/markdown": [
       "Misal bagian awal = 1 dan bagian akhir = 2"
      ],
      "text/plain": [
       "<IPython.core.display.Markdown object>"
      ]
     },
     "metadata": {},
     "output_type": "display_data"
    },
    {
     "data": {
      "text/markdown": [
       "#### 1. Hipotesis nol"
      ],
      "text/plain": [
       "<IPython.core.display.Markdown object>"
      ]
     },
     "metadata": {},
     "output_type": "display_data"
    },
    {
     "data": {
      "text/markdown": [
       "$\n",
       "H_0 : \\mu_1 - \\mu_2 = 0.15$"
      ],
      "text/plain": [
       "<IPython.core.display.Markdown object>"
      ]
     },
     "metadata": {},
     "output_type": "display_data"
    },
    {
     "data": {
      "text/markdown": [
       "#### 2. Hipotesis alternatif"
      ],
      "text/plain": [
       "<IPython.core.display.Markdown object>"
      ]
     },
     "metadata": {},
     "output_type": "display_data"
    },
    {
     "data": {
      "text/markdown": [
       "$\n",
       "H_1 : \\mu_1 - \\mu_2 > 0.15$ (Tipe tes: *one-tailed test)*"
      ],
      "text/plain": [
       "<IPython.core.display.Markdown object>"
      ]
     },
     "metadata": {},
     "output_type": "display_data"
    },
    {
     "data": {
      "text/markdown": [
       "#### 3. Tingkat signifikan $\\alpha = 0.05$"
      ],
      "text/plain": [
       "<IPython.core.display.Markdown object>"
      ]
     },
     "metadata": {},
     "output_type": "display_data"
    },
    {
     "data": {
      "text/markdown": [
       "#### 4. Uji statistik dan daerah kritis"
      ],
      "text/plain": [
       "<IPython.core.display.Markdown object>"
      ]
     },
     "metadata": {},
     "output_type": "display_data"
    },
    {
     "data": {
      "text/markdown": [
       "Uji test kali ini menggunakan **T-Test**. Kolom *OrganicCarbon* berdistribusi normal dengan derajat kebebasan:"
      ],
      "text/plain": [
       "<IPython.core.display.Markdown object>"
      ]
     },
     "metadata": {},
     "output_type": "display_data"
    },
    {
     "data": {
      "text/markdown": [
       "\n",
       "$= n_1 + n_2 - 2 \n",
       "= 1005+1005 - 2 =2008$"
      ],
      "text/plain": [
       "<IPython.core.display.Markdown object>"
      ]
     },
     "metadata": {},
     "output_type": "display_data"
    },
    {
     "data": {
      "text/markdown": [
       "Dengan nilai derajat kebebasan tersebut, daerah kritis didapat dengan nilai $t' > 1.645613$"
      ],
      "text/plain": [
       "<IPython.core.display.Markdown object>"
      ]
     },
     "metadata": {},
     "output_type": "display_data"
    },
    {
     "data": {
      "text/markdown": [
       "#### 5. Perhitungan nilai uji statistik dan p-value"
      ],
      "text/plain": [
       "<IPython.core.display.Markdown object>"
      ]
     },
     "metadata": {},
     "output_type": "display_data"
    },
    {
     "data": {
      "text/markdown": [
       "$\\bar{X}_1 = 14.253972723723393$"
      ],
      "text/plain": [
       "<IPython.core.display.Markdown object>"
      ]
     },
     "metadata": {},
     "output_type": "display_data"
    },
    {
     "data": {
      "text/markdown": [
       "$\\bar{X}_2 = 14.461907080372756$"
      ],
      "text/plain": [
       "<IPython.core.display.Markdown object>"
      ]
     },
     "metadata": {},
     "output_type": "display_data"
    },
    {
     "data": {
      "text/markdown": [
       "$S^2_1 = 11.230287224380323$"
      ],
      "text/plain": [
       "<IPython.core.display.Markdown object>"
      ]
     },
     "metadata": {},
     "output_type": "display_data"
    },
    {
     "data": {
      "text/markdown": [
       "$S^2_2 = 10.880581782847479$"
      ],
      "text/plain": [
       "<IPython.core.display.Markdown object>"
      ]
     },
     "metadata": {},
     "output_type": "display_data"
    },
    {
     "data": {
      "text/markdown": [
       "$n_1 = 1005,n_2 = 1005$"
      ],
      "text/plain": [
       "<IPython.core.display.Markdown object>"
      ]
     },
     "metadata": {},
     "output_type": "display_data"
    },
    {
     "data": {
      "text/markdown": [
       "$\n",
       "t' = \\frac{(\\bar{X}_1 - \\bar{X}_2)-d_0}{s_p\\sqrt{\\frac{1}{n_1} + \\frac{1}{n_2}}}$"
      ],
      "text/plain": [
       "<IPython.core.display.Markdown object>"
      ]
     },
     "metadata": {},
     "output_type": "display_data"
    },
    {
     "data": {
      "text/markdown": [
       "dengan $d_0 = \\mu_1 - \\mu_2 = 0$, dan"
      ],
      "text/plain": [
       "<IPython.core.display.Markdown object>"
      ]
     },
     "metadata": {},
     "output_type": "display_data"
    },
    {
     "data": {
      "text/markdown": [
       "$\n",
       "s^2_p = \\frac{S^2_1(n_1-1)+S^2_2(n_2-1)}{n_1 + n_2 - 2}$"
      ],
      "text/plain": [
       "<IPython.core.display.Markdown object>"
      ]
     },
     "metadata": {},
     "output_type": "display_data"
    },
    {
     "data": {
      "text/markdown": [
       "didapat $s^2_p =11.0554345036139$, sehingga $t' = -1.401865597485335$"
      ],
      "text/plain": [
       "<IPython.core.display.Markdown object>"
      ]
     },
     "metadata": {},
     "output_type": "display_data"
    },
    {
     "data": {
      "text/markdown": [
       "#### 6. Kesimpulan"
      ],
      "text/plain": [
       "<IPython.core.display.Markdown object>"
      ]
     },
     "metadata": {},
     "output_type": "display_data"
    },
    {
     "data": {
      "text/markdown": [
       "**$H_0$ TIDAK DITOLAK** karena nilai $t'$ yang didapat **TIDAK terletak** di daerah kritis, yaitu $t' > 1.645613$\n"
      ],
      "text/plain": [
       "<IPython.core.display.Markdown object>"
      ]
     },
     "metadata": {},
     "output_type": "display_data"
    }
   ],
   "source": [
    "n1 = wp['OrganicCarbon'].count() // 2\n",
    "n2 = wp['OrganicCarbon'].count() - n1\n",
    "\n",
    "oc_awal = wp.iloc[:n1,:]\n",
    "oc_akhir = wp.iloc[n2:,:]\n",
    "\n",
    "display(Markdown(\"Misal bagian awal = 1 dan bagian akhir = 2\"))\n",
    "display(Markdown(\"#### 1. Hipotesis nol\"))\n",
    "display(Markdown(\"$\\nH_0 : \\\\mu_1 - \\\\mu_2 = 0.15$\"))\n",
    "\n",
    "display(Markdown(\"#### 2. Hipotesis alternatif\"))\n",
    "display(Markdown(\"$\\nH_1 : \\\\mu_1 - \\\\mu_2 > 0.15$ (Tipe tes: *one-tailed test)*\"))\n",
    "\n",
    "display(Markdown(\"#### 3. Tingkat signifikan $\\\\alpha = 0.05$\"))\n",
    "\n",
    "display(Markdown(\"#### 4. Uji statistik dan daerah kritis\"))\n",
    "display(Markdown(\"Uji test kali ini menggunakan **T-Test**. Kolom *OrganicCarbon* berdistribusi normal dengan derajat kebebasan:\"))\n",
    "display(Markdown(\"\\n$= n_1 + n_2 - 2 \\n= \" + str(n1) + \"+\" + str(n2) + \" - 2 =\" + str(n1 + n2 - 2) +\"$\"))\n",
    "display(Markdown(\"Dengan nilai derajat kebebasan tersebut, daerah kritis didapat dengan nilai $t' > 1.645613$\"))\n",
    "\n",
    "display(Markdown(\"#### 5. Perhitungan nilai uji statistik dan p-value\"))\n",
    "xbar1, xbar2 = oc_awal['OrganicCarbon'].mean(), oc_akhir['OrganicCarbon'].mean()\n",
    "var1, var2 = oc_awal['OrganicCarbon'].var(), oc_akhir['OrganicCarbon'].var()\n",
    "d0 = n1 - n2\n",
    "\n",
    "display(Markdown(\"$\\\\bar{X}_1 = \"+ str(xbar1) +\"$\"))\n",
    "display(Markdown(\"$\\\\bar{X}_2 = \" + str(xbar2) +\"$\"))\n",
    "display(Markdown(\"$S^2_1 = \"+ str(var1) +\"$\"))\n",
    "display(Markdown(\"$S^2_2 = \" + str(var2) +\"$\"))\n",
    "display(Markdown(\"$n_1 = \"+ str(n1) +\",n_2 = \"+ str(n2) +\"$\"))\n",
    "display(Markdown(\"$\\nt' = \\\\frac{(\\\\bar{X}_1 - \\\\bar{X}_2)-d_0}{s_p\\\\sqrt{\\\\frac{1}{n_1} + \\\\frac{1}{n_2}}}$\"))\n",
    "display(Markdown(\"dengan $d_0 = \\\\mu_1 - \\\\mu_2 = \" + str(d0) +\"$, dan\"))\n",
    "display(Markdown(\"$\\ns^2_p = \\\\frac{S^2_1(n_1-1)+S^2_2(n_2-1)}{n_1 + n_2 - 2}$\"))\n",
    "\n",
    "sp2 = (var1 * (n1 - 1) + var2 * (n2 - 1))/(n1 + n2 - 2)\n",
    "\n",
    "display(Markdown(\"didapat $s^2_p =\" + str(sp2) + \"$, sehingga $t' = \" +str(((xbar1 - xbar2) - d0)/((sp2**0.5)*((1/n1) + (1/n2))**0.5))+\"$\"))\n",
    "\n",
    "display(Markdown(\"#### 6. Kesimpulan\"))\n",
    "display(Markdown(\"**$H_0$ TIDAK DITOLAK** karena nilai $t'$ yang didapat **TIDAK terletak** di daerah kritis, yaitu $t' > 1.645613$\\n\"))\n"
   ]
  },
  {
   "cell_type": "code",
   "execution_count": 250,
   "metadata": {},
   "outputs": [
    {
     "name": "stdout",
     "output_type": "stream",
     "text": [
      "Boxplot kolom 'OrganicCarbon' bagian awal\n"
     ]
    },
    {
     "data": {
      "text/plain": [
       "<AxesSubplot:>"
      ]
     },
     "execution_count": 250,
     "metadata": {},
     "output_type": "execute_result"
    },
    {
     "data": {
      "image/png": "[encoded data removed]",
      "text/plain": [
       "<Figure size 432x288 with 1 Axes>"
      ]
     },
     "metadata": {},
     "output_type": "display_data"
    }
   ],
   "source": [
    "print(\"Boxplot kolom 'OrganicCarbon' bagian awal\")\n",
    "oc_awal.boxplot([\"OrganicCarbon\"])"
   ]
  },
  {
   "cell_type": "code",
   "execution_count": 251,
   "metadata": {},
   "outputs": [
    {
     "name": "stdout",
     "output_type": "stream",
     "text": [
      "Boxplot kolom 'OrganicCarbon' bagian akhir\n"
     ]
    },
    {
     "data": {
      "text/plain": [
       "<AxesSubplot:>"
      ]
     },
     "execution_count": 251,
     "metadata": {},
     "output_type": "execute_result"
    },
    {
     "data": {
      "image/png": "[encoded data removed]",
      "text/plain": [
       "<Figure size 432x288 with 1 Axes>"
      ]
     },
     "metadata": {},
     "output_type": "display_data"
    }
   ],
   "source": [
    "print(\"Boxplot kolom 'OrganicCarbon' bagian akhir\")\n",
    "oc_akhir.boxplot([\"OrganicCarbon\"])\n",
    "\n"
   ]
  }
 ],
 "metadata": {
  "interpreter": {
   "hash": "97cc609b13305c559618ec78a438abc56230b9381f827f22d070313b9a1f3777"
  },
  "kernelspec": {
   "display_name": "Python 3.10.4 64-bit",
   "language": "python",
   "name": "python3"
  },
  "language_info": {
   "codemirror_mode": {
    "name": "ipython",
    "version": 3
   },
   "file_extension": ".py",
   "mimetype": "text/x-python",
   "name": "python",
   "nbconvert_exporter": "python",
   "pygments_lexer": "ipython3",
   "version": "3.10.4"
  },
  "orig_nbformat": 4
 },
 "nbformat": 4,
 "nbformat_minor": 2
}
