{
 "cells": [
  {
   "cell_type": "markdown",
   "metadata": {},
   "source": [
    "# Tugas Besar - IF2220 - Probabilitas dan Statistika\n",
    "## Penarikan Kesimpulan dan Pengujian Hipotesis"
   ]
  },
  {
   "cell_type": "markdown",
   "metadata": {},
   "source": [
    "### Soal Tugas"
   ]
  },
  {
   "cell_type": "markdown",
   "metadata": {},
   "source": [
    "Diberikan sebuah data water_potability.csv yang dapat diakses pada utas berikut: Dataset\n",
    "Tugas Besar IF2220. water_potability.csv merupakan data metrik kualitas air yang\n",
    "mengandung 11 kolom sebagai berikut:\n",
    "1. id\n",
    "2. pH\n",
    "3. Hardness\n",
    "4. Solids\n",
    "5. Chloramines\n",
    "6. Sulfate\n",
    "7. Conductivity\n",
    "8. OrganicCarbon\n",
    "9. Trihalomethanes\n",
    "10. Turbidity\n",
    "11. Potability\n",
    "\n",
    "Kolom 2-10 adalah kolom atribut (non-target), sedangkan kolom 11 adalah kolom target.\n",
    "Anda diminta untuk melakukan analisis statistika sebagai berikut: (Untuk nomor 4 dan 5, dipastikan data yang diberikan sudah merupakan sampel)"
   ]
  },
  {
   "cell_type": "code",
   "execution_count": 1,
   "metadata": {},
   "outputs": [],
   "source": [
    "# Markdown dan display untuk menulis di notebook\n",
    "from IPython.display import Markdown, display\n",
    "import pandas as pd\n",
    "import matplotlib.pyplot as plt\n",
    "import seaborn as sns\n",
    "import scipy.stats as st"
   ]
  },
  {
   "cell_type": "code",
   "execution_count": 2,
   "metadata": {},
   "outputs": [
    {
     "data": {
      "text/html": [
       "<div>\n",
       "<style scoped>\n",
       "    .dataframe tbody tr th:only-of-type {\n",
       "        vertical-align: middle;\n",
       "    }\n",
       "\n",
       "    .dataframe tbody tr th {\n",
       "        vertical-align: top;\n",
       "    }\n",
       "\n",
       "    .dataframe thead th {\n",
       "        text-align: right;\n",
       "    }\n",
       "</style>\n",
       "<table border=\"1\" class=\"dataframe\">\n",
       "  <thead>\n",
       "    <tr style=\"text-align: right;\">\n",
       "      <th></th>\n",
       "      <th>id</th>\n",
       "      <th>pH</th>\n",
       "      <th>Hardness</th>\n",
       "      <th>Solids</th>\n",
       "      <th>Chloramines</th>\n",
       "      <th>Sulfate</th>\n",
       "      <th>Conductivity</th>\n",
       "      <th>OrganicCarbon</th>\n",
       "      <th>Trihalomethanes</th>\n",
       "      <th>Turbidity</th>\n",
       "      <th>Potability</th>\n",
       "    </tr>\n",
       "  </thead>\n",
       "  <tbody>\n",
       "    <tr>\n",
       "      <th>0</th>\n",
       "      <td>1</td>\n",
       "      <td>8.316766</td>\n",
       "      <td>214.373394</td>\n",
       "      <td>22018.417441</td>\n",
       "      <td>8.059332</td>\n",
       "      <td>356.886136</td>\n",
       "      <td>363.266516</td>\n",
       "      <td>18.436524</td>\n",
       "      <td>100.341674</td>\n",
       "      <td>4.628771</td>\n",
       "      <td>0</td>\n",
       "    </tr>\n",
       "    <tr>\n",
       "      <th>1</th>\n",
       "      <td>2</td>\n",
       "      <td>9.092223</td>\n",
       "      <td>181.101509</td>\n",
       "      <td>17978.986339</td>\n",
       "      <td>6.546600</td>\n",
       "      <td>310.135738</td>\n",
       "      <td>398.410813</td>\n",
       "      <td>11.558279</td>\n",
       "      <td>31.997993</td>\n",
       "      <td>4.075075</td>\n",
       "      <td>0</td>\n",
       "    </tr>\n",
       "    <tr>\n",
       "      <th>2</th>\n",
       "      <td>3</td>\n",
       "      <td>5.584087</td>\n",
       "      <td>188.313324</td>\n",
       "      <td>28748.687739</td>\n",
       "      <td>7.544869</td>\n",
       "      <td>326.678363</td>\n",
       "      <td>280.467916</td>\n",
       "      <td>8.399735</td>\n",
       "      <td>54.917862</td>\n",
       "      <td>2.559708</td>\n",
       "      <td>0</td>\n",
       "    </tr>\n",
       "    <tr>\n",
       "      <th>3</th>\n",
       "      <td>4</td>\n",
       "      <td>10.223862</td>\n",
       "      <td>248.071735</td>\n",
       "      <td>28749.716544</td>\n",
       "      <td>7.513408</td>\n",
       "      <td>393.663396</td>\n",
       "      <td>283.651634</td>\n",
       "      <td>13.789695</td>\n",
       "      <td>84.603556</td>\n",
       "      <td>2.672989</td>\n",
       "      <td>0</td>\n",
       "    </tr>\n",
       "    <tr>\n",
       "      <th>4</th>\n",
       "      <td>5</td>\n",
       "      <td>8.635849</td>\n",
       "      <td>203.361523</td>\n",
       "      <td>13672.091764</td>\n",
       "      <td>4.563009</td>\n",
       "      <td>303.309771</td>\n",
       "      <td>474.607645</td>\n",
       "      <td>12.363817</td>\n",
       "      <td>62.798309</td>\n",
       "      <td>4.401425</td>\n",
       "      <td>0</td>\n",
       "    </tr>\n",
       "  </tbody>\n",
       "</table>\n",
       "</div>"
      ],
      "text/plain": [
       "   id         pH    Hardness        Solids  Chloramines     Sulfate  \\\n",
       "0   1   8.316766  214.373394  22018.417441     8.059332  356.886136   \n",
       "1   2   9.092223  181.101509  17978.986339     6.546600  310.135738   \n",
       "2   3   5.584087  188.313324  28748.687739     7.544869  326.678363   \n",
       "3   4  10.223862  248.071735  28749.716544     7.513408  393.663396   \n",
       "4   5   8.635849  203.361523  13672.091764     4.563009  303.309771   \n",
       "\n",
       "   Conductivity  OrganicCarbon  Trihalomethanes  Turbidity  Potability  \n",
       "0    363.266516      18.436524       100.341674   4.628771           0  \n",
       "1    398.410813      11.558279        31.997993   4.075075           0  \n",
       "2    280.467916       8.399735        54.917862   2.559708           0  \n",
       "3    283.651634      13.789695        84.603556   2.672989           0  \n",
       "4    474.607645      12.363817        62.798309   4.401425           0  "
      ]
     },
     "execution_count": 2,
     "metadata": {},
     "output_type": "execute_result"
    }
   ],
   "source": [
    "# Import data\n",
    "nama_kolom = ['id','pH','Hardness','Solids','Chloramines','Sulfate','Conductivity','OrganicCarbon','Trihalomethanes','Turbidity','Potability']\n",
    "water_potability = pd.read_csv(\"water_potability.csv\", names = nama_kolom)\n",
    "water_potability.head()"
   ]
  },
  {
   "cell_type": "markdown",
   "metadata": {},
   "source": [
    "### 3. Menentukan setiap kolom numerik berdistribusi normal atau tidak \n",
    "\n",
    "*Normality test* dilakukan untuk seluruh kolom, kecuali id dan Potability. *Normality test* dilakukan dengan meninjau histogram plot yang sudah ditampilkan di atas. \n",
    "- pH berdistribusi **normal**\n",
    "- Hardness berdistribusi **normal**\n",
    "- Solids **tidak** berdistribusi **normal**\n",
    "- Chloramines berdistribusi **normal**\n",
    "- Sulfate **tidak** berdistribusi **normal**\n",
    "- Conductivity **tidak** berdistribusi **normal**\n",
    "- OrganicCarbon berdistribusi **normal**\n",
    "- Trihalomethanes berdistribusi **normal**\n",
    "- Turbidity berdistribusi **normal**\n",
    "\n",
    "Normality test juga dilakukan dengan menggunakan library `scipy.stats.normaltest()` untuk masing-masing kolom, dengan alpha = 0.05. Hasilnya ditampilkan di bawah."
   ]
  },
  {
   "cell_type": "code",
   "execution_count": 3,
   "metadata": {},
   "outputs": [
    {
     "name": "stdout",
     "output_type": "stream",
     "text": [
      "Kolom 'pH' tidak terdistribusi normal\n",
      "Kolom 'Hardness' tidak terdistribusi normal\n",
      "Kolom 'Solids' tidak terdistribusi normal\n",
      "Kolom 'Chloramines' tidak terdistribusi normal\n",
      "Kolom 'Sulfate' tidak terdistribusi normal\n",
      "Kolom 'Conductivity' tidak terdistribusi normal\n",
      "Kolom 'OrganicCarbon' terdistribusi normal\n",
      "Kolom 'Trihalomethanes' terdistribusi normal\n",
      "Kolom 'Turbidity' terdistribusi normal\n"
     ]
    }
   ],
   "source": [
    "for i in nama_kolom:\n",
    "    if(i != \"id\" and i != \"Potability\"):\n",
    "        k2, pvalue = st.normaltest(water_potability[i])\n",
    "        # bandingkan pvalue dengan alpha = 0.05\n",
    "        if (pvalue < 0.05):\n",
    "            print(\"Kolom '\" + i + \"' tidak terdistribusi normal\")\n",
    "        else:\n",
    "            print(\"Kolom '\" + i + \"' terdistribusi normal\")"
   ]
  },
  {
   "cell_type": "markdown",
   "metadata": {},
   "source": [
    "### 5. Melakukan test hipotesis 2 sampel, dengan menuliskan 6 langkah testing \n",
    "Boxplot juga ditampilkan untuk kolom/bagian yang bersesuaian."
   ]
  },
  {
   "cell_type": "code",
   "execution_count": 4,
   "metadata": {},
   "outputs": [],
   "source": [
    "# definisi fungsi z_score 2 sample\n",
    "def z_score2(x1, x2, d0, var1, var2, n1, n2):\n",
    "    return ((x1 - x2) - d0) / (((var1 / n1) + (var2 / n2))**0.5)"
   ]
  },
  {
   "cell_type": "markdown",
   "metadata": {},
   "source": [
    "#### a. Data kolom Sulfate dibagi 2 sama rata: bagian awal dan bagian akhir kolom. Benarkah rata-rata kedua bagian tersebut sama?"
   ]
  },
  {
   "cell_type": "code",
   "execution_count": 5,
   "metadata": {},
   "outputs": [
    {
     "data": {
      "text/markdown": [
       "Misal bagian awal = 1 dan bagian akhir = 2"
      ],
      "text/plain": [
       "<IPython.core.display.Markdown object>"
      ]
     },
     "metadata": {},
     "output_type": "display_data"
    },
    {
     "data": {
      "text/markdown": [
       "#### 1. Hipotesis nol"
      ],
      "text/plain": [
       "<IPython.core.display.Markdown object>"
      ]
     },
     "metadata": {},
     "output_type": "display_data"
    },
    {
     "data": {
      "text/markdown": [
       "$\n",
       "H_0 : \\mu_1 - \\mu_2 = 0$"
      ],
      "text/plain": [
       "<IPython.core.display.Markdown object>"
      ]
     },
     "metadata": {},
     "output_type": "display_data"
    },
    {
     "data": {
      "text/markdown": [
       "#### 2. Hipotesis alternatif"
      ],
      "text/plain": [
       "<IPython.core.display.Markdown object>"
      ]
     },
     "metadata": {},
     "output_type": "display_data"
    },
    {
     "data": {
      "text/markdown": [
       "$\n",
       "H_1 : \\mu_1 - \\mu_2 \\neq 0$"
      ],
      "text/plain": [
       "<IPython.core.display.Markdown object>"
      ]
     },
     "metadata": {},
     "output_type": "display_data"
    },
    {
     "data": {
      "text/markdown": [
       "#### 3. Tingkat signifikan $\\alpha = 0.05$"
      ],
      "text/plain": [
       "<IPython.core.display.Markdown object>"
      ]
     },
     "metadata": {},
     "output_type": "display_data"
    },
    {
     "data": {
      "text/markdown": [
       "#### 4. Uji statistik dan daerah kritis"
      ],
      "text/plain": [
       "<IPython.core.display.Markdown object>"
      ]
     },
     "metadata": {},
     "output_type": "display_data"
    },
    {
     "data": {
      "text/markdown": [
       "Uji test kali ini menggunakan **Z-Test** dengan tipe *two-tailed test*. Daerah kritis: $z < -1.96$ atau $z > 1.96$"
      ],
      "text/plain": [
       "<IPython.core.display.Markdown object>"
      ]
     },
     "metadata": {},
     "output_type": "display_data"
    },
    {
     "data": {
      "text/markdown": [
       "#### 5. Perhitungan nilai uji statistik dan P-value"
      ],
      "text/plain": [
       "<IPython.core.display.Markdown object>"
      ]
     },
     "metadata": {},
     "output_type": "display_data"
    },
    {
     "data": {
      "text/markdown": [
       "$\\bar{X}_1 = 331.30532950549565$"
      ],
      "text/plain": [
       "<IPython.core.display.Markdown object>"
      ]
     },
     "metadata": {},
     "output_type": "display_data"
    },
    {
     "data": {
      "text/markdown": [
       "$\\bar{X}_2 = 335.11742332488245$"
      ],
      "text/plain": [
       "<IPython.core.display.Markdown object>"
      ]
     },
     "metadata": {},
     "output_type": "display_data"
    },
    {
     "data": {
      "text/markdown": [
       "$S^2_1 = 1708.3966020772502$"
      ],
      "text/plain": [
       "<IPython.core.display.Markdown object>"
      ]
     },
     "metadata": {},
     "output_type": "display_data"
    },
    {
     "data": {
      "text/markdown": [
       "$S^2_2 = 1682.7330644425087$"
      ],
      "text/plain": [
       "<IPython.core.display.Markdown object>"
      ]
     },
     "metadata": {},
     "output_type": "display_data"
    },
    {
     "data": {
      "text/markdown": [
       "$n_1 = 1005,n_2 = 1005$"
      ],
      "text/plain": [
       "<IPython.core.display.Markdown object>"
      ]
     },
     "metadata": {},
     "output_type": "display_data"
    },
    {
     "data": {
      "text/markdown": [
       "$\n",
       "z = \\frac{(\\bar{x}_1 - \\bar{x}_2)-d_0}{\\sqrt{\\sigma^2_1/n_1 + \\sigma^2_2/n_1}}$"
      ],
      "text/plain": [
       "<IPython.core.display.Markdown object>"
      ]
     },
     "metadata": {},
     "output_type": "display_data"
    },
    {
     "data": {
      "text/markdown": [
       "dengan $d_0 = \\mu_1 - \\mu_2 = 0$"
      ],
      "text/plain": [
       "<IPython.core.display.Markdown object>"
      ]
     },
     "metadata": {},
     "output_type": "display_data"
    },
    {
     "data": {
      "text/markdown": [
       "didapat $z = -2.0752690696871983$ sehingga $P = P(|Z| > 2.0752690696871983) = 2P(Z < -2.0752690696871983) \\approx 0.0376 < 0.05$"
      ],
      "text/plain": [
       "<IPython.core.display.Markdown object>"
      ]
     },
     "metadata": {},
     "output_type": "display_data"
    },
    {
     "data": {
      "text/markdown": [
       "#### 6. Kesimpulan"
      ],
      "text/plain": [
       "<IPython.core.display.Markdown object>"
      ]
     },
     "metadata": {},
     "output_type": "display_data"
    },
    {
     "data": {
      "text/markdown": [
       "**$H_0$ DITOLAK** karena P-value yang didapat lebih kecil dari $\\alpha$ ($z$ hasil perhitungan terletak di salah satu daerah kritis, yaitu $z < -1.96$\n"
      ],
      "text/plain": [
       "<IPython.core.display.Markdown object>"
      ]
     },
     "metadata": {},
     "output_type": "display_data"
    }
   ],
   "source": [
    "n1 = water_potability['Sulfate'].count() // 2\n",
    "n2 = water_potability['Sulfate'].count() - n1\n",
    "\n",
    "sulfate_awal = water_potability.iloc[:n1,:]\n",
    "sulfate_akhir = water_potability.iloc[n2:,:]\n",
    "\n",
    "display(Markdown(\"Misal bagian awal = 1 dan bagian akhir = 2\"))\n",
    "display(Markdown(\"#### 1. Hipotesis nol\"))\n",
    "display(Markdown(\"$\\nH_0 : \\\\mu_1 - \\\\mu_2 = 0$\"))\n",
    "\n",
    "display(Markdown(\"#### 2. Hipotesis alternatif\"))\n",
    "display(Markdown(\"$\\nH_1 : \\\\mu_1 - \\\\mu_2 \\\\neq 0$\"))\n",
    "\n",
    "display(Markdown(\"#### 3. Tingkat signifikan $\\\\alpha = 0.05$\"))\n",
    "\n",
    "display(Markdown(\"#### 4. Uji statistik dan daerah kritis\"))\n",
    "display(Markdown(\"Uji test kali ini menggunakan **Z-Test** dengan tipe *two-tailed test*. Daerah kritis: $z < -1.96$ atau $z > 1.96$\"))\n",
    "\n",
    "display(Markdown(\"#### 5. Perhitungan nilai uji statistik dan P-value\"))\n",
    "xbar1, xbar2 = sulfate_awal['Sulfate'].mean(), sulfate_akhir['Sulfate'].mean()\n",
    "var1, var2 = sulfate_awal['Sulfate'].var(), sulfate_akhir['Sulfate'].var()\n",
    "\n",
    "display(Markdown(\"$\\\\bar{X}_1 = \"+ str(xbar1) +\"$\"))\n",
    "display(Markdown(\"$\\\\bar{X}_2 = \" + str(xbar2) +\"$\"))\n",
    "display(Markdown(\"$S^2_1 = \"+ str(var1) +\"$\"))\n",
    "display(Markdown(\"$S^2_2 = \" + str(var2) +\"$\"))\n",
    "display(Markdown(\"$n_1 = \"+ str(n1) +\",n_2 = \"+ str(n2) +\"$\"))\n",
    "display(Markdown(\"$\\nz = \\\\frac{(\\\\bar{x}_1 - \\\\bar{x}_2)-d_0}{\\\\sqrt{\\\\sigma^2_1/n_1 + \\\\sigma^2_2/n_1}}$\"))\n",
    "display(Markdown(\"dengan $d_0 = \\\\mu_1 - \\\\mu_2 = 0$\"))\n",
    "\n",
    "z = z_score2(xbar1, xbar2, 0, var1, var2, n1, n2)\n",
    "\n",
    "display(Markdown(\"didapat $z = \"+str(z)+\"$ sehingga $P = P(|Z| > \"+str(abs(z))+\") = 2P(Z < \"+str(z)+\") \\\\approx \"+str(0.0188*2)+\" < 0.05$\"))\n",
    "\n",
    "display(Markdown(\"#### 6. Kesimpulan\"))\n",
    "display(Markdown(\"**$H_0$ DITOLAK** karena P-value yang didapat lebih kecil dari $\\\\alpha$ ($z$ hasil perhitungan terletak di salah satu daerah kritis, yaitu $z < -1.96$\\n\"))"
   ]
  },
  {
   "cell_type": "code",
   "execution_count": 6,
   "metadata": {},
   "outputs": [
    {
     "name": "stdout",
     "output_type": "stream",
     "text": [
      "Boxplot kolom 'Sulfate' bagian awal\n"
     ]
    },
    {
     "data": {
      "text/plain": [
       "<AxesSubplot:>"
      ]
     },
     "execution_count": 6,
     "metadata": {},
     "output_type": "execute_result"
    },
    {
     "data": {
      "image/png": "[encoded data removed]",
      "text/plain": [
       "<Figure size 432x288 with 1 Axes>"
      ]
     },
     "metadata": {
      "needs_background": "light"
     },
     "output_type": "display_data"
    }
   ],
   "source": [
    "print(\"Boxplot kolom 'Sulfate' bagian awal\")\n",
    "sulfate_awal.boxplot([\"Sulfate\"])"
   ]
  },
  {
   "cell_type": "code",
   "execution_count": 7,
   "metadata": {},
   "outputs": [
    {
     "name": "stdout",
     "output_type": "stream",
     "text": [
      "Boxplot kolom 'Sulfate' bagian akhir\n"
     ]
    },
    {
     "data": {
      "text/plain": [
       "<AxesSubplot:>"
      ]
     },
     "execution_count": 7,
     "metadata": {},
     "output_type": "execute_result"
    },
    {
     "data": {
      "image/png": "[encoded data removed]",
      "text/plain": [
       "<Figure size 432x288 with 1 Axes>"
      ]
     },
     "metadata": {
      "needs_background": "light"
     },
     "output_type": "display_data"
    }
   ],
   "source": [
    "print(\"Boxplot kolom 'Sulfate' bagian akhir\")\n",
    "sulfate_akhir.boxplot([\"Sulfate\"])"
   ]
  },
  {
   "cell_type": "markdown",
   "metadata": {},
   "source": [
    "#### b. Data kolom OrganicCarbon dibagi 2 sama rata: bagian awal dan bagian akhir kolom. Benarkah rata-rata bagian awal lebih besar daripada bagian akhir sebesar 0.15?"
   ]
  },
  {
   "cell_type": "code",
   "execution_count": 8,
   "metadata": {},
   "outputs": [
    {
     "data": {
      "text/markdown": [
       "Misal bagian awal = 1 dan bagian akhir = 2"
      ],
      "text/plain": [
       "<IPython.core.display.Markdown object>"
      ]
     },
     "metadata": {},
     "output_type": "display_data"
    },
    {
     "data": {
      "text/markdown": [
       "#### 1. Hipotesis nol"
      ],
      "text/plain": [
       "<IPython.core.display.Markdown object>"
      ]
     },
     "metadata": {},
     "output_type": "display_data"
    },
    {
     "data": {
      "text/markdown": [
       "$\n",
       "H_0 : \\mu_1 - \\mu_2 = 0.15$"
      ],
      "text/plain": [
       "<IPython.core.display.Markdown object>"
      ]
     },
     "metadata": {},
     "output_type": "display_data"
    },
    {
     "data": {
      "text/markdown": [
       "#### 2. Hipotesis alternatif"
      ],
      "text/plain": [
       "<IPython.core.display.Markdown object>"
      ]
     },
     "metadata": {},
     "output_type": "display_data"
    },
    {
     "data": {
      "text/markdown": [
       "$\n",
       "H_1 : \\mu_1 - \\mu_2 > 0.15$"
      ],
      "text/plain": [
       "<IPython.core.display.Markdown object>"
      ]
     },
     "metadata": {},
     "output_type": "display_data"
    },
    {
     "data": {
      "text/markdown": [
       "#### 3. Tingkat signifikan $\\alpha = 0.05$"
      ],
      "text/plain": [
       "<IPython.core.display.Markdown object>"
      ]
     },
     "metadata": {},
     "output_type": "display_data"
    },
    {
     "data": {
      "text/markdown": [
       "#### 4. Uji statistik dan daerah kritis"
      ],
      "text/plain": [
       "<IPython.core.display.Markdown object>"
      ]
     },
     "metadata": {},
     "output_type": "display_data"
    },
    {
     "data": {
      "text/markdown": [
       "Uji test kali ini menggunakan **Z-Test** dengan tipe *one-tailed test*. Daerah kritis: $z > 1.6449$"
      ],
      "text/plain": [
       "<IPython.core.display.Markdown object>"
      ]
     },
     "metadata": {},
     "output_type": "display_data"
    },
    {
     "data": {
      "text/markdown": [
       "#### 5. Perhitungan nilai uji statistik dan p-value"
      ],
      "text/plain": [
       "<IPython.core.display.Markdown object>"
      ]
     },
     "metadata": {},
     "output_type": "display_data"
    },
    {
     "data": {
      "text/markdown": [
       "$\\bar{X}_1 = 14.253972723723393$"
      ],
      "text/plain": [
       "<IPython.core.display.Markdown object>"
      ]
     },
     "metadata": {},
     "output_type": "display_data"
    },
    {
     "data": {
      "text/markdown": [
       "$\\bar{X}_2 = 14.461907080372756$"
      ],
      "text/plain": [
       "<IPython.core.display.Markdown object>"
      ]
     },
     "metadata": {},
     "output_type": "display_data"
    },
    {
     "data": {
      "text/markdown": [
       "$S^2_1 = 11.230287224380323$"
      ],
      "text/plain": [
       "<IPython.core.display.Markdown object>"
      ]
     },
     "metadata": {},
     "output_type": "display_data"
    },
    {
     "data": {
      "text/markdown": [
       "$S^2_2 = 10.880581782847479$"
      ],
      "text/plain": [
       "<IPython.core.display.Markdown object>"
      ]
     },
     "metadata": {},
     "output_type": "display_data"
    },
    {
     "data": {
      "text/markdown": [
       "$\n",
       "z = \\frac{(\\bar{x}_1 - \\bar{x}_2)-d_0}{\\sqrt{\\sigma^2_1/n_1 + \\sigma^2_2/n_1}}$"
      ],
      "text/plain": [
       "<IPython.core.display.Markdown object>"
      ]
     },
     "metadata": {},
     "output_type": "display_data"
    },
    {
     "data": {
      "text/markdown": [
       "dengan $d_0 = \\mu_1 - \\mu_2 = 0.15$"
      ],
      "text/plain": [
       "<IPython.core.display.Markdown object>"
      ]
     },
     "metadata": {},
     "output_type": "display_data"
    },
    {
     "data": {
      "text/markdown": [
       "didapat $z = -2.413145517798807$ sehingga $P = P(Z > -2.413145517798807) = 0.9920 > 0.05$"
      ],
      "text/plain": [
       "<IPython.core.display.Markdown object>"
      ]
     },
     "metadata": {},
     "output_type": "display_data"
    },
    {
     "data": {
      "text/markdown": [
       "#### 6. Kesimpulan"
      ],
      "text/plain": [
       "<IPython.core.display.Markdown object>"
      ]
     },
     "metadata": {},
     "output_type": "display_data"
    },
    {
     "data": {
      "text/markdown": [
       "**$H_0$ TIDAK DITOLAK** karena P-value yang didapat lebih besar dari $\\alpha$ ($z$ hasil perhitungan terletak di luar daerah kritis $z > 1.6449$\n"
      ],
      "text/plain": [
       "<IPython.core.display.Markdown object>"
      ]
     },
     "metadata": {},
     "output_type": "display_data"
    }
   ],
   "source": [
    "n1 = water_potability['OrganicCarbon'].count() // 2\n",
    "n2 = water_potability['OrganicCarbon'].count() - n1\n",
    "\n",
    "oc_awal = water_potability.iloc[:n1,:]\n",
    "oc_akhir = water_potability.iloc[n2:,:]\n",
    "\n",
    "display(Markdown(\"Misal bagian awal = 1 dan bagian akhir = 2\"))\n",
    "display(Markdown(\"#### 1. Hipotesis nol\"))\n",
    "display(Markdown(\"$\\nH_0 : \\\\mu_1 - \\\\mu_2 = 0.15$\"))\n",
    "\n",
    "display(Markdown(\"#### 2. Hipotesis alternatif\"))\n",
    "display(Markdown(\"$\\nH_1 : \\\\mu_1 - \\\\mu_2 > 0.15$\"))\n",
    "\n",
    "display(Markdown(\"#### 3. Tingkat signifikan $\\\\alpha = 0.05$\"))\n",
    "\n",
    "display(Markdown(\"#### 4. Uji statistik dan daerah kritis\"))\n",
    "display(Markdown(\"Uji test kali ini menggunakan **Z-Test** dengan tipe *one-tailed test*. Daerah kritis: $z > 1.6449$\"))\n",
    "\n",
    "display(Markdown(\"#### 5. Perhitungan nilai uji statistik dan p-value\"))\n",
    "xbar1, xbar2 = oc_awal['OrganicCarbon'].mean(), oc_akhir['OrganicCarbon'].mean()\n",
    "var1, var2 = oc_awal['OrganicCarbon'].var(), oc_akhir['OrganicCarbon'].var()\n",
    "\n",
    "display(Markdown(\"$\\\\bar{X}_1 = \"+ str(xbar1) +\"$\"))\n",
    "display(Markdown(\"$\\\\bar{X}_2 = \" + str(xbar2) +\"$\"))\n",
    "display(Markdown(\"$S^2_1 = \"+ str(var1) +\"$\"))\n",
    "display(Markdown(\"$S^2_2 = \" + str(var2) +\"$\"))\n",
    "display(Markdown(\"$\\nz = \\\\frac{(\\\\bar{x}_1 - \\\\bar{x}_2)-d_0}{\\\\sqrt{\\\\sigma^2_1/n_1 + \\\\sigma^2_2/n_1}}$\"))\n",
    "display(Markdown(\"dengan $d_0 = \\\\mu_1 - \\\\mu_2 = 0.15$\"))\n",
    "\n",
    "z = z_score2(xbar1, xbar2, 0.15, var1, var2, n1, n2)\n",
    "\n",
    "display(Markdown(\"didapat $z = \"+str(z)+\"$ sehingga $P = P(Z > \"+str(z)+\") = 0.9920 > 0.05$\"))\n",
    "\n",
    "display(Markdown(\"#### 6. Kesimpulan\"))\n",
    "display(Markdown(\"**$H_0$ TIDAK DITOLAK** karena P-value yang didapat lebih besar dari $\\\\alpha$ ($z$ hasil perhitungan terletak di luar daerah kritis $z > 1.6449$\\n\"))"
   ]
  },
  {
   "cell_type": "code",
   "execution_count": 9,
   "metadata": {},
   "outputs": [
    {
     "name": "stdout",
     "output_type": "stream",
     "text": [
      "Boxplot kolom 'OrganicCarbon' bagian awal\n"
     ]
    },
    {
     "data": {
      "text/plain": [
       "<AxesSubplot:>"
      ]
     },
     "execution_count": 9,
     "metadata": {},
     "output_type": "execute_result"
    },
    {
     "data": {
      "image/png": "[encoded data removed]",
      "text/plain": [
       "<Figure size 432x288 with 1 Axes>"
      ]
     },
     "metadata": {
      "needs_background": "light"
     },
     "output_type": "display_data"
    }
   ],
   "source": [
    "print(\"Boxplot kolom 'OrganicCarbon' bagian awal\")\n",
    "oc_awal.boxplot([\"OrganicCarbon\"])"
   ]
  },
  {
   "cell_type": "code",
   "execution_count": 10,
   "metadata": {},
   "outputs": [
    {
     "name": "stdout",
     "output_type": "stream",
     "text": [
      "Boxplot kolom 'OrganicCarbon' bagian akhir\n"
     ]
    },
    {
     "data": {
      "text/plain": [
       "<AxesSubplot:>"
      ]
     },
     "execution_count": 10,
     "metadata": {},
     "output_type": "execute_result"
    },
    {
     "data": {
      "image/png": "[encoded data removed]",
      "text/plain": [
       "<Figure size 432x288 with 1 Axes>"
      ]
     },
     "metadata": {
      "needs_background": "light"
     },
     "output_type": "display_data"
    }
   ],
   "source": [
    "print(\"Boxplot kolom 'OrganicCarbon' bagian akhir\")\n",
    "oc_akhir.boxplot([\"OrganicCarbon\"])"
   ]
  },
  {
   "cell_type": "markdown",
   "metadata": {},
   "source": [
    "#### c. Rata-rata 100 baris pertama kolom Chloramines sama dengan 100 baris terakhirnya?"
   ]
  },
  {
   "cell_type": "code",
   "execution_count": 11,
   "metadata": {},
   "outputs": [
    {
     "data": {
      "text/markdown": [
       "Misal bagian awal = 1 dan bagian akhir = 2"
      ],
      "text/plain": [
       "<IPython.core.display.Markdown object>"
      ]
     },
     "metadata": {},
     "output_type": "display_data"
    },
    {
     "data": {
      "text/markdown": [
       "#### 1. Hipotesis nol"
      ],
      "text/plain": [
       "<IPython.core.display.Markdown object>"
      ]
     },
     "metadata": {},
     "output_type": "display_data"
    },
    {
     "data": {
      "text/markdown": [
       "$\n",
       "H_0 : \\mu_1 - \\mu_2 = 0$"
      ],
      "text/plain": [
       "<IPython.core.display.Markdown object>"
      ]
     },
     "metadata": {},
     "output_type": "display_data"
    },
    {
     "data": {
      "text/markdown": [
       "#### 2. Hipotesis alternatif"
      ],
      "text/plain": [
       "<IPython.core.display.Markdown object>"
      ]
     },
     "metadata": {},
     "output_type": "display_data"
    },
    {
     "data": {
      "text/markdown": [
       "$\n",
       "H_1 : \\mu_1 - \\mu_2 \\neq 0$"
      ],
      "text/plain": [
       "<IPython.core.display.Markdown object>"
      ]
     },
     "metadata": {},
     "output_type": "display_data"
    },
    {
     "data": {
      "text/markdown": [
       "#### 3. Tingkat signifikan $\\alpha = 0.05$"
      ],
      "text/plain": [
       "<IPython.core.display.Markdown object>"
      ]
     },
     "metadata": {},
     "output_type": "display_data"
    },
    {
     "data": {
      "text/markdown": [
       "#### 4. Uji statistik dan daerah kritis"
      ],
      "text/plain": [
       "<IPython.core.display.Markdown object>"
      ]
     },
     "metadata": {},
     "output_type": "display_data"
    },
    {
     "data": {
      "text/markdown": [
       "Uji test kali ini menggunakan **Z-Test** dengan tipe *two-tailed test*. Daerah kritis: $z < -1.96$ atau $z > 1.96$"
      ],
      "text/plain": [
       "<IPython.core.display.Markdown object>"
      ]
     },
     "metadata": {},
     "output_type": "display_data"
    },
    {
     "data": {
      "text/markdown": [
       "#### 5. Perhitungan nilai uji statistik dan p-value"
      ],
      "text/plain": [
       "<IPython.core.display.Markdown object>"
      ]
     },
     "metadata": {},
     "output_type": "display_data"
    },
    {
     "data": {
      "text/markdown": [
       "$\\bar{X}_1 = 7.007771140423921$"
      ],
      "text/plain": [
       "<IPython.core.display.Markdown object>"
      ]
     },
     "metadata": {},
     "output_type": "display_data"
    },
    {
     "data": {
      "text/markdown": [
       "$\\bar{X}_2 = 7.147197636249925$"
      ],
      "text/plain": [
       "<IPython.core.display.Markdown object>"
      ]
     },
     "metadata": {},
     "output_type": "display_data"
    },
    {
     "data": {
      "text/markdown": [
       "$S^2_1 = 1.7077427735538262$"
      ],
      "text/plain": [
       "<IPython.core.display.Markdown object>"
      ]
     },
     "metadata": {},
     "output_type": "display_data"
    },
    {
     "data": {
      "text/markdown": [
       "$S^2_2 = 1.7077427735538262$"
      ],
      "text/plain": [
       "<IPython.core.display.Markdown object>"
      ]
     },
     "metadata": {},
     "output_type": "display_data"
    },
    {
     "data": {
      "text/markdown": [
       "$n_1 = 100,n_2 = 100$"
      ],
      "text/plain": [
       "<IPython.core.display.Markdown object>"
      ]
     },
     "metadata": {},
     "output_type": "display_data"
    },
    {
     "data": {
      "text/markdown": [
       "$\n",
       "z = \\frac{(\\bar{x}_1 - \\bar{x}_2)-d_0}{\\sqrt{\\sigma^2_1/n_1 + \\sigma^2_2/n_1}}$"
      ],
      "text/plain": [
       "<IPython.core.display.Markdown object>"
      ]
     },
     "metadata": {},
     "output_type": "display_data"
    },
    {
     "data": {
      "text/markdown": [
       "dengan $d_0 = \\mu_1 - \\mu_2 = 0$"
      ],
      "text/plain": [
       "<IPython.core.display.Markdown object>"
      ]
     },
     "metadata": {},
     "output_type": "display_data"
    },
    {
     "data": {
      "text/markdown": [
       "didapat $z = -0.7544302374237427$ sehingga $P = P(|Z| > 0.7544302374237427) = 2P(Z < -0.7544302374237427) \\approx 0.4532 > 0.05$"
      ],
      "text/plain": [
       "<IPython.core.display.Markdown object>"
      ]
     },
     "metadata": {},
     "output_type": "display_data"
    },
    {
     "data": {
      "text/markdown": [
       "#### 6. Kesimpulan"
      ],
      "text/plain": [
       "<IPython.core.display.Markdown object>"
      ]
     },
     "metadata": {},
     "output_type": "display_data"
    },
    {
     "data": {
      "text/markdown": [
       "**$H_0$ TIDAK DITOLAK** karena nilai $t'$ yang didapat **TIDAK terletak** di daerah kritis, yaitu $t' < -1.972017$\n"
      ],
      "text/plain": [
       "<IPython.core.display.Markdown object>"
      ]
     },
     "metadata": {},
     "output_type": "display_data"
    },
    {
     "data": {
      "text/markdown": [
       "**$H_0$ TIDAK DITOLAK** karena P-value yang didapat lebih besar dari $\\alpha$ ($z$ hasil perhitungan terletak di luar daerah kritis $z < -1.96$ atau $z > 1.96$\n"
      ],
      "text/plain": [
       "<IPython.core.display.Markdown object>"
      ]
     },
     "metadata": {},
     "output_type": "display_data"
    }
   ],
   "source": [
    "chloramines_awal = water_potability.iloc[:100,:]\n",
    "chloramines_akhir = water_potability.iloc[-100:,:]\n",
    "\n",
    "n1 = 100\n",
    "n2 = 100\n",
    "\n",
    "display(Markdown(\"Misal bagian awal = 1 dan bagian akhir = 2\"))\n",
    "display(Markdown(\"#### 1. Hipotesis nol\"))\n",
    "display(Markdown(\"$\\nH_0 : \\\\mu_1 - \\\\mu_2 = 0$\"))\n",
    "\n",
    "display(Markdown(\"#### 2. Hipotesis alternatif\"))\n",
    "display(Markdown(\"$\\nH_1 : \\\\mu_1 - \\\\mu_2 \\\\neq 0$\"))\n",
    "\n",
    "display(Markdown(\"#### 3. Tingkat signifikan $\\\\alpha = 0.05$\"))\n",
    "\n",
    "display(Markdown(\"#### 4. Uji statistik dan daerah kritis\"))\n",
    "display(Markdown(\"Uji test kali ini menggunakan **Z-Test** dengan tipe *two-tailed test*. Daerah kritis: $z < -1.96$ atau $z > 1.96$\"))\n",
    "\n",
    "display(Markdown(\"#### 5. Perhitungan nilai uji statistik dan p-value\"))\n",
    "xbar1, xbar2 = chloramines_awal['Chloramines'].mean(), chloramines_akhir['Chloramines'].mean()\n",
    "var1, var2 = chloramines_akhir['Chloramines'].var(), chloramines_akhir['Chloramines'].var()\n",
    "\n",
    "display(Markdown(\"$\\\\bar{X}_1 = \"+ str(xbar1) +\"$\"))\n",
    "display(Markdown(\"$\\\\bar{X}_2 = \" + str(xbar2) +\"$\"))\n",
    "display(Markdown(\"$S^2_1 = \"+ str(var1) +\"$\"))\n",
    "display(Markdown(\"$S^2_2 = \" + str(var2) +\"$\"))\n",
    "display(Markdown(\"$n_1 = \"+ str(n1) +\",n_2 = \"+ str(n2) +\"$\"))\n",
    "display(Markdown(\"$\\nz = \\\\frac{(\\\\bar{x}_1 - \\\\bar{x}_2)-d_0}{\\\\sqrt{\\\\sigma^2_1/n_1 + \\\\sigma^2_2/n_1}}$\"))\n",
    "display(Markdown(\"dengan $d_0 = \\\\mu_1 - \\\\mu_2 = 0$\"))\n",
    "\n",
    "z = z_score2(xbar1, xbar2, 0, var1, var2, n1, n2)\n",
    "\n",
    "display(Markdown(\"didapat $z = \"+str(z)+\"$ sehingga $P = P(|Z| > \"+str(abs(z))+\") = 2P(Z < \"+str(z)+\") \\\\approx \"+str(0.2266*2)+\" > 0.05$\"))\n",
    "\n",
    "display(Markdown(\"#### 6. Kesimpulan\"))\n",
    "display(Markdown(\"**$H_0$ TIDAK DITOLAK** karena nilai $t'$ yang didapat **TIDAK terletak** di daerah kritis, yaitu $t' < -1.972017$\\n\"))\n",
    "display(Markdown(\"**$H_0$ TIDAK DITOLAK** karena P-value yang didapat lebih besar dari $\\\\alpha$ ($z$ hasil perhitungan terletak di luar daerah kritis $z < -1.96$ atau $z > 1.96$\\n\"))"
   ]
  },
  {
   "cell_type": "code",
   "execution_count": 12,
   "metadata": {},
   "outputs": [
    {
     "name": "stdout",
     "output_type": "stream",
     "text": [
      "Boxplot kolom 'Chloramines' bagian awal\n"
     ]
    },
    {
     "data": {
      "text/plain": [
       "<AxesSubplot:>"
      ]
     },
     "execution_count": 12,
     "metadata": {},
     "output_type": "execute_result"
    },
    {
     "data": {
      "image/png": "[encoded data removed]",
      "text/plain": [
       "<Figure size 432x288 with 1 Axes>"
      ]
     },
     "metadata": {
      "needs_background": "light"
     },
     "output_type": "display_data"
    }
   ],
   "source": [
    "print(\"Boxplot kolom 'Chloramines' bagian awal\")\n",
    "chloramines_awal.boxplot([\"Chloramines\"])"
   ]
  },
  {
   "cell_type": "code",
   "execution_count": 13,
   "metadata": {},
   "outputs": [
    {
     "name": "stdout",
     "output_type": "stream",
     "text": [
      "Boxplot kolom 'Chloramines' bagian akhir\n"
     ]
    },
    {
     "data": {
      "text/plain": [
       "<AxesSubplot:>"
      ]
     },
     "execution_count": 13,
     "metadata": {},
     "output_type": "execute_result"
    },
    {
     "data": {
      "image/png": "[encoded data removed]",
      "text/plain": [
       "<Figure size 432x288 with 1 Axes>"
      ]
     },
     "metadata": {
      "needs_background": "light"
     },
     "output_type": "display_data"
    }
   ],
   "source": [
    "print(\"Boxplot kolom 'Chloramines' bagian akhir\")\n",
    "chloramines_akhir.boxplot([\"Chloramines\"])"
   ]
  },
  {
   "cell_type": "markdown",
   "metadata": {},
   "source": [
    "#### d. Proporsi nilai bagian awal Turbidity yang lebih dari 4, adalah lebih besar daripada, proporsi nilai yang sama di bagian akhir Turbidity?"
   ]
  },
  {
   "cell_type": "code",
   "execution_count": 14,
   "metadata": {},
   "outputs": [
    {
     "data": {
      "text/markdown": [
       "Misal bagian awal = 1 dan bagian akhir = 2"
      ],
      "text/plain": [
       "<IPython.core.display.Markdown object>"
      ]
     },
     "metadata": {},
     "output_type": "display_data"
    },
    {
     "data": {
      "text/markdown": [
       "#### 1. Hipotesis nol"
      ],
      "text/plain": [
       "<IPython.core.display.Markdown object>"
      ]
     },
     "metadata": {},
     "output_type": "display_data"
    },
    {
     "data": {
      "text/markdown": [
       "$\n",
       "H_0 : P(X_1 > 4) = P(X_2 > 4)$"
      ],
      "text/plain": [
       "<IPython.core.display.Markdown object>"
      ]
     },
     "metadata": {},
     "output_type": "display_data"
    },
    {
     "data": {
      "text/markdown": [
       "#### 2. Hipotesis alternatif"
      ],
      "text/plain": [
       "<IPython.core.display.Markdown object>"
      ]
     },
     "metadata": {},
     "output_type": "display_data"
    },
    {
     "data": {
      "text/markdown": [
       "$\n",
       "H_1 : P(X_1 > 4) > P(X_2 > 4)$"
      ],
      "text/plain": [
       "<IPython.core.display.Markdown object>"
      ]
     },
     "metadata": {},
     "output_type": "display_data"
    },
    {
     "data": {
      "text/markdown": [
       "#### 3. Tingkat signifikan $\\alpha = 0.05$"
      ],
      "text/plain": [
       "<IPython.core.display.Markdown object>"
      ]
     },
     "metadata": {},
     "output_type": "display_data"
    },
    {
     "data": {
      "text/markdown": [
       "#### 4. Uji statistik dan daerah kritis"
      ],
      "text/plain": [
       "<IPython.core.display.Markdown object>"
      ]
     },
     "metadata": {},
     "output_type": "display_data"
    },
    {
     "data": {
      "text/markdown": [
       "Uji test kali ini menggunakan **Z Test** dengan tipe tes *one-tailed test*. Daerah kritis: $z > 1.6449$"
      ],
      "text/plain": [
       "<IPython.core.display.Markdown object>"
      ]
     },
     "metadata": {},
     "output_type": "display_data"
    },
    {
     "data": {
      "text/markdown": [
       "#### 5. Perhitungan nilai uji statistik dan p-value"
      ],
      "text/plain": [
       "<IPython.core.display.Markdown object>"
      ]
     },
     "metadata": {},
     "output_type": "display_data"
    },
    {
     "data": {
      "text/markdown": [
       "$n_1 = 1005,n_2 = 1005$"
      ],
      "text/plain": [
       "<IPython.core.display.Markdown object>"
      ]
     },
     "metadata": {},
     "output_type": "display_data"
    },
    {
     "data": {
      "text/markdown": [
       "$\n",
       "\\hat{p}_1 = \\frac{x_1}{n_1} = 0.4835820895522388$"
      ],
      "text/plain": [
       "<IPython.core.display.Markdown object>"
      ]
     },
     "metadata": {},
     "output_type": "display_data"
    },
    {
     "data": {
      "text/markdown": [
       "$\n",
       "\\hat{p}_2 = \\frac{x_2}{n_2} = 0.48656716417910445$"
      ],
      "text/plain": [
       "<IPython.core.display.Markdown object>"
      ]
     },
     "metadata": {},
     "output_type": "display_data"
    },
    {
     "data": {
      "text/markdown": [
       "$\n",
       "\\hat{p} = \\frac{x_1 + x_2}{n_1 + n_2} = 0.48507462686567165$"
      ],
      "text/plain": [
       "<IPython.core.display.Markdown object>"
      ]
     },
     "metadata": {},
     "output_type": "display_data"
    },
    {
     "data": {
      "text/markdown": [
       "$\n",
       "z = \\frac{\\hat{p}_1 - \\hat{p}_2}{\\sqrt{\\bar{p}(1-\\bar{p})(\\frac{1}{n_1} + \\frac{1}{n_2})}}$"
      ],
      "text/plain": [
       "<IPython.core.display.Markdown object>"
      ]
     },
     "metadata": {},
     "output_type": "display_data"
    },
    {
     "data": {
      "text/markdown": [
       "didapat $z = -0.13388958661778735$ sehingga $P = P(Z > -0.13388958661778735) = 0.5517 > 0.05$"
      ],
      "text/plain": [
       "<IPython.core.display.Markdown object>"
      ]
     },
     "metadata": {},
     "output_type": "display_data"
    },
    {
     "data": {
      "text/markdown": [
       "#### 6. Kesimpulan"
      ],
      "text/plain": [
       "<IPython.core.display.Markdown object>"
      ]
     },
     "metadata": {},
     "output_type": "display_data"
    },
    {
     "data": {
      "text/markdown": [
       "**$H_0$ TIDAK DITOLAK** karena P-value yang didapat lebih besar dari $\\alpha$ ($z$ hasil perhitungan terletak di luar daerah kritis $z > 1.6449$\n"
      ],
      "text/plain": [
       "<IPython.core.display.Markdown object>"
      ]
     },
     "metadata": {},
     "output_type": "display_data"
    }
   ],
   "source": [
    "n1 = water_potability['Turbidity'].count() // 2\n",
    "n2 = water_potability['Turbidity'].count() - n1\n",
    "\n",
    "turbidity_awal = water_potability.iloc[:n1,:]\n",
    "turbidity_akhir = water_potability.iloc[n2:,:]\n",
    "\n",
    "display(Markdown(\"Misal bagian awal = 1 dan bagian akhir = 2\"))\n",
    "display(Markdown(\"#### 1. Hipotesis nol\"))\n",
    "display(Markdown(\"$\\nH_0 : P(X_1 > 4) = P(X_2 > 4)$\"))\n",
    "\n",
    "display(Markdown(\"#### 2. Hipotesis alternatif\"))\n",
    "display(Markdown(\"$\\nH_1 : P(X_1 > 4) > P(X_2 > 4)$\"))\n",
    "\n",
    "display(Markdown(\"#### 3. Tingkat signifikan $\\\\alpha = 0.05$\"))\n",
    "\n",
    "display(Markdown(\"#### 4. Uji statistik dan daerah kritis\"))\n",
    "display(Markdown(\"Uji test kali ini menggunakan **Z Test** dengan tipe tes *one-tailed test*. Daerah kritis: $z > 1.6449$\"))\n",
    "\n",
    "display(Markdown(\"#### 5. Perhitungan nilai uji statistik dan p-value\"))\n",
    "x1, x2 = 0, 0\n",
    "for item in turbidity_awal[\"Turbidity\"]:\n",
    "    if (item > 4):\n",
    "        x1 += 1\n",
    "for item in turbidity_akhir[\"Turbidity\"]:\n",
    "    if (item > 4):\n",
    "        x2 += 1\n",
    "\n",
    "phat1, phat2 = x1 / n1, x2 / n1\n",
    "phat = (x1 + x2) / (n1 + n2)\n",
    "\n",
    "display(Markdown(\"$n_1 = \"+ str(n1) +\",n_2 = \"+ str(n2) +\"$\"))\n",
    "display(Markdown(\"$\\n\\\\hat{p}_1 = \\\\frac{x_1}{n_1} = \" + str(phat1) +\"$\"))\n",
    "display(Markdown(\"$\\n\\\\hat{p}_2 = \\\\frac{x_2}{n_2} = \" + str(phat2) +\"$\"))\n",
    "display(Markdown(\"$\\n\\\\hat{p} = \\\\frac{x_1 + x_2}{n_1 + n_2} = \" + str(phat) +\"$\"))\n",
    "display(Markdown(\"$\\nz = \\\\frac{\\\\hat{p}_1 - \\\\hat{p}_2}{\\\\sqrt{\\\\bar{p}(1-\\\\bar{p})(\\\\frac{1}{n_1} + \\\\frac{1}{n_2})}}$\"))\n",
    "\n",
    "# alternate z_score function\n",
    "\n",
    "z = (phat1-phat2)/(phat*(1-phat)*((1/n1)+(1/n2)))**0.5\n",
    "display(Markdown(\"didapat $z = \"+str(z)+\"$ sehingga $P = P(Z > \"+str(z)+\") = 0.5517 > 0.05$\"))\n",
    "\n",
    "display(Markdown(\"#### 6. Kesimpulan\"))\n",
    "display(Markdown(\"**$H_0$ TIDAK DITOLAK** karena P-value yang didapat lebih besar dari $\\\\alpha$ ($z$ hasil perhitungan terletak di luar daerah kritis $z > 1.6449$\\n\"))"
   ]
  },
  {
   "cell_type": "code",
   "execution_count": 15,
   "metadata": {},
   "outputs": [
    {
     "name": "stdout",
     "output_type": "stream",
     "text": [
      "Boxplot kolom 'Turbidity' bagian awal\n"
     ]
    },
    {
     "data": {
      "text/plain": [
       "<AxesSubplot:>"
      ]
     },
     "execution_count": 15,
     "metadata": {},
     "output_type": "execute_result"
    },
    {
     "data": {
      "image/png": "[encoded data removed]",
      "text/plain": [
       "<Figure size 432x288 with 1 Axes>"
      ]
     },
     "metadata": {
      "needs_background": "light"
     },
     "output_type": "display_data"
    }
   ],
   "source": [
    "print(\"Boxplot kolom 'Turbidity' bagian awal\")\n",
    "turbidity_awal.boxplot([\"Turbidity\"])"
   ]
  },
  {
   "cell_type": "code",
   "execution_count": 16,
   "metadata": {},
   "outputs": [
    {
     "name": "stdout",
     "output_type": "stream",
     "text": [
      "Boxplot kolom 'Turbidity' bagian awal\n"
     ]
    },
    {
     "data": {
      "text/plain": [
       "<AxesSubplot:>"
      ]
     },
     "execution_count": 16,
     "metadata": {},
     "output_type": "execute_result"
    },
    {
     "data": {
      "image/png": "[encoded data removed]",
      "text/plain": [
       "<Figure size 432x288 with 1 Axes>"
      ]
     },
     "metadata": {
      "needs_background": "light"
     },
     "output_type": "display_data"
    }
   ],
   "source": [
    "print(\"Boxplot kolom 'Turbidity' bagian awal\")\n",
    "turbidity_akhir.boxplot([\"Turbidity\"])"
   ]
  },
  {
   "cell_type": "markdown",
   "metadata": {},
   "source": [
    "#### e. Bagian awal kolom Sulfate memiliki variansi yang sama dengan bagian akhirnya?"
   ]
  },
  {
   "cell_type": "code",
   "execution_count": 17,
   "metadata": {},
   "outputs": [
    {
     "data": {
      "text/markdown": [
       "Misal bagian awal = 1 dan bagian akhir = 2"
      ],
      "text/plain": [
       "<IPython.core.display.Markdown object>"
      ]
     },
     "metadata": {},
     "output_type": "display_data"
    },
    {
     "data": {
      "text/markdown": [
       "#### 1. Hipotesis nol"
      ],
      "text/plain": [
       "<IPython.core.display.Markdown object>"
      ]
     },
     "metadata": {},
     "output_type": "display_data"
    },
    {
     "data": {
      "text/markdown": [
       "$\n",
       "H_0 : \\sigma^2_1 - \\sigma^2_2 = 0$"
      ],
      "text/plain": [
       "<IPython.core.display.Markdown object>"
      ]
     },
     "metadata": {},
     "output_type": "display_data"
    },
    {
     "data": {
      "text/markdown": [
       "#### 2. Hipotesis alternatif"
      ],
      "text/plain": [
       "<IPython.core.display.Markdown object>"
      ]
     },
     "metadata": {},
     "output_type": "display_data"
    },
    {
     "data": {
      "text/markdown": [
       "$\n",
       "H_1 : \\sigma^2_1 - \\sigma^2_2 \\neq 0$ (Tipe tes: *two-tailed test)*"
      ],
      "text/plain": [
       "<IPython.core.display.Markdown object>"
      ]
     },
     "metadata": {},
     "output_type": "display_data"
    },
    {
     "data": {
      "text/markdown": [
       "#### 3. Tingkat signifikan $\\alpha = 0.05$"
      ],
      "text/plain": [
       "<IPython.core.display.Markdown object>"
      ]
     },
     "metadata": {},
     "output_type": "display_data"
    },
    {
     "data": {
      "text/markdown": [
       "#### 4. Uji statistik dan daerah kritis"
      ],
      "text/plain": [
       "<IPython.core.display.Markdown object>"
      ]
     },
     "metadata": {},
     "output_type": "display_data"
    },
    {
     "data": {
      "text/markdown": [
       "Uji test kali ini menggunakan uji **Distribusi F**. Diasumsikan kolom *Sulfate* berdistribusi normal dengan derajat kebebasan:"
      ],
      "text/plain": [
       "<IPython.core.display.Markdown object>"
      ]
     },
     "metadata": {},
     "output_type": "display_data"
    },
    {
     "data": {
      "text/markdown": [
       "\n",
       "$v_1 = n_1 - 1 = 1004, v_1 = n_1 - 1 = 1004$"
      ],
      "text/plain": [
       "<IPython.core.display.Markdown object>"
      ]
     },
     "metadata": {},
     "output_type": "display_data"
    },
    {
     "data": {
      "text/markdown": [
       "Dengan nilai derajat kebebasan tersebut, daerah kritis didapat dengan nilai $f < 0.90152732$ atau $f > 1.10922872$"
      ],
      "text/plain": [
       "<IPython.core.display.Markdown object>"
      ]
     },
     "metadata": {},
     "output_type": "display_data"
    },
    {
     "data": {
      "text/markdown": [
       "#### 5. Perhitungan nilai uji statistik dan p-value"
      ],
      "text/plain": [
       "<IPython.core.display.Markdown object>"
      ]
     },
     "metadata": {},
     "output_type": "display_data"
    },
    {
     "data": {
      "text/markdown": [
       "$s^2_1 = 1708.3966020772502$"
      ],
      "text/plain": [
       "<IPython.core.display.Markdown object>"
      ]
     },
     "metadata": {},
     "output_type": "display_data"
    },
    {
     "data": {
      "text/markdown": [
       "$s^2_2 = 1682.7330644425087$"
      ],
      "text/plain": [
       "<IPython.core.display.Markdown object>"
      ]
     },
     "metadata": {},
     "output_type": "display_data"
    },
    {
     "data": {
      "text/markdown": [
       "$n_1 = 1005,n_2 = 1005$"
      ],
      "text/plain": [
       "<IPython.core.display.Markdown object>"
      ]
     },
     "metadata": {},
     "output_type": "display_data"
    },
    {
     "data": {
      "text/markdown": [
       "$\n",
       "f = \\frac{s^2_1}{s^2_2}$"
      ],
      "text/plain": [
       "<IPython.core.display.Markdown object>"
      ]
     },
     "metadata": {},
     "output_type": "display_data"
    },
    {
     "data": {
      "text/markdown": [
       "didapat $f =1.0152511043950063$"
      ],
      "text/plain": [
       "<IPython.core.display.Markdown object>"
      ]
     },
     "metadata": {},
     "output_type": "display_data"
    },
    {
     "data": {
      "text/markdown": [
       "#### 6. Kesimpulan"
      ],
      "text/plain": [
       "<IPython.core.display.Markdown object>"
      ]
     },
     "metadata": {},
     "output_type": "display_data"
    },
    {
     "data": {
      "text/markdown": [
       "**$H_0$ TIDAK DITOLAK** karena nilai $t$ yang didapat **tidak terletak** di daerah kritis, melainkan terletak di $0.90152732 \\le f \\le 1.10922872 $\n"
      ],
      "text/plain": [
       "<IPython.core.display.Markdown object>"
      ]
     },
     "metadata": {},
     "output_type": "display_data"
    }
   ],
   "source": [
    "n1 = water_potability['Sulfate'].count() // 2\n",
    "n2 = water_potability['Sulfate'].count() - n1\n",
    "\n",
    "sulfate_awal = water_potability.iloc[:n1,:]\n",
    "sulfate_akhir = water_potability.iloc[n2:,:]\n",
    "\n",
    "display(Markdown(\"Misal bagian awal = 1 dan bagian akhir = 2\"))\n",
    "display(Markdown(\"#### 1. Hipotesis nol\"))\n",
    "display(Markdown(\"$\\nH_0 : \\\\sigma^2_1 - \\\\sigma^2_2 = 0$\"))\n",
    "\n",
    "display(Markdown(\"#### 2. Hipotesis alternatif\"))\n",
    "display(Markdown(\"$\\nH_1 : \\\\sigma^2_1 - \\\\sigma^2_2 \\\\neq 0$ (Tipe tes: *two-tailed test)*\"))\n",
    "\n",
    "display(Markdown(\"#### 3. Tingkat signifikan $\\\\alpha = 0.05$\"))\n",
    "\n",
    "display(Markdown(\"#### 4. Uji statistik dan daerah kritis\"))\n",
    "display(Markdown(\"Uji test kali ini menggunakan uji **Distribusi F**. Diasumsikan kolom *Sulfate* berdistribusi normal dengan derajat kebebasan:\"))\n",
    "v1, v2 = (n1 - 1), (n2 - 1)\n",
    "display(Markdown(\"\\n$v_1 = n_1 - 1 = \"+str(v1)+\", v_1 = n_1 - 1 = \"+str(v2)+\"$\"))\n",
    "\n",
    "display(Markdown(\"Dengan nilai derajat kebebasan tersebut, daerah kritis didapat dengan nilai $f < 0.90152732$ atau $f > 1.10922872$\"))\n",
    "\n",
    "display(Markdown(\"#### 5. Perhitungan nilai uji statistik dan p-value\"))\n",
    "s12 = sulfate_awal['Sulfate'].var()\n",
    "s22 = sulfate_akhir['Sulfate'].var()\n",
    "\n",
    "display(Markdown(\"$s^2_1 = \"+ str(s12) +  \"$\"))\n",
    "display(Markdown(\"$s^2_2 = \"+ str(s22) +  \"$\"))\n",
    "display(Markdown(\"$n_1 = \"+ str(n1) +\",n_2 = \"+ str(n2) +\"$\"))\n",
    "display(Markdown(\"$\\nf = \\\\frac{s^2_1}{s^2_2}$\"))\n",
    "\n",
    "f = s12 / s22\n",
    "\n",
    "display(Markdown(\"didapat $f =\" + str(f) + \"$\"))\n",
    "display(Markdown(\"#### 6. Kesimpulan\"))\n",
    "display(Markdown(\"**$H_0$ TIDAK DITOLAK** karena nilai $t$ yang didapat **tidak terletak** di daerah kritis, melainkan terletak di $0.90152732 \\\\le f \\\\le 1.10922872 $\\n\"))"
   ]
  },
  {
   "cell_type": "code",
   "execution_count": 18,
   "metadata": {},
   "outputs": [
    {
     "name": "stdout",
     "output_type": "stream",
     "text": [
      "Boxplot kolom 'Sulfate' bagian awal\n"
     ]
    },
    {
     "data": {
      "text/plain": [
       "<AxesSubplot:>"
      ]
     },
     "execution_count": 18,
     "metadata": {},
     "output_type": "execute_result"
    },
    {
     "data": {
      "image/png": "[encoded data removed]",
      "text/plain": [
       "<Figure size 432x288 with 1 Axes>"
      ]
     },
     "metadata": {
      "needs_background": "light"
     },
     "output_type": "display_data"
    }
   ],
   "source": [
    "print(\"Boxplot kolom 'Sulfate' bagian awal\")\n",
    "sulfate_awal.boxplot([\"Sulfate\"])"
   ]
  },
  {
   "cell_type": "code",
   "execution_count": 19,
   "metadata": {},
   "outputs": [
    {
     "name": "stdout",
     "output_type": "stream",
     "text": [
      "Boxplot kolom 'Sulfate' bagian awal\n"
     ]
    },
    {
     "data": {
      "text/plain": [
       "<AxesSubplot:>"
      ]
     },
     "execution_count": 19,
     "metadata": {},
     "output_type": "execute_result"
    },
    {
     "data": {
      "image/png": "[encoded data removed]",
      "text/plain": [
       "<Figure size 432x288 with 1 Axes>"
      ]
     },
     "metadata": {
      "needs_background": "light"
     },
     "output_type": "display_data"
    }
   ],
   "source": [
    "print(\"Boxplot kolom 'Sulfate' bagian awal\")\n",
    "sulfate_akhir.boxplot([\"Sulfate\"])"
   ]
  },
  {
   "cell_type": "markdown",
   "metadata": {},
   "source": [
    "### 6. Test korelasi\n",
    "Tentukan apakah setiap kolom non-target berkorelasi dengan kolom target, dengan menggambarkan juga scatter plot nya. Gunakan correlation test. \n",
    "Nilai koefisien korelasi terletak di pada rentang antara -1 dan 1, dengan rincian sebagai berikut:\n",
    "- $-1$ menunjukkan korelasi $X$ dan $Y$ negatif yang kuat. setiap kali $X$ meningkat, $Y$ berkurang.\n",
    "- $0$ berarti tidak ada hubungan antara $X$ dan $Y$.\n",
    "- $1$ menunjukkan korelasi $X$ dan $Y$ positif yang kuat. setiap kali $X$ meningkat, $Y$ meningkat.\n",
    "\n",
    "Skala korelasi sebagai acuan:\n",
    "- 0 - 0,01: **Tidak ada** korelasi antara dua variabel\n",
    "- 0,01 – 0,25: Korelasi sangat **lemah**\n",
    "- 0,25 – 0,5: Korelasi **cukup**\n",
    "- 0,5 – 0,75: Korelasi  **kuat**\n",
    "- 0,75 – 0,99: Korelasi  **sangat kuat**\n",
    "- 1: Korelasi **sempurna**"
   ]
  },
  {
   "cell_type": "code",
   "execution_count": 20,
   "metadata": {},
   "outputs": [],
   "source": [
    "# fungsi untuk menuliskan hasil korelasi\n",
    "def corr_result(rho, x, y):\n",
    "    out = \"Dari hasil $\\\\rho$ yang didapatkan, dapat disimpulkan bahwa bahwa kolom \"+ x +\" dan \"+ y\n",
    "    if (rho > -0.01 and rho < 0.01): out += \" **tidak** berkorelasi\"\n",
    "    else:\n",
    "        if (rho > 0): out += \" berkorelasi **positif** \"\n",
    "        else: out += \" berkorelasi **negatif** \"\n",
    "\n",
    "        out += \" dan memiliki tingkat korelasi \"\n",
    "        if (rho >= 0.01 and rho <= 0.25) or (rho <= -0.01 and rho >= -0.25): out += \"**sangat lemah**\"\n",
    "        elif (rho > 0.25 and rho <= 0.5) or (rho < -0.25 and rho >= -0.5): out += \"**cukup**\"\n",
    "        elif (rho > 0.5 and rho <= 0.75) or (rho < -0.5 and rho >= -0.75): out += \"**kuat**\"\n",
    "        elif (rho > 0.75 and rho < 1) or (rho < -0.75 and rho > -1): out += \"**sangat kuat**\"\n",
    "        else: out += \"**sempurna**\"\n",
    "    display(Markdown(out))"
   ]
  },
  {
   "cell_type": "code",
   "execution_count": 21,
   "metadata": {},
   "outputs": [
    {
     "data": {
      "text/markdown": [
       "#### pH"
      ],
      "text/plain": [
       "<IPython.core.display.Markdown object>"
      ]
     },
     "metadata": {},
     "output_type": "display_data"
    },
    {
     "data": {
      "text/markdown": [
       "Hasil korelasi kolom pH (non-target) dengan kolom Potability (target)"
      ],
      "text/plain": [
       "<IPython.core.display.Markdown object>"
      ]
     },
     "metadata": {},
     "output_type": "display_data"
    },
    {
     "data": {
      "text/markdown": [
       "$\\rho_{pH,Potability} = 0.01547509440843348$"
      ],
      "text/plain": [
       "<IPython.core.display.Markdown object>"
      ]
     },
     "metadata": {},
     "output_type": "display_data"
    },
    {
     "data": {
      "image/png": "[encoded data removed]",
      "text/plain": [
       "<Figure size 432x288 with 1 Axes>"
      ]
     },
     "metadata": {
      "needs_background": "light"
     },
     "output_type": "display_data"
    },
    {
     "data": {
      "text/markdown": [
       "Dari hasil $\\rho$ yang didapatkan, dapat disimpulkan bahwa bahwa kolom pH dan Potability berkorelasi **positif**  dan memiliki tingkat korelasi **sangat lemah**"
      ],
      "text/plain": [
       "<IPython.core.display.Markdown object>"
      ]
     },
     "metadata": {},
     "output_type": "display_data"
    }
   ],
   "source": [
    "display(Markdown(\"#### pH\"))\n",
    "display(Markdown(\"Hasil korelasi kolom pH (non-target) dengan kolom Potability (target)\"))\n",
    "rho = water_potability['pH'].corr(water_potability['Potability'])\n",
    "display(Markdown(\"$\\\\rho_{pH,Potability} = \"+str(rho)+\"$\"))\n",
    "plt.title(\"Scatter Plot antara kolom pH dengan Potability\")\n",
    "plt.scatter(x=water_potability['pH'],y=water_potability['Potability'])\n",
    "plt.xlabel(\"pH\")\n",
    "plt.ylabel(\"Potability\")\n",
    "plt.show()\n",
    "corr_result(rho, \"pH\", \"Potability\")"
   ]
  },
  {
   "cell_type": "code",
   "execution_count": 22,
   "metadata": {},
   "outputs": [
    {
     "data": {
      "text/markdown": [
       "#### Hardness"
      ],
      "text/plain": [
       "<IPython.core.display.Markdown object>"
      ]
     },
     "metadata": {},
     "output_type": "display_data"
    },
    {
     "data": {
      "text/markdown": [
       "Hasil korelasi kolom Hardness (non-target) dengan kolom Potability (target)"
      ],
      "text/plain": [
       "<IPython.core.display.Markdown object>"
      ]
     },
     "metadata": {},
     "output_type": "display_data"
    },
    {
     "data": {
      "text/markdown": [
       "$\\rho_{Hardness,Potability} = -0.0014631528959479344$"
      ],
      "text/plain": [
       "<IPython.core.display.Markdown object>"
      ]
     },
     "metadata": {},
     "output_type": "display_data"
    },
    {
     "data": {
      "image/png": "[encoded data removed]",
      "text/plain": [
       "<Figure size 432x288 with 1 Axes>"
      ]
     },
     "metadata": {
      "needs_background": "light"
     },
     "output_type": "display_data"
    },
    {
     "data": {
      "text/markdown": [
       "Dari hasil $\\rho$ yang didapatkan, dapat disimpulkan bahwa bahwa kolom Hardness dan Potability **tidak** berkorelasi"
      ],
      "text/plain": [
       "<IPython.core.display.Markdown object>"
      ]
     },
     "metadata": {},
     "output_type": "display_data"
    }
   ],
   "source": [
    "display(Markdown(\"#### Hardness\"))\n",
    "display(Markdown(\"Hasil korelasi kolom Hardness (non-target) dengan kolom Potability (target)\"))\n",
    "rho = water_potability['Hardness'].corr(water_potability['Potability'])\n",
    "display(Markdown(\"$\\\\rho_{Hardness,Potability} = \"+str(rho)+\"$\"))\n",
    "plt.title(\"Scatter Plot antara kolom Hardness dengan Potability\")\n",
    "plt.scatter(x=water_potability['Hardness'],y=water_potability['Potability'])\n",
    "plt.xlabel(\"Hardness\")\n",
    "plt.ylabel(\"Potability\")\n",
    "plt.show()\n",
    "corr_result(rho, \"Hardness\", \"Potability\")"
   ]
  },
  {
   "cell_type": "code",
   "execution_count": 23,
   "metadata": {},
   "outputs": [
    {
     "data": {
      "text/markdown": [
       "#### Solids"
      ],
      "text/plain": [
       "<IPython.core.display.Markdown object>"
      ]
     },
     "metadata": {},
     "output_type": "display_data"
    },
    {
     "data": {
      "text/markdown": [
       "Hasil korelasi kolom Solids (non-target) dengan kolom Potability (target)"
      ],
      "text/plain": [
       "<IPython.core.display.Markdown object>"
      ]
     },
     "metadata": {},
     "output_type": "display_data"
    },
    {
     "data": {
      "text/markdown": [
       "$\\rho_{Solids,Potability} = 0.03897657818173466$"
      ],
      "text/plain": [
       "<IPython.core.display.Markdown object>"
      ]
     },
     "metadata": {},
     "output_type": "display_data"
    },
    {
     "data": {
      "image/png": "[encoded data removed]",
      "text/plain": [
       "<Figure size 432x288 with 1 Axes>"
      ]
     },
     "metadata": {
      "needs_background": "light"
     },
     "output_type": "display_data"
    },
    {
     "data": {
      "text/markdown": [
       "Dari hasil $\\rho$ yang didapatkan, dapat disimpulkan bahwa bahwa kolom Solids dan Potability berkorelasi **positif**  dan memiliki tingkat korelasi **sangat lemah**"
      ],
      "text/plain": [
       "<IPython.core.display.Markdown object>"
      ]
     },
     "metadata": {},
     "output_type": "display_data"
    }
   ],
   "source": [
    "display(Markdown(\"#### Solids\"))\n",
    "display(Markdown(\"Hasil korelasi kolom Solids (non-target) dengan kolom Potability (target)\"))\n",
    "rho = water_potability['Solids'].corr(water_potability['Potability'])\n",
    "display(Markdown(\"$\\\\rho_{Solids,Potability} = \"+str(rho)+\"$\"))\n",
    "plt.title(\"Scatter Plot antara kolom Solids dengan Potability\")\n",
    "plt.scatter(x=water_potability['Solids'],y=water_potability['Potability'])\n",
    "plt.xlabel(\"Solids\")\n",
    "plt.ylabel(\"Potability\")\n",
    "plt.show()\n",
    "corr_result(rho, \"Solids\", \"Potability\")"
   ]
  },
  {
   "cell_type": "code",
   "execution_count": 24,
   "metadata": {},
   "outputs": [
    {
     "data": {
      "text/markdown": [
       "#### Chloramines"
      ],
      "text/plain": [
       "<IPython.core.display.Markdown object>"
      ]
     },
     "metadata": {},
     "output_type": "display_data"
    },
    {
     "data": {
      "text/markdown": [
       "Hasil korelasi kolom Chloramines (non-target) dengan kolom Potability (target)"
      ],
      "text/plain": [
       "<IPython.core.display.Markdown object>"
      ]
     },
     "metadata": {},
     "output_type": "display_data"
    },
    {
     "data": {
      "text/markdown": [
       "$\\rho_{Chloramines,Potability} = 0.02077892184052409$"
      ],
      "text/plain": [
       "<IPython.core.display.Markdown object>"
      ]
     },
     "metadata": {},
     "output_type": "display_data"
    },
    {
     "data": {
      "image/png": "[encoded data removed]",
      "text/plain": [
       "<Figure size 432x288 with 1 Axes>"
      ]
     },
     "metadata": {
      "needs_background": "light"
     },
     "output_type": "display_data"
    },
    {
     "data": {
      "text/markdown": [
       "Dari hasil $\\rho$ yang didapatkan, dapat disimpulkan bahwa bahwa kolom Chloramines dan Potability berkorelasi **positif**  dan memiliki tingkat korelasi **sangat lemah**"
      ],
      "text/plain": [
       "<IPython.core.display.Markdown object>"
      ]
     },
     "metadata": {},
     "output_type": "display_data"
    }
   ],
   "source": [
    "display(Markdown(\"#### Chloramines\"))\n",
    "display(Markdown(\"Hasil korelasi kolom Chloramines (non-target) dengan kolom Potability (target)\"))\n",
    "rho = water_potability['Chloramines'].corr(water_potability['Potability'])\n",
    "display(Markdown(\"$\\\\rho_{Chloramines,Potability} = \"+str(rho)+\"$\"))\n",
    "plt.title(\"Scatter Plot antara kolom Chloramines dengan Potability\")\n",
    "plt.scatter(x=water_potability['Chloramines'],y=water_potability['Potability'])\n",
    "plt.xlabel(\"Chloramines\")\n",
    "plt.ylabel(\"Potability\")\n",
    "plt.show()\n",
    "corr_result(rho, \"Chloramines\", \"Potability\")"
   ]
  },
  {
   "cell_type": "code",
   "execution_count": 25,
   "metadata": {},
   "outputs": [
    {
     "data": {
      "text/markdown": [
       "#### Sulfate"
      ],
      "text/plain": [
       "<IPython.core.display.Markdown object>"
      ]
     },
     "metadata": {},
     "output_type": "display_data"
    },
    {
     "data": {
      "text/markdown": [
       "Hasil korelasi kolom Sulfate (non-target) dengan kolom Potability (target)"
      ],
      "text/plain": [
       "<IPython.core.display.Markdown object>"
      ]
     },
     "metadata": {},
     "output_type": "display_data"
    },
    {
     "data": {
      "text/markdown": [
       "$\\rho_{Sulfate,Potability} = -0.015703164419273778$"
      ],
      "text/plain": [
       "<IPython.core.display.Markdown object>"
      ]
     },
     "metadata": {},
     "output_type": "display_data"
    },
    {
     "data": {
      "image/png": "[encoded data removed]",
      "text/plain": [
       "<Figure size 432x288 with 1 Axes>"
      ]
     },
     "metadata": {
      "needs_background": "light"
     },
     "output_type": "display_data"
    },
    {
     "data": {
      "text/markdown": [
       "Dari hasil $\\rho$ yang didapatkan, dapat disimpulkan bahwa bahwa kolom Sulfate dan Potability berkorelasi **negatif**  dan memiliki tingkat korelasi **sangat lemah**"
      ],
      "text/plain": [
       "<IPython.core.display.Markdown object>"
      ]
     },
     "metadata": {},
     "output_type": "display_data"
    }
   ],
   "source": [
    "display(Markdown(\"#### Sulfate\"))\n",
    "display(Markdown(\"Hasil korelasi kolom Sulfate (non-target) dengan kolom Potability (target)\"))\n",
    "rho = water_potability['Sulfate'].corr(water_potability['Potability'])\n",
    "display(Markdown(\"$\\\\rho_{Sulfate,Potability} = \"+str(rho)+\"$\"))\n",
    "plt.title(\"Scatter Plot antara kolom Sulfate dengan Potability\")\n",
    "plt.scatter(x=water_potability['Sulfate'],y=water_potability['Potability'])\n",
    "plt.xlabel(\"Sulfate\")\n",
    "plt.ylabel(\"Potability\")\n",
    "plt.show()\n",
    "corr_result(rho, \"Sulfate\", \"Potability\")"
   ]
  },
  {
   "cell_type": "code",
   "execution_count": 26,
   "metadata": {},
   "outputs": [
    {
     "data": {
      "text/markdown": [
       "#### Conductivity"
      ],
      "text/plain": [
       "<IPython.core.display.Markdown object>"
      ]
     },
     "metadata": {},
     "output_type": "display_data"
    },
    {
     "data": {
      "text/markdown": [
       "Hasil korelasi kolom Conductivity (non-target) dengan kolom Potability (target)"
      ],
      "text/plain": [
       "<IPython.core.display.Markdown object>"
      ]
     },
     "metadata": {},
     "output_type": "display_data"
    },
    {
     "data": {
      "text/markdown": [
       "$\\rho_{Conductivity,Potability} = -0.016257120111377067$"
      ],
      "text/plain": [
       "<IPython.core.display.Markdown object>"
      ]
     },
     "metadata": {},
     "output_type": "display_data"
    },
    {
     "data": {
      "image/png": "[encoded data removed]",
      "text/plain": [
       "<Figure size 432x288 with 1 Axes>"
      ]
     },
     "metadata": {
      "needs_background": "light"
     },
     "output_type": "display_data"
    },
    {
     "data": {
      "text/markdown": [
       "Dari hasil $\\rho$ yang didapatkan, dapat disimpulkan bahwa bahwa kolom Conductivity dan Potability berkorelasi **negatif**  dan memiliki tingkat korelasi **sangat lemah**"
      ],
      "text/plain": [
       "<IPython.core.display.Markdown object>"
      ]
     },
     "metadata": {},
     "output_type": "display_data"
    }
   ],
   "source": [
    "display(Markdown(\"#### Conductivity\"))\n",
    "display(Markdown(\"Hasil korelasi kolom Conductivity (non-target) dengan kolom Potability (target)\"))\n",
    "rho = water_potability['Conductivity'].corr(water_potability['Potability'])\n",
    "display(Markdown(\"$\\\\rho_{Conductivity,Potability} = \"+str(rho)+\"$\"))\n",
    "plt.title(\"Scatter Plot antara kolom Conductivity dengan Potability\")\n",
    "plt.scatter(x=water_potability['Conductivity'],y=water_potability['Potability'])\n",
    "plt.xlabel(\"Conductivity\")\n",
    "plt.ylabel(\"Potability\")\n",
    "plt.show()\n",
    "corr_result(rho, \"Conductivity\", \"Potability\")"
   ]
  },
  {
   "cell_type": "code",
   "execution_count": 27,
   "metadata": {},
   "outputs": [
    {
     "data": {
      "text/markdown": [
       "#### OrganicCarbon"
      ],
      "text/plain": [
       "<IPython.core.display.Markdown object>"
      ]
     },
     "metadata": {},
     "output_type": "display_data"
    },
    {
     "data": {
      "text/markdown": [
       "Hasil korelasi kolom OrganicCarbon (non-target) dengan kolom Potability (target)"
      ],
      "text/plain": [
       "<IPython.core.display.Markdown object>"
      ]
     },
     "metadata": {},
     "output_type": "display_data"
    },
    {
     "data": {
      "text/markdown": [
       "$\\rho_{OrganicCarbon,Potability} = -0.015488461910747259$"
      ],
      "text/plain": [
       "<IPython.core.display.Markdown object>"
      ]
     },
     "metadata": {},
     "output_type": "display_data"
    },
    {
     "data": {
      "image/png": "[encoded data removed]",
      "text/plain": [
       "<Figure size 432x288 with 1 Axes>"
      ]
     },
     "metadata": {
      "needs_background": "light"
     },
     "output_type": "display_data"
    },
    {
     "data": {
      "text/markdown": [
       "Dari hasil $\\rho$ yang didapatkan, dapat disimpulkan bahwa bahwa kolom OrganicCarbon dan Potability berkorelasi **negatif**  dan memiliki tingkat korelasi **sangat lemah**"
      ],
      "text/plain": [
       "<IPython.core.display.Markdown object>"
      ]
     },
     "metadata": {},
     "output_type": "display_data"
    }
   ],
   "source": [
    "display(Markdown(\"#### OrganicCarbon\"))\n",
    "display(Markdown(\"Hasil korelasi kolom OrganicCarbon (non-target) dengan kolom Potability (target)\"))\n",
    "rho = water_potability['OrganicCarbon'].corr(water_potability['Potability'])\n",
    "display(Markdown(\"$\\\\rho_{OrganicCarbon,Potability} = \"+str(rho)+\"$\"))\n",
    "plt.title(\"Scatter Plot antara kolom OrganicCarbon dengan Potability\")\n",
    "plt.scatter(x=water_potability['OrganicCarbon'],y=water_potability['Potability'])\n",
    "plt.xlabel(\"OrganicCarbon\")\n",
    "plt.ylabel(\"Potability\")\n",
    "plt.show()\n",
    "corr_result(rho, \"OrganicCarbon\", \"Potability\")"
   ]
  },
  {
   "cell_type": "code",
   "execution_count": 28,
   "metadata": {},
   "outputs": [
    {
     "data": {
      "text/markdown": [
       "#### Trihalomethanes"
      ],
      "text/plain": [
       "<IPython.core.display.Markdown object>"
      ]
     },
     "metadata": {},
     "output_type": "display_data"
    },
    {
     "data": {
      "text/markdown": [
       "Hasil korelasi kolom Trihalomethanes (non-target) dengan kolom Potability (target)"
      ],
      "text/plain": [
       "<IPython.core.display.Markdown object>"
      ]
     },
     "metadata": {},
     "output_type": "display_data"
    },
    {
     "data": {
      "text/markdown": [
       "$\\rho_{Trihalomethanes,Potability} = 0.009236711064712997$"
      ],
      "text/plain": [
       "<IPython.core.display.Markdown object>"
      ]
     },
     "metadata": {},
     "output_type": "display_data"
    },
    {
     "data": {
      "image/png": "[encoded data removed]",
      "text/plain": [
       "<Figure size 432x288 with 1 Axes>"
      ]
     },
     "metadata": {
      "needs_background": "light"
     },
     "output_type": "display_data"
    },
    {
     "data": {
      "text/markdown": [
       "Dari hasil $\\rho$ yang didapatkan, dapat disimpulkan bahwa bahwa kolom Trihalomethanes dan Potability **tidak** berkorelasi"
      ],
      "text/plain": [
       "<IPython.core.display.Markdown object>"
      ]
     },
     "metadata": {},
     "output_type": "display_data"
    }
   ],
   "source": [
    "display(Markdown(\"#### Trihalomethanes\"))\n",
    "display(Markdown(\"Hasil korelasi kolom Trihalomethanes (non-target) dengan kolom Potability (target)\"))\n",
    "rho = water_potability['Trihalomethanes'].corr(water_potability['Potability'])\n",
    "display(Markdown(\"$\\\\rho_{Trihalomethanes,Potability} = \"+str(rho)+\"$\"))\n",
    "plt.title(\"Scatter Plot antara kolom Trihalomethanes dengan Potability\")\n",
    "plt.scatter(x=water_potability['Trihalomethanes'],y=water_potability['Potability'])\n",
    "plt.xlabel(\"Trihalomethanes\")\n",
    "plt.ylabel(\"Potability\")\n",
    "plt.show()\n",
    "corr_result(rho, \"Trihalomethanes\", \"Potability\")"
   ]
  },
  {
   "cell_type": "code",
   "execution_count": 29,
   "metadata": {},
   "outputs": [
    {
     "data": {
      "text/markdown": [
       "#### Turbidity"
      ],
      "text/plain": [
       "<IPython.core.display.Markdown object>"
      ]
     },
     "metadata": {},
     "output_type": "display_data"
    },
    {
     "data": {
      "text/markdown": [
       "Hasil korelasi kolom Turbidity (non-target) dengan kolom Potability (target)"
      ],
      "text/plain": [
       "<IPython.core.display.Markdown object>"
      ]
     },
     "metadata": {},
     "output_type": "display_data"
    },
    {
     "data": {
      "text/markdown": [
       "$\\rho_{Turbidity,Potability} = 0.022331042640622665$"
      ],
      "text/plain": [
       "<IPython.core.display.Markdown object>"
      ]
     },
     "metadata": {},
     "output_type": "display_data"
    },
    {
     "data": {
      "image/png": "[encoded data removed]",
      "text/plain": [
       "<Figure size 432x288 with 1 Axes>"
      ]
     },
     "metadata": {
      "needs_background": "light"
     },
     "output_type": "display_data"
    },
    {
     "data": {
      "text/markdown": [
       "Dari hasil $\\rho$ yang didapatkan, dapat disimpulkan bahwa bahwa kolom Turbidity dan Potability berkorelasi **positif**  dan memiliki tingkat korelasi **sangat lemah**"
      ],
      "text/plain": [
       "<IPython.core.display.Markdown object>"
      ]
     },
     "metadata": {},
     "output_type": "display_data"
    }
   ],
   "source": [
    "display(Markdown(\"#### Turbidity\"))\n",
    "display(Markdown(\"Hasil korelasi kolom Turbidity (non-target) dengan kolom Potability (target)\"))\n",
    "rho = water_potability['Turbidity'].corr(water_potability['Potability'])\n",
    "display(Markdown(\"$\\\\rho_{Turbidity,Potability} = \"+str(rho)+\"$\"))\n",
    "plt.title(\"Scatter Plot antara kolom Turbidity dengan Potability\")\n",
    "plt.scatter(x=water_potability['Turbidity'],y=water_potability['Potability'])\n",
    "plt.xlabel(\"Turbidity\")\n",
    "plt.ylabel(\"Potability\")\n",
    "plt.show()\n",
    "corr_result(rho, \"Turbidity\", \"Potability\")"
   ]
  }
 ],
 "metadata": {
  "interpreter": {
   "hash": "461167efa41168b9a56ea8377d08412ac9021ed788b3c98f546f6022913bf7e5"
  },
  "kernelspec": {
   "display_name": "Python 3.10.4 ('venv': venv)",
   "language": "python",
   "name": "python3"
  },
  "language_info": {
   "codemirror_mode": {
    "name": "ipython",
    "version": 3
   },
   "file_extension": ".py",
   "mimetype": "text/x-python",
   "name": "python",
   "nbconvert_exporter": "python",
   "pygments_lexer": "ipython3",
   "version": "3.10.4"
  },
  "orig_nbformat": 4
 },
 "nbformat": 4,
 "nbformat_minor": 2
}
